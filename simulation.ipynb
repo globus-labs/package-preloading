{
 "cells": [
  {
   "cell_type": "code",
   "execution_count": 179,
   "outputs": [],
   "source": [
    "import pandas as pd\n",
    "import numpy as np"
   ],
   "metadata": {
    "collapsed": false,
    "ExecuteTime": {
     "end_time": "2024-04-25T02:16:30.982107Z",
     "start_time": "2024-04-25T02:16:30.935326Z"
    }
   },
   "id": "a5e88f41affe3463"
  },
  {
   "cell_type": "code",
   "execution_count": 180,
   "outputs": [],
   "source": [
    "def getInfos(user):\n",
    "    \n",
    "    user.loc[:, 'total']  = user[' Runtime'] + user[' Start_time'] + user[' Build_time']\n",
    "    user.head()\n",
    "    \n",
    "    for i in range(0,5):\n",
    "        print('########### '+str(i)+\" ###########\")\n",
    "        tmp = user[user[' Container_mode'] == i]\n",
    "        print(tmp[[' Build_time', ' Start_time', ' Runtime', 'total']].describe())\n",
    "        print(tmp[[' Build_time', ' Start_time', ' Runtime', 'total']].sum())\n",
    "        "
   ],
   "metadata": {
    "collapsed": false,
    "ExecuteTime": {
     "end_time": "2024-04-25T02:16:30.982760Z",
     "start_time": "2024-04-25T02:16:30.936522Z"
    }
   },
   "id": "64c6fab645e79039"
  },
  {
   "cell_type": "code",
   "execution_count": 200,
   "outputs": [
    {
     "data": {
      "text/plain": "   Unnamed: 0                             task_uuid  user_id  \\\n0     1109608  2dda391f-cb85-4e2f-8ae7-c9c603a821dd    458.0   \n1     1109630  ac3f3e5e-aeff-4236-a3a5-223dcf00aba4    458.0   \n2     1109604  1347620d-56a1-4d30-b8d3-32ded9e08b47    458.0   \n3     1109605  1fbeacd4-b3e9-4bb9-bc1c-92fc9abd238f    600.0   \n4     1109606  285a505d-66ae-4e5c-88a3-e70794e425ae    600.0   \n\n                          endpoint_uuid      received     func4.name  \\\n0  396e6fd2-ed3d-4e84-b7a6-b8bc7d98d230  1.669597e+18  296-04-tar.py   \n1  396e6fd2-ed3d-4e84-b7a6-b8bc7d98d230  1.669598e+18  296-04-tar.py   \n2  396e6fd2-ed3d-4e84-b7a6-b8bc7d98d230  1.669598e+18  296-04-tar.py   \n3  674446c2-4dc6-41a6-b767-bf6ce67df702  1.669598e+18  296-04-tar.py   \n4  674446c2-4dc6-41a6-b767-bf6ce67df702  1.669598e+18  296-04-tar.py   \n\n   executiontime  Unnamed: 0.1             imports           Cluster  ...  \\\n0         0.0021           436  os;pathlib;tarfile  Sci:_Instruments  ...   \n1         0.0017           436  os;pathlib;tarfile  Sci:_Instruments  ...   \n2         0.0020           436  os;pathlib;tarfile  Sci:_Instruments  ...   \n3         0.0095           436  os;pathlib;tarfile  Sci:_Instruments  ...   \n4         0.0081           436  os;pathlib;tarfile  Sci:_Instruments  ...   \n\n   dockertime1  dockertime2  dockertime3  dockertime4  dockertime5  \\\n0     1.047234     1.047545     1.047907      1.04703     1.048197   \n1     1.047234     1.047545     1.047907      1.04703     1.048197   \n2     1.047234     1.047545     1.047907      1.04703     1.048197   \n3     1.047234     1.047545     1.047907      1.04703     1.048197   \n4     1.047234     1.047545     1.047907      1.04703     1.048197   \n\n   importtime1  importtime2  importtime3  importtime4  importtime5  \n0      0.01628     0.016247     0.016803     0.016089     0.016373  \n1      0.01628     0.016247     0.016803     0.016089     0.016373  \n2      0.01628     0.016247     0.016803     0.016089     0.016373  \n3      0.01628     0.016247     0.016803     0.016089     0.016373  \n4      0.01628     0.016247     0.016803     0.016089     0.016373  \n\n[5 rows x 30 columns]",
      "text/html": "<div>\n<style scoped>\n    .dataframe tbody tr th:only-of-type {\n        vertical-align: middle;\n    }\n\n    .dataframe tbody tr th {\n        vertical-align: top;\n    }\n\n    .dataframe thead th {\n        text-align: right;\n    }\n</style>\n<table border=\"1\" class=\"dataframe\">\n  <thead>\n    <tr style=\"text-align: right;\">\n      <th></th>\n      <th>Unnamed: 0</th>\n      <th>task_uuid</th>\n      <th>user_id</th>\n      <th>endpoint_uuid</th>\n      <th>received</th>\n      <th>func4.name</th>\n      <th>executiontime</th>\n      <th>Unnamed: 0.1</th>\n      <th>imports</th>\n      <th>Cluster</th>\n      <th>...</th>\n      <th>dockertime1</th>\n      <th>dockertime2</th>\n      <th>dockertime3</th>\n      <th>dockertime4</th>\n      <th>dockertime5</th>\n      <th>importtime1</th>\n      <th>importtime2</th>\n      <th>importtime3</th>\n      <th>importtime4</th>\n      <th>importtime5</th>\n    </tr>\n  </thead>\n  <tbody>\n    <tr>\n      <th>0</th>\n      <td>1109608</td>\n      <td>2dda391f-cb85-4e2f-8ae7-c9c603a821dd</td>\n      <td>458.0</td>\n      <td>396e6fd2-ed3d-4e84-b7a6-b8bc7d98d230</td>\n      <td>1.669597e+18</td>\n      <td>296-04-tar.py</td>\n      <td>0.0021</td>\n      <td>436</td>\n      <td>os;pathlib;tarfile</td>\n      <td>Sci:_Instruments</td>\n      <td>...</td>\n      <td>1.047234</td>\n      <td>1.047545</td>\n      <td>1.047907</td>\n      <td>1.04703</td>\n      <td>1.048197</td>\n      <td>0.01628</td>\n      <td>0.016247</td>\n      <td>0.016803</td>\n      <td>0.016089</td>\n      <td>0.016373</td>\n    </tr>\n    <tr>\n      <th>1</th>\n      <td>1109630</td>\n      <td>ac3f3e5e-aeff-4236-a3a5-223dcf00aba4</td>\n      <td>458.0</td>\n      <td>396e6fd2-ed3d-4e84-b7a6-b8bc7d98d230</td>\n      <td>1.669598e+18</td>\n      <td>296-04-tar.py</td>\n      <td>0.0017</td>\n      <td>436</td>\n      <td>os;pathlib;tarfile</td>\n      <td>Sci:_Instruments</td>\n      <td>...</td>\n      <td>1.047234</td>\n      <td>1.047545</td>\n      <td>1.047907</td>\n      <td>1.04703</td>\n      <td>1.048197</td>\n      <td>0.01628</td>\n      <td>0.016247</td>\n      <td>0.016803</td>\n      <td>0.016089</td>\n      <td>0.016373</td>\n    </tr>\n    <tr>\n      <th>2</th>\n      <td>1109604</td>\n      <td>1347620d-56a1-4d30-b8d3-32ded9e08b47</td>\n      <td>458.0</td>\n      <td>396e6fd2-ed3d-4e84-b7a6-b8bc7d98d230</td>\n      <td>1.669598e+18</td>\n      <td>296-04-tar.py</td>\n      <td>0.0020</td>\n      <td>436</td>\n      <td>os;pathlib;tarfile</td>\n      <td>Sci:_Instruments</td>\n      <td>...</td>\n      <td>1.047234</td>\n      <td>1.047545</td>\n      <td>1.047907</td>\n      <td>1.04703</td>\n      <td>1.048197</td>\n      <td>0.01628</td>\n      <td>0.016247</td>\n      <td>0.016803</td>\n      <td>0.016089</td>\n      <td>0.016373</td>\n    </tr>\n    <tr>\n      <th>3</th>\n      <td>1109605</td>\n      <td>1fbeacd4-b3e9-4bb9-bc1c-92fc9abd238f</td>\n      <td>600.0</td>\n      <td>674446c2-4dc6-41a6-b767-bf6ce67df702</td>\n      <td>1.669598e+18</td>\n      <td>296-04-tar.py</td>\n      <td>0.0095</td>\n      <td>436</td>\n      <td>os;pathlib;tarfile</td>\n      <td>Sci:_Instruments</td>\n      <td>...</td>\n      <td>1.047234</td>\n      <td>1.047545</td>\n      <td>1.047907</td>\n      <td>1.04703</td>\n      <td>1.048197</td>\n      <td>0.01628</td>\n      <td>0.016247</td>\n      <td>0.016803</td>\n      <td>0.016089</td>\n      <td>0.016373</td>\n    </tr>\n    <tr>\n      <th>4</th>\n      <td>1109606</td>\n      <td>285a505d-66ae-4e5c-88a3-e70794e425ae</td>\n      <td>600.0</td>\n      <td>674446c2-4dc6-41a6-b767-bf6ce67df702</td>\n      <td>1.669598e+18</td>\n      <td>296-04-tar.py</td>\n      <td>0.0081</td>\n      <td>436</td>\n      <td>os;pathlib;tarfile</td>\n      <td>Sci:_Instruments</td>\n      <td>...</td>\n      <td>1.047234</td>\n      <td>1.047545</td>\n      <td>1.047907</td>\n      <td>1.04703</td>\n      <td>1.048197</td>\n      <td>0.01628</td>\n      <td>0.016247</td>\n      <td>0.016803</td>\n      <td>0.016089</td>\n      <td>0.016373</td>\n    </tr>\n  </tbody>\n</table>\n<p>5 rows × 30 columns</p>\n</div>"
     },
     "execution_count": 200,
     "metadata": {},
     "output_type": "execute_result"
    }
   ],
   "source": [
    "approach = \"cluster_top_10\"\n",
    "data = pd.read_csv(approach+\"_data_sorted.csv\")\n",
    "data.head()"
   ],
   "metadata": {
    "collapsed": false,
    "ExecuteTime": {
     "end_time": "2024-04-26T13:40:33.311812Z",
     "start_time": "2024-04-26T13:40:30.194803Z"
    }
   },
   "id": "e362a30e9405c853"
  },
  {
   "cell_type": "code",
   "execution_count": 201,
   "outputs": [
    {
     "data": {
      "text/plain": "   Job_unique_id   Job_shared_id   Container_mode   Runtime   Start_time  \\\n0              0               0                0    0.0021     1.984382   \n1              1               1                0    0.0017     1.984382   \n2              2               2                0    0.0020     1.984382   \n3              3               3                0    0.0095     1.984382   \n4              4               4                0    0.0081     1.984382   \n\n    Build_time  \n0          7.7  \n1          7.7  \n2          7.7  \n3          7.7  \n4          7.7  ",
      "text/html": "<div>\n<style scoped>\n    .dataframe tbody tr th:only-of-type {\n        vertical-align: middle;\n    }\n\n    .dataframe tbody tr th {\n        vertical-align: top;\n    }\n\n    .dataframe thead th {\n        text-align: right;\n    }\n</style>\n<table border=\"1\" class=\"dataframe\">\n  <thead>\n    <tr style=\"text-align: right;\">\n      <th></th>\n      <th>Job_unique_id</th>\n      <th>Job_shared_id</th>\n      <th>Container_mode</th>\n      <th>Runtime</th>\n      <th>Start_time</th>\n      <th>Build_time</th>\n    </tr>\n  </thead>\n  <tbody>\n    <tr>\n      <th>0</th>\n      <td>0</td>\n      <td>0</td>\n      <td>0</td>\n      <td>0.0021</td>\n      <td>1.984382</td>\n      <td>7.7</td>\n    </tr>\n    <tr>\n      <th>1</th>\n      <td>1</td>\n      <td>1</td>\n      <td>0</td>\n      <td>0.0017</td>\n      <td>1.984382</td>\n      <td>7.7</td>\n    </tr>\n    <tr>\n      <th>2</th>\n      <td>2</td>\n      <td>2</td>\n      <td>0</td>\n      <td>0.0020</td>\n      <td>1.984382</td>\n      <td>7.7</td>\n    </tr>\n    <tr>\n      <th>3</th>\n      <td>3</td>\n      <td>3</td>\n      <td>0</td>\n      <td>0.0095</td>\n      <td>1.984382</td>\n      <td>7.7</td>\n    </tr>\n    <tr>\n      <th>4</th>\n      <td>4</td>\n      <td>4</td>\n      <td>0</td>\n      <td>0.0081</td>\n      <td>1.984382</td>\n      <td>7.7</td>\n    </tr>\n  </tbody>\n</table>\n</div>"
     },
     "execution_count": 201,
     "metadata": {},
     "output_type": "execute_result"
    }
   ],
   "source": [
    "sim = pd.read_csv(approach+\"_data_sorted_no_NaN.csv\")\n",
    "sim.head()"
   ],
   "metadata": {
    "collapsed": false,
    "ExecuteTime": {
     "end_time": "2024-04-26T13:40:35.231540Z",
     "start_time": "2024-04-26T13:40:34.203032Z"
    }
   },
   "id": "26bead1776b42b16"
  },
  {
   "cell_type": "code",
   "execution_count": 202,
   "outputs": [
    {
     "name": "stdout",
     "output_type": "stream",
     "text": [
      "1108814\n",
      "1108814\n"
     ]
    }
   ],
   "source": [
    "print(len(data['task_uuid'].unique()))\n",
    "print(len(sim[' Job_shared_id'].unique()))"
   ],
   "metadata": {
    "collapsed": false,
    "ExecuteTime": {
     "end_time": "2024-04-26T13:40:36.062412Z",
     "start_time": "2024-04-26T13:40:35.884306Z"
    }
   },
   "id": "52faa102186ed2a2"
  },
  {
   "cell_type": "code",
   "execution_count": 184,
   "outputs": [
    {
     "data": {
      "text/plain": "         Unnamed: 0                             task_uuid  user_id  \\\n309888      1105424  ab435673-849a-4d6d-ba37-567d840e72ec    253.0   \n309889      1105425  b08d52ed-318a-498f-b566-ad0ce8c6d85e    253.0   \n309890      1105427  be361014-5251-49eb-8ea8-f1a937421a37    253.0   \n309894      1105423  ab05ecb7-8d3f-4078-bad2-6f05e1d7f68e    253.0   \n309896      1105422  a9f45788-4277-479c-bf51-408e1070b75f    253.0   \n...             ...                                   ...      ...   \n1108809      615572  e02fd7ab-c245-4120-9ffa-7fb449881a15    293.0   \n1108810      321864  752a5e0f-3468-49e4-8dbc-36c148f38eba    286.0   \n1108811      283169  670c710d-6e2a-434d-8db9-500d00f8b92b    293.0   \n1108812      363374  844cfb85-6213-443d-8db1-261d20cbac9f    293.0   \n1108813      295233  6b7473c0-3cad-4740-8b30-2c92774a4572    293.0   \n\n                                endpoint_uuid      received  \\\n309888   d246cca4-9e53-4918-8055-5c39cffe657b  1.678647e+18   \n309889   d246cca4-9e53-4918-8055-5c39cffe657b  1.678647e+18   \n309890   d246cca4-9e53-4918-8055-5c39cffe657b  1.678647e+18   \n309894   d246cca4-9e53-4918-8055-5c39cffe657b  1.678647e+18   \n309896   d246cca4-9e53-4918-8055-5c39cffe657b  1.678647e+18   \n...                                       ...           ...   \n1108809  340e58fa-c5f5-46af-a7f6-81b8c36661de  1.688342e+18   \n1108810  cbc1f8d4-71b2-4a41-8ed4-9c75421eb89f  1.688342e+18   \n1108811  340e58fa-c5f5-46af-a7f6-81b8c36661de  1.688342e+18   \n1108812  340e58fa-c5f5-46af-a7f6-81b8c36661de  1.688342e+18   \n1108813  340e58fa-c5f5-46af-a7f6-81b8c36661de  1.688342e+18   \n\n                                    func4.name  executiontime  Unnamed: 0.1  \\\n309888   1702-04-persistent_funcx_submitter.py         0.0023           265   \n309889   1702-04-persistent_funcx_submitter.py         0.0024           265   \n309890   1702-04-persistent_funcx_submitter.py         0.0022           265   \n309894   1702-04-persistent_funcx_submitter.py         0.0022           265   \n309896   1702-04-persistent_funcx_submitter.py         0.0045           265   \n...                                        ...            ...           ...   \n1108809      0-04-_check_slurm_job_statuses.py         0.0297             0   \n1108810      0-04-_check_slurm_job_statuses.py         0.0204             0   \n1108811      0-04-_check_slurm_job_statuses.py         0.0289             0   \n1108812      0-04-_check_slurm_job_statuses.py         0.0230             0   \n1108813      0-04-_check_slurm_job_statuses.py         0.0321             0   \n\n            imports               Cluster  ...  dockertime1  dockertime2  \\\n309888         ipdb  ML:_Keras_and_Images  ...     1.527643     1.528251   \n309889         ipdb  ML:_Keras_and_Images  ...     1.527643     1.528251   \n309890         ipdb  ML:_Keras_and_Images  ...     1.527643     1.528251   \n309894         ipdb  ML:_Keras_and_Images  ...     1.527643     1.528251   \n309896         ipdb  ML:_Keras_and_Images  ...     1.527643     1.528251   \n...             ...                   ...  ...          ...          ...   \n1108809  subprocess                   Job  ...     1.137137     1.136925   \n1108810  subprocess                   Job  ...     1.137137     1.136925   \n1108811  subprocess                   Job  ...     1.137137     1.136925   \n1108812  subprocess                   Job  ...     1.137137     1.136925   \n1108813  subprocess                   Job  ...     1.137137     1.136925   \n\n         dockertime3  dockertime4  dockertime5  importtime1  importtime2  \\\n309888      1.529860     1.527347     1.527920     0.440604     0.438262   \n309889      1.529860     1.527347     1.527920     0.440604     0.438262   \n309890      1.529860     1.527347     1.527920     0.440604     0.438262   \n309894      1.529860     1.527347     1.527920     0.440604     0.438262   \n309896      1.529860     1.527347     1.527920     0.440604     0.438262   \n...              ...          ...          ...          ...          ...   \n1108809     1.137785     1.136527     1.133218     0.097197     0.098396   \n1108810     1.137785     1.136527     1.133218     0.097197     0.098396   \n1108811     1.137785     1.136527     1.133218     0.097197     0.098396   \n1108812     1.137785     1.136527     1.133218     0.097197     0.098396   \n1108813     1.137785     1.136527     1.133218     0.097197     0.098396   \n\n         importtime3  importtime4  importtime5  \n309888      0.440263     0.440205     0.441438  \n309889      0.440263     0.440205     0.441438  \n309890      0.440263     0.440205     0.441438  \n309894      0.440263     0.440205     0.441438  \n309896      0.440263     0.440205     0.441438  \n...              ...          ...          ...  \n1108809     0.096041     0.094841     0.094117  \n1108810     0.096041     0.094841     0.094117  \n1108811     0.096041     0.094841     0.094117  \n1108812     0.096041     0.094841     0.094117  \n1108813     0.096041     0.094841     0.094117  \n\n[46788 rows x 30 columns]",
      "text/html": "<div>\n<style scoped>\n    .dataframe tbody tr th:only-of-type {\n        vertical-align: middle;\n    }\n\n    .dataframe tbody tr th {\n        vertical-align: top;\n    }\n\n    .dataframe thead th {\n        text-align: right;\n    }\n</style>\n<table border=\"1\" class=\"dataframe\">\n  <thead>\n    <tr style=\"text-align: right;\">\n      <th></th>\n      <th>Unnamed: 0</th>\n      <th>task_uuid</th>\n      <th>user_id</th>\n      <th>endpoint_uuid</th>\n      <th>received</th>\n      <th>func4.name</th>\n      <th>executiontime</th>\n      <th>Unnamed: 0.1</th>\n      <th>imports</th>\n      <th>Cluster</th>\n      <th>...</th>\n      <th>dockertime1</th>\n      <th>dockertime2</th>\n      <th>dockertime3</th>\n      <th>dockertime4</th>\n      <th>dockertime5</th>\n      <th>importtime1</th>\n      <th>importtime2</th>\n      <th>importtime3</th>\n      <th>importtime4</th>\n      <th>importtime5</th>\n    </tr>\n  </thead>\n  <tbody>\n    <tr>\n      <th>309888</th>\n      <td>1105424</td>\n      <td>ab435673-849a-4d6d-ba37-567d840e72ec</td>\n      <td>253.0</td>\n      <td>d246cca4-9e53-4918-8055-5c39cffe657b</td>\n      <td>1.678647e+18</td>\n      <td>1702-04-persistent_funcx_submitter.py</td>\n      <td>0.0023</td>\n      <td>265</td>\n      <td>ipdb</td>\n      <td>ML:_Keras_and_Images</td>\n      <td>...</td>\n      <td>1.527643</td>\n      <td>1.528251</td>\n      <td>1.529860</td>\n      <td>1.527347</td>\n      <td>1.527920</td>\n      <td>0.440604</td>\n      <td>0.438262</td>\n      <td>0.440263</td>\n      <td>0.440205</td>\n      <td>0.441438</td>\n    </tr>\n    <tr>\n      <th>309889</th>\n      <td>1105425</td>\n      <td>b08d52ed-318a-498f-b566-ad0ce8c6d85e</td>\n      <td>253.0</td>\n      <td>d246cca4-9e53-4918-8055-5c39cffe657b</td>\n      <td>1.678647e+18</td>\n      <td>1702-04-persistent_funcx_submitter.py</td>\n      <td>0.0024</td>\n      <td>265</td>\n      <td>ipdb</td>\n      <td>ML:_Keras_and_Images</td>\n      <td>...</td>\n      <td>1.527643</td>\n      <td>1.528251</td>\n      <td>1.529860</td>\n      <td>1.527347</td>\n      <td>1.527920</td>\n      <td>0.440604</td>\n      <td>0.438262</td>\n      <td>0.440263</td>\n      <td>0.440205</td>\n      <td>0.441438</td>\n    </tr>\n    <tr>\n      <th>309890</th>\n      <td>1105427</td>\n      <td>be361014-5251-49eb-8ea8-f1a937421a37</td>\n      <td>253.0</td>\n      <td>d246cca4-9e53-4918-8055-5c39cffe657b</td>\n      <td>1.678647e+18</td>\n      <td>1702-04-persistent_funcx_submitter.py</td>\n      <td>0.0022</td>\n      <td>265</td>\n      <td>ipdb</td>\n      <td>ML:_Keras_and_Images</td>\n      <td>...</td>\n      <td>1.527643</td>\n      <td>1.528251</td>\n      <td>1.529860</td>\n      <td>1.527347</td>\n      <td>1.527920</td>\n      <td>0.440604</td>\n      <td>0.438262</td>\n      <td>0.440263</td>\n      <td>0.440205</td>\n      <td>0.441438</td>\n    </tr>\n    <tr>\n      <th>309894</th>\n      <td>1105423</td>\n      <td>ab05ecb7-8d3f-4078-bad2-6f05e1d7f68e</td>\n      <td>253.0</td>\n      <td>d246cca4-9e53-4918-8055-5c39cffe657b</td>\n      <td>1.678647e+18</td>\n      <td>1702-04-persistent_funcx_submitter.py</td>\n      <td>0.0022</td>\n      <td>265</td>\n      <td>ipdb</td>\n      <td>ML:_Keras_and_Images</td>\n      <td>...</td>\n      <td>1.527643</td>\n      <td>1.528251</td>\n      <td>1.529860</td>\n      <td>1.527347</td>\n      <td>1.527920</td>\n      <td>0.440604</td>\n      <td>0.438262</td>\n      <td>0.440263</td>\n      <td>0.440205</td>\n      <td>0.441438</td>\n    </tr>\n    <tr>\n      <th>309896</th>\n      <td>1105422</td>\n      <td>a9f45788-4277-479c-bf51-408e1070b75f</td>\n      <td>253.0</td>\n      <td>d246cca4-9e53-4918-8055-5c39cffe657b</td>\n      <td>1.678647e+18</td>\n      <td>1702-04-persistent_funcx_submitter.py</td>\n      <td>0.0045</td>\n      <td>265</td>\n      <td>ipdb</td>\n      <td>ML:_Keras_and_Images</td>\n      <td>...</td>\n      <td>1.527643</td>\n      <td>1.528251</td>\n      <td>1.529860</td>\n      <td>1.527347</td>\n      <td>1.527920</td>\n      <td>0.440604</td>\n      <td>0.438262</td>\n      <td>0.440263</td>\n      <td>0.440205</td>\n      <td>0.441438</td>\n    </tr>\n    <tr>\n      <th>...</th>\n      <td>...</td>\n      <td>...</td>\n      <td>...</td>\n      <td>...</td>\n      <td>...</td>\n      <td>...</td>\n      <td>...</td>\n      <td>...</td>\n      <td>...</td>\n      <td>...</td>\n      <td>...</td>\n      <td>...</td>\n      <td>...</td>\n      <td>...</td>\n      <td>...</td>\n      <td>...</td>\n      <td>...</td>\n      <td>...</td>\n      <td>...</td>\n      <td>...</td>\n      <td>...</td>\n    </tr>\n    <tr>\n      <th>1108809</th>\n      <td>615572</td>\n      <td>e02fd7ab-c245-4120-9ffa-7fb449881a15</td>\n      <td>293.0</td>\n      <td>340e58fa-c5f5-46af-a7f6-81b8c36661de</td>\n      <td>1.688342e+18</td>\n      <td>0-04-_check_slurm_job_statuses.py</td>\n      <td>0.0297</td>\n      <td>0</td>\n      <td>subprocess</td>\n      <td>Job</td>\n      <td>...</td>\n      <td>1.137137</td>\n      <td>1.136925</td>\n      <td>1.137785</td>\n      <td>1.136527</td>\n      <td>1.133218</td>\n      <td>0.097197</td>\n      <td>0.098396</td>\n      <td>0.096041</td>\n      <td>0.094841</td>\n      <td>0.094117</td>\n    </tr>\n    <tr>\n      <th>1108810</th>\n      <td>321864</td>\n      <td>752a5e0f-3468-49e4-8dbc-36c148f38eba</td>\n      <td>286.0</td>\n      <td>cbc1f8d4-71b2-4a41-8ed4-9c75421eb89f</td>\n      <td>1.688342e+18</td>\n      <td>0-04-_check_slurm_job_statuses.py</td>\n      <td>0.0204</td>\n      <td>0</td>\n      <td>subprocess</td>\n      <td>Job</td>\n      <td>...</td>\n      <td>1.137137</td>\n      <td>1.136925</td>\n      <td>1.137785</td>\n      <td>1.136527</td>\n      <td>1.133218</td>\n      <td>0.097197</td>\n      <td>0.098396</td>\n      <td>0.096041</td>\n      <td>0.094841</td>\n      <td>0.094117</td>\n    </tr>\n    <tr>\n      <th>1108811</th>\n      <td>283169</td>\n      <td>670c710d-6e2a-434d-8db9-500d00f8b92b</td>\n      <td>293.0</td>\n      <td>340e58fa-c5f5-46af-a7f6-81b8c36661de</td>\n      <td>1.688342e+18</td>\n      <td>0-04-_check_slurm_job_statuses.py</td>\n      <td>0.0289</td>\n      <td>0</td>\n      <td>subprocess</td>\n      <td>Job</td>\n      <td>...</td>\n      <td>1.137137</td>\n      <td>1.136925</td>\n      <td>1.137785</td>\n      <td>1.136527</td>\n      <td>1.133218</td>\n      <td>0.097197</td>\n      <td>0.098396</td>\n      <td>0.096041</td>\n      <td>0.094841</td>\n      <td>0.094117</td>\n    </tr>\n    <tr>\n      <th>1108812</th>\n      <td>363374</td>\n      <td>844cfb85-6213-443d-8db1-261d20cbac9f</td>\n      <td>293.0</td>\n      <td>340e58fa-c5f5-46af-a7f6-81b8c36661de</td>\n      <td>1.688342e+18</td>\n      <td>0-04-_check_slurm_job_statuses.py</td>\n      <td>0.0230</td>\n      <td>0</td>\n      <td>subprocess</td>\n      <td>Job</td>\n      <td>...</td>\n      <td>1.137137</td>\n      <td>1.136925</td>\n      <td>1.137785</td>\n      <td>1.136527</td>\n      <td>1.133218</td>\n      <td>0.097197</td>\n      <td>0.098396</td>\n      <td>0.096041</td>\n      <td>0.094841</td>\n      <td>0.094117</td>\n    </tr>\n    <tr>\n      <th>1108813</th>\n      <td>295233</td>\n      <td>6b7473c0-3cad-4740-8b30-2c92774a4572</td>\n      <td>293.0</td>\n      <td>340e58fa-c5f5-46af-a7f6-81b8c36661de</td>\n      <td>1.688342e+18</td>\n      <td>0-04-_check_slurm_job_statuses.py</td>\n      <td>0.0321</td>\n      <td>0</td>\n      <td>subprocess</td>\n      <td>Job</td>\n      <td>...</td>\n      <td>1.137137</td>\n      <td>1.136925</td>\n      <td>1.137785</td>\n      <td>1.136527</td>\n      <td>1.133218</td>\n      <td>0.097197</td>\n      <td>0.098396</td>\n      <td>0.096041</td>\n      <td>0.094841</td>\n      <td>0.094117</td>\n    </tr>\n  </tbody>\n</table>\n<p>46788 rows × 30 columns</p>\n</div>"
     },
     "execution_count": 184,
     "metadata": {},
     "output_type": "execute_result"
    }
   ],
   "source": [
    "data[((data['executiontime'] - sim[sim[' Container_mode']==0][' Runtime']) != 0)]"
   ],
   "metadata": {
    "collapsed": false,
    "ExecuteTime": {
     "end_time": "2024-04-25T02:16:35.599912Z",
     "start_time": "2024-04-25T02:16:35.519023Z"
    }
   },
   "id": "8666062e996b2f68"
  },
  {
   "cell_type": "code",
   "execution_count": 185,
   "outputs": [
    {
     "name": "stderr",
     "output_type": "stream",
     "text": [
      "/var/folders/86/fyd29lqj0033vg6drb2b412m0000gn/T/ipykernel_41841/1286382630.py:1: UserWarning: Boolean Series key will be reindexed to match DataFrame index.\n",
      "  sim[sim[' Container_mode']==0][((data['executiontime'] - sim[sim[' Container_mode']==0][' Runtime']) != 0)]\n"
     ]
    },
    {
     "data": {
      "text/plain": "        Job_unique_id   Job_shared_id   Container_mode   Runtime   Start_time  \\\n309888         309888          309888                0    0.0022     2.188252   \n309889         309889          309889                0    0.0023     2.188252   \n309890         309890          309890                0    0.0024     2.188252   \n309894         309894          309894                0    0.0045     2.188252   \n309896         309896          309896                0    0.0022     2.188252   \n...               ...             ...              ...       ...          ...   \n931400         931400          931400                0    1.0994     2.103473   \n931845         931845          931845                0    0.8973     2.103473   \n931846         931846          931846                0    1.2184     2.103473   \n931945         931945          931945                0    0.9179     2.103473   \n931946         931946          931946                0    2.1269     2.103473   \n\n         Build_time  \n309888        13.43  \n309889        13.43  \n309890        13.43  \n309894        13.43  \n309896        13.43  \n...             ...  \n931400         2.01  \n931845         2.01  \n931846         2.01  \n931945         2.01  \n931946         2.01  \n\n[833 rows x 6 columns]",
      "text/html": "<div>\n<style scoped>\n    .dataframe tbody tr th:only-of-type {\n        vertical-align: middle;\n    }\n\n    .dataframe tbody tr th {\n        vertical-align: top;\n    }\n\n    .dataframe thead th {\n        text-align: right;\n    }\n</style>\n<table border=\"1\" class=\"dataframe\">\n  <thead>\n    <tr style=\"text-align: right;\">\n      <th></th>\n      <th>Job_unique_id</th>\n      <th>Job_shared_id</th>\n      <th>Container_mode</th>\n      <th>Runtime</th>\n      <th>Start_time</th>\n      <th>Build_time</th>\n    </tr>\n  </thead>\n  <tbody>\n    <tr>\n      <th>309888</th>\n      <td>309888</td>\n      <td>309888</td>\n      <td>0</td>\n      <td>0.0022</td>\n      <td>2.188252</td>\n      <td>13.43</td>\n    </tr>\n    <tr>\n      <th>309889</th>\n      <td>309889</td>\n      <td>309889</td>\n      <td>0</td>\n      <td>0.0023</td>\n      <td>2.188252</td>\n      <td>13.43</td>\n    </tr>\n    <tr>\n      <th>309890</th>\n      <td>309890</td>\n      <td>309890</td>\n      <td>0</td>\n      <td>0.0024</td>\n      <td>2.188252</td>\n      <td>13.43</td>\n    </tr>\n    <tr>\n      <th>309894</th>\n      <td>309894</td>\n      <td>309894</td>\n      <td>0</td>\n      <td>0.0045</td>\n      <td>2.188252</td>\n      <td>13.43</td>\n    </tr>\n    <tr>\n      <th>309896</th>\n      <td>309896</td>\n      <td>309896</td>\n      <td>0</td>\n      <td>0.0022</td>\n      <td>2.188252</td>\n      <td>13.43</td>\n    </tr>\n    <tr>\n      <th>...</th>\n      <td>...</td>\n      <td>...</td>\n      <td>...</td>\n      <td>...</td>\n      <td>...</td>\n      <td>...</td>\n    </tr>\n    <tr>\n      <th>931400</th>\n      <td>931400</td>\n      <td>931400</td>\n      <td>0</td>\n      <td>1.0994</td>\n      <td>2.103473</td>\n      <td>2.01</td>\n    </tr>\n    <tr>\n      <th>931845</th>\n      <td>931845</td>\n      <td>931845</td>\n      <td>0</td>\n      <td>0.8973</td>\n      <td>2.103473</td>\n      <td>2.01</td>\n    </tr>\n    <tr>\n      <th>931846</th>\n      <td>931846</td>\n      <td>931846</td>\n      <td>0</td>\n      <td>1.2184</td>\n      <td>2.103473</td>\n      <td>2.01</td>\n    </tr>\n    <tr>\n      <th>931945</th>\n      <td>931945</td>\n      <td>931945</td>\n      <td>0</td>\n      <td>0.9179</td>\n      <td>2.103473</td>\n      <td>2.01</td>\n    </tr>\n    <tr>\n      <th>931946</th>\n      <td>931946</td>\n      <td>931946</td>\n      <td>0</td>\n      <td>2.1269</td>\n      <td>2.103473</td>\n      <td>2.01</td>\n    </tr>\n  </tbody>\n</table>\n<p>833 rows × 6 columns</p>\n</div>"
     },
     "execution_count": 185,
     "metadata": {},
     "output_type": "execute_result"
    }
   ],
   "source": [
    "sim[sim[' Container_mode']==0][((data['executiontime'] - sim[sim[' Container_mode']==0][' Runtime']) != 0)]"
   ],
   "metadata": {
    "collapsed": false,
    "ExecuteTime": {
     "end_time": "2024-04-25T02:16:35.693611Z",
     "start_time": "2024-04-25T02:16:35.599837Z"
    }
   },
   "id": "9e09c589c22194c0"
  },
  {
   "cell_type": "code",
   "execution_count": 189,
   "outputs": [
    {
     "ename": "ValueError",
     "evalue": "Length of values (5544070) does not match length of index (5314295)",
     "output_type": "error",
     "traceback": [
      "\u001B[0;31m---------------------------------------------------------------------------\u001B[0m",
      "\u001B[0;31mValueError\u001B[0m                                Traceback (most recent call last)",
      "Cell \u001B[0;32mIn[189], line 1\u001B[0m\n\u001B[0;32m----> 1\u001B[0m \u001B[43msim\u001B[49m\u001B[43m[\u001B[49m\u001B[38;5;124;43m'\u001B[39;49m\u001B[38;5;124;43muser_id\u001B[39;49m\u001B[38;5;124;43m'\u001B[39;49m\u001B[43m]\u001B[49m \u001B[38;5;241m=\u001B[39m np\u001B[38;5;241m.\u001B[39mtile(data\u001B[38;5;241m.\u001B[39muser_id,\u001B[38;5;241m5\u001B[39m)\n\u001B[1;32m      2\u001B[0m sim\u001B[38;5;241m.\u001B[39mhead()\n",
      "File \u001B[0;32m~/Documents/Research/package-preloading/venv/lib/python3.11/site-packages/pandas/core/frame.py:4299\u001B[0m, in \u001B[0;36mDataFrame.__setitem__\u001B[0;34m(self, key, value)\u001B[0m\n\u001B[1;32m   4296\u001B[0m     \u001B[38;5;28mself\u001B[39m\u001B[38;5;241m.\u001B[39m_setitem_array([key], value)\n\u001B[1;32m   4297\u001B[0m \u001B[38;5;28;01melse\u001B[39;00m:\n\u001B[1;32m   4298\u001B[0m     \u001B[38;5;66;03m# set column\u001B[39;00m\n\u001B[0;32m-> 4299\u001B[0m     \u001B[38;5;28;43mself\u001B[39;49m\u001B[38;5;241;43m.\u001B[39;49m\u001B[43m_set_item\u001B[49m\u001B[43m(\u001B[49m\u001B[43mkey\u001B[49m\u001B[43m,\u001B[49m\u001B[43m \u001B[49m\u001B[43mvalue\u001B[49m\u001B[43m)\u001B[49m\n",
      "File \u001B[0;32m~/Documents/Research/package-preloading/venv/lib/python3.11/site-packages/pandas/core/frame.py:4512\u001B[0m, in \u001B[0;36mDataFrame._set_item\u001B[0;34m(self, key, value)\u001B[0m\n\u001B[1;32m   4502\u001B[0m \u001B[38;5;28;01mdef\u001B[39;00m \u001B[38;5;21m_set_item\u001B[39m(\u001B[38;5;28mself\u001B[39m, key, value) \u001B[38;5;241m-\u001B[39m\u001B[38;5;241m>\u001B[39m \u001B[38;5;28;01mNone\u001B[39;00m:\n\u001B[1;32m   4503\u001B[0m \u001B[38;5;250m    \u001B[39m\u001B[38;5;124;03m\"\"\"\u001B[39;00m\n\u001B[1;32m   4504\u001B[0m \u001B[38;5;124;03m    Add series to DataFrame in specified column.\u001B[39;00m\n\u001B[1;32m   4505\u001B[0m \n\u001B[0;32m   (...)\u001B[0m\n\u001B[1;32m   4510\u001B[0m \u001B[38;5;124;03m    ensure homogeneity.\u001B[39;00m\n\u001B[1;32m   4511\u001B[0m \u001B[38;5;124;03m    \"\"\"\u001B[39;00m\n\u001B[0;32m-> 4512\u001B[0m     value, refs \u001B[38;5;241m=\u001B[39m \u001B[38;5;28;43mself\u001B[39;49m\u001B[38;5;241;43m.\u001B[39;49m\u001B[43m_sanitize_column\u001B[49m\u001B[43m(\u001B[49m\u001B[43mvalue\u001B[49m\u001B[43m)\u001B[49m\n\u001B[1;32m   4514\u001B[0m     \u001B[38;5;28;01mif\u001B[39;00m (\n\u001B[1;32m   4515\u001B[0m         key \u001B[38;5;129;01min\u001B[39;00m \u001B[38;5;28mself\u001B[39m\u001B[38;5;241m.\u001B[39mcolumns\n\u001B[1;32m   4516\u001B[0m         \u001B[38;5;129;01mand\u001B[39;00m value\u001B[38;5;241m.\u001B[39mndim \u001B[38;5;241m==\u001B[39m \u001B[38;5;241m1\u001B[39m\n\u001B[1;32m   4517\u001B[0m         \u001B[38;5;129;01mand\u001B[39;00m \u001B[38;5;129;01mnot\u001B[39;00m \u001B[38;5;28misinstance\u001B[39m(value\u001B[38;5;241m.\u001B[39mdtype, ExtensionDtype)\n\u001B[1;32m   4518\u001B[0m     ):\n\u001B[1;32m   4519\u001B[0m         \u001B[38;5;66;03m# broadcast across multiple columns if necessary\u001B[39;00m\n\u001B[1;32m   4520\u001B[0m         \u001B[38;5;28;01mif\u001B[39;00m \u001B[38;5;129;01mnot\u001B[39;00m \u001B[38;5;28mself\u001B[39m\u001B[38;5;241m.\u001B[39mcolumns\u001B[38;5;241m.\u001B[39mis_unique \u001B[38;5;129;01mor\u001B[39;00m \u001B[38;5;28misinstance\u001B[39m(\u001B[38;5;28mself\u001B[39m\u001B[38;5;241m.\u001B[39mcolumns, MultiIndex):\n",
      "File \u001B[0;32m~/Documents/Research/package-preloading/venv/lib/python3.11/site-packages/pandas/core/frame.py:5253\u001B[0m, in \u001B[0;36mDataFrame._sanitize_column\u001B[0;34m(self, value)\u001B[0m\n\u001B[1;32m   5250\u001B[0m     \u001B[38;5;28;01mreturn\u001B[39;00m _reindex_for_setitem(value, \u001B[38;5;28mself\u001B[39m\u001B[38;5;241m.\u001B[39mindex)\n\u001B[1;32m   5252\u001B[0m \u001B[38;5;28;01mif\u001B[39;00m is_list_like(value):\n\u001B[0;32m-> 5253\u001B[0m     \u001B[43mcom\u001B[49m\u001B[38;5;241;43m.\u001B[39;49m\u001B[43mrequire_length_match\u001B[49m\u001B[43m(\u001B[49m\u001B[43mvalue\u001B[49m\u001B[43m,\u001B[49m\u001B[43m \u001B[49m\u001B[38;5;28;43mself\u001B[39;49m\u001B[38;5;241;43m.\u001B[39;49m\u001B[43mindex\u001B[49m\u001B[43m)\u001B[49m\n\u001B[1;32m   5254\u001B[0m arr \u001B[38;5;241m=\u001B[39m sanitize_array(value, \u001B[38;5;28mself\u001B[39m\u001B[38;5;241m.\u001B[39mindex, copy\u001B[38;5;241m=\u001B[39m\u001B[38;5;28;01mTrue\u001B[39;00m, allow_2d\u001B[38;5;241m=\u001B[39m\u001B[38;5;28;01mTrue\u001B[39;00m)\n\u001B[1;32m   5255\u001B[0m \u001B[38;5;28;01mif\u001B[39;00m (\n\u001B[1;32m   5256\u001B[0m     \u001B[38;5;28misinstance\u001B[39m(value, Index)\n\u001B[1;32m   5257\u001B[0m     \u001B[38;5;129;01mand\u001B[39;00m value\u001B[38;5;241m.\u001B[39mdtype \u001B[38;5;241m==\u001B[39m \u001B[38;5;124m\"\u001B[39m\u001B[38;5;124mobject\u001B[39m\u001B[38;5;124m\"\u001B[39m\n\u001B[0;32m   (...)\u001B[0m\n\u001B[1;32m   5260\u001B[0m     \u001B[38;5;66;03m# TODO: Remove kludge in sanitize_array for string mode when enforcing\u001B[39;00m\n\u001B[1;32m   5261\u001B[0m     \u001B[38;5;66;03m# this deprecation\u001B[39;00m\n",
      "File \u001B[0;32m~/Documents/Research/package-preloading/venv/lib/python3.11/site-packages/pandas/core/common.py:573\u001B[0m, in \u001B[0;36mrequire_length_match\u001B[0;34m(data, index)\u001B[0m\n\u001B[1;32m    569\u001B[0m \u001B[38;5;250m\u001B[39m\u001B[38;5;124;03m\"\"\"\u001B[39;00m\n\u001B[1;32m    570\u001B[0m \u001B[38;5;124;03mCheck the length of data matches the length of the index.\u001B[39;00m\n\u001B[1;32m    571\u001B[0m \u001B[38;5;124;03m\"\"\"\u001B[39;00m\n\u001B[1;32m    572\u001B[0m \u001B[38;5;28;01mif\u001B[39;00m \u001B[38;5;28mlen\u001B[39m(data) \u001B[38;5;241m!=\u001B[39m \u001B[38;5;28mlen\u001B[39m(index):\n\u001B[0;32m--> 573\u001B[0m     \u001B[38;5;28;01mraise\u001B[39;00m \u001B[38;5;167;01mValueError\u001B[39;00m(\n\u001B[1;32m    574\u001B[0m         \u001B[38;5;124m\"\u001B[39m\u001B[38;5;124mLength of values \u001B[39m\u001B[38;5;124m\"\u001B[39m\n\u001B[1;32m    575\u001B[0m         \u001B[38;5;124mf\u001B[39m\u001B[38;5;124m\"\u001B[39m\u001B[38;5;124m(\u001B[39m\u001B[38;5;132;01m{\u001B[39;00m\u001B[38;5;28mlen\u001B[39m(data)\u001B[38;5;132;01m}\u001B[39;00m\u001B[38;5;124m) \u001B[39m\u001B[38;5;124m\"\u001B[39m\n\u001B[1;32m    576\u001B[0m         \u001B[38;5;124m\"\u001B[39m\u001B[38;5;124mdoes not match length of index \u001B[39m\u001B[38;5;124m\"\u001B[39m\n\u001B[1;32m    577\u001B[0m         \u001B[38;5;124mf\u001B[39m\u001B[38;5;124m\"\u001B[39m\u001B[38;5;124m(\u001B[39m\u001B[38;5;132;01m{\u001B[39;00m\u001B[38;5;28mlen\u001B[39m(index)\u001B[38;5;132;01m}\u001B[39;00m\u001B[38;5;124m)\u001B[39m\u001B[38;5;124m\"\u001B[39m\n\u001B[1;32m    578\u001B[0m     )\n",
      "\u001B[0;31mValueError\u001B[0m: Length of values (5544070) does not match length of index (5314295)"
     ]
    }
   ],
   "source": [
    "sim['user_id'] = np.tile(data.user_id,5)\n",
    "sim.head()"
   ],
   "metadata": {
    "collapsed": false,
    "ExecuteTime": {
     "end_time": "2024-04-26T00:48:38.030188Z",
     "start_time": "2024-04-26T00:48:37.954467Z"
    }
   },
   "id": "766bedd48aea8765"
  },
  {
   "cell_type": "code",
   "execution_count": 190,
   "outputs": [],
   "source": [
    "for i in range(0,5):\n",
    "    tmp = sim[sim[' Container_mode']==i]\n",
    "    tmp.to_csv(\"simulation_results/\"+approach+\"_mode_\"+str(i)+\".csv\",index=False)"
   ],
   "metadata": {
    "collapsed": false,
    "ExecuteTime": {
     "end_time": "2024-04-26T00:48:48.418639Z",
     "start_time": "2024-04-26T00:48:41.641088Z"
    }
   },
   "id": "5d117fb0fa34f59b"
  },
  {
   "cell_type": "code",
   "execution_count": 203,
   "outputs": [
    {
     "name": "stdout",
     "output_type": "stream",
     "text": [
      "user_id\n",
      "522.0    30440\n",
      "107.0    29265\n",
      "289.0    27596\n",
      "572.0     9588\n",
      "552.0     2893\n",
      "Name: count, dtype: int64\n",
      "user_id\n",
      "598.0    1\n",
      "463.0    1\n",
      "542.0    1\n",
      "641.0    1\n",
      "547.0    1\n",
      "Name: count, dtype: int64\n",
      "user_id\n",
      "599.0    1414\n",
      "582.0    1391\n",
      "494.0    1298\n",
      "693.0     944\n",
      "454.0     826\n",
      "Name: count, dtype: int64\n"
     ]
    }
   ],
   "source": [
    "print(data[data.installtime>0].user_id.value_counts().head())\n",
    "print(data[data.installtime>0].user_id.value_counts().tail())\n",
    "print(data[data.installtime>0].user_id.value_counts()[data[data.installtime>0].user_id.value_counts()>500].tail())\n"
   ],
   "metadata": {
    "collapsed": false,
    "ExecuteTime": {
     "end_time": "2024-04-26T20:23:08.749760Z",
     "start_time": "2024-04-26T20:23:08.415957Z"
    }
   },
   "id": "396ab9c844658fcb"
  },
  {
   "cell_type": "code",
   "execution_count": null,
   "outputs": [],
   "source": [
    "top_u = sim[sim.user_id==522]\n",
    "getInfos(top_u)"
   ],
   "metadata": {
    "collapsed": false,
    "ExecuteTime": {
     "start_time": "2024-04-25T02:16:35.741504Z"
    }
   },
   "id": "94b001822dec126"
  },
  {
   "cell_type": "code",
   "execution_count": 209,
   "outputs": [
    {
     "data": {
      "text/plain": "func4.name\n655-04-gather_xpcs_metadata.py         16241\n42-04-gather_xpcs_metadata.py          14191\n1006-04-gather_xpcs_metadata.py            3\n747-04-gather_xpcs_metadata.py             2\n301-04-publishv2_gather_metadata.py        2\n1642-04-gather_xpcs_metadata.py            1\nName: count, dtype: int64"
     },
     "execution_count": 209,
     "metadata": {},
     "output_type": "execute_result"
    }
   ],
   "source": [
    "data[data.user_id==522][\"func4.name\"].value_counts()"
   ],
   "metadata": {
    "collapsed": false,
    "ExecuteTime": {
     "end_time": "2024-04-26T20:25:32.058465Z",
     "start_time": "2024-04-26T20:25:32.044645Z"
    }
   },
   "id": "80ce99996babf0af"
  },
  {
   "cell_type": "code",
   "execution_count": 216,
   "outputs": [
    {
     "name": "stderr",
     "output_type": "stream",
     "text": [
      "/var/folders/86/fyd29lqj0033vg6drb2b412m0000gn/T/ipykernel_41841/32746408.py:1: UserWarning: Boolean Series key will be reindexed to match DataFrame index.\n",
      "  (data[data.user_id==522][~data['func4.name'].duplicated(keep='first')]['imports'].str.count(';')+1).mean()\n"
     ]
    },
    {
     "data": {
      "text/plain": "9.0"
     },
     "execution_count": 216,
     "metadata": {},
     "output_type": "execute_result"
    }
   ],
   "source": [
    "(data[data.user_id==522][~data['func4.name'].duplicated(keep='first')]['imports'].str.count(';')+1).mean()"
   ],
   "metadata": {
    "collapsed": false,
    "ExecuteTime": {
     "end_time": "2024-04-26T20:35:10.351684Z",
     "start_time": "2024-04-26T20:35:10.312762Z"
    }
   },
   "id": "eb56075b20f4570b"
  },
  {
   "cell_type": "code",
   "execution_count": null,
   "outputs": [],
   "source": [
    "poor_u = sim[sim.user_id==971]\n",
    "getInfos(poor_u)"
   ],
   "metadata": {
    "collapsed": false,
    "ExecuteTime": {
     "start_time": "2024-04-25T02:16:35.742515Z"
    }
   },
   "id": "e473079e1062d86a"
  },
  {
   "cell_type": "code",
   "execution_count": null,
   "outputs": [],
   "source": [
    "stand_u = sim[sim.user_id==582]\n",
    "getInfos(stand_u)"
   ],
   "metadata": {
    "collapsed": false,
    "ExecuteTime": {
     "start_time": "2024-04-25T02:16:35.743398Z"
    }
   },
   "id": "83cf67f1ba9868a5"
  },
  {
   "cell_type": "code",
   "execution_count": 210,
   "outputs": [
    {
     "data": {
      "text/plain": "func4.name\n1643-04-infer_hypotest.py      1238\n978-04-prepare_workspace.py      44\n1767-04-infer_hypotest.py        30\n977-04-infer_hypotest.py         16\n2510-04-infer_hypotest.py        10\n2511-04-infer_hypotest.py        10\n2512-04-infer_hypotest.py        10\n2513-04-infer_hypotest.py        10\n2493-04-infer_hypotest.py        10\n939-04-print_hw.py                3\n940-04-print_hw.py                2\n983-04-infer_maxsep.py            2\n980-04-infer_maxsep.py            1\n981-04-infer_maxsep.py            1\n982-04-print_hw.py                1\n984-04-infer_maxsep.py            1\n988-04-print_hw.py                1\n979-04-infer_maxsep.py            1\nName: count, dtype: int64"
     },
     "execution_count": 210,
     "metadata": {},
     "output_type": "execute_result"
    }
   ],
   "source": [
    "data[data.user_id==582][\"func4.name\"].value_counts()"
   ],
   "metadata": {
    "collapsed": false,
    "ExecuteTime": {
     "end_time": "2024-04-26T20:27:16.261361Z",
     "start_time": "2024-04-26T20:27:16.253563Z"
    }
   },
   "id": "5c1190b76683af92"
  },
  {
   "cell_type": "code",
   "execution_count": 215,
   "outputs": [
    {
     "name": "stderr",
     "output_type": "stream",
     "text": [
      "/var/folders/86/fyd29lqj0033vg6drb2b412m0000gn/T/ipykernel_41841/2326543144.py:1: UserWarning: Boolean Series key will be reindexed to match DataFrame index.\n",
      "  (data[data.user_id==582][~data['func4.name'].duplicated(keep='first')]['imports'].str.count(';')+1).mean()\n"
     ]
    },
    {
     "data": {
      "text/plain": "2.2857142857142856"
     },
     "execution_count": 215,
     "metadata": {},
     "output_type": "execute_result"
    }
   ],
   "source": [
    "(data[data.user_id==582][~data['func4.name'].duplicated(keep='first')]['imports'].str.count(';')+1).mean()"
   ],
   "metadata": {
    "collapsed": false,
    "ExecuteTime": {
     "end_time": "2024-04-26T20:34:11.748424Z",
     "start_time": "2024-04-26T20:34:11.717746Z"
    }
   },
   "id": "f1ea0ffc42a2938e"
  },
  {
   "cell_type": "code",
   "execution_count": null,
   "outputs": [],
   "source": [
    "tmp = sim[sim[' Container_mode']==0]\n",
    "ref = tmp[[' Build_time', ' Start_time', ' Runtime']].values.flatten().sum()"
   ],
   "metadata": {
    "collapsed": false,
    "ExecuteTime": {
     "start_time": "2024-04-25T02:16:35.744122Z"
    }
   },
   "id": "f6ef68ee858ca391"
  },
  {
   "cell_type": "code",
   "execution_count": null,
   "outputs": [],
   "source": [
    "tmp = sim[sim[' Container_mode']==1]\n",
    "print(1 - len(tmp[tmp[' Build_time']==0])/len(tmp))\n",
    "ref / tmp[[' Build_time', ' Start_time', ' Runtime']].values.flatten().sum()"
   ],
   "metadata": {
    "collapsed": false,
    "ExecuteTime": {
     "start_time": "2024-04-25T02:16:35.744897Z"
    }
   },
   "id": "1b82c4c4bf877d4c"
  },
  {
   "cell_type": "code",
   "execution_count": null,
   "outputs": [],
   "source": [
    "tmp = sim[sim[' Container_mode']==2]\n",
    "print(1 - len(tmp[tmp[' Build_time']==0])/len(tmp))\n",
    "ref / tmp[[' Build_time', ' Start_time', ' Runtime']].values.flatten().sum()"
   ],
   "metadata": {
    "collapsed": false,
    "ExecuteTime": {
     "start_time": "2024-04-25T02:16:35.745997Z"
    }
   },
   "id": "8ecd5f3a8e392ba6"
  },
  {
   "cell_type": "code",
   "execution_count": null,
   "outputs": [],
   "source": [
    "tmp = sim[sim[' Container_mode']==3]\n",
    "print(1 - len(tmp[tmp[' Build_time']==0])/len(tmp))\n",
    "ref / tmp[[' Build_time', ' Start_time', ' Runtime']].values.flatten().sum()"
   ],
   "metadata": {
    "collapsed": false,
    "ExecuteTime": {
     "start_time": "2024-04-25T02:16:35.747125Z"
    }
   },
   "id": "865b8cbc2698e0c6"
  },
  {
   "cell_type": "code",
   "execution_count": null,
   "outputs": [],
   "source": [
    "tmp = sim[sim[' Container_mode']==4]\n",
    "print(1 - len(tmp[tmp[' Build_time']==0])/len(tmp))\n",
    "ref / tmp[[' Build_time', ' Start_time', ' Runtime']].values.flatten().sum()"
   ],
   "metadata": {
    "collapsed": false,
    "ExecuteTime": {
     "start_time": "2024-04-25T02:16:35.748055Z"
    }
   },
   "id": "eb1927678f0bb91b"
  }
 ],
 "metadata": {
  "kernelspec": {
   "display_name": "Python 3",
   "language": "python",
   "name": "python3"
  },
  "language_info": {
   "codemirror_mode": {
    "name": "ipython",
    "version": 2
   },
   "file_extension": ".py",
   "mimetype": "text/x-python",
   "name": "python",
   "nbconvert_exporter": "python",
   "pygments_lexer": "ipython2",
   "version": "2.7.6"
  }
 },
 "nbformat": 4,
 "nbformat_minor": 5
}
