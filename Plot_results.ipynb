{
 "cells": [
  {
   "cell_type": "code",
   "execution_count": 279,
   "id": "initial_id",
   "metadata": {
    "collapsed": true,
    "ExecuteTime": {
     "end_time": "2024-05-13T09:38:20.383093Z",
     "start_time": "2024-05-13T09:38:19.984314Z"
    }
   },
   "outputs": [],
   "source": [
    "import pandas as pd\n",
    "from scipy import stats\n",
    "import matplotlib.pyplot as plt\n",
    "import seaborn as sns\n",
    "import itertools\n",
    "import numpy as np\n",
    "import re"
   ]
  },
  {
   "cell_type": "code",
   "execution_count": 280,
   "outputs": [],
   "source": [
    "def prepare(data):\n",
    "    \n",
    "    buildtimes = np.array([1.385, 0.696, 0.766, 0.689, 0.833])\n",
    "    \n",
    "    data['buldingtime'] = data['buldingtime'] + buildtimes.mean()\n",
    "    \n",
    "    data['import.start'] = pd.to_datetime(data['import.start'])\n",
    "    data['import.stop'] = pd.to_datetime(data['import.stop'])\n",
    "    data['created'] = pd.to_datetime(data['created'])\n",
    "    data['started'] = pd.to_datetime(data['started'])\n",
    "    data['finished'] = pd.to_datetime(data['finished'])\n",
    "    \n",
    "    data['starttime'] = (data['started'] - data['created']).dt.total_seconds() \n",
    "    data['dockertime'] = (data['finished'] - data['started']).dt.total_seconds() \n",
    "    data['importtime'] = (data['import.stop'] - data['import.start']).dt.total_seconds() \n",
    "    \n",
    "    end2end = pd.DataFrame({'end2end': (data['import.stop'] - data['created']).dt.total_seconds() +1 +data.buldingtime})\n",
    "    \n",
    "    started_temp = pd.DataFrame()\n",
    "    docker_temp = pd.DataFrame()\n",
    "    import_temp = pd.DataFrame()\n",
    "    total_temp = pd.DataFrame()\n",
    "    \n",
    "    for i in range(8,38,6):\n",
    "        started_temp.insert(range(8,38,6).index(i), \"\", (pd.to_datetime(data.iloc[:, i+1]) - pd.to_datetime(data.iloc[:, i])).dt.total_seconds() , True)\n",
    "        docker_temp.insert(range(8,38,6).index(i), \"\", (pd.to_datetime(data.iloc[:, i+2]) - pd.to_datetime(data.iloc[:, i+1])).dt.total_seconds() , True)\n",
    "        import_temp.insert(range(8,38,6).index(i), \"\", (pd.to_datetime(data.iloc[:, i+4]) - pd.to_datetime(data.iloc[:, i+3])).dt.total_seconds() , True)\n",
    "        total_temp.insert(range(8,38,6).index(i), \"\", (pd.to_datetime(data.iloc[:, i+4]) - pd.to_datetime(data.iloc[:, i+1])).dt.total_seconds() +1 , True)\n",
    "    \n",
    "    started_temp.columns = ['starttime{}'.format(i) for i in range(1, 6)]\n",
    "    docker_temp.columns = ['dockertime{}'.format(i) for i in range(1, 6)]\n",
    "    import_temp.columns = ['importtime{}'.format(i) for i in range(1, 6)]\n",
    "    total_temp.columns = ['end2end{}'.format(i) for i in range(1, 6)]\n",
    "    \n",
    "    data = pd.concat([data, end2end, started_temp, docker_temp, import_temp, total_temp], axis=1)\n",
    "    \n",
    "    return data"
   ],
   "metadata": {
    "collapsed": false,
    "ExecuteTime": {
     "end_time": "2024-05-13T09:38:20.383256Z",
     "start_time": "2024-05-13T09:38:19.987768Z"
    }
   },
   "id": "b105810311362533"
  },
  {
   "cell_type": "code",
   "execution_count": 281,
   "outputs": [],
   "source": [
    "def display(column, scalar=1):\n",
    "    import pandas as pd\n",
    "\n",
    "    mean = scalar*column.mean()\n",
    "    median = scalar*column.median()\n",
    "    std = scalar*column.std()\n",
    "    min_max = [round(scalar*column.min(),2), round(scalar*column.max(),2)]\n",
    "    custom_desc = f\"{round(mean,2)} & {round(median,2)} & {round(std,2)} & {min_max}\"\n",
    "    print(custom_desc)"
   ],
   "metadata": {
    "collapsed": false,
    "ExecuteTime": {
     "end_time": "2024-05-13T09:38:20.418656Z",
     "start_time": "2024-05-13T09:38:19.990653Z"
    }
   },
   "id": "91dc1e6f022cb629"
  },
  {
   "cell_type": "code",
   "execution_count": 282,
   "outputs": [],
   "source": [
    "def extract_imports(imp):\n",
    "    imp = imp.split(\"'\")\n",
    "    l = \"\"\n",
    "    \n",
    "    for i in imp:\n",
    "        if i == \"(\" or i == \")\" or i == \",)\" or i == \",\" or i == \"()\" or i == \", \":\n",
    "            continue\n",
    "        else:\n",
    "            if l == \"\":\n",
    "                l = i\n",
    "            else:\n",
    "                l = l + \";\" + i\n",
    "    return l"
   ],
   "metadata": {
    "collapsed": false,
    "ExecuteTime": {
     "end_time": "2024-05-13T09:38:20.418779Z",
     "start_time": "2024-05-13T09:38:19.993767Z"
    }
   },
   "id": "f769aa4008fe8dcf"
  },
  {
   "cell_type": "code",
   "execution_count": 283,
   "outputs": [
    {
     "name": "stderr",
     "output_type": "stream",
     "text": [
      "/var/folders/86/fyd29lqj0033vg6drb2b412m0000gn/T/ipykernel_56715/4029374880.py:4: FutureWarning: Series.__getitem__ treating keys as positions is deprecated. In a future version, integer keys will always be treated as labels (consistent with DataFrame behavior). To access a value by position, use `ser.iloc[pos]`\n",
      "  if pd.isna(row[1]):\n",
      "/var/folders/86/fyd29lqj0033vg6drb2b412m0000gn/T/ipykernel_56715/4029374880.py:7: FutureWarning: Series.__getitem__ treating keys as positions is deprecated. In a future version, integer keys will always be treated as labels (consistent with DataFrame behavior). To access a value by position, use `ser.iloc[pos]`\n",
      "  ins = set(row[1].split(\";\"))\n",
      "/var/folders/86/fyd29lqj0033vg6drb2b412m0000gn/T/ipykernel_56715/4029374880.py:8: FutureWarning: Series.__getitem__ treating keys as positions is deprecated. In a future version, integer keys will always be treated as labels (consistent with DataFrame behavior). To access a value by position, use `ser.iloc[pos]`\n",
      "  all = set(row[2].split(\";\"))\n",
      "/var/folders/86/fyd29lqj0033vg6drb2b412m0000gn/T/ipykernel_56715/4029374880.py:9: FutureWarning: Series.__getitem__ treating keys as positions is deprecated. In a future version, integer keys will always be treated as labels (consistent with DataFrame behavior). To access a value by position, use `ser.iloc[pos]`\n",
      "  if pd.isna(row[3]):\n",
      "/var/folders/86/fyd29lqj0033vg6drb2b412m0000gn/T/ipykernel_56715/4029374880.py:12: FutureWarning: Series.__getitem__ treating keys as positions is deprecated. In a future version, integer keys will always be treated as labels (consistent with DataFrame behavior). To access a value by position, use `ser.iloc[pos]`\n",
      "  clu = set(row[3].split(\";\"))\n",
      "/var/folders/86/fyd29lqj0033vg6drb2b412m0000gn/T/ipykernel_56715/4029374880.py:13: FutureWarning: Series.__getitem__ treating keys as positions is deprecated. In a future version, integer keys will always be treated as labels (consistent with DataFrame behavior). To access a value by position, use `ser.iloc[pos]`\n",
      "  install_libaries = pd.concat([install_libaries, pd.DataFrame([[row[0], len(ins), len(ins)-0, len(ins)-len(ins.intersection(all)), len(ins)-len(ins.intersection(clu))]])], ignore_index=True)\n"
     ]
    },
    {
     "data": {
      "text/plain": "                                               imports  toInstall  \\\n0    argparse;copy;datetime;funcx;itertools;json;ma...          7   \n1    argparse;copy;funcx;itertools;json;matplotlib;...          6   \n2                                         argparse;sys          1   \n3                                                CLEAN          1   \n4                                             CLEAN;os          1   \n..                                                 ...        ...   \n202                                             timeit          0   \n203                                              torch          1   \n204                                  torch;torchvision          2   \n205                                          traceback          0   \n206                                         webbrowser          0   \n\n     vanilla_approach  all_top_10  cluster_top_10  \n0                   7           4               0  \n1                   6           4               0  \n2                   1           1               0  \n3                   1           1               0  \n4                   1           1               0  \n..                ...         ...             ...  \n202                 0           0               0  \n203                 1           0               0  \n204                 2           1               2  \n205                 0           0               0  \n206                 0           0               0  \n\n[207 rows x 5 columns]",
      "text/html": "<div>\n<style scoped>\n    .dataframe tbody tr th:only-of-type {\n        vertical-align: middle;\n    }\n\n    .dataframe tbody tr th {\n        vertical-align: top;\n    }\n\n    .dataframe thead th {\n        text-align: right;\n    }\n</style>\n<table border=\"1\" class=\"dataframe\">\n  <thead>\n    <tr style=\"text-align: right;\">\n      <th></th>\n      <th>imports</th>\n      <th>toInstall</th>\n      <th>vanilla_approach</th>\n      <th>all_top_10</th>\n      <th>cluster_top_10</th>\n    </tr>\n  </thead>\n  <tbody>\n    <tr>\n      <th>0</th>\n      <td>argparse;copy;datetime;funcx;itertools;json;ma...</td>\n      <td>7</td>\n      <td>7</td>\n      <td>4</td>\n      <td>0</td>\n    </tr>\n    <tr>\n      <th>1</th>\n      <td>argparse;copy;funcx;itertools;json;matplotlib;...</td>\n      <td>6</td>\n      <td>6</td>\n      <td>4</td>\n      <td>0</td>\n    </tr>\n    <tr>\n      <th>2</th>\n      <td>argparse;sys</td>\n      <td>1</td>\n      <td>1</td>\n      <td>1</td>\n      <td>0</td>\n    </tr>\n    <tr>\n      <th>3</th>\n      <td>CLEAN</td>\n      <td>1</td>\n      <td>1</td>\n      <td>1</td>\n      <td>0</td>\n    </tr>\n    <tr>\n      <th>4</th>\n      <td>CLEAN;os</td>\n      <td>1</td>\n      <td>1</td>\n      <td>1</td>\n      <td>0</td>\n    </tr>\n    <tr>\n      <th>...</th>\n      <td>...</td>\n      <td>...</td>\n      <td>...</td>\n      <td>...</td>\n      <td>...</td>\n    </tr>\n    <tr>\n      <th>202</th>\n      <td>timeit</td>\n      <td>0</td>\n      <td>0</td>\n      <td>0</td>\n      <td>0</td>\n    </tr>\n    <tr>\n      <th>203</th>\n      <td>torch</td>\n      <td>1</td>\n      <td>1</td>\n      <td>0</td>\n      <td>0</td>\n    </tr>\n    <tr>\n      <th>204</th>\n      <td>torch;torchvision</td>\n      <td>2</td>\n      <td>2</td>\n      <td>1</td>\n      <td>2</td>\n    </tr>\n    <tr>\n      <th>205</th>\n      <td>traceback</td>\n      <td>0</td>\n      <td>0</td>\n      <td>0</td>\n      <td>0</td>\n    </tr>\n    <tr>\n      <th>206</th>\n      <td>webbrowser</td>\n      <td>0</td>\n      <td>0</td>\n      <td>0</td>\n      <td>0</td>\n    </tr>\n  </tbody>\n</table>\n<p>207 rows × 5 columns</p>\n</div>"
     },
     "execution_count": 283,
     "metadata": {},
     "output_type": "execute_result"
    }
   ],
   "source": [
    "install = pd.read_csv(\"experiments/installations.csv\")\n",
    "install_libaries = pd.DataFrame()\n",
    "for index, row in install.iterrows():\n",
    "    if pd.isna(row[1]):\n",
    "        ins = set()\n",
    "    else: \n",
    "        ins = set(row[1].split(\";\"))\n",
    "    all = set(row[2].split(\";\"))\n",
    "    if pd.isna(row[3]):\n",
    "        clu = set()\n",
    "    else: \n",
    "        clu = set(row[3].split(\";\"))\n",
    "    install_libaries = pd.concat([install_libaries, pd.DataFrame([[row[0], len(ins), len(ins)-0, len(ins)-len(ins.intersection(all)), len(ins)-len(ins.intersection(clu))]])], ignore_index=True)\n",
    "install_libaries.columns = ['imports', 'toInstall', 'vanilla_approach', 'all_top_10', 'cluster_top_10']\n",
    "\n",
    "install_libaries"
   ],
   "metadata": {
    "collapsed": false,
    "ExecuteTime": {
     "end_time": "2024-05-13T09:38:20.419176Z",
     "start_time": "2024-05-13T09:38:19.998259Z"
    }
   },
   "id": "861e765de22842b2"
  },
  {
   "cell_type": "code",
   "execution_count": 284,
   "outputs": [],
   "source": [
    "col = ['imports', 'buldingtime', 'installtime', 'end2end', \n",
    "       'starttime', 'dockertime', 'importtime', \n",
    "       'starttime1', 'starttime2', 'starttime3', 'starttime4', 'starttime5', \n",
    "       'dockertime1', 'dockertime2', 'dockertime3', 'dockertime4', 'dockertime5', \n",
    "       'importtime1', 'importtime2', 'importtime3', 'importtime4', 'importtime5', \n",
    "       'end2end1', 'end2end2', 'end2end3', 'end2end4', 'end2end5']"
   ],
   "metadata": {
    "collapsed": false,
    "ExecuteTime": {
     "end_time": "2024-05-13T09:38:20.419245Z",
     "start_time": "2024-05-13T09:38:20.036946Z"
    }
   },
   "id": "8b12b92f7d9a3497"
  },
  {
   "cell_type": "code",
   "execution_count": 285,
   "outputs": [],
   "source": [
    "data = pd.read_csv(\"data/every_package/run10.csv\")\n",
    "data = prepare(data)\n",
    "imp = data[col[0]]\n",
    "data = data[col[1:]]\n",
    "for i in range(9, 0, -1):\n",
    "    tmp = pd.read_csv(\"data/every_package/run\" + str(i) + \".csv\")\n",
    "    tmp = prepare(tmp)\n",
    "    tmp = tmp[col[1:]]\n",
    "    data = (data + tmp)\n",
    "data = data / 10\n",
    "data.insert(0, col[0], imp)"
   ],
   "metadata": {
    "collapsed": false,
    "ExecuteTime": {
     "end_time": "2024-05-13T09:38:20.419282Z",
     "start_time": "2024-05-13T09:38:20.039442Z"
    }
   },
   "id": "5463fa2f7a4dab52"
  },
  {
   "cell_type": "code",
   "execution_count": 286,
   "outputs": [
    {
     "data": {
      "text/plain": "        imports  buldingtime  installtime    end2end  starttime  dockertime  \\\n52          PIL      10.9538         6.36  14.244324   2.108298    1.193852   \n0      argparse       9.2838         5.31  12.507632   2.026819    1.210094   \n1         clean      10.9838         6.21  14.456444   2.264412    1.225619   \n2   collections       3.9738        -1.00   8.129689   2.838753    1.332040   \n3       colmena      19.2038        14.83  22.685633   2.292351    1.201289   \n..          ...          ...          ...        ...        ...         ...   \n87      urllib3       9.3338         5.57  13.074337   2.105103    1.662203   \n88         uuid      10.8538         7.12  14.093022   2.033960    1.218466   \n89     warnings       3.5238        -1.00   6.923177   2.180663    1.233780   \n90   webbrowser       3.5538        -1.00   7.236420   2.186071    1.513124   \n91         yaml       9.9738         5.69  13.483792   2.204105    1.326100   \n\n    importtime  starttime1  starttime2  starttime3  ...  importtime1  \\\n52    0.013953    0.667763    0.737138    0.742705  ...     0.001137   \n0     0.044723    0.643705    0.622289    0.749516  ...     0.010771   \n1     0.008079    0.806776    0.811559    0.876272  ...     0.000363   \n2     0.053543    0.755990    0.707457    0.751481  ...     0.017491   \n3     0.008861    0.774815    0.751169    0.748512  ...     0.000348   \n..         ...         ...         ...         ...  ...          ...   \n87    0.455932    0.718015    0.659613    0.754252  ...     0.079703   \n88    0.052394    0.635997    0.656979    0.617127  ...     0.011224   \n89    0.000008    0.768780    0.746880    0.726569  ...     0.000010   \n90    0.239609    0.743873    0.669989    0.748356  ...     0.119145   \n91    0.117158    0.761542    0.748223    0.695590  ...     0.025387   \n\n    importtime2  importtime3  importtime4  importtime5  end2end1  end2end2  \\\n52     0.000956     0.000969     0.000951     0.001033  1.014857  1.019006   \n0      0.011305     0.010256     0.010476     0.009689  1.024725  1.024697   \n1      0.000313     0.000283     0.000356     0.000386  1.013763  1.013838   \n2      0.017785     0.017393     0.017150     0.017925  1.046815  1.047690   \n3      0.000371     0.000343     0.000450     0.000418  1.015633  1.014370   \n..          ...          ...          ...          ...       ...       ...   \n87     0.079253     0.079546     0.079558     0.079631  1.092762  1.092503   \n88     0.011740     0.011830     0.012209     0.011898  1.026093  1.025645   \n89     0.000012     0.000008     0.000008     0.000007  1.029219  1.027995   \n90     0.124510     0.119990     0.123114     0.121590  1.148651  1.156002   \n91     0.027515     0.027888     0.027376     0.025443  1.041319  1.041094   \n\n    end2end3  end2end4  end2end5  \n52  1.015829  1.015196  1.015294  \n0   1.025290  1.025126  1.025162  \n1   1.015388  1.013718  1.013618  \n2   1.048248  1.047806  1.047264  \n3   1.014037  1.013939  1.013882  \n..       ...       ...       ...  \n87  1.092950  1.093041  1.092958  \n88  1.025738  1.025557  1.026064  \n89  1.029053  1.029911  1.028062  \n90  1.156349  1.153022  1.151060  \n91  1.041428  1.041193  1.040843  \n\n[92 rows x 27 columns]",
      "text/html": "<div>\n<style scoped>\n    .dataframe tbody tr th:only-of-type {\n        vertical-align: middle;\n    }\n\n    .dataframe tbody tr th {\n        vertical-align: top;\n    }\n\n    .dataframe thead th {\n        text-align: right;\n    }\n</style>\n<table border=\"1\" class=\"dataframe\">\n  <thead>\n    <tr style=\"text-align: right;\">\n      <th></th>\n      <th>imports</th>\n      <th>buldingtime</th>\n      <th>installtime</th>\n      <th>end2end</th>\n      <th>starttime</th>\n      <th>dockertime</th>\n      <th>importtime</th>\n      <th>starttime1</th>\n      <th>starttime2</th>\n      <th>starttime3</th>\n      <th>...</th>\n      <th>importtime1</th>\n      <th>importtime2</th>\n      <th>importtime3</th>\n      <th>importtime4</th>\n      <th>importtime5</th>\n      <th>end2end1</th>\n      <th>end2end2</th>\n      <th>end2end3</th>\n      <th>end2end4</th>\n      <th>end2end5</th>\n    </tr>\n  </thead>\n  <tbody>\n    <tr>\n      <th>52</th>\n      <td>PIL</td>\n      <td>10.9538</td>\n      <td>6.36</td>\n      <td>14.244324</td>\n      <td>2.108298</td>\n      <td>1.193852</td>\n      <td>0.013953</td>\n      <td>0.667763</td>\n      <td>0.737138</td>\n      <td>0.742705</td>\n      <td>...</td>\n      <td>0.001137</td>\n      <td>0.000956</td>\n      <td>0.000969</td>\n      <td>0.000951</td>\n      <td>0.001033</td>\n      <td>1.014857</td>\n      <td>1.019006</td>\n      <td>1.015829</td>\n      <td>1.015196</td>\n      <td>1.015294</td>\n    </tr>\n    <tr>\n      <th>0</th>\n      <td>argparse</td>\n      <td>9.2838</td>\n      <td>5.31</td>\n      <td>12.507632</td>\n      <td>2.026819</td>\n      <td>1.210094</td>\n      <td>0.044723</td>\n      <td>0.643705</td>\n      <td>0.622289</td>\n      <td>0.749516</td>\n      <td>...</td>\n      <td>0.010771</td>\n      <td>0.011305</td>\n      <td>0.010256</td>\n      <td>0.010476</td>\n      <td>0.009689</td>\n      <td>1.024725</td>\n      <td>1.024697</td>\n      <td>1.025290</td>\n      <td>1.025126</td>\n      <td>1.025162</td>\n    </tr>\n    <tr>\n      <th>1</th>\n      <td>clean</td>\n      <td>10.9838</td>\n      <td>6.21</td>\n      <td>14.456444</td>\n      <td>2.264412</td>\n      <td>1.225619</td>\n      <td>0.008079</td>\n      <td>0.806776</td>\n      <td>0.811559</td>\n      <td>0.876272</td>\n      <td>...</td>\n      <td>0.000363</td>\n      <td>0.000313</td>\n      <td>0.000283</td>\n      <td>0.000356</td>\n      <td>0.000386</td>\n      <td>1.013763</td>\n      <td>1.013838</td>\n      <td>1.015388</td>\n      <td>1.013718</td>\n      <td>1.013618</td>\n    </tr>\n    <tr>\n      <th>2</th>\n      <td>collections</td>\n      <td>3.9738</td>\n      <td>-1.00</td>\n      <td>8.129689</td>\n      <td>2.838753</td>\n      <td>1.332040</td>\n      <td>0.053543</td>\n      <td>0.755990</td>\n      <td>0.707457</td>\n      <td>0.751481</td>\n      <td>...</td>\n      <td>0.017491</td>\n      <td>0.017785</td>\n      <td>0.017393</td>\n      <td>0.017150</td>\n      <td>0.017925</td>\n      <td>1.046815</td>\n      <td>1.047690</td>\n      <td>1.048248</td>\n      <td>1.047806</td>\n      <td>1.047264</td>\n    </tr>\n    <tr>\n      <th>3</th>\n      <td>colmena</td>\n      <td>19.2038</td>\n      <td>14.83</td>\n      <td>22.685633</td>\n      <td>2.292351</td>\n      <td>1.201289</td>\n      <td>0.008861</td>\n      <td>0.774815</td>\n      <td>0.751169</td>\n      <td>0.748512</td>\n      <td>...</td>\n      <td>0.000348</td>\n      <td>0.000371</td>\n      <td>0.000343</td>\n      <td>0.000450</td>\n      <td>0.000418</td>\n      <td>1.015633</td>\n      <td>1.014370</td>\n      <td>1.014037</td>\n      <td>1.013939</td>\n      <td>1.013882</td>\n    </tr>\n    <tr>\n      <th>...</th>\n      <td>...</td>\n      <td>...</td>\n      <td>...</td>\n      <td>...</td>\n      <td>...</td>\n      <td>...</td>\n      <td>...</td>\n      <td>...</td>\n      <td>...</td>\n      <td>...</td>\n      <td>...</td>\n      <td>...</td>\n      <td>...</td>\n      <td>...</td>\n      <td>...</td>\n      <td>...</td>\n      <td>...</td>\n      <td>...</td>\n      <td>...</td>\n      <td>...</td>\n      <td>...</td>\n    </tr>\n    <tr>\n      <th>87</th>\n      <td>urllib3</td>\n      <td>9.3338</td>\n      <td>5.57</td>\n      <td>13.074337</td>\n      <td>2.105103</td>\n      <td>1.662203</td>\n      <td>0.455932</td>\n      <td>0.718015</td>\n      <td>0.659613</td>\n      <td>0.754252</td>\n      <td>...</td>\n      <td>0.079703</td>\n      <td>0.079253</td>\n      <td>0.079546</td>\n      <td>0.079558</td>\n      <td>0.079631</td>\n      <td>1.092762</td>\n      <td>1.092503</td>\n      <td>1.092950</td>\n      <td>1.093041</td>\n      <td>1.092958</td>\n    </tr>\n    <tr>\n      <th>88</th>\n      <td>uuid</td>\n      <td>10.8538</td>\n      <td>7.12</td>\n      <td>14.093022</td>\n      <td>2.033960</td>\n      <td>1.218466</td>\n      <td>0.052394</td>\n      <td>0.635997</td>\n      <td>0.656979</td>\n      <td>0.617127</td>\n      <td>...</td>\n      <td>0.011224</td>\n      <td>0.011740</td>\n      <td>0.011830</td>\n      <td>0.012209</td>\n      <td>0.011898</td>\n      <td>1.026093</td>\n      <td>1.025645</td>\n      <td>1.025738</td>\n      <td>1.025557</td>\n      <td>1.026064</td>\n    </tr>\n    <tr>\n      <th>89</th>\n      <td>warnings</td>\n      <td>3.5238</td>\n      <td>-1.00</td>\n      <td>6.923177</td>\n      <td>2.180663</td>\n      <td>1.233780</td>\n      <td>0.000008</td>\n      <td>0.768780</td>\n      <td>0.746880</td>\n      <td>0.726569</td>\n      <td>...</td>\n      <td>0.000010</td>\n      <td>0.000012</td>\n      <td>0.000008</td>\n      <td>0.000008</td>\n      <td>0.000007</td>\n      <td>1.029219</td>\n      <td>1.027995</td>\n      <td>1.029053</td>\n      <td>1.029911</td>\n      <td>1.028062</td>\n    </tr>\n    <tr>\n      <th>90</th>\n      <td>webbrowser</td>\n      <td>3.5538</td>\n      <td>-1.00</td>\n      <td>7.236420</td>\n      <td>2.186071</td>\n      <td>1.513124</td>\n      <td>0.239609</td>\n      <td>0.743873</td>\n      <td>0.669989</td>\n      <td>0.748356</td>\n      <td>...</td>\n      <td>0.119145</td>\n      <td>0.124510</td>\n      <td>0.119990</td>\n      <td>0.123114</td>\n      <td>0.121590</td>\n      <td>1.148651</td>\n      <td>1.156002</td>\n      <td>1.156349</td>\n      <td>1.153022</td>\n      <td>1.151060</td>\n    </tr>\n    <tr>\n      <th>91</th>\n      <td>yaml</td>\n      <td>9.9738</td>\n      <td>5.69</td>\n      <td>13.483792</td>\n      <td>2.204105</td>\n      <td>1.326100</td>\n      <td>0.117158</td>\n      <td>0.761542</td>\n      <td>0.748223</td>\n      <td>0.695590</td>\n      <td>...</td>\n      <td>0.025387</td>\n      <td>0.027515</td>\n      <td>0.027888</td>\n      <td>0.027376</td>\n      <td>0.025443</td>\n      <td>1.041319</td>\n      <td>1.041094</td>\n      <td>1.041428</td>\n      <td>1.041193</td>\n      <td>1.040843</td>\n    </tr>\n  </tbody>\n</table>\n<p>92 rows × 27 columns</p>\n</div>"
     },
     "execution_count": 286,
     "metadata": {},
     "output_type": "execute_result"
    }
   ],
   "source": [
    "data.sort_values(by=['imports'], ascending=True)"
   ],
   "metadata": {
    "collapsed": false,
    "ExecuteTime": {
     "end_time": "2024-05-13T09:38:20.419576Z",
     "start_time": "2024-05-13T09:38:20.223129Z"
    }
   },
   "id": "cf030448cc5480c9"
  },
  {
   "cell_type": "code",
   "execution_count": 287,
   "outputs": [],
   "source": [
    "vanilla_approach = pd.read_csv(f\"new/vanilla_approach/run10.csv\")\n",
    "all_top_10 = pd.read_csv(f\"new/all_top_10/run10.csv\")\n",
    "cluster_top_10 = pd.read_csv(f\"new/cluster_top_10/run10.csv\")\n",
    "on_the_fly = pd.read_csv(f\"new/on_the_fly/run10.csv\")"
   ],
   "metadata": {
    "collapsed": false,
    "ExecuteTime": {
     "end_time": "2024-05-13T09:38:20.419607Z",
     "start_time": "2024-05-13T09:38:20.230807Z"
    }
   },
   "id": "b7e2b77bc0726d30"
  },
  {
   "cell_type": "code",
   "execution_count": 288,
   "outputs": [],
   "source": [
    "for run in range(9, 0, -1):\n",
    "    vanilla_approach = pd.concat([vanilla_approach, pd.read_csv(f\"new/vanilla_approach/run{run}.csv\")])\n",
    "    all_top_10 = pd.concat([all_top_10, pd.read_csv(f\"new/all_top_10/run{run}.csv\")])\n",
    "    cluster_top_10 = pd.concat([cluster_top_10, pd.read_csv(f\"new/cluster_top_10/run{run}.csv\")])\n",
    "    on_the_fly = pd.concat([on_the_fly, pd.read_csv(f\"new/on_the_fly/run{run}.csv\")])"
   ],
   "metadata": {
    "collapsed": false,
    "ExecuteTime": {
     "end_time": "2024-05-13T09:38:20.424945Z",
     "start_time": "2024-05-13T09:38:20.253102Z"
    }
   },
   "id": "20565ce17b2897f5"
  },
  {
   "cell_type": "code",
   "execution_count": 289,
   "outputs": [],
   "source": [
    "vanilla_approach = prepare(vanilla_approach)\n",
    "all_top_10 = prepare(all_top_10)\n",
    "cluster_top_10 = prepare(cluster_top_10)\n",
    "on_the_fly = prepare(on_the_fly)"
   ],
   "metadata": {
    "collapsed": false,
    "ExecuteTime": {
     "end_time": "2024-05-13T09:38:20.636241Z",
     "start_time": "2024-05-13T09:38:20.404981Z"
    }
   },
   "id": "e7689597ae8c4d6d"
  },
  {
   "cell_type": "code",
   "execution_count": 290,
   "outputs": [],
   "source": [
    "vanilla_approach.loc[vanilla_approach['installtime'] == -1, 'installtime'] = 0\n",
    "all_top_10.loc[all_top_10['installtime'] == -1, 'installtime'] = 0\n",
    "cluster_top_10.loc[cluster_top_10['installtime'] == -1, 'installtime'] = 0\n",
    "on_the_fly.loc[on_the_fly['installtime'] == -1, 'installtime'] = 0"
   ],
   "metadata": {
    "collapsed": false,
    "ExecuteTime": {
     "end_time": "2024-05-13T09:38:20.639293Z",
     "start_time": "2024-05-13T09:38:20.636875Z"
    }
   },
   "id": "f5e53eabfa7ff9a6"
  },
  {
   "cell_type": "code",
   "execution_count": 291,
   "outputs": [],
   "source": [
    "func_mapping = pd.read_csv('experiments/function_mapping.csv')\n",
    "func_mapping = func_mapping.drop(2)\n",
    "func_mapping['func4.imports'] = func_mapping[func_mapping['func4.imports'].str.len() >= 0]['func4.imports'].map(lambda x: extract_imports(x))\n",
    "func_mapping = func_mapping[func_mapping['func4.imports'] != \"\"]\n",
    "func_mapping.rename(columns={'func4.imports': 'imports'}, inplace=True)\n",
    "func_mapping.drop(columns=['Unnamed: 0'], inplace=True)"
   ],
   "metadata": {
    "collapsed": false,
    "ExecuteTime": {
     "end_time": "2024-05-13T09:38:20.646417Z",
     "start_time": "2024-05-13T09:38:20.640054Z"
    }
   },
   "id": "6493930011605e84"
  },
  {
   "cell_type": "code",
   "execution_count": 292,
   "outputs": [
    {
     "data": {
      "text/plain": "   Unnamed: 0.1                         func4.name               imports  \\\n0             0  0-04-_check_slurm_job_statuses.py            subprocess   \n3             3              873-04-call_mtrack.py            mtrack;sys   \n4             4           43-04-make_corr_plots.py  json;os;xpcs_webplot   \n6             6           3-04-submit_slurm_job.py         os;subprocess   \n7             7         397-01-rejection_sample.py                random   \n\n            Cluster  \n0               Job  \n3      Data:_mtrack  \n4  Sci:_Instruments  \n6               Job  \n7           Trivial  ",
      "text/html": "<div>\n<style scoped>\n    .dataframe tbody tr th:only-of-type {\n        vertical-align: middle;\n    }\n\n    .dataframe tbody tr th {\n        vertical-align: top;\n    }\n\n    .dataframe thead th {\n        text-align: right;\n    }\n</style>\n<table border=\"1\" class=\"dataframe\">\n  <thead>\n    <tr style=\"text-align: right;\">\n      <th></th>\n      <th>Unnamed: 0.1</th>\n      <th>func4.name</th>\n      <th>imports</th>\n      <th>Cluster</th>\n    </tr>\n  </thead>\n  <tbody>\n    <tr>\n      <th>0</th>\n      <td>0</td>\n      <td>0-04-_check_slurm_job_statuses.py</td>\n      <td>subprocess</td>\n      <td>Job</td>\n    </tr>\n    <tr>\n      <th>3</th>\n      <td>3</td>\n      <td>873-04-call_mtrack.py</td>\n      <td>mtrack;sys</td>\n      <td>Data:_mtrack</td>\n    </tr>\n    <tr>\n      <th>4</th>\n      <td>4</td>\n      <td>43-04-make_corr_plots.py</td>\n      <td>json;os;xpcs_webplot</td>\n      <td>Sci:_Instruments</td>\n    </tr>\n    <tr>\n      <th>6</th>\n      <td>6</td>\n      <td>3-04-submit_slurm_job.py</td>\n      <td>os;subprocess</td>\n      <td>Job</td>\n    </tr>\n    <tr>\n      <th>7</th>\n      <td>7</td>\n      <td>397-01-rejection_sample.py</td>\n      <td>random</td>\n      <td>Trivial</td>\n    </tr>\n  </tbody>\n</table>\n</div>"
     },
     "execution_count": 292,
     "metadata": {},
     "output_type": "execute_result"
    }
   ],
   "source": [
    "func_mapping.head()"
   ],
   "metadata": {
    "collapsed": false,
    "ExecuteTime": {
     "end_time": "2024-05-13T09:38:20.653049Z",
     "start_time": "2024-05-13T09:38:20.649735Z"
    }
   },
   "id": "adec8f19ecd82be1"
  },
  {
   "cell_type": "code",
   "execution_count": 293,
   "outputs": [],
   "source": [
    "counts = func_mapping.imports.value_counts()\n",
    "#counts = pd.DataFrame(counts)\n",
    "#counts.reset_index(inplace=True)\n",
    "#counts = counts._append({'imports': \"argparse;copy;datetime;funcx;itertools;json;matplotlib;numpy;os;pathlib;shutil;sys;threading;typing\", 'count': 1}, ignore_index=True)"
   ],
   "metadata": {
    "collapsed": false,
    "ExecuteTime": {
     "end_time": "2024-05-13T09:38:20.656509Z",
     "start_time": "2024-05-13T09:38:20.652321Z"
    }
   },
   "id": "eb87626280aee2"
  },
  {
   "cell_type": "code",
   "execution_count": 294,
   "outputs": [],
   "source": [
    "vanilla_approach_func = pd.merge(vanilla_approach, counts, on=\"imports\", how=\"left\")\n",
    "all_top_10_func = pd.merge(all_top_10, counts, on=\"imports\", how=\"left\")\n",
    "cluster_top_10_func = pd.merge(cluster_top_10, counts, on=\"imports\", how=\"left\")\n",
    "on_the_fly_func = pd.merge(on_the_fly, counts, on=\"imports\", how=\"left\")"
   ],
   "metadata": {
    "collapsed": false,
    "ExecuteTime": {
     "end_time": "2024-05-13T09:38:20.686189Z",
     "start_time": "2024-05-13T09:38:20.655110Z"
    }
   },
   "id": "ccfd6cca09bbf621"
  },
  {
   "cell_type": "code",
   "execution_count": 295,
   "outputs": [],
   "source": [
    "vanilla_approach_func['count'] = vanilla_approach_func['count'].fillna(1)\n",
    "all_top_10_func['count'] = all_top_10_func['count'].fillna(1)\n",
    "cluster_top_10_func['count'] = cluster_top_10_func['count'].fillna(1)\n",
    "on_the_fly_func['count'] = on_the_fly_func['count'].fillna(1)"
   ],
   "metadata": {
    "collapsed": false,
    "ExecuteTime": {
     "end_time": "2024-05-13T09:38:20.689687Z",
     "start_time": "2024-05-13T09:38:20.664820Z"
    }
   },
   "id": "24c2fbab30acdda7"
  },
  {
   "cell_type": "code",
   "execution_count": 296,
   "outputs": [
    {
     "name": "stdout",
     "output_type": "stream",
     "text": [
      "32.58 & 6.07 & 60.5 & [0.87, 259.47]\n",
      "5.21 & 3.87 & 7.11 & [0.87, 79.87]\n",
      "4.61 & 3.17 & 12.27 & [0.87, 220.47]\n",
      "0.89 & 0.87 & 0.03 & [0.87, 0.97]\n"
     ]
    }
   ],
   "source": [
    "display(pd.DataFrame({'values' : vanilla_approach_func.buldingtime.repeat(vanilla_approach_func['count'])})[\"values\"])\n",
    "display(pd.DataFrame({'values' : all_top_10_func.buldingtime.repeat(vanilla_approach_func['count'])})[\"values\"])\n",
    "display(pd.DataFrame({'values' : cluster_top_10_func.buldingtime.repeat(vanilla_approach_func['count'])})[\"values\"])\n",
    "display(pd.DataFrame({'values' : on_the_fly_func.buldingtime.repeat(vanilla_approach_func['count'])})[\"values\"])"
   ],
   "metadata": {
    "collapsed": false,
    "ExecuteTime": {
     "end_time": "2024-05-13T09:38:20.689825Z",
     "start_time": "2024-05-13T09:38:20.667929Z"
    }
   },
   "id": "394f53e72abf3368"
  },
  {
   "cell_type": "code",
   "execution_count": 297,
   "outputs": [],
   "source": [
    "#print(pd.DataFrame({'values' : vanilla_approach_func.buldingtime.repeat(vanilla_approach_func['count'])}).describe())\n",
    "#print(pd.DataFrame({'values' : all_top_10_func.buldingtime.repeat(vanilla_approach_func['count'])}).describe())\n",
    "#print(pd.DataFrame({'values' : cluster_top_10_func.buldingtime.repeat(vanilla_approach_func['count'])}).describe())\n",
    "#print(pd.DataFrame({'values' : on_the_fly_func.buldingtime.repeat(vanilla_approach_func['count'].iloc[0:207])}).describe())"
   ],
   "metadata": {
    "collapsed": false,
    "ExecuteTime": {
     "end_time": "2024-05-13T09:38:20.689923Z",
     "start_time": "2024-05-13T09:38:20.671812Z"
    }
   },
   "id": "bea3e5ee79bfe87c"
  },
  {
   "cell_type": "code",
   "execution_count": 298,
   "outputs": [],
   "source": [
    "#print(vanilla_approach['buldingtime'].describe())\n",
    "#print(all_top_10['buldingtime'].describe())\n",
    "#print(cluster_top_10['buldingtime'].describe())\n",
    "#print(on_the_fly_func['buldingtime'].describe())"
   ],
   "metadata": {
    "collapsed": false,
    "ExecuteTime": {
     "end_time": "2024-05-13T09:38:20.693927Z",
     "start_time": "2024-05-13T09:38:20.673817Z"
    }
   },
   "id": "eed7799a7790efe4"
  },
  {
   "cell_type": "code",
   "execution_count": 299,
   "outputs": [
    {
     "name": "stdout",
     "output_type": "stream",
     "text": [
      "count    1460.000000\n",
      "mean        0.501588\n",
      "std         0.277609\n",
      "min         0.005342\n",
      "25%         0.253830\n",
      "50%         0.507780\n",
      "75%         0.706758\n",
      "max         0.982352\n",
      "Name: buldingtime, dtype: float64\n",
      "count    1478.000000\n",
      "mean        0.631175\n",
      "std         0.233329\n",
      "min         0.014668\n",
      "25%         0.435512\n",
      "50%         0.649668\n",
      "75%         0.812293\n",
      "max         0.986039\n",
      "Name: buldingtime, dtype: float64\n",
      "count    1490.000000\n",
      "mean        0.920605\n",
      "std         0.059780\n",
      "min         0.787092\n",
      "25%         0.865025\n",
      "50%         0.940888\n",
      "75%         0.971232\n",
      "max         0.996632\n",
      "Name: buldingtime, dtype: float64\n"
     ]
    }
   ],
   "source": [
    "save_all_top_10 = (vanilla_approach_func['buldingtime'] - all_top_10_func['buldingtime'])/vanilla_approach_func['buldingtime']\n",
    "save_cluster_top_10 = (vanilla_approach_func['buldingtime'] - cluster_top_10_func['buldingtime'])/vanilla_approach_func['buldingtime']\n",
    "save_on_the_fly = (vanilla_approach_func['buldingtime'] - on_the_fly_func['buldingtime'])/vanilla_approach_func['buldingtime']\n",
    "\n",
    "print(save_all_top_10[save_all_top_10 > 0].describe())\n",
    "print(save_cluster_top_10[save_cluster_top_10 > 0].describe())\n",
    "print(save_on_the_fly[save_on_the_fly > 0].describe())"
   ],
   "metadata": {
    "collapsed": false,
    "ExecuteTime": {
     "end_time": "2024-05-13T09:38:20.708883Z",
     "start_time": "2024-05-13T09:38:20.676595Z"
    }
   },
   "id": "a55042fe987bc624"
  },
  {
   "cell_type": "code",
   "execution_count": 300,
   "outputs": [
    {
     "name": "stdout",
     "output_type": "stream",
     "text": [
      "24.92 & 4.8 & 46.52 & [0.0, 197.2]\n",
      "3.87 & 3.0 & 4.47 & [0.0, 27.8]\n",
      "3.41 & 2.3 & 9.48 & [0.0, 179.2]\n",
      "6.21 & 2.67 & 11.04 & [0.0, 59.88]\n"
     ]
    }
   ],
   "source": [
    "display(pd.DataFrame({'values' : vanilla_approach_func.installtime.repeat(vanilla_approach_func['count'])})[\"values\"])\n",
    "display(pd.DataFrame({'values' : all_top_10_func.installtime.repeat(vanilla_approach_func['count'])})[\"values\"])\n",
    "display(pd.DataFrame({'values' : cluster_top_10_func.installtime.repeat(vanilla_approach_func['count'])})[\"values\"])\n",
    "display(pd.DataFrame({'values' : on_the_fly_func.installtime.repeat(vanilla_approach_func['count'])})[\"values\"])"
   ],
   "metadata": {
    "collapsed": false,
    "ExecuteTime": {
     "end_time": "2024-05-13T09:38:20.708993Z",
     "start_time": "2024-05-13T09:38:20.681621Z"
    }
   },
   "id": "3e8d7d683c3dac8"
  },
  {
   "cell_type": "code",
   "execution_count": 301,
   "outputs": [],
   "source": [
    "#print(pd.DataFrame({'values' : vanilla_approach_func.installtime.repeat(vanilla_approach_func['count'])}).describe())\n",
    "#print(pd.DataFrame({'values' : all_top_10_func.installtime.repeat(vanilla_approach_func['count'])}).describe())\n",
    "#print(pd.DataFrame({'values' : cluster_top_10_func.installtime.repeat(vanilla_approach_func['count'])}).describe())\n",
    "#print(pd.DataFrame({'values' : on_the_fly_func.installtime.repeat(vanilla_approach_func['count'])}).describe())"
   ],
   "metadata": {
    "collapsed": false,
    "ExecuteTime": {
     "end_time": "2024-05-13T09:38:20.710678Z",
     "start_time": "2024-05-13T09:38:20.685303Z"
    }
   },
   "id": "83299e2702408315"
  },
  {
   "cell_type": "code",
   "execution_count": 302,
   "outputs": [
    {
     "name": "stdout",
     "output_type": "stream",
     "text": [
      "-0.09 & -0.07 & 0.15 & [-0.67, 0.27]\n",
      "-0.07 & -0.06 & 0.21 & [-0.61, 1.7]\n",
      "-0.06 & -0.04 & 0.13 & [-0.52, 0.42]\n"
     ]
    }
   ],
   "source": [
    "display(((all_top_10_func.starttime - vanilla_approach_func.starttime) / all_top_10_func.starttime).repeat(vanilla_approach_func['count']))\n",
    "display(((cluster_top_10_func.starttime - vanilla_approach_func.starttime) / all_top_10_func.starttime).repeat(vanilla_approach_func['count']))\n",
    "display(((on_the_fly_func.starttime - vanilla_approach_func.starttime) / all_top_10_func.starttime).repeat(vanilla_approach_func['count']))"
   ],
   "metadata": {
    "collapsed": false,
    "ExecuteTime": {
     "end_time": "2024-05-13T09:38:20.719096Z",
     "start_time": "2024-05-13T09:38:20.687786Z"
    }
   },
   "id": "6e147d8f369f9684"
  },
  {
   "cell_type": "code",
   "execution_count": 303,
   "outputs": [
    {
     "name": "stdout",
     "output_type": "stream",
     "text": [
      "0.31 & 0.31 & 0.03 & [0.22, 0.43]\n",
      "0.29 & 0.29 & 0.03 & [0.21, 0.39]\n",
      "0.29 & 0.29 & 0.05 & [0.22, 0.75]\n",
      "0.3 & 0.29 & 0.02 & [0.24, 0.41]\n"
     ]
    }
   ],
   "source": [
    "display(vanilla_approach_func.starttime.repeat(vanilla_approach_func['count']))\n",
    "display(all_top_10_func.starttime.repeat(vanilla_approach_func['count']))\n",
    "display(cluster_top_10_func.starttime.repeat(vanilla_approach_func['count']))\n",
    "display(on_the_fly_func.starttime.repeat(vanilla_approach_func['count']))"
   ],
   "metadata": {
    "collapsed": false,
    "ExecuteTime": {
     "end_time": "2024-05-13T09:38:20.721027Z",
     "start_time": "2024-05-13T09:38:20.691587Z"
    }
   },
   "id": "24e3577783c562a5"
  },
  {
   "cell_type": "code",
   "execution_count": 304,
   "outputs": [],
   "source": [
    "#print(pd.DataFrame({'values' : vanilla_approach_func.starttime.repeat(vanilla_approach_func['count'])}).describe())\n",
    "#print(pd.DataFrame({'values' : all_top_10_func.starttime.repeat(vanilla_approach_func['count'])}).describe())\n",
    "#print(pd.DataFrame({'values' : cluster_top_10_func.starttime.repeat(vanilla_approach_func['count'])}).describe())\n",
    "#print(pd.DataFrame({'values' : on_the_fly_func.starttime.repeat(vanilla_approach_func['count'].iloc[0:207])}).describe())"
   ],
   "metadata": {
    "collapsed": false,
    "ExecuteTime": {
     "end_time": "2024-05-13T09:38:20.732621Z",
     "start_time": "2024-05-13T09:38:20.695108Z"
    }
   },
   "id": "a3e4d9ad182be5d5"
  },
  {
   "cell_type": "code",
   "execution_count": 305,
   "outputs": [],
   "source": [
    "#print(vanilla_approach['starttime'].describe())\n",
    "#print(all_top_10['starttime'].describe())\n",
    "#print(cluster_top_10['starttime'].describe())\n",
    "#print(on_the_fly['starttime'].describe())"
   ],
   "metadata": {
    "collapsed": false,
    "ExecuteTime": {
     "end_time": "2024-05-13T09:38:20.732738Z",
     "start_time": "2024-05-13T09:38:20.697146Z"
    }
   },
   "id": "80f574bcf35a7db7"
  },
  {
   "cell_type": "code",
   "execution_count": 306,
   "outputs": [
    {
     "name": "stdout",
     "output_type": "stream",
     "text": [
      "247.2 & 247.1 & 23.58 & [172.61, 374.08]\n",
      "246.74 & 246.27 & 22.54 & [174.78, 369.92]\n",
      "248.15 & 247.49 & 23.87 & [163.28, 393.68]\n",
      "247.82 & 245.58 & 28.84 & [167.49, 383.57]\n"
     ]
    }
   ],
   "source": [
    "selected_columns = ['starttime1', 'starttime2', 'starttime3', 'starttime4', 'starttime5']\n",
    "tmp2 = np.tile(np.array(vanilla_approach_func['count'], dtype=np.int64), 5)\n",
    "tmp = pd.DataFrame({\"values\": vanilla_approach_func[selected_columns].values.flatten()})\n",
    "display(tmp['values'].repeat(tmp2), 1000)\n",
    "tmp = pd.DataFrame({\"values\": all_top_10_func[selected_columns].values.flatten()})\n",
    "display(tmp['values'].repeat(tmp2), 1000)\n",
    "tmp = pd.DataFrame({\"values\": cluster_top_10_func[selected_columns].values.flatten()})\n",
    "display(tmp['values'].repeat(tmp2), 1000)\n",
    "tmp = pd.DataFrame({\"values\": on_the_fly_func[selected_columns].values.flatten()})\n",
    "display(tmp['values'].repeat(tmp2), 1000)"
   ],
   "metadata": {
    "collapsed": false,
    "ExecuteTime": {
     "end_time": "2024-05-13T09:38:20.771487Z",
     "start_time": "2024-05-13T09:38:20.700342Z"
    }
   },
   "id": "2867ec324267f7f0"
  },
  {
   "cell_type": "code",
   "execution_count": 307,
   "outputs": [
    {
     "name": "stdout",
     "output_type": "stream",
     "text": [
      "0.69 & 0.01 & 13.09 & [-44.5, 81.02]\n",
      "1.29 & 0.12 & 13.64 & [-43.61, 89.65]\n",
      "1.22 & -0.33 & 15.67 & [-40.53, 86.49]\n"
     ]
    }
   ],
   "source": [
    "selected_columns = ['starttime1', 'starttime2', 'starttime3', 'starttime4', 'starttime5']\n",
    "tmp2 = np.tile(np.array(vanilla_approach_func['count'], dtype=np.int64), 5)\n",
    "tmp = pd.DataFrame({\"values\": vanilla_approach_func[selected_columns].values.flatten()})\n",
    "tmp3 = pd.DataFrame({\"values\": all_top_10_func[selected_columns].values.flatten()})\n",
    "tmp3.values = (tmp3.values - tmp.values) / tmp.values \n",
    "display(tmp3['values'].repeat(tmp2),100)\n",
    "tmp3 = pd.DataFrame({\"values\": cluster_top_10_func[selected_columns].values.flatten()})\n",
    "tmp3.values = (tmp3.values - tmp.values) / tmp.values \n",
    "display(tmp3['values'].repeat(tmp2), 100)\n",
    "tmp3 = pd.DataFrame({\"values\": on_the_fly_func[selected_columns].values.flatten()})\n",
    "tmp3.values = (tmp3.values - tmp.values) / tmp.values \n",
    "display(tmp3['values'].repeat(tmp2), 100)"
   ],
   "metadata": {
    "collapsed": false,
    "ExecuteTime": {
     "end_time": "2024-05-13T09:38:20.798828Z",
     "start_time": "2024-05-13T09:38:20.709500Z"
    }
   },
   "id": "626cfbeb33afcdb7"
  },
  {
   "cell_type": "code",
   "execution_count": 308,
   "outputs": [
    {
     "name": "stdout",
     "output_type": "stream",
     "text": [
      "TtestResult(statistic=0.9311800866582932, pvalue=0.3517712775758818, df=20698.0)\n",
      "TtestResult(statistic=-1.0258886999380723, pvalue=0.3049560386469532, df=20698.0)\n",
      "TtestResult(statistic=-0.6651463747765552, pvalue=0.5059642866995582, df=20698.0)\n"
     ]
    }
   ],
   "source": [
    "print(stats.ttest_ind(vanilla_approach_func[selected_columns].values.flatten(), all_top_10_func[selected_columns].values.flatten()))\n",
    "print(stats.ttest_ind(vanilla_approach_func[selected_columns].values.flatten(), cluster_top_10_func[selected_columns].values.flatten()))\n",
    "print(stats.ttest_ind(vanilla_approach_func[selected_columns].values.flatten(), on_the_fly[selected_columns].values.flatten()))"
   ],
   "metadata": {
    "collapsed": false,
    "ExecuteTime": {
     "end_time": "2024-05-13T09:38:20.809238Z",
     "start_time": "2024-05-13T09:38:20.717155Z"
    }
   },
   "id": "b5a5ecda7226f37"
  },
  {
   "cell_type": "code",
   "execution_count": 309,
   "outputs": [],
   "source": [
    "#selected_columns = ['starttime1', 'starttime2', 'starttime3', 'starttime4', 'starttime5']\n",
    "#print(pd.DataFrame(vanilla_approach[selected_columns].values.flatten()).describe())\n",
    "#print(pd.DataFrame(all_top_10[selected_columns].values.flatten()).describe())\n",
    "#print(pd.DataFrame(cluster_top_10[selected_columns].values.flatten()).describe())"
   ],
   "metadata": {
    "collapsed": false,
    "ExecuteTime": {
     "end_time": "2024-05-13T09:38:20.809332Z",
     "start_time": "2024-05-13T09:38:20.722325Z"
    }
   },
   "id": "d7df953f4251b085"
  },
  {
   "cell_type": "code",
   "execution_count": 348,
   "outputs": [
    {
     "name": "stdout",
     "output_type": "stream",
     "text": [
      "                  0\n",
      "count  10350.000000\n",
      "mean      -0.027249\n",
      "std        0.059851\n",
      "min       -0.238135\n",
      "25%       -0.066973\n",
      "50%       -0.003854\n",
      "75%        0.004851\n",
      "max        0.197354\n",
      "                  0\n",
      "count  10350.000000\n",
      "mean      -0.026706\n",
      "std        0.061434\n",
      "min       -0.247379\n",
      "25%       -0.064403\n",
      "50%       -0.003467\n",
      "75%        0.004128\n",
      "max        0.276452\n",
      "                  0\n",
      "count  10350.000000\n",
      "mean       9.307487\n",
      "std       13.027966\n",
      "min       -0.112531\n",
      "25%        0.037611\n",
      "50%        4.815165\n",
      "75%        9.491269\n",
      "max       73.894004\n"
     ]
    }
   ],
   "source": [
    "slow_start_all_top_10 = (pd.DataFrame(all_top_10[selected_columns].values.flatten()) - pd.DataFrame(vanilla_approach[selected_columns].values.flatten())) / pd.DataFrame(vanilla_approach[selected_columns].values.flatten())\n",
    "slow_start_cluster_top_10 = (pd.DataFrame(cluster_top_10[selected_columns].values.flatten()) - pd.DataFrame(vanilla_approach[selected_columns].values.flatten())) / pd.DataFrame(vanilla_approach[selected_columns].values.flatten())\n",
    "slow_start_on_the_fly = (pd.DataFrame(on_the_fly[selected_columns].values.flatten()) - pd.DataFrame(vanilla_approach[selected_columns].values.flatten())) / pd.DataFrame(vanilla_approach[selected_columns].values.flatten())\n",
    "\n",
    "print(slow_start_all_top_10.describe())\n",
    "print(slow_start_cluster_top_10.describe())\n",
    "print(slow_start_on_the_fly.describe())"
   ],
   "metadata": {
    "collapsed": false,
    "ExecuteTime": {
     "end_time": "2024-05-13T09:39:07.650400Z",
     "start_time": "2024-05-13T09:39:07.635760Z"
    }
   },
   "id": "a0d21b8760cd75bd"
  },
  {
   "cell_type": "code",
   "execution_count": 311,
   "outputs": [
    {
     "name": "stdout",
     "output_type": "stream",
     "text": [
      "34.89 & 7.53 & 61.93 & [2.18, 266.13]\n",
      "7.53 & 5.41 & 8.04 & [2.2, 86.77]\n",
      "6.88 & 4.76 & 12.81 & [2.18, 227.0]\n",
      "27.11 & 6.72 & 46.92 & [2.18, 219.0]\n"
     ]
    }
   ],
   "source": [
    "display(vanilla_approach_func.end2end.repeat(vanilla_approach_func['count']))\n",
    "display(all_top_10_func.end2end.repeat(vanilla_approach_func['count']))\n",
    "display(cluster_top_10_func.end2end.repeat(vanilla_approach_func['count']))\n",
    "display(on_the_fly_func.end2end.repeat(vanilla_approach_func['count']))"
   ],
   "metadata": {
    "collapsed": false,
    "ExecuteTime": {
     "end_time": "2024-05-13T09:38:20.814584Z",
     "start_time": "2024-05-13T09:38:20.732215Z"
    }
   },
   "id": "9970d08f2428621d"
  },
  {
   "cell_type": "code",
   "execution_count": 312,
   "outputs": [
    {
     "name": "stdout",
     "output_type": "stream",
     "text": [
      "1.48 & 1.2 & 0.68 & [1.01, 4.57]\n",
      "1.44 & 1.08 & 0.69 & [1.02, 4.37]\n",
      "1.44 & 1.1 & 0.69 & [1.01, 4.42]\n",
      "23.8 & 6.87 & 43.88 & [1.02, 219.3]\n"
     ]
    }
   ],
   "source": [
    "selected_columns = ['end2end1', 'end2end2', 'end2end3', 'end2end4', 'end2end5']\n",
    "tmp2 = np.tile(np.array(vanilla_approach_func['count'], dtype=np.int64), 5)\n",
    "tmp = pd.DataFrame({\"values\": vanilla_approach_func[selected_columns].values.flatten()})\n",
    "display(tmp['values'].repeat(tmp2))\n",
    "tmp = pd.DataFrame({\"values\": all_top_10_func[selected_columns].values.flatten()})\n",
    "display(tmp['values'].repeat(tmp2))\n",
    "tmp = pd.DataFrame({\"values\": cluster_top_10_func[selected_columns].values.flatten()})\n",
    "display(tmp['values'].repeat(tmp2))\n",
    "tmp = pd.DataFrame({\"values\": on_the_fly_func[selected_columns].values.flatten()})\n",
    "display(tmp['values'].repeat(tmp2))"
   ],
   "metadata": {
    "collapsed": false,
    "ExecuteTime": {
     "end_time": "2024-05-13T09:38:20.814812Z",
     "start_time": "2024-05-13T09:38:20.737334Z"
    }
   },
   "id": "fa3a396caa91faa9"
  },
  {
   "cell_type": "code",
   "execution_count": 313,
   "outputs": [
    {
     "name": "stdout",
     "output_type": "stream",
     "text": [
      "             values\n",
      "count  60950.000000\n",
      "mean       0.460798\n",
      "std        0.683284\n",
      "min        0.000004\n",
      "25%        0.035532\n",
      "50%        0.183045\n",
      "75%        0.593505\n",
      "max        3.554009\n",
      "             values\n",
      "count  60950.000000\n",
      "mean       0.415841\n",
      "std        0.686280\n",
      "min        0.000004\n",
      "25%        0.014770\n",
      "50%        0.057012\n",
      "75%        0.581658\n",
      "max        3.349561\n",
      "             values\n",
      "count  60950.000000\n",
      "mean       0.421402\n",
      "std        0.690546\n",
      "min        0.000004\n",
      "25%        0.016395\n",
      "50%        0.077104\n",
      "75%        0.608022\n",
      "max        3.406486\n"
     ]
    }
   ],
   "source": [
    "selected_columns = ['importtime1', 'importtime2', 'importtime3', 'importtime4', 'importtime5']\n",
    "tmp2 = np.tile(np.array(vanilla_approach_func['count'], dtype=np.int64), 5)\n",
    "tmp = pd.DataFrame({\"values\": vanilla_approach_func[selected_columns].values.flatten()})\n",
    "print(pd.DataFrame({'values' : tmp['values'].repeat(tmp2)}).describe())\n",
    "tmp = pd.DataFrame({\"values\": all_top_10_func[selected_columns].values.flatten()})\n",
    "print(pd.DataFrame({'values' : tmp['values'].repeat(tmp2)}).describe())\n",
    "tmp = pd.DataFrame({\"values\": cluster_top_10_func[selected_columns].values.flatten()})\n",
    "print(pd.DataFrame({'values' : tmp['values'].repeat(tmp2)}).describe())"
   ],
   "metadata": {
    "collapsed": false,
    "ExecuteTime": {
     "end_time": "2024-05-13T09:38:20.815049Z",
     "start_time": "2024-05-13T09:38:20.746409Z"
    }
   },
   "id": "92bfbfe3d940e2e7"
  },
  {
   "cell_type": "code",
   "execution_count": 314,
   "outputs": [
    {
     "name": "stdout",
     "output_type": "stream",
     "text": [
      "                  0\n",
      "count  10350.000000\n",
      "mean       0.460580\n",
      "std        0.706681\n",
      "min        0.000004\n",
      "25%        0.035769\n",
      "50%        0.178937\n",
      "75%        0.515252\n",
      "max        3.554009\n",
      "                  0\n",
      "count  10350.000000\n",
      "mean       0.419829\n",
      "std        0.715521\n",
      "min        0.000004\n",
      "25%        0.014611\n",
      "50%        0.048442\n",
      "75%        0.496949\n",
      "max        3.349561\n",
      "                  0\n",
      "count  10350.000000\n",
      "mean       0.424262\n",
      "std        0.715730\n",
      "min        0.000004\n",
      "25%        0.016429\n",
      "50%        0.062429\n",
      "75%        0.504395\n",
      "max        3.406486\n"
     ]
    }
   ],
   "source": [
    "selected_columns = ['importtime1', 'importtime2', 'importtime3', 'importtime4', 'importtime5']\n",
    "print(pd.DataFrame(vanilla_approach[selected_columns].values.flatten()).describe())\n",
    "print(pd.DataFrame(all_top_10[selected_columns].values.flatten()).describe())\n",
    "print(pd.DataFrame(cluster_top_10[selected_columns].values.flatten()).describe())"
   ],
   "metadata": {
    "collapsed": false,
    "ExecuteTime": {
     "end_time": "2024-05-13T09:38:20.815349Z",
     "start_time": "2024-05-13T09:38:20.757024Z"
    }
   },
   "id": "97ec791ee1226365"
  },
  {
   "cell_type": "code",
   "execution_count": 315,
   "outputs": [
    {
     "name": "stdout",
     "output_type": "stream",
     "text": [
      "             values\n",
      "count  12190.000000\n",
      "mean       0.944200\n",
      "std        1.493660\n",
      "min        0.000004\n",
      "25%        0.037687\n",
      "50%        0.206478\n",
      "75%        1.488200\n",
      "max        6.375797\n",
      "             values\n",
      "count  12190.000000\n",
      "mean       0.957254\n",
      "std        1.583239\n",
      "min        0.000004\n",
      "25%        0.021371\n",
      "50%        0.043915\n",
      "75%        1.437310\n",
      "max        6.562116\n",
      "             values\n",
      "count  12190.000000\n",
      "mean       0.914595\n",
      "std        1.522794\n",
      "min        0.000004\n",
      "25%        0.023293\n",
      "50%        0.067227\n",
      "75%        1.471975\n",
      "max        6.515993\n"
     ]
    }
   ],
   "source": [
    "print(pd.DataFrame({'values' : vanilla_approach_func.importtime.repeat(vanilla_approach_func['count'])}).describe())\n",
    "print(pd.DataFrame({'values' : all_top_10_func.importtime.repeat(vanilla_approach_func['count'])}).describe())\n",
    "print(pd.DataFrame({'values' : cluster_top_10_func.importtime.repeat(vanilla_approach_func['count'])}).describe())"
   ],
   "metadata": {
    "collapsed": false,
    "ExecuteTime": {
     "end_time": "2024-05-13T09:38:20.815437Z",
     "start_time": "2024-05-13T09:38:20.764048Z"
    }
   },
   "id": "3c508499d6472222"
  },
  {
   "cell_type": "code",
   "execution_count": 316,
   "outputs": [
    {
     "name": "stdout",
     "output_type": "stream",
     "text": [
      "count    2070.000000\n",
      "mean        0.875803\n",
      "std         1.373398\n",
      "min         0.000004\n",
      "25%         0.069330\n",
      "50%         0.257041\n",
      "75%         1.067550\n",
      "max         6.375797\n",
      "Name: importtime, dtype: float64\n",
      "count    2070.000000\n",
      "mean        0.864887\n",
      "std         1.436517\n",
      "min         0.000004\n",
      "25%         0.029079\n",
      "50%         0.100816\n",
      "75%         1.060296\n",
      "max         6.562116\n",
      "Name: importtime, dtype: float64\n",
      "count    2070.000000\n",
      "mean        0.845668\n",
      "std         1.402225\n",
      "min         0.000004\n",
      "25%         0.032106\n",
      "50%         0.119459\n",
      "75%         1.067447\n",
      "max         6.515993\n",
      "Name: importtime, dtype: float64\n"
     ]
    }
   ],
   "source": [
    "print(vanilla_approach['importtime'].describe())\n",
    "print(all_top_10['importtime'].describe())\n",
    "print(cluster_top_10['importtime'].describe())"
   ],
   "metadata": {
    "collapsed": false,
    "ExecuteTime": {
     "end_time": "2024-05-13T09:38:20.822684Z",
     "start_time": "2024-05-13T09:38:20.770269Z"
    }
   },
   "id": "ab7bdf3ce2f499d2"
  },
  {
   "cell_type": "code",
   "execution_count": 317,
   "outputs": [
    {
     "name": "stdout",
     "output_type": "stream",
     "text": [
      "             values\n",
      "count  60950.000000\n",
      "mean       1.480235\n",
      "std        0.681223\n",
      "min        1.013257\n",
      "25%        1.050882\n",
      "50%        1.201134\n",
      "75%        1.611863\n",
      "max        4.567813\n",
      "             values\n",
      "count  60950.000000\n",
      "mean       1.440212\n",
      "std        0.686282\n",
      "min        1.020899\n",
      "25%        1.038526\n",
      "50%        1.081928\n",
      "75%        1.604999\n",
      "max        4.372572\n",
      "             values\n",
      "count  60950.000000\n",
      "mean       1.441991\n",
      "std        0.688824\n",
      "min        1.014165\n",
      "25%        1.037694\n",
      "50%        1.104221\n",
      "75%        1.633173\n",
      "max        4.420920\n"
     ]
    }
   ],
   "source": [
    "selected_columns = ['end2end1', 'end2end2', 'end2end3', 'end2end4', 'end2end5']\n",
    "tmp2 = np.tile(np.array(vanilla_approach_func['count'], dtype=np.int64), 5)\n",
    "tmp = pd.DataFrame({\"values\": vanilla_approach_func[selected_columns].values.flatten()})\n",
    "print(pd.DataFrame({'values' : tmp['values'].repeat(tmp2)}).describe())\n",
    "tmp = pd.DataFrame({\"values\": all_top_10_func[selected_columns].values.flatten()})\n",
    "print(pd.DataFrame({'values' : tmp['values'].repeat(tmp2)}).describe())\n",
    "tmp = pd.DataFrame({\"values\": cluster_top_10_func[selected_columns].values.flatten()})\n",
    "print(pd.DataFrame({'values' : tmp['values'].repeat(tmp2)}).describe())"
   ],
   "metadata": {
    "collapsed": false,
    "ExecuteTime": {
     "end_time": "2024-05-13T09:38:20.822827Z",
     "start_time": "2024-05-13T09:38:20.775166Z"
    }
   },
   "id": "10014c188ebcfc38"
  },
  {
   "cell_type": "code",
   "execution_count": 318,
   "outputs": [],
   "source": [
    "toplot = pd.DataFrame({'values': pd.concat([vanilla_approach.buldingtime, all_top_10.buldingtime, cluster_top_10.buldingtime], ignore_index=True), 'what': ['vanilla_approach'] * len(vanilla_approach) + ['all_top_10'] * len(all_top_10) + ['cluster_top_10'] * len(cluster_top_10)})"
   ],
   "metadata": {
    "collapsed": false,
    "ExecuteTime": {
     "end_time": "2024-05-13T09:38:20.822866Z",
     "start_time": "2024-05-13T09:38:20.785665Z"
    }
   },
   "id": "7d2088137db47043"
  },
  {
   "cell_type": "code",
   "execution_count": 319,
   "outputs": [
    {
     "data": {
      "text/plain": "<Figure size 1000x600 with 1 Axes>",
      "image/png": "[encoded data removed]"
     },
     "metadata": {},
     "output_type": "display_data"
    }
   ],
   "source": [
    "plt.figure(figsize=(10, 6))\n",
    "sns.boxplot(x='what', y='values', data=toplot)\n",
    "plt.xlabel('')\n",
    "plt.ylabel('Time in seconds')\n",
    "plt.title('Build Time')\n",
    "plt.yscale('log')\n",
    "#plt.yticks([0.5, 1, 3, 5],[0.5, 1, 3, 5])\n",
    "plt.show()"
   ],
   "metadata": {
    "collapsed": false,
    "ExecuteTime": {
     "end_time": "2024-05-13T09:38:20.946035Z",
     "start_time": "2024-05-13T09:38:20.793544Z"
    }
   },
   "id": "3843bf05a219cfa1"
  },
  {
   "cell_type": "code",
   "execution_count": 320,
   "outputs": [],
   "source": [
    "toplot = pd.DataFrame({'values': pd.concat([vanilla_approach.installtime, all_top_10.installtime, cluster_top_10.installtime], ignore_index=True), 'what': ['vanilla_approach'] * len(vanilla_approach) + ['all_top_10'] * len(all_top_10) + ['cluster_top_10'] * len(cluster_top_10)})\n",
    "toplot = toplot[toplot['values']>-1]"
   ],
   "metadata": {
    "collapsed": false,
    "ExecuteTime": {
     "end_time": "2024-05-13T09:38:20.946128Z",
     "start_time": "2024-05-13T09:38:20.923019Z"
    }
   },
   "id": "b2976d7b61876cb4"
  },
  {
   "cell_type": "code",
   "execution_count": 321,
   "outputs": [
    {
     "data": {
      "text/plain": "<Figure size 1000x600 with 1 Axes>",
      "image/png": "[encoded data removed]"
     },
     "metadata": {},
     "output_type": "display_data"
    }
   ],
   "source": [
    "plt.figure(figsize=(10, 6))\n",
    "sns.boxplot(x='what', y='values', data=toplot)\n",
    "plt.xlabel('')\n",
    "plt.ylabel('Time in seconds')\n",
    "plt.title('Install Time')\n",
    "plt.yscale('log')\n",
    "#plt.yticks([0.5, 1, 3, 5],[0.5, 1, 3, 5])\n",
    "plt.show()"
   ],
   "metadata": {
    "collapsed": false,
    "ExecuteTime": {
     "end_time": "2024-05-13T09:38:21.053423Z",
     "start_time": "2024-05-13T09:38:20.925366Z"
    }
   },
   "id": "4ad2fa6e476f597a"
  },
  {
   "cell_type": "code",
   "execution_count": 322,
   "outputs": [],
   "source": [
    "plot_build = pd.DataFrame({'values': pd.concat([vanilla_approach.buldingtime, all_top_10.buldingtime, cluster_top_10.buldingtime], ignore_index=True), 'what': ['Naïve'] * len(vanilla_approach) + ['All Top 10'] * len(all_top_10) + ['Cluster Top 10'] * len(cluster_top_10)})\n",
    "\n",
    "plot_install = pd.DataFrame({'values': pd.concat([vanilla_approach.installtime, all_top_10.installtime, cluster_top_10.installtime], ignore_index=True), 'what': ['Naïve'] * len(vanilla_approach) + ['All Top 10'] * len(all_top_10) + ['Cluster Top 10'] * len(cluster_top_10)})\n",
    "plot_install = plot_install[plot_install['values']>-1]\n",
    "\n",
    "\n",
    "toplot = pd.DataFrame(pd.concat([plot_build, plot_install], ignore_index=True))\n",
    "toplot['exp'] = ['Build Time'] * len(plot_build) + ['Install Time'] * len(plot_install) "
   ],
   "metadata": {
    "collapsed": false,
    "ExecuteTime": {
     "end_time": "2024-05-13T09:38:21.061885Z",
     "start_time": "2024-05-13T09:38:21.056551Z"
    }
   },
   "id": "c96db927f692dd04"
  },
  {
   "cell_type": "code",
   "execution_count": 323,
   "outputs": [
    {
     "data": {
      "text/plain": "<Figure size 640x480 with 1 Axes>",
      "image/png": "[encoded data removed]"
     },
     "metadata": {},
     "output_type": "display_data"
    }
   ],
   "source": [
    "sns.set_style(\"whitegrid\")\n",
    "sns.boxplot(x='what', y='values', hue='exp', data=toplot)\n",
    "plt.xlabel('')\n",
    "plt.ylabel('Time in seconds')\n",
    "plt.yscale('log')\n",
    "plt.legend(loc='upper right', bbox_to_anchor=(1, 1), shadow=False, ncol=2)\n",
    "\n",
    "plt.savefig('figures/buildtime.pdf', format='pdf')\n",
    "\n",
    "# Show the plot\n",
    "plt.show()"
   ],
   "metadata": {
    "collapsed": false,
    "ExecuteTime": {
     "end_time": "2024-05-13T09:38:21.394395Z",
     "start_time": "2024-05-13T09:38:21.061440Z"
    }
   },
   "id": "db3dfbcf51872e"
  },
  {
   "cell_type": "code",
   "execution_count": 324,
   "outputs": [],
   "source": [
    "#toplot = pd.DataFrame({'values': pd.concat([vanilla_approach.starttime, all_top_10.starttime, cluster_top_10.starttime], ignore_index=True), 'what': ['vanilla_approach'] * len(vanilla_approach) + ['all_top_10'] * len(all_top_10) + ['cluster_top_10'] * len(cluster_top_10)})\n",
    "toplot = pd.DataFrame({'values': pd.concat([vanilla_approach['starttime1'], vanilla_approach['starttime2'], vanilla_approach['starttime3'], vanilla_approach['starttime4'], vanilla_approach['starttime5'],\n",
    "               all_top_10['starttime1'], all_top_10['starttime2'], all_top_10['starttime3'], all_top_10['starttime4'], all_top_10['starttime5'],\n",
    "                cluster_top_10['starttime1'], cluster_top_10['starttime2'], cluster_top_10['starttime3'], cluster_top_10['starttime4'], cluster_top_10['starttime5'],\n",
    "               on_the_fly['starttime1'], on_the_fly['starttime2'], on_the_fly['starttime3'], on_the_fly['starttime4'], on_the_fly['starttime5']], ignore_index=True), \n",
    "            'what': ['Naïve'] * 5 * len(vanilla_approach) + ['All Top 10'] * 5 * len(all_top_10) + ['Cluster Top 10'] * 5 * len(cluster_top_10) + ['On-the-fly'] * 5 * len(cluster_top_10)})\n",
    "\n",
    "toplot['values'] = toplot['values'] * 1000"
   ],
   "metadata": {
    "collapsed": false,
    "ExecuteTime": {
     "end_time": "2024-05-13T09:38:21.404507Z",
     "start_time": "2024-05-13T09:38:21.391649Z"
    }
   },
   "id": "271fd4500dfbdf99"
  },
  {
   "cell_type": "code",
   "execution_count": 325,
   "outputs": [
    {
     "data": {
      "text/plain": "<Figure size 640x480 with 1 Axes>",
      "image/png": "[encoded data removed]"
     },
     "metadata": {},
     "output_type": "display_data"
    }
   ],
   "source": [
    "sns.set_style(\"whitegrid\")\n",
    "#plt.figure(figsize=(10, 6))\n",
    "sns.boxplot(x='what', y='values', data=toplot)\n",
    "plt.xlabel('')\n",
    "plt.ylabel('Time in ms')\n",
    "plt.yscale('log')\n",
    "plt.yticks([200, 300],[200, 300])\n",
    "\n",
    "plt.savefig('figures/start.pdf', format='pdf')\n",
    "\n",
    "plt.show()"
   ],
   "metadata": {
    "collapsed": false,
    "ExecuteTime": {
     "end_time": "2024-05-13T09:38:21.544493Z",
     "start_time": "2024-05-13T09:38:21.399812Z"
    }
   },
   "id": "d46b592e60d5cff0"
  },
  {
   "cell_type": "code",
   "execution_count": 326,
   "outputs": [],
   "source": [
    "toplot = pd.DataFrame({'values': pd.concat([vanilla_approach.importtime, all_top_10.importtime, cluster_top_10.importtime], ignore_index=True), 'what': ['vanilla_approach'] * len(vanilla_approach) + ['all_top_10'] * len(all_top_10) + ['cluster_top_10'] * len(cluster_top_10)})"
   ],
   "metadata": {
    "collapsed": false,
    "ExecuteTime": {
     "end_time": "2024-05-13T09:38:21.548934Z",
     "start_time": "2024-05-13T09:38:21.544278Z"
    }
   },
   "id": "cf3ce189493273c1"
  },
  {
   "cell_type": "code",
   "execution_count": 327,
   "outputs": [
    {
     "data": {
      "text/plain": "<Figure size 1000x600 with 1 Axes>",
      "image/png": "[encoded data removed]"
     },
     "metadata": {},
     "output_type": "display_data"
    }
   ],
   "source": [
    "plt.figure(figsize=(10, 6))\n",
    "sns.boxplot(x='what', y='values', data=toplot)\n",
    "plt.xlabel('')\n",
    "plt.ylabel('Time in seconds')\n",
    "plt.title('Import Time')\n",
    "plt.yscale('log')\n",
    "#plt.yticks([0.5, 1, 3, 5],[0.5, 1, 3, 5])\n",
    "plt.show()"
   ],
   "metadata": {
    "collapsed": false,
    "ExecuteTime": {
     "end_time": "2024-05-13T09:38:21.722208Z",
     "start_time": "2024-05-13T09:38:21.548781Z"
    }
   },
   "id": "60906fa63e1a0788"
  },
  {
   "cell_type": "code",
   "execution_count": 328,
   "outputs": [],
   "source": [
    "plot_start = pd.DataFrame({'values': pd.concat([vanilla_approach['starttime1'], vanilla_approach['starttime2'], vanilla_approach['starttime3'], vanilla_approach['starttime4'], vanilla_approach['starttime5'],\n",
    "               all_top_10['starttime1'], all_top_10['starttime2'], all_top_10['starttime3'], all_top_10['starttime4'], all_top_10['starttime5'],\n",
    "               cluster_top_10['starttime1'], cluster_top_10['starttime2'], cluster_top_10['starttime3'], cluster_top_10['starttime4'], cluster_top_10['starttime5']], ignore_index=True), \n",
    "            'what': ['Naïve'] * 5 * len(vanilla_approach) + ['All Top 10'] * 5 * len(all_top_10) + ['Cluster Top 10'] * 5 * len(cluster_top_10)})\n",
    "\n",
    "plot_import = pd.DataFrame({'values': pd.concat([vanilla_approach.importtime, all_top_10.importtime, cluster_top_10.importtime], ignore_index=True), 'what': ['Naïve'] * len(vanilla_approach) + ['All Top 10'] * len(all_top_10) + ['Cluster Top 10'] * len(cluster_top_10)})\n",
    "\n",
    "\n",
    "\n",
    "toplot = pd.DataFrame(pd.concat([plot_start, plot_import], ignore_index=True))\n",
    "toplot['exp'] = ['Start Time'] * len(plot_start) + ['Import Time'] * len(plot_import) "
   ],
   "metadata": {
    "collapsed": false,
    "ExecuteTime": {
     "end_time": "2024-05-13T09:38:21.729068Z",
     "start_time": "2024-05-13T09:38:21.722146Z"
    }
   },
   "id": "515808015a95ead2"
  },
  {
   "cell_type": "code",
   "execution_count": 329,
   "outputs": [
    {
     "data": {
      "text/plain": "<Figure size 640x480 with 1 Axes>",
      "image/png": "[encoded data removed]"
     },
     "metadata": {},
     "output_type": "display_data"
    }
   ],
   "source": [
    "sns.set_style(\"whitegrid\")\n",
    "sns.boxplot(x='what', y='values', hue='exp', data=toplot)\n",
    "plt.xlabel('')\n",
    "plt.ylabel('Time in seconds')\n",
    "plt.yscale('log')\n",
    "plt.legend(loc='upper right', bbox_to_anchor=(1, 1), shadow=False, ncol=2)\n",
    "\n",
    "plt.savefig('figures/start_import.pdf', format='pdf')\n",
    "\n",
    "# Show the plot\n",
    "plt.show()"
   ],
   "metadata": {
    "collapsed": false,
    "ExecuteTime": {
     "end_time": "2024-05-13T09:38:21.982675Z",
     "start_time": "2024-05-13T09:38:21.728467Z"
    }
   },
   "id": "3bb062261ca2360b"
  },
  {
   "cell_type": "code",
   "execution_count": 330,
   "outputs": [
    {
     "name": "stderr",
     "output_type": "stream",
     "text": [
      "/var/folders/86/fyd29lqj0033vg6drb2b412m0000gn/T/ipykernel_56715/1746028317.py:4: FutureWarning: Series.__getitem__ treating keys as positions is deprecated. In a future version, integer keys will always be treated as labels (consistent with DataFrame behavior). To access a value by position, use `ser.iloc[pos]`\n",
      "  if pd.isna(row[1]):\n",
      "/var/folders/86/fyd29lqj0033vg6drb2b412m0000gn/T/ipykernel_56715/1746028317.py:7: FutureWarning: Series.__getitem__ treating keys as positions is deprecated. In a future version, integer keys will always be treated as labels (consistent with DataFrame behavior). To access a value by position, use `ser.iloc[pos]`\n",
      "  ins = set(row[1].split(\";\"))\n",
      "/var/folders/86/fyd29lqj0033vg6drb2b412m0000gn/T/ipykernel_56715/1746028317.py:8: FutureWarning: Series.__getitem__ treating keys as positions is deprecated. In a future version, integer keys will always be treated as labels (consistent with DataFrame behavior). To access a value by position, use `ser.iloc[pos]`\n",
      "  all = set(row[2].split(\";\"))\n",
      "/var/folders/86/fyd29lqj0033vg6drb2b412m0000gn/T/ipykernel_56715/1746028317.py:9: FutureWarning: Series.__getitem__ treating keys as positions is deprecated. In a future version, integer keys will always be treated as labels (consistent with DataFrame behavior). To access a value by position, use `ser.iloc[pos]`\n",
      "  if pd.isna(row[3]):\n",
      "/var/folders/86/fyd29lqj0033vg6drb2b412m0000gn/T/ipykernel_56715/1746028317.py:12: FutureWarning: Series.__getitem__ treating keys as positions is deprecated. In a future version, integer keys will always be treated as labels (consistent with DataFrame behavior). To access a value by position, use `ser.iloc[pos]`\n",
      "  clu = set(row[3].split(\";\"))\n"
     ]
    },
    {
     "data": {
      "text/plain": "   toInstall  AlreayInstalled_all  AlreayInstalled_cluster  Installed_all  \\\n0          7                    3                        7             10   \n1          6                    2                        6             10   \n2          1                    0                        1             10   \n3          1                    0                        1             10   \n4          1                    0                        1             10   \n\n   Installed_cluster  \n0                 10  \n1                 10  \n2                 10  \n3                 11  \n4                 11  ",
      "text/html": "<div>\n<style scoped>\n    .dataframe tbody tr th:only-of-type {\n        vertical-align: middle;\n    }\n\n    .dataframe tbody tr th {\n        vertical-align: top;\n    }\n\n    .dataframe thead th {\n        text-align: right;\n    }\n</style>\n<table border=\"1\" class=\"dataframe\">\n  <thead>\n    <tr style=\"text-align: right;\">\n      <th></th>\n      <th>toInstall</th>\n      <th>AlreayInstalled_all</th>\n      <th>AlreayInstalled_cluster</th>\n      <th>Installed_all</th>\n      <th>Installed_cluster</th>\n    </tr>\n  </thead>\n  <tbody>\n    <tr>\n      <th>0</th>\n      <td>7</td>\n      <td>3</td>\n      <td>7</td>\n      <td>10</td>\n      <td>10</td>\n    </tr>\n    <tr>\n      <th>1</th>\n      <td>6</td>\n      <td>2</td>\n      <td>6</td>\n      <td>10</td>\n      <td>10</td>\n    </tr>\n    <tr>\n      <th>2</th>\n      <td>1</td>\n      <td>0</td>\n      <td>1</td>\n      <td>10</td>\n      <td>10</td>\n    </tr>\n    <tr>\n      <th>3</th>\n      <td>1</td>\n      <td>0</td>\n      <td>1</td>\n      <td>10</td>\n      <td>11</td>\n    </tr>\n    <tr>\n      <th>4</th>\n      <td>1</td>\n      <td>0</td>\n      <td>1</td>\n      <td>10</td>\n      <td>11</td>\n    </tr>\n  </tbody>\n</table>\n</div>"
     },
     "execution_count": 330,
     "metadata": {},
     "output_type": "execute_result"
    }
   ],
   "source": [
    "install = pd.read_csv(\"experiments/installations.csv\")\n",
    "install_libaries = pd.DataFrame()\n",
    "for index, row in install.iterrows():\n",
    "    if pd.isna(row[1]):\n",
    "        ins = set()\n",
    "    else: \n",
    "        ins = set(row[1].split(\";\"))\n",
    "    all = set(row[2].split(\";\"))\n",
    "    if pd.isna(row[3]):\n",
    "        clu = set()\n",
    "    else: \n",
    "        clu = set(row[3].split(\";\"))\n",
    "    install_libaries = pd.concat([install_libaries, pd.DataFrame([[len(ins), len(ins.intersection(all)), len(ins.intersection(clu)), len(all), len(clu)]])], ignore_index=True)\n",
    "install_libaries.columns = ['toInstall', 'AlreayInstalled_all', 'AlreayInstalled_cluster', 'Installed_all', 'Installed_cluster']\n",
    "\n",
    "install_libaries.head()"
   ],
   "metadata": {
    "collapsed": false,
    "ExecuteTime": {
     "end_time": "2024-05-13T09:38:22.036331Z",
     "start_time": "2024-05-13T09:38:21.982245Z"
    }
   },
   "id": "a67357045bfa20fe"
  },
  {
   "cell_type": "code",
   "execution_count": 331,
   "outputs": [
    {
     "name": "stdout",
     "output_type": "stream",
     "text": [
      "count    149.000000\n",
      "mean       1.993289\n",
      "std        1.402202\n",
      "min        1.000000\n",
      "25%        1.000000\n",
      "50%        1.000000\n",
      "75%        2.000000\n",
      "max        7.000000\n",
      "Name: toInstall, dtype: float64\n",
      "count    149.000000\n",
      "mean       0.791946\n",
      "std        0.960540\n",
      "min        0.000000\n",
      "25%        0.000000\n",
      "50%        1.000000\n",
      "75%        1.000000\n",
      "max        5.000000\n",
      "dtype: float64\n",
      "count    149.000000\n",
      "mean       0.067114\n",
      "std        0.300100\n",
      "min        0.000000\n",
      "25%        0.000000\n",
      "50%        0.000000\n",
      "75%        0.000000\n",
      "max        2.000000\n",
      "dtype: float64\n"
     ]
    }
   ],
   "source": [
    "install_libaries = install_libaries[install_libaries.toInstall>0]\n",
    "print(install_libaries.toInstall.describe())\n",
    "print((install_libaries.toInstall - install_libaries.AlreayInstalled_all).describe())\n",
    "print((install_libaries.toInstall - install_libaries.AlreayInstalled_cluster).describe())"
   ],
   "metadata": {
    "collapsed": false,
    "ExecuteTime": {
     "end_time": "2024-05-13T09:38:22.036449Z",
     "start_time": "2024-05-13T09:38:22.015973Z"
    }
   },
   "id": "d5b85395dccaf92c"
  },
  {
   "cell_type": "code",
   "execution_count": 332,
   "outputs": [
    {
     "data": {
      "text/plain": "0.9463087248322147"
     },
     "execution_count": 332,
     "metadata": {},
     "output_type": "execute_result"
    }
   ],
   "source": [
    "tmp = (install_libaries.toInstall - install_libaries.AlreayInstalled_cluster)\n",
    "len(tmp[tmp==0])/len(tmp)"
   ],
   "metadata": {
    "collapsed": false,
    "ExecuteTime": {
     "end_time": "2024-05-13T09:38:22.036538Z",
     "start_time": "2024-05-13T09:38:22.018684Z"
    }
   },
   "id": "84d75448244bc4de"
  },
  {
   "cell_type": "code",
   "execution_count": 333,
   "outputs": [
    {
     "name": "stdout",
     "output_type": "stream",
     "text": [
      "count    149.000000\n",
      "mean       8.006711\n",
      "std        1.402202\n",
      "min        3.000000\n",
      "25%        8.000000\n",
      "50%        9.000000\n",
      "75%        9.000000\n",
      "max        9.000000\n",
      "dtype: float64\n",
      "count    132.000000\n",
      "mean       6.931818\n",
      "std        2.801835\n",
      "min        1.000000\n",
      "25%        5.000000\n",
      "50%        8.000000\n",
      "75%        9.000000\n",
      "max       10.000000\n",
      "dtype: float64\n"
     ]
    }
   ],
   "source": [
    "print((install_libaries.Installed_all - install_libaries.toInstall).describe())\n",
    "tmp = install_libaries.Installed_cluster - install_libaries.toInstall\n",
    "print(tmp[tmp>0].describe())"
   ],
   "metadata": {
    "collapsed": false,
    "ExecuteTime": {
     "end_time": "2024-05-13T09:38:22.037148Z",
     "start_time": "2024-05-13T09:38:22.022384Z"
    }
   },
   "id": "b1904762687560a6"
  },
  {
   "cell_type": "code",
   "execution_count": 334,
   "outputs": [],
   "source": [
    "size_vanilla = pd.read_csv(\"data/vanilla_approach/size.csv\", header=None)\n",
    "size_cluster_top_10 = pd.read_csv(\"data/cluster_top_10/size.csv\", header=None)\n",
    "size_all_top_10 = pd.read_csv(\"data/all_top_10/size.csv\", header=None)\n",
    "size_onthefly = 1.01"
   ],
   "metadata": {
    "collapsed": false,
    "ExecuteTime": {
     "end_time": "2024-05-13T09:38:22.037181Z",
     "start_time": "2024-05-13T09:38:22.024753Z"
    }
   },
   "id": "6ea1a9c1e371474d"
  },
  {
   "cell_type": "code",
   "execution_count": 335,
   "outputs": [],
   "source": [
    "size_vanilla[1] = [float(re.sub(r'GB$', '', size)) for size in size_vanilla[1]]\n",
    "size_cluster_top_10[1] = [float(re.sub(r'GB$', '', size)) for size in size_cluster_top_10[1]]\n",
    "size_all_top_10[1] = [float(re.sub(r'GB$', '', size)) for size in size_all_top_10[1]]"
   ],
   "metadata": {
    "collapsed": false,
    "ExecuteTime": {
     "end_time": "2024-05-13T09:38:22.037212Z",
     "start_time": "2024-05-13T09:38:22.030128Z"
    }
   },
   "id": "97805091430b3000"
  },
  {
   "cell_type": "code",
   "execution_count": 336,
   "outputs": [
    {
     "name": "stdout",
     "output_type": "stream",
     "text": [
      "            values\n",
      "count  1219.000000\n",
      "mean      1.724643\n",
      "std       1.598838\n",
      "min       1.010000\n",
      "25%       1.010000\n",
      "50%       1.020000\n",
      "75%       1.250000\n",
      "max       7.330000\n",
      "            values\n",
      "count  1219.000000\n",
      "mean      8.466013\n",
      "std       0.092961\n",
      "min       8.450000\n",
      "25%       8.450000\n",
      "50%       8.450000\n",
      "75%       8.450000\n",
      "max       9.560000\n",
      "            values\n",
      "count  1219.000000\n",
      "mean      3.318958\n",
      "std       2.436412\n",
      "min       1.010000\n",
      "25%       1.250000\n",
      "50%       1.580000\n",
      "75%       6.370000\n",
      "max       7.330000\n"
     ]
    }
   ],
   "source": [
    "print(pd.DataFrame({'values' : size_vanilla[1].repeat(vanilla_approach_func['count'].iloc[0:207])}).describe())\n",
    "print(pd.DataFrame({'values' : size_all_top_10[1].repeat(vanilla_approach_func['count'].iloc[0:207])}).describe())\n",
    "print(pd.DataFrame({'values' : size_cluster_top_10[1].repeat(vanilla_approach_func['count'].iloc[0:207])}).describe())"
   ],
   "metadata": {
    "collapsed": false,
    "ExecuteTime": {
     "end_time": "2024-05-13T09:38:22.064826Z",
     "start_time": "2024-05-13T09:38:22.032811Z"
    }
   },
   "id": "689a1e548e403e8b"
  },
  {
   "cell_type": "code",
   "execution_count": 337,
   "outputs": [],
   "source": [
    "#func_mapping.head()"
   ],
   "metadata": {
    "collapsed": false,
    "ExecuteTime": {
     "end_time": "2024-05-13T09:38:22.064967Z",
     "start_time": "2024-05-13T09:38:22.038780Z"
    }
   },
   "id": "1193e24cb837950b"
  },
  {
   "cell_type": "code",
   "execution_count": 338,
   "outputs": [],
   "source": [
    "#task_mapping = pd.read_csv(\"funcx/task_function_mapping.csv\")\n",
    "#task_mapping.head()"
   ],
   "metadata": {
    "collapsed": false,
    "ExecuteTime": {
     "end_time": "2024-05-13T09:38:22.065006Z",
     "start_time": "2024-05-13T09:38:22.040760Z"
    }
   },
   "id": "203f358ec46b38f6"
  },
  {
   "cell_type": "code",
   "execution_count": 339,
   "outputs": [],
   "source": [
    "#funcs = pd.merge(func_mapping, task_mapping, on=\"func4.name\")\n",
    "#funcs.shape"
   ],
   "metadata": {
    "collapsed": false,
    "ExecuteTime": {
     "end_time": "2024-05-13T09:38:22.065038Z",
     "start_time": "2024-05-13T09:38:22.042629Z"
    }
   },
   "id": "824ad9b1bef7e951"
  },
  {
   "cell_type": "code",
   "execution_count": 340,
   "outputs": [],
   "source": [
    "#counts = funcs.imports.value_counts()\n",
    "#counts = pd.DataFrame(counts)\n",
    "#counts.reset_index(inplace=True)\n",
    "#counts = counts._append({'imports': \"argparse;copy;datetime;funcx;itertools;json;matplotlib;numpy;os;pathlib;shutil;sys;threading;typing\", 'count': 1}, ignore_index=True)\n",
    "#counts.tail()"
   ],
   "metadata": {
    "collapsed": false,
    "ExecuteTime": {
     "end_time": "2024-05-13T09:38:22.065069Z",
     "start_time": "2024-05-13T09:38:22.044596Z"
    }
   },
   "id": "5146a10e98a9fc0"
  },
  {
   "cell_type": "code",
   "execution_count": 341,
   "outputs": [],
   "source": [
    "#install_libaries['imports'] = install.imports\n",
    "#install_libaries.head()"
   ],
   "metadata": {
    "collapsed": false,
    "ExecuteTime": {
     "end_time": "2024-05-13T09:38:22.065100Z",
     "start_time": "2024-05-13T09:38:22.046566Z"
    }
   },
   "id": "4fcb7ff37c069d24"
  },
  {
   "cell_type": "code",
   "execution_count": 342,
   "outputs": [],
   "source": [
    "#df = pd.merge(install_libaries[install_libaries.toInstall>0], counts, on=\"imports\")\n",
    "#df.head()"
   ],
   "metadata": {
    "collapsed": false,
    "ExecuteTime": {
     "end_time": "2024-05-13T09:38:22.065129Z",
     "start_time": "2024-05-13T09:38:22.048490Z"
    }
   },
   "id": "e5051296da8a2121"
  },
  {
   "cell_type": "code",
   "execution_count": 343,
   "outputs": [],
   "source": [
    "#print(pd.DataFrame({'values' : df.toInstall.repeat(df['count'])}).describe())\n",
    "#print(pd.DataFrame({'values' : (df.toInstall - df.AlreayInstalled_all).repeat(df['count'])}).describe())\n",
    "#print(pd.DataFrame({'values' : (df.toInstall - df.AlreayInstalled_cluster).repeat(df['count'])}).describe())"
   ],
   "metadata": {
    "collapsed": false,
    "ExecuteTime": {
     "end_time": "2024-05-13T09:38:22.065161Z",
     "start_time": "2024-05-13T09:38:22.050046Z"
    }
   },
   "id": "ac6dbb89915f2b86"
  },
  {
   "cell_type": "code",
   "execution_count": 344,
   "outputs": [],
   "source": [
    "#install_libaries[install_libaries.toInstall>0].describe()"
   ],
   "metadata": {
    "collapsed": false,
    "ExecuteTime": {
     "end_time": "2024-05-13T09:38:22.065190Z",
     "start_time": "2024-05-13T09:38:22.051981Z"
    }
   },
   "id": "acca2a2e8ca3b2ce"
  },
  {
   "cell_type": "code",
   "execution_count": 345,
   "outputs": [],
   "source": [
    "max_start = max(itertools.chain.from_iterable([vanilla_approach[f'starttime{i+1}'] for i in range(5)]))\n",
    "\n",
    "plot_start = pd.DataFrame({'values': pd.concat([vanilla_approach['starttime1']/max_start, vanilla_approach['starttime2']/max_start, vanilla_approach['starttime3']/max_start, vanilla_approach['starttime4']/max_start, vanilla_approach['starttime5']/max_start, all_top_10['starttime1']/max_start, all_top_10['starttime2']/max_start, all_top_10['starttime3']/max_start, all_top_10['starttime4']/max_start, all_top_10['starttime5']/max_start,\n",
    "               cluster_top_10['starttime1']/max_start, cluster_top_10['starttime2']/max_start, cluster_top_10['starttime3']/max_start, cluster_top_10['starttime4']/max_start, cluster_top_10['starttime5']/max_start], ignore_index=True), \n",
    "            'what': ['vanilla_approach'] * 5 * len(vanilla_approach) + ['all_top_10'] * 5 * len(all_top_10) + ['cluster_top_10'] * 5 * len(cluster_top_10)})\n",
    "\n",
    "plot_build = pd.DataFrame({'values': pd.concat([vanilla_approach.buldingtime/max(vanilla_approach.buldingtime), all_top_10.buldingtime/max(vanilla_approach.buldingtime), cluster_top_10.buldingtime/max(vanilla_approach.buldingtime)], ignore_index=True), 'what': ['vanilla_approach'] * len(vanilla_approach) + ['all_top_10'] * len(all_top_10) + ['cluster_top_10'] * len(cluster_top_10)})\n",
    "\n",
    "plot_install = pd.DataFrame({'values': pd.concat([vanilla_approach.installtime/max(vanilla_approach.installtime), all_top_10.installtime/max(vanilla_approach.installtime), cluster_top_10.installtime/max(vanilla_approach.installtime)], ignore_index=True), 'what': ['vanilla_approach'] * len(vanilla_approach) + ['all_top_10'] * len(all_top_10) + ['cluster_top_10'] * len(cluster_top_10)})\n",
    "plot_install = plot_install[plot_install['values']>-1]\n",
    "\n",
    "plot_import = pd.DataFrame({'values': pd.concat(\n",
    "    [vanilla_approach.importtime/max(vanilla_approach.importtime), all_top_10.importtime/max(vanilla_approach.importtime), cluster_top_10.importtime/max(vanilla_approach.importtime)], ignore_index=True),\n",
    "                       'what': ['vanilla_approach'] * len(vanilla_approach) + ['all_top_10'] * len(all_top_10) + [\n",
    "                           'cluster_top_10'] * len(cluster_top_10)})\n",
    "\n",
    "toplot = pd.DataFrame(pd.concat([plot_build, plot_install, plot_start, plot_import], ignore_index=True))\n",
    "toplot['exp'] = ['Build'] * len(plot_build) + ['Install'] * len(plot_install) + ['Start'] * len(plot_start) + ['Import'] * len(plot_import)"
   ],
   "metadata": {
    "collapsed": false,
    "ExecuteTime": {
     "end_time": "2024-05-13T09:38:22.130078Z",
     "start_time": "2024-05-13T09:38:22.057438Z"
    }
   },
   "id": "f80d9ccc7c76ec1"
  },
  {
   "cell_type": "code",
   "execution_count": 346,
   "outputs": [
    {
     "data": {
      "text/plain": "<Figure size 640x480 with 1 Axes>",
      "image/png": "[encoded data removed]"
     },
     "metadata": {},
     "output_type": "display_data"
    }
   ],
   "source": [
    "sns.boxplot(x='what', y='values', hue='exp', data=toplot)\n",
    "plt.xlabel('')\n",
    "plt.ylabel('Normalized Time')\n",
    "#plt.yscale('log')\n",
    "plt.ylim(0,0.2)\n",
    "plt.legend(loc='upper center', bbox_to_anchor=(0.5, -0.1), shadow=True, ncol=4)\n",
    "# Show the plot\n",
    "plt.show()"
   ],
   "metadata": {
    "collapsed": false,
    "ExecuteTime": {
     "end_time": "2024-05-13T09:38:22.236138Z",
     "start_time": "2024-05-13T09:38:22.067067Z"
    }
   },
   "id": "d3a55c8f965af870"
  }
 ],
 "metadata": {
  "kernelspec": {
   "display_name": "Python 3",
   "language": "python",
   "name": "python3"
  },
  "language_info": {
   "codemirror_mode": {
    "name": "ipython",
    "version": 2
   },
   "file_extension": ".py",
   "mimetype": "text/x-python",
   "name": "python",
   "nbconvert_exporter": "python",
   "pygments_lexer": "ipython2",
   "version": "2.7.6"
  }
 },
 "nbformat": 4,
 "nbformat_minor": 5
}
