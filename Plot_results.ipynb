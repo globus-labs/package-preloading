{
 "cells": [
  {
   "cell_type": "code",
   "execution_count": 2,
   "id": "initial_id",
   "metadata": {
    "collapsed": true,
    "ExecuteTime": {
     "end_time": "2024-04-15T18:57:12.330673Z",
     "start_time": "2024-04-15T18:57:12.315425Z"
    }
   },
   "outputs": [],
   "source": [
    "import pandas as pd\n",
    "import matplotlib.pyplot as plt\n",
    "import seaborn as sns"
   ]
  },
  {
   "cell_type": "code",
   "execution_count": 3,
   "outputs": [],
   "source": [
    "def prepare(data):\n",
    "    data['import.start'] = pd.to_datetime(data['import.start'])\n",
    "    data['import.stop'] = pd.to_datetime(data['import.stop'])\n",
    "    data['created'] = pd.to_datetime(data['created'])\n",
    "    data['started'] = pd.to_datetime(data['started'])\n",
    "    data['finished'] = pd.to_datetime(data['finished'])\n",
    "    \n",
    "    data['starttime'] = (data['started'] - data['created']).dt.total_seconds() \n",
    "    data['dockertime'] = (data['finished'] - data['started']).dt.total_seconds() \n",
    "    data['importtime'] = (data['import.stop'] - data['import.start']).dt.total_seconds() \n",
    "    \n",
    "    started_temp = pd.DataFrame()\n",
    "    docker_temp = pd.DataFrame()\n",
    "    import_temp = pd.DataFrame()\n",
    "    \n",
    "    for i in range(8,29,5):\n",
    "        started_temp.insert(range(8,29,5).index(i), \"\", (pd.to_datetime(data.iloc[:, i+1]) - pd.to_datetime(data.iloc[:, i])).dt.total_seconds() , True)\n",
    "        docker_temp.insert(range(8,29,5).index(i), \"\", (pd.to_datetime(data.iloc[:, i+2]) - pd.to_datetime(data.iloc[:, i+1])).dt.total_seconds() , True)\n",
    "        import_temp.insert(range(8,29,5).index(i), \"\", (pd.to_datetime(data.iloc[:, i+4]) - pd.to_datetime(data.iloc[:, i+3])).dt.total_seconds() , True)\n",
    "        \n",
    "    \n",
    "    started_temp.columns = ['starttime{}'.format(i) for i in range(1, 6)]\n",
    "    docker_temp.columns = ['dockertime{}'.format(i) for i in range(1, 6)]\n",
    "    import_temp.columns = ['importtime{}'.format(i) for i in range(1, 6)]\n",
    "    \n",
    "    data = pd.concat([data, started_temp, docker_temp, import_temp], axis=1)\n",
    "    \n",
    "    return data"
   ],
   "metadata": {
    "collapsed": false,
    "ExecuteTime": {
     "end_time": "2024-04-15T18:57:12.331466Z",
     "start_time": "2024-04-15T18:57:12.321075Z"
    }
   },
   "id": "b105810311362533"
  },
  {
   "cell_type": "code",
   "execution_count": 4,
   "outputs": [],
   "source": [
    "vanilla_approach = pd.read_csv(f\"data/vanilla_approach/run10.csv\")\n",
    "all_top_10 = pd.read_csv(f\"data/all_top_10/run10.csv\")\n",
    "cluster_top_10 = pd.read_csv(f\"data/cluster_top_10/run10.csv\")"
   ],
   "metadata": {
    "collapsed": false,
    "ExecuteTime": {
     "end_time": "2024-04-15T18:57:12.353801Z",
     "start_time": "2024-04-15T18:57:12.324169Z"
    }
   },
   "id": "b7e2b77bc0726d30"
  },
  {
   "cell_type": "code",
   "execution_count": 5,
   "outputs": [],
   "source": [
    "for run in range(9, 0, -1):\n",
    "    vanilla_approach = pd.concat([vanilla_approach, pd.read_csv(f\"data/vanilla_approach/run0{run}.csv\")])\n",
    "    all_top_10 = pd.concat([all_top_10, pd.read_csv(f\"data/all_top_10/run0{run}.csv\")])\n",
    "    cluster_top_10 = pd.concat([cluster_top_10, pd.read_csv(f\"data/cluster_top_10/run0{run}.csv\")])"
   ],
   "metadata": {
    "collapsed": false,
    "ExecuteTime": {
     "end_time": "2024-04-15T18:57:12.450021Z",
     "start_time": "2024-04-15T18:57:12.346341Z"
    }
   },
   "id": "20565ce17b2897f5"
  },
  {
   "cell_type": "code",
   "execution_count": 6,
   "outputs": [],
   "source": [
    "vanilla_approach = prepare(vanilla_approach)\n",
    "all_top_10 = prepare(all_top_10)\n",
    "cluster_top_10 = prepare(cluster_top_10)"
   ],
   "metadata": {
    "collapsed": false,
    "ExecuteTime": {
     "end_time": "2024-04-15T18:57:12.591209Z",
     "start_time": "2024-04-15T18:57:12.463063Z"
    }
   },
   "id": "e7689597ae8c4d6d"
  },
  {
   "cell_type": "code",
   "execution_count": 7,
   "outputs": [
    {
     "name": "stdout",
     "output_type": "stream",
     "text": [
      "count    2070.000000\n",
      "mean       43.872947\n",
      "std        96.535268\n",
      "min         1.100000\n",
      "25%         3.600000\n",
      "50%        11.700000\n",
      "75%        23.200000\n",
      "max       655.900000\n",
      "Name: buldingtime, dtype: float64\n",
      "count    2070.000000\n",
      "mean       14.138261\n",
      "std        41.386941\n",
      "min         1.200000\n",
      "25%         3.000000\n",
      "50%         7.700000\n",
      "75%        11.375000\n",
      "max       526.000000\n",
      "Name: buldingtime, dtype: float64\n",
      "count    2070.000000\n",
      "mean       10.193527\n",
      "std        25.575314\n",
      "min         1.000000\n",
      "25%         3.800000\n",
      "50%         7.900000\n",
      "75%        10.600000\n",
      "max       400.000000\n",
      "Name: buldingtime, dtype: float64\n"
     ]
    }
   ],
   "source": [
    "print(vanilla_approach['buldingtime'].describe())\n",
    "print(all_top_10['buldingtime'].describe())\n",
    "print(cluster_top_10['buldingtime'].describe())"
   ],
   "metadata": {
    "collapsed": false,
    "ExecuteTime": {
     "end_time": "2024-04-15T18:57:12.602624Z",
     "start_time": "2024-04-15T18:57:12.593503Z"
    }
   },
   "id": "eed7799a7790efe4"
  },
  {
   "cell_type": "code",
   "execution_count": 8,
   "outputs": [
    {
     "name": "stdout",
     "output_type": "stream",
     "text": [
      "count    2070.000000\n",
      "mean        2.377417\n",
      "std         0.693898\n",
      "min         1.135387\n",
      "25%         1.911363\n",
      "50%         2.081936\n",
      "75%         2.707737\n",
      "max         7.351260\n",
      "Name: starttime, dtype: float64\n",
      "count    2070.000000\n",
      "mean        2.422666\n",
      "std         0.654609\n",
      "min         1.206953\n",
      "25%         2.007425\n",
      "50%         2.144118\n",
      "75%         2.697853\n",
      "max         7.388799\n",
      "Name: starttime, dtype: float64\n",
      "count    2070.000000\n",
      "mean        2.212326\n",
      "std         0.647975\n",
      "min         1.600626\n",
      "25%         1.826340\n",
      "50%         1.944655\n",
      "75%         2.316585\n",
      "max         6.446158\n",
      "Name: starttime, dtype: float64\n"
     ]
    }
   ],
   "source": [
    "print(vanilla_approach['starttime'].describe())\n",
    "print(all_top_10['starttime'].describe())\n",
    "print(cluster_top_10['starttime'].describe())"
   ],
   "metadata": {
    "collapsed": false,
    "ExecuteTime": {
     "end_time": "2024-04-15T18:57:12.603545Z",
     "start_time": "2024-04-15T18:57:12.599287Z"
    }
   },
   "id": "80f574bcf35a7db7"
  },
  {
   "cell_type": "code",
   "execution_count": 9,
   "outputs": [],
   "source": [
    "#toplot = pd.DataFrame({'values': pd.concat([vanilla_approach.starttime, all_top_10.starttime, cluster_top_10.starttime], ignore_index=True), 'what': ['vanilla_approach'] * len(vanilla_approach) + ['all_top_10'] * len(all_top_10) + ['cluster_top_10'] * len(cluster_top_10)})\n",
    "toplot = pd.DataFrame({'values': pd.concat([vanilla_approach['starttime1'], vanilla_approach['starttime2'], vanilla_approach['starttime3'], vanilla_approach['starttime4'], vanilla_approach['starttime5'],\n",
    "               all_top_10['starttime1'], all_top_10['starttime2'], all_top_10['starttime3'], all_top_10['starttime4'], all_top_10['starttime5'],\n",
    "               cluster_top_10['starttime1'], cluster_top_10['starttime2'], cluster_top_10['starttime3'], cluster_top_10['starttime4'], cluster_top_10['starttime5']], ignore_index=True), \n",
    "            'what': ['vanilla_approach'] * 5 * len(vanilla_approach) + ['all_top_10'] * 5 * len(all_top_10) + ['cluster_top_10'] * 5 * len(cluster_top_10)})"
   ],
   "metadata": {
    "collapsed": false,
    "ExecuteTime": {
     "end_time": "2024-04-15T18:57:12.609495Z",
     "start_time": "2024-04-15T18:57:12.604980Z"
    }
   },
   "id": "271fd4500dfbdf99"
  },
  {
   "cell_type": "code",
   "execution_count": 10,
   "outputs": [
    {
     "data": {
      "text/plain": "<Figure size 1000x600 with 1 Axes>",
      "image/png": "[encoded data removed]"
     },
     "metadata": {},
     "output_type": "display_data"
    }
   ],
   "source": [
    "plt.figure(figsize=(10, 6))\n",
    "sns.boxplot(x='what', y='values', data=toplot)\n",
    "plt.xlabel('')\n",
    "plt.ylabel('Time in seconds')\n",
    "plt.title('Starttime')\n",
    "plt.yscale('log')\n",
    "plt.yticks([0.5, 1, 3, 5],[0.5, 1, 3, 5])\n",
    "plt.show()"
   ],
   "metadata": {
    "collapsed": false,
    "ExecuteTime": {
     "end_time": "2024-04-15T18:57:12.773017Z",
     "start_time": "2024-04-15T18:57:12.609120Z"
    }
   },
   "id": "d46b592e60d5cff0"
  },
  {
   "cell_type": "code",
   "execution_count": 11,
   "outputs": [],
   "source": [
    "toplot = pd.DataFrame({'values': pd.concat([vanilla_approach.buldingtime, all_top_10.buldingtime, cluster_top_10.buldingtime], ignore_index=True), 'what': ['vanilla_approach'] * len(vanilla_approach) + ['all_top_10'] * len(all_top_10) + ['cluster_top_10'] * len(cluster_top_10)})"
   ],
   "metadata": {
    "collapsed": false,
    "ExecuteTime": {
     "end_time": "2024-04-15T18:57:12.779377Z",
     "start_time": "2024-04-15T18:57:12.774363Z"
    }
   },
   "id": "7d2088137db47043"
  },
  {
   "cell_type": "code",
   "execution_count": 12,
   "outputs": [
    {
     "data": {
      "text/plain": "<Figure size 1000x600 with 1 Axes>",
      "image/png": "[encoded data removed]"
     },
     "metadata": {},
     "output_type": "display_data"
    }
   ],
   "source": [
    "plt.figure(figsize=(10, 6))\n",
    "sns.boxplot(x='what', y='values', data=toplot)\n",
    "plt.xlabel('')\n",
    "plt.ylabel('Time in seconds')\n",
    "plt.title('Buildingtime')\n",
    "plt.yscale('log')\n",
    "#plt.yticks([0.5, 1, 3, 5],[0.5, 1, 3, 5])\n",
    "plt.show()"
   ],
   "metadata": {
    "collapsed": false,
    "ExecuteTime": {
     "end_time": "2024-04-15T18:57:12.986959Z",
     "start_time": "2024-04-15T18:57:12.777712Z"
    }
   },
   "id": "3843bf05a219cfa1"
  },
  {
   "cell_type": "code",
   "execution_count": 13,
   "outputs": [
    {
     "name": "stderr",
     "output_type": "stream",
     "text": [
      "/var/folders/86/fyd29lqj0033vg6drb2b412m0000gn/T/ipykernel_6215/3142692610.py:4: FutureWarning: Series.__getitem__ treating keys as positions is deprecated. In a future version, integer keys will always be treated as labels (consistent with DataFrame behavior). To access a value by position, use `ser.iloc[pos]`\n",
      "  if pd.isna(row[1]):\n",
      "/var/folders/86/fyd29lqj0033vg6drb2b412m0000gn/T/ipykernel_6215/3142692610.py:7: FutureWarning: Series.__getitem__ treating keys as positions is deprecated. In a future version, integer keys will always be treated as labels (consistent with DataFrame behavior). To access a value by position, use `ser.iloc[pos]`\n",
      "  ins = set(row[1].split(\";\"))\n",
      "/var/folders/86/fyd29lqj0033vg6drb2b412m0000gn/T/ipykernel_6215/3142692610.py:8: FutureWarning: Series.__getitem__ treating keys as positions is deprecated. In a future version, integer keys will always be treated as labels (consistent with DataFrame behavior). To access a value by position, use `ser.iloc[pos]`\n",
      "  all = set(row[2].split(\";\"))\n",
      "/var/folders/86/fyd29lqj0033vg6drb2b412m0000gn/T/ipykernel_6215/3142692610.py:9: FutureWarning: Series.__getitem__ treating keys as positions is deprecated. In a future version, integer keys will always be treated as labels (consistent with DataFrame behavior). To access a value by position, use `ser.iloc[pos]`\n",
      "  if pd.isna(row[3]):\n",
      "/var/folders/86/fyd29lqj0033vg6drb2b412m0000gn/T/ipykernel_6215/3142692610.py:12: FutureWarning: Series.__getitem__ treating keys as positions is deprecated. In a future version, integer keys will always be treated as labels (consistent with DataFrame behavior). To access a value by position, use `ser.iloc[pos]`\n",
      "  clu = set(row[3].split(\";\"))\n"
     ]
    }
   ],
   "source": [
    "install = pd.read_csv(\"experiments/installations.csv\")\n",
    "install_libaries = pd.DataFrame()\n",
    "for index, row in install.iterrows():\n",
    "    if pd.isna(row[1]):\n",
    "        ins = set()\n",
    "    else: \n",
    "        ins = set(row[1].split(\";\"))\n",
    "    all = set(row[2].split(\";\"))\n",
    "    if pd.isna(row[3]):\n",
    "        clu = set()\n",
    "    else: \n",
    "        clu = set(row[3].split(\";\"))\n",
    "    install_libaries = pd.concat([install_libaries, pd.DataFrame([[len(ins), len(ins.intersection(all)), len(ins.intersection(clu))]])], ignore_index=True)\n",
    "install_libaries.columns = ['toInstall', 'AlreayInstalled_all', 'AlreayInstalled_cluster']\n"
   ],
   "metadata": {
    "collapsed": false,
    "ExecuteTime": {
     "end_time": "2024-04-15T18:57:13.042247Z",
     "start_time": "2024-04-15T18:57:12.984455Z"
    }
   },
   "id": "a67357045bfa20fe"
  },
  {
   "cell_type": "code",
   "execution_count": 14,
   "outputs": [
    {
     "name": "stdout",
     "output_type": "stream",
     "text": [
      "count    207.000000\n",
      "mean       1.434783\n",
      "std        1.489232\n",
      "min        0.000000\n",
      "25%        0.000000\n",
      "50%        1.000000\n",
      "75%        2.000000\n",
      "max        7.000000\n",
      "Name: toInstall, dtype: float64\n",
      "count    207.000000\n",
      "mean       0.570048\n",
      "std        0.888804\n",
      "min        0.000000\n",
      "25%        0.000000\n",
      "50%        0.000000\n",
      "75%        1.000000\n",
      "max        5.000000\n",
      "dtype: float64\n",
      "count    207.000000\n",
      "mean       0.048309\n",
      "std        0.256156\n",
      "min        0.000000\n",
      "25%        0.000000\n",
      "50%        0.000000\n",
      "75%        0.000000\n",
      "max        2.000000\n",
      "dtype: float64\n"
     ]
    }
   ],
   "source": [
    "print(install_libaries.toInstall.describe())\n",
    "print((install_libaries.toInstall - install_libaries.AlreayInstalled_all).describe())\n",
    "print((install_libaries.toInstall - install_libaries.AlreayInstalled_cluster).describe())"
   ],
   "metadata": {
    "collapsed": false,
    "ExecuteTime": {
     "end_time": "2024-04-15T18:57:13.042496Z",
     "start_time": "2024-04-15T18:57:13.013574Z"
    }
   },
   "id": "d5b85395dccaf92c"
  }
 ],
 "metadata": {
  "kernelspec": {
   "display_name": "Python 3",
   "language": "python",
   "name": "python3"
  },
  "language_info": {
   "codemirror_mode": {
    "name": "ipython",
    "version": 2
   },
   "file_extension": ".py",
   "mimetype": "text/x-python",
   "name": "python",
   "nbconvert_exporter": "python",
   "pygments_lexer": "ipython2",
   "version": "2.7.6"
  }
 },
 "nbformat": 4,
 "nbformat_minor": 5
}
