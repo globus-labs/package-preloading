{
 "cells": [
  {
   "cell_type": "code",
   "execution_count": 515,
   "id": "initial_id",
   "metadata": {
    "collapsed": true,
    "ExecuteTime": {
     "end_time": "2024-05-01T17:39:57.828907Z",
     "start_time": "2024-05-01T17:39:57.822010Z"
    }
   },
   "outputs": [],
   "source": [
    "import pandas as pd\n",
    "import matplotlib.pyplot as plt\n",
    "import seaborn as sns\n",
    "import itertools\n",
    "import numpy as np\n",
    "import re"
   ]
  },
  {
   "cell_type": "code",
   "execution_count": 450,
   "outputs": [],
   "source": [
    "def prepare(data):\n",
    "    data['import.start'] = pd.to_datetime(data['import.start'])\n",
    "    data['import.stop'] = pd.to_datetime(data['import.stop'])\n",
    "    data['created'] = pd.to_datetime(data['created'])\n",
    "    data['started'] = pd.to_datetime(data['started'])\n",
    "    data['finished'] = pd.to_datetime(data['finished'])\n",
    "    \n",
    "    data['starttime'] = (data['started'] - data['created']).dt.total_seconds() \n",
    "    data['dockertime'] = (data['finished'] - data['started']).dt.total_seconds() \n",
    "    data['importtime'] = (data['import.stop'] - data['import.start']).dt.total_seconds() \n",
    "    \n",
    "    started_temp = pd.DataFrame()\n",
    "    docker_temp = pd.DataFrame()\n",
    "    import_temp = pd.DataFrame()\n",
    "    total_temp = pd.DataFrame()\n",
    "    \n",
    "    for i in range(8,38,6):\n",
    "        started_temp.insert(range(8,38,6).index(i), \"\", (pd.to_datetime(data.iloc[:, i+1]) - pd.to_datetime(data.iloc[:, i])).dt.total_seconds() , True)\n",
    "        docker_temp.insert(range(8,38,6).index(i), \"\", (pd.to_datetime(data.iloc[:, i+2]) - pd.to_datetime(data.iloc[:, i+1])).dt.total_seconds() , True)\n",
    "        import_temp.insert(range(8,38,6).index(i), \"\", (pd.to_datetime(data.iloc[:, i+4]) - pd.to_datetime(data.iloc[:, i+3])).dt.total_seconds() , True)\n",
    "        total_temp.insert(range(8,38,6).index(i), \"\", (pd.to_datetime(data.iloc[:, i+4]) - pd.to_datetime(data.iloc[:, i])).dt.total_seconds() +1 , True)\n",
    "    \n",
    "    started_temp.columns = ['starttime{}'.format(i) for i in range(1, 6)]\n",
    "    docker_temp.columns = ['dockertime{}'.format(i) for i in range(1, 6)]\n",
    "    import_temp.columns = ['importtime{}'.format(i) for i in range(1, 6)]\n",
    "    total_temp.columns = ['warmtime{}'.format(i) for i in range(1, 6)]\n",
    "    \n",
    "    data = pd.concat([data, started_temp, docker_temp, import_temp, total_temp], axis=1)\n",
    "    \n",
    "    return data"
   ],
   "metadata": {
    "collapsed": false,
    "ExecuteTime": {
     "end_time": "2024-05-01T16:42:21.530031Z",
     "start_time": "2024-05-01T16:42:21.522648Z"
    }
   },
   "id": "b105810311362533"
  },
  {
   "cell_type": "code",
   "execution_count": 451,
   "outputs": [],
   "source": [
    "def extract_imports(imp):\n",
    "    imp = imp.split(\"'\")\n",
    "    l = \"\"\n",
    "    \n",
    "    for i in imp:\n",
    "        if i == \"(\" or i == \")\" or i == \",)\" or i == \",\" or i == \"()\" or i == \", \":\n",
    "            continue\n",
    "        else:\n",
    "            if l == \"\":\n",
    "                l = i\n",
    "            else:\n",
    "                l = l + \";\" + i\n",
    "    return l"
   ],
   "metadata": {
    "collapsed": false,
    "ExecuteTime": {
     "end_time": "2024-05-01T16:42:24.141871Z",
     "start_time": "2024-05-01T16:42:24.126688Z"
    }
   },
   "id": "f769aa4008fe8dcf"
  },
  {
   "cell_type": "code",
   "execution_count": 452,
   "outputs": [],
   "source": [
    "col = ['imports', 'buldingtime', 'installtime', 'starttime', 'dockertime', 'importtime', \n",
    "       'starttime1', 'starttime2', 'starttime3', 'starttime4', 'starttime5', \n",
    "       'dockertime1', 'dockertime2', 'dockertime3', 'dockertime4', 'dockertime5', \n",
    "       'importtime1', 'importtime2', 'importtime3', 'importtime4', 'importtime5', \n",
    "       'warmtime1', 'warmtime2', 'warmtime3', 'warmtime4', 'warmtime5']"
   ],
   "metadata": {
    "collapsed": false,
    "ExecuteTime": {
     "end_time": "2024-05-01T16:42:27.427376Z",
     "start_time": "2024-05-01T16:42:27.419988Z"
    }
   },
   "id": "8b12b92f7d9a3497"
  },
  {
   "cell_type": "code",
   "execution_count": 432,
   "outputs": [],
   "source": [
    "data = pd.read_csv(\"data/every_package/run10.csv\")\n",
    "data = prepare(data)\n",
    "imp = data[col[0]]\n",
    "data = data[col[1:]]\n",
    "for i in range(9, 0, -1):\n",
    "    tmp = pd.read_csv(\"data/every_package/run0\" + str(i) + \".csv\")\n",
    "    tmp = prepare(tmp)\n",
    "    tmp = tmp[col[1:]]\n",
    "    data = (data + tmp)\n",
    "data = data / 10\n",
    "data.insert(0, col[0], imp)"
   ],
   "metadata": {
    "collapsed": false,
    "ExecuteTime": {
     "end_time": "2024-04-24T19:45:16.956082Z",
     "start_time": "2024-04-24T19:45:16.755983Z"
    }
   },
   "id": "5463fa2f7a4dab52"
  },
  {
   "cell_type": "code",
   "execution_count": 24,
   "outputs": [
    {
     "data": {
      "text/plain": "        imports  buldingtime  installtime  starttime  dockertime  importtime  \\\n52          PIL        10.08         6.36   2.108298    1.193852    0.013953   \n0      argparse         8.41         5.31   2.026819    1.210094    0.044723   \n1         clean        10.11         6.21   2.264412    1.225619    0.008079   \n2   collections         3.10        -1.00   2.838753    1.332040    0.053543   \n3       colmena        18.33        14.83   2.292351    1.201289    0.008861   \n..          ...          ...          ...        ...         ...         ...   \n87      urllib3         8.46         5.57   2.105103    1.662203    0.455932   \n88         uuid         9.98         7.12   2.033960    1.218466    0.052394   \n89     warnings         2.65        -1.00   2.180663    1.233780    0.000008   \n90   webbrowser         2.68        -1.00   2.186071    1.513124    0.239609   \n91         yaml         9.10         5.69   2.204105    1.326100    0.117158   \n\n    starttime1  starttime2  starttime3  starttime4  ...  dockertime1  \\\n52    0.667763    0.737138    0.742705    0.667914  ...     1.021978   \n0     0.643705    0.622289    0.749516    0.647798  ...     1.033787   \n1     0.806776    0.811559    0.876272    0.895461  ...     1.020749   \n2     0.755990    0.707457    0.751481    0.635921  ...     1.055140   \n3     0.774815    0.751169    0.748512    0.698446  ...     1.020600   \n..         ...         ...         ...         ...  ...          ...   \n87    0.718015    0.659613    0.754252    0.807083  ...     1.113635   \n88    0.635997    0.656979    0.617127    0.668849  ...     1.034703   \n89    0.768780    0.746880    0.726569    0.775309  ...     1.036572   \n90    0.743873    0.669989    0.748356    0.741852  ...     1.160715   \n91    0.761542    0.748223    0.695590    0.709978  ...     1.051956   \n\n    dockertime2  dockertime3  dockertime4  dockertime5  importtime1  \\\n52     1.021711     1.021370     1.020851     1.021668     0.001137   \n0      1.033656     1.033979     1.033972     1.033666     0.010771   \n1      1.020595     1.020425     1.020686     1.020643     0.000363   \n2      1.055973     1.055858     1.055842     1.055403     0.017491   \n3      1.020932     1.020517     1.020675     1.020727     0.000348   \n..          ...          ...          ...          ...          ...   \n87     1.112219     1.112764     1.113489     1.113261     0.079703   \n88     1.034570     1.034552     1.034244     1.034420     0.011224   \n89     1.035644     1.036465     1.037282     1.035259     0.000010   \n90     1.167929     1.168152     1.164633     1.162913     0.119145   \n91     1.051937     1.052184     1.051938     1.051586     0.025387   \n\n    importtime2  importtime3  importtime4  importtime5  \n52     0.000956     0.000969     0.000951     0.001033  \n0      0.011305     0.010256     0.010476     0.009689  \n1      0.000313     0.000283     0.000356     0.000386  \n2      0.017785     0.017393     0.017150     0.017925  \n3      0.000371     0.000343     0.000450     0.000418  \n..          ...          ...          ...          ...  \n87     0.079253     0.079546     0.079558     0.079631  \n88     0.011740     0.011830     0.012209     0.011898  \n89     0.000012     0.000008     0.000008     0.000007  \n90     0.124510     0.119990     0.123114     0.121590  \n91     0.027515     0.027888     0.027376     0.025443  \n\n[92 rows x 21 columns]",
      "text/html": "<div>\n<style scoped>\n    .dataframe tbody tr th:only-of-type {\n        vertical-align: middle;\n    }\n\n    .dataframe tbody tr th {\n        vertical-align: top;\n    }\n\n    .dataframe thead th {\n        text-align: right;\n    }\n</style>\n<table border=\"1\" class=\"dataframe\">\n  <thead>\n    <tr style=\"text-align: right;\">\n      <th></th>\n      <th>imports</th>\n      <th>buldingtime</th>\n      <th>installtime</th>\n      <th>starttime</th>\n      <th>dockertime</th>\n      <th>importtime</th>\n      <th>starttime1</th>\n      <th>starttime2</th>\n      <th>starttime3</th>\n      <th>starttime4</th>\n      <th>...</th>\n      <th>dockertime1</th>\n      <th>dockertime2</th>\n      <th>dockertime3</th>\n      <th>dockertime4</th>\n      <th>dockertime5</th>\n      <th>importtime1</th>\n      <th>importtime2</th>\n      <th>importtime3</th>\n      <th>importtime4</th>\n      <th>importtime5</th>\n    </tr>\n  </thead>\n  <tbody>\n    <tr>\n      <th>52</th>\n      <td>PIL</td>\n      <td>10.08</td>\n      <td>6.36</td>\n      <td>2.108298</td>\n      <td>1.193852</td>\n      <td>0.013953</td>\n      <td>0.667763</td>\n      <td>0.737138</td>\n      <td>0.742705</td>\n      <td>0.667914</td>\n      <td>...</td>\n      <td>1.021978</td>\n      <td>1.021711</td>\n      <td>1.021370</td>\n      <td>1.020851</td>\n      <td>1.021668</td>\n      <td>0.001137</td>\n      <td>0.000956</td>\n      <td>0.000969</td>\n      <td>0.000951</td>\n      <td>0.001033</td>\n    </tr>\n    <tr>\n      <th>0</th>\n      <td>argparse</td>\n      <td>8.41</td>\n      <td>5.31</td>\n      <td>2.026819</td>\n      <td>1.210094</td>\n      <td>0.044723</td>\n      <td>0.643705</td>\n      <td>0.622289</td>\n      <td>0.749516</td>\n      <td>0.647798</td>\n      <td>...</td>\n      <td>1.033787</td>\n      <td>1.033656</td>\n      <td>1.033979</td>\n      <td>1.033972</td>\n      <td>1.033666</td>\n      <td>0.010771</td>\n      <td>0.011305</td>\n      <td>0.010256</td>\n      <td>0.010476</td>\n      <td>0.009689</td>\n    </tr>\n    <tr>\n      <th>1</th>\n      <td>clean</td>\n      <td>10.11</td>\n      <td>6.21</td>\n      <td>2.264412</td>\n      <td>1.225619</td>\n      <td>0.008079</td>\n      <td>0.806776</td>\n      <td>0.811559</td>\n      <td>0.876272</td>\n      <td>0.895461</td>\n      <td>...</td>\n      <td>1.020749</td>\n      <td>1.020595</td>\n      <td>1.020425</td>\n      <td>1.020686</td>\n      <td>1.020643</td>\n      <td>0.000363</td>\n      <td>0.000313</td>\n      <td>0.000283</td>\n      <td>0.000356</td>\n      <td>0.000386</td>\n    </tr>\n    <tr>\n      <th>2</th>\n      <td>collections</td>\n      <td>3.10</td>\n      <td>-1.00</td>\n      <td>2.838753</td>\n      <td>1.332040</td>\n      <td>0.053543</td>\n      <td>0.755990</td>\n      <td>0.707457</td>\n      <td>0.751481</td>\n      <td>0.635921</td>\n      <td>...</td>\n      <td>1.055140</td>\n      <td>1.055973</td>\n      <td>1.055858</td>\n      <td>1.055842</td>\n      <td>1.055403</td>\n      <td>0.017491</td>\n      <td>0.017785</td>\n      <td>0.017393</td>\n      <td>0.017150</td>\n      <td>0.017925</td>\n    </tr>\n    <tr>\n      <th>3</th>\n      <td>colmena</td>\n      <td>18.33</td>\n      <td>14.83</td>\n      <td>2.292351</td>\n      <td>1.201289</td>\n      <td>0.008861</td>\n      <td>0.774815</td>\n      <td>0.751169</td>\n      <td>0.748512</td>\n      <td>0.698446</td>\n      <td>...</td>\n      <td>1.020600</td>\n      <td>1.020932</td>\n      <td>1.020517</td>\n      <td>1.020675</td>\n      <td>1.020727</td>\n      <td>0.000348</td>\n      <td>0.000371</td>\n      <td>0.000343</td>\n      <td>0.000450</td>\n      <td>0.000418</td>\n    </tr>\n    <tr>\n      <th>...</th>\n      <td>...</td>\n      <td>...</td>\n      <td>...</td>\n      <td>...</td>\n      <td>...</td>\n      <td>...</td>\n      <td>...</td>\n      <td>...</td>\n      <td>...</td>\n      <td>...</td>\n      <td>...</td>\n      <td>...</td>\n      <td>...</td>\n      <td>...</td>\n      <td>...</td>\n      <td>...</td>\n      <td>...</td>\n      <td>...</td>\n      <td>...</td>\n      <td>...</td>\n      <td>...</td>\n    </tr>\n    <tr>\n      <th>87</th>\n      <td>urllib3</td>\n      <td>8.46</td>\n      <td>5.57</td>\n      <td>2.105103</td>\n      <td>1.662203</td>\n      <td>0.455932</td>\n      <td>0.718015</td>\n      <td>0.659613</td>\n      <td>0.754252</td>\n      <td>0.807083</td>\n      <td>...</td>\n      <td>1.113635</td>\n      <td>1.112219</td>\n      <td>1.112764</td>\n      <td>1.113489</td>\n      <td>1.113261</td>\n      <td>0.079703</td>\n      <td>0.079253</td>\n      <td>0.079546</td>\n      <td>0.079558</td>\n      <td>0.079631</td>\n    </tr>\n    <tr>\n      <th>88</th>\n      <td>uuid</td>\n      <td>9.98</td>\n      <td>7.12</td>\n      <td>2.033960</td>\n      <td>1.218466</td>\n      <td>0.052394</td>\n      <td>0.635997</td>\n      <td>0.656979</td>\n      <td>0.617127</td>\n      <td>0.668849</td>\n      <td>...</td>\n      <td>1.034703</td>\n      <td>1.034570</td>\n      <td>1.034552</td>\n      <td>1.034244</td>\n      <td>1.034420</td>\n      <td>0.011224</td>\n      <td>0.011740</td>\n      <td>0.011830</td>\n      <td>0.012209</td>\n      <td>0.011898</td>\n    </tr>\n    <tr>\n      <th>89</th>\n      <td>warnings</td>\n      <td>2.65</td>\n      <td>-1.00</td>\n      <td>2.180663</td>\n      <td>1.233780</td>\n      <td>0.000008</td>\n      <td>0.768780</td>\n      <td>0.746880</td>\n      <td>0.726569</td>\n      <td>0.775309</td>\n      <td>...</td>\n      <td>1.036572</td>\n      <td>1.035644</td>\n      <td>1.036465</td>\n      <td>1.037282</td>\n      <td>1.035259</td>\n      <td>0.000010</td>\n      <td>0.000012</td>\n      <td>0.000008</td>\n      <td>0.000008</td>\n      <td>0.000007</td>\n    </tr>\n    <tr>\n      <th>90</th>\n      <td>webbrowser</td>\n      <td>2.68</td>\n      <td>-1.00</td>\n      <td>2.186071</td>\n      <td>1.513124</td>\n      <td>0.239609</td>\n      <td>0.743873</td>\n      <td>0.669989</td>\n      <td>0.748356</td>\n      <td>0.741852</td>\n      <td>...</td>\n      <td>1.160715</td>\n      <td>1.167929</td>\n      <td>1.168152</td>\n      <td>1.164633</td>\n      <td>1.162913</td>\n      <td>0.119145</td>\n      <td>0.124510</td>\n      <td>0.119990</td>\n      <td>0.123114</td>\n      <td>0.121590</td>\n    </tr>\n    <tr>\n      <th>91</th>\n      <td>yaml</td>\n      <td>9.10</td>\n      <td>5.69</td>\n      <td>2.204105</td>\n      <td>1.326100</td>\n      <td>0.117158</td>\n      <td>0.761542</td>\n      <td>0.748223</td>\n      <td>0.695590</td>\n      <td>0.709978</td>\n      <td>...</td>\n      <td>1.051956</td>\n      <td>1.051937</td>\n      <td>1.052184</td>\n      <td>1.051938</td>\n      <td>1.051586</td>\n      <td>0.025387</td>\n      <td>0.027515</td>\n      <td>0.027888</td>\n      <td>0.027376</td>\n      <td>0.025443</td>\n    </tr>\n  </tbody>\n</table>\n<p>92 rows × 21 columns</p>\n</div>"
     },
     "execution_count": 24,
     "metadata": {},
     "output_type": "execute_result"
    }
   ],
   "source": [
    "data.sort_values(by=['imports'], ascending=True)"
   ],
   "metadata": {
    "collapsed": false,
    "ExecuteTime": {
     "end_time": "2024-04-15T22:46:28.939367Z",
     "start_time": "2024-04-15T22:46:28.927955Z"
    }
   },
   "id": "cf030448cc5480c9"
  },
  {
   "cell_type": "code",
   "execution_count": 487,
   "outputs": [],
   "source": [
    "vanilla_approach = pd.read_csv(f\"data/vanilla_approach/run10.csv\")\n",
    "all_top_10 = pd.read_csv(f\"data/all_top_10/run10.csv\")\n",
    "cluster_top_10 = pd.read_csv(f\"data/cluster_top_10/run10.csv\")\n",
    "ont_the_fly = pd.read_csv(f\"data/onthefly/run1.csv\")"
   ],
   "metadata": {
    "collapsed": false,
    "ExecuteTime": {
     "end_time": "2024-05-01T17:20:13.557272Z",
     "start_time": "2024-05-01T17:20:13.525446Z"
    }
   },
   "id": "b7e2b77bc0726d30"
  },
  {
   "cell_type": "code",
   "execution_count": 488,
   "outputs": [],
   "source": [
    "for run in range(9, 0, -1):\n",
    "    vanilla_approach = pd.concat([vanilla_approach, pd.read_csv(f\"data/vanilla_approach/run{run}.csv\")])\n",
    "    all_top_10 = pd.concat([all_top_10, pd.read_csv(f\"data/all_top_10/run{run}.csv\")])\n",
    "    cluster_top_10 = pd.concat([cluster_top_10, pd.read_csv(f\"data/cluster_top_10/run{run}.csv\")])"
   ],
   "metadata": {
    "collapsed": false,
    "ExecuteTime": {
     "end_time": "2024-05-01T17:20:15.794410Z",
     "start_time": "2024-05-01T17:20:15.666293Z"
    }
   },
   "id": "20565ce17b2897f5"
  },
  {
   "cell_type": "code",
   "execution_count": 489,
   "outputs": [],
   "source": [
    "vanilla_approach = prepare(vanilla_approach)\n",
    "all_top_10 = prepare(all_top_10)\n",
    "cluster_top_10 = prepare(cluster_top_10)\n",
    "ont_the_fly = prepare(ont_the_fly)"
   ],
   "metadata": {
    "collapsed": false,
    "ExecuteTime": {
     "end_time": "2024-05-01T17:20:19.553750Z",
     "start_time": "2024-05-01T17:20:19.363535Z"
    }
   },
   "id": "e7689597ae8c4d6d"
  },
  {
   "cell_type": "code",
   "execution_count": 458,
   "outputs": [],
   "source": [
    "vanilla_approach.loc[vanilla_approach['installtime'] == -1, 'installtime'] = 0\n",
    "all_top_10.loc[all_top_10['installtime'] == -1, 'installtime'] = 0\n",
    "cluster_top_10.loc[cluster_top_10['installtime'] == -1, 'installtime'] = 0\n",
    "ont_the_fly.loc[ont_the_fly['installtime'] == -1, 'installtime'] = 0"
   ],
   "metadata": {
    "collapsed": false,
    "ExecuteTime": {
     "end_time": "2024-05-01T16:47:13.659505Z",
     "start_time": "2024-05-01T16:47:13.652857Z"
    }
   },
   "id": "f5e53eabfa7ff9a6"
  },
  {
   "cell_type": "code",
   "execution_count": 459,
   "outputs": [],
   "source": [
    "func_mapping = pd.read_csv('experiments/function_mapping.csv')\n",
    "func_mapping = func_mapping.drop(2)\n",
    "func_mapping['func4.imports'] = func_mapping[func_mapping['func4.imports'].str.len() >= 0]['func4.imports'].map(lambda x: extract_imports(x))\n",
    "func_mapping = func_mapping[func_mapping['func4.imports'] != \"\"]\n",
    "func_mapping.rename(columns={'func4.imports': 'imports'}, inplace=True)\n",
    "func_mapping.drop(columns=['Unnamed: 0'], inplace=True)"
   ],
   "metadata": {
    "collapsed": false,
    "ExecuteTime": {
     "end_time": "2024-05-01T16:47:38.662850Z",
     "start_time": "2024-05-01T16:47:38.653168Z"
    }
   },
   "id": "6493930011605e84"
  },
  {
   "cell_type": "code",
   "execution_count": 460,
   "outputs": [
    {
     "data": {
      "text/plain": "   Unnamed: 0.1                         func4.name               imports  \\\n0             0  0-04-_check_slurm_job_statuses.py            subprocess   \n3             3              873-04-call_mtrack.py            mtrack;sys   \n4             4           43-04-make_corr_plots.py  json;os;xpcs_webplot   \n6             6           3-04-submit_slurm_job.py         os;subprocess   \n7             7         397-01-rejection_sample.py                random   \n\n            Cluster  \n0               Job  \n3      Data:_mtrack  \n4  Sci:_Instruments  \n6               Job  \n7           Trivial  ",
      "text/html": "<div>\n<style scoped>\n    .dataframe tbody tr th:only-of-type {\n        vertical-align: middle;\n    }\n\n    .dataframe tbody tr th {\n        vertical-align: top;\n    }\n\n    .dataframe thead th {\n        text-align: right;\n    }\n</style>\n<table border=\"1\" class=\"dataframe\">\n  <thead>\n    <tr style=\"text-align: right;\">\n      <th></th>\n      <th>Unnamed: 0.1</th>\n      <th>func4.name</th>\n      <th>imports</th>\n      <th>Cluster</th>\n    </tr>\n  </thead>\n  <tbody>\n    <tr>\n      <th>0</th>\n      <td>0</td>\n      <td>0-04-_check_slurm_job_statuses.py</td>\n      <td>subprocess</td>\n      <td>Job</td>\n    </tr>\n    <tr>\n      <th>3</th>\n      <td>3</td>\n      <td>873-04-call_mtrack.py</td>\n      <td>mtrack;sys</td>\n      <td>Data:_mtrack</td>\n    </tr>\n    <tr>\n      <th>4</th>\n      <td>4</td>\n      <td>43-04-make_corr_plots.py</td>\n      <td>json;os;xpcs_webplot</td>\n      <td>Sci:_Instruments</td>\n    </tr>\n    <tr>\n      <th>6</th>\n      <td>6</td>\n      <td>3-04-submit_slurm_job.py</td>\n      <td>os;subprocess</td>\n      <td>Job</td>\n    </tr>\n    <tr>\n      <th>7</th>\n      <td>7</td>\n      <td>397-01-rejection_sample.py</td>\n      <td>random</td>\n      <td>Trivial</td>\n    </tr>\n  </tbody>\n</table>\n</div>"
     },
     "execution_count": 460,
     "metadata": {},
     "output_type": "execute_result"
    }
   ],
   "source": [
    "func_mapping.head()"
   ],
   "metadata": {
    "collapsed": false,
    "ExecuteTime": {
     "end_time": "2024-05-01T16:47:42.750496Z",
     "start_time": "2024-05-01T16:47:42.745997Z"
    }
   },
   "id": "adec8f19ecd82be1"
  },
  {
   "cell_type": "code",
   "execution_count": 461,
   "outputs": [],
   "source": [
    "counts = func_mapping.imports.value_counts()\n",
    "#counts = pd.DataFrame(counts)\n",
    "#counts.reset_index(inplace=True)\n",
    "#counts = counts._append({'imports': \"argparse;copy;datetime;funcx;itertools;json;matplotlib;numpy;os;pathlib;shutil;sys;threading;typing\", 'count': 1}, ignore_index=True)"
   ],
   "metadata": {
    "collapsed": false,
    "ExecuteTime": {
     "end_time": "2024-05-01T16:47:47.522716Z",
     "start_time": "2024-05-01T16:47:47.521028Z"
    }
   },
   "id": "eb87626280aee2"
  },
  {
   "cell_type": "code",
   "execution_count": 492,
   "outputs": [],
   "source": [
    "vanilla_approach_func = pd.merge(vanilla_approach, counts, on=\"imports\", how=\"left\")\n",
    "all_top_10_func = pd.merge(all_top_10, counts, on=\"imports\", how=\"left\")\n",
    "cluster_top_10_func = pd.merge(cluster_top_10, counts, on=\"imports\", how=\"left\")\n",
    "on_the_fly_func = pd.merge(ont_the_fly, counts, on=\"imports\", how=\"left\")"
   ],
   "metadata": {
    "collapsed": false,
    "ExecuteTime": {
     "end_time": "2024-05-01T17:20:52.452952Z",
     "start_time": "2024-05-01T17:20:52.438650Z"
    }
   },
   "id": "ccfd6cca09bbf621"
  },
  {
   "cell_type": "code",
   "execution_count": 464,
   "outputs": [],
   "source": [
    "vanilla_approach_func['count'] = vanilla_approach_func['count'].fillna(1)\n",
    "all_top_10_func['count'] = all_top_10_func['count'].fillna(1)\n",
    "cluster_top_10_func['count'] = cluster_top_10_func['count'].fillna(1)\n",
    "on_the_fly_func['count'] = on_the_fly_func['count'].fillna(1)"
   ],
   "metadata": {
    "collapsed": false,
    "ExecuteTime": {
     "end_time": "2024-05-01T16:48:34.996781Z",
     "start_time": "2024-05-01T16:48:34.993575Z"
    }
   },
   "id": "24c2fbab30acdda7"
  },
  {
   "cell_type": "code",
   "execution_count": 470,
   "outputs": [
    {
     "name": "stdout",
     "output_type": "stream",
     "text": [
      "             values\n",
      "count  12190.000000\n",
      "mean      46.424865\n",
      "std       97.940480\n",
      "min        1.100000\n",
      "25%        2.200000\n",
      "50%        8.700000\n",
      "75%       23.200000\n",
      "max      655.900000\n",
      "             values\n",
      "count  12190.000000\n",
      "mean      12.268441\n",
      "std       33.592113\n",
      "min        1.200000\n",
      "25%        1.800000\n",
      "50%        7.000000\n",
      "75%       10.400000\n",
      "max      526.000000\n",
      "             values\n",
      "count  12190.000000\n",
      "mean       8.706276\n",
      "std       19.165229\n",
      "min        1.000000\n",
      "25%        2.200000\n",
      "50%        7.300000\n",
      "75%       10.500000\n",
      "max      400.000000\n",
      "            values\n",
      "count  1219.000000\n",
      "mean      4.059147\n",
      "std      16.228337\n",
      "min       1.400000\n",
      "25%       1.800000\n",
      "50%       2.300000\n",
      "75%       3.400000\n",
      "max     257.700000\n"
     ]
    }
   ],
   "source": [
    "print(pd.DataFrame({'values' : vanilla_approach_func.buldingtime.repeat(vanilla_approach_func['count'])}).describe())\n",
    "print(pd.DataFrame({'values' : all_top_10_func.buldingtime.repeat(vanilla_approach_func['count'])}).describe())\n",
    "print(pd.DataFrame({'values' : cluster_top_10_func.buldingtime.repeat(vanilla_approach_func['count'])}).describe())\n",
    "print(pd.DataFrame({'values' : on_the_fly_func.buldingtime.repeat(vanilla_approach_func['count'].iloc[0:207])}).describe())"
   ],
   "metadata": {
    "collapsed": false,
    "ExecuteTime": {
     "end_time": "2024-05-01T16:52:48.641839Z",
     "start_time": "2024-05-01T16:52:48.633120Z"
    }
   },
   "id": "bea3e5ee79bfe87c"
  },
  {
   "cell_type": "code",
   "execution_count": 471,
   "outputs": [
    {
     "name": "stdout",
     "output_type": "stream",
     "text": [
      "count    2070.000000\n",
      "mean       43.872947\n",
      "std        96.535268\n",
      "min         1.100000\n",
      "25%         3.600000\n",
      "50%        11.700000\n",
      "75%        23.200000\n",
      "max       655.900000\n",
      "Name: buldingtime, dtype: float64\n",
      "count    2070.000000\n",
      "mean       14.138261\n",
      "std        41.386941\n",
      "min         1.200000\n",
      "25%         3.000000\n",
      "50%         7.700000\n",
      "75%        11.375000\n",
      "max       526.000000\n",
      "Name: buldingtime, dtype: float64\n",
      "count    2070.000000\n",
      "mean       10.193527\n",
      "std        25.575314\n",
      "min         1.000000\n",
      "25%         3.800000\n",
      "50%         7.900000\n",
      "75%        10.600000\n",
      "max       400.000000\n",
      "Name: buldingtime, dtype: float64\n",
      "count    207.000000\n",
      "mean       5.828019\n",
      "std       25.485735\n",
      "min        1.400000\n",
      "25%        1.900000\n",
      "50%        2.300000\n",
      "75%        3.350000\n",
      "max      257.700000\n",
      "Name: buldingtime, dtype: float64\n"
     ]
    }
   ],
   "source": [
    "print(vanilla_approach['buldingtime'].describe())\n",
    "print(all_top_10['buldingtime'].describe())\n",
    "print(cluster_top_10['buldingtime'].describe())\n",
    "print(on_the_fly_func['buldingtime'].describe())"
   ],
   "metadata": {
    "collapsed": false,
    "ExecuteTime": {
     "end_time": "2024-05-01T16:57:51.695767Z",
     "start_time": "2024-05-01T16:57:51.675849Z"
    }
   },
   "id": "eed7799a7790efe4"
  },
  {
   "cell_type": "code",
   "execution_count": 472,
   "outputs": [
    {
     "name": "stdout",
     "output_type": "stream",
     "text": [
      "count    1662.000000\n",
      "mean        0.428812\n",
      "std         0.267260\n",
      "min         0.001334\n",
      "25%         0.210526\n",
      "50%         0.401930\n",
      "75%         0.602565\n",
      "max         0.981781\n",
      "Name: buldingtime, dtype: float64\n",
      "count    1497.000000\n",
      "mean        0.485557\n",
      "std         0.279032\n",
      "min         0.008130\n",
      "25%         0.248227\n",
      "50%         0.481203\n",
      "75%         0.691860\n",
      "max         0.980236\n",
      "Name: buldingtime, dtype: float64\n",
      "count    175.000000\n",
      "mean       0.715888\n",
      "std        0.260671\n",
      "min        0.015344\n",
      "25%        0.601291\n",
      "50%        0.800000\n",
      "75%        0.906872\n",
      "max        0.994608\n",
      "Name: buldingtime, dtype: float64\n"
     ]
    }
   ],
   "source": [
    "save_all_top_10 = (vanilla_approach_func['buldingtime'] - all_top_10_func['buldingtime'])/vanilla_approach_func['buldingtime']\n",
    "save_cluster_top_10 = (vanilla_approach_func['buldingtime'] - cluster_top_10_func['buldingtime'])/vanilla_approach_func['buldingtime']\n",
    "save_on_the_fly = (vanilla_approach_func['buldingtime'] - on_the_fly_func['buldingtime'])/vanilla_approach_func['buldingtime']\n",
    "\n",
    "print(save_all_top_10[save_all_top_10 > 0].describe())\n",
    "print(save_cluster_top_10[save_cluster_top_10 > 0].describe())\n",
    "print(save_on_the_fly[save_on_the_fly > 0].describe())"
   ],
   "metadata": {
    "collapsed": false,
    "ExecuteTime": {
     "end_time": "2024-05-01T16:58:39.682348Z",
     "start_time": "2024-05-01T16:58:39.671929Z"
    }
   },
   "id": "a55042fe987bc624"
  },
  {
   "cell_type": "code",
   "execution_count": 473,
   "outputs": [
    {
     "name": "stdout",
     "output_type": "stream",
     "text": [
      "             values\n",
      "count  12190.000000\n",
      "mean      29.847719\n",
      "std       59.211638\n",
      "min        0.000000\n",
      "25%        0.000000\n",
      "50%        6.100000\n",
      "75%       18.400000\n",
      "max      243.300000\n",
      "             values\n",
      "count  12190.000000\n",
      "mean       8.505431\n",
      "std       23.362617\n",
      "min        0.000000\n",
      "25%        0.000000\n",
      "50%        4.800000\n",
      "75%        7.400000\n",
      "max      234.400000\n",
      "             values\n",
      "count  12190.000000\n",
      "mean       5.174143\n",
      "std       11.609572\n",
      "min        0.000000\n",
      "25%        0.000000\n",
      "50%        4.700000\n",
      "75%        7.000000\n",
      "max      217.600000\n",
      "            values\n",
      "count  1219.000000\n",
      "mean      5.583346\n",
      "std       8.558807\n",
      "min       0.000000\n",
      "25%       0.000000\n",
      "50%       3.384532\n",
      "75%       6.946174\n",
      "max      59.241283\n"
     ]
    }
   ],
   "source": [
    "print(pd.DataFrame({'values' : vanilla_approach_func.installtime.repeat(vanilla_approach_func['count'])}).describe())\n",
    "print(pd.DataFrame({'values' : all_top_10_func.installtime.repeat(vanilla_approach_func['count'])}).describe())\n",
    "print(pd.DataFrame({'values' : cluster_top_10_func.installtime.repeat(vanilla_approach_func['count'])}).describe())\n",
    "print(pd.DataFrame({'values' : on_the_fly_func.installtime.repeat(vanilla_approach_func['count'].iloc[0:207])}).describe())"
   ],
   "metadata": {
    "collapsed": false,
    "ExecuteTime": {
     "end_time": "2024-05-01T16:59:21.266871Z",
     "start_time": "2024-05-01T16:59:21.245082Z"
    }
   },
   "id": "83299e2702408315"
  },
  {
   "cell_type": "code",
   "execution_count": 474,
   "outputs": [
    {
     "name": "stdout",
     "output_type": "stream",
     "text": [
      "             values\n",
      "count  12190.000000\n",
      "mean       2.347075\n",
      "std        0.650185\n",
      "min        1.135387\n",
      "25%        1.899092\n",
      "50%        2.098769\n",
      "75%        2.664049\n",
      "max        7.351260\n",
      "             values\n",
      "count  12190.000000\n",
      "mean       2.416179\n",
      "std        0.632891\n",
      "min        1.206953\n",
      "25%        2.002660\n",
      "50%        2.135876\n",
      "75%        2.727310\n",
      "max        7.388799\n",
      "             values\n",
      "count  12190.000000\n",
      "mean       2.185091\n",
      "std        0.619579\n",
      "min        1.600626\n",
      "25%        1.822444\n",
      "50%        1.928504\n",
      "75%        2.219674\n",
      "max        6.446158\n",
      "            values\n",
      "count  1219.000000\n",
      "mean      2.712832\n",
      "std       1.141040\n",
      "min       1.602630\n",
      "25%       2.048774\n",
      "50%       2.425682\n",
      "75%       2.920601\n",
      "max      10.776927\n"
     ]
    }
   ],
   "source": [
    "print(pd.DataFrame({'values' : vanilla_approach_func.starttime.repeat(vanilla_approach_func['count'])}).describe())\n",
    "print(pd.DataFrame({'values' : all_top_10_func.starttime.repeat(vanilla_approach_func['count'])}).describe())\n",
    "print(pd.DataFrame({'values' : cluster_top_10_func.starttime.repeat(vanilla_approach_func['count'])}).describe())\n",
    "print(pd.DataFrame({'values' : on_the_fly_func.starttime.repeat(vanilla_approach_func['count'].iloc[0:207])}).describe())"
   ],
   "metadata": {
    "collapsed": false,
    "ExecuteTime": {
     "end_time": "2024-05-01T17:04:29.627636Z",
     "start_time": "2024-05-01T17:04:29.603057Z"
    }
   },
   "id": "a3e4d9ad182be5d5"
  },
  {
   "cell_type": "code",
   "execution_count": 475,
   "outputs": [
    {
     "name": "stdout",
     "output_type": "stream",
     "text": [
      "count    2070.000000\n",
      "mean        2.377417\n",
      "std         0.693898\n",
      "min         1.135387\n",
      "25%         1.911363\n",
      "50%         2.081936\n",
      "75%         2.707737\n",
      "max         7.351260\n",
      "Name: starttime, dtype: float64\n",
      "count    2070.000000\n",
      "mean        2.422666\n",
      "std         0.654609\n",
      "min         1.206953\n",
      "25%         2.007425\n",
      "50%         2.144118\n",
      "75%         2.697853\n",
      "max         7.388799\n",
      "Name: starttime, dtype: float64\n",
      "count    2070.000000\n",
      "mean        2.212326\n",
      "std         0.647975\n",
      "min         1.600626\n",
      "25%         1.826340\n",
      "50%         1.944655\n",
      "75%         2.316585\n",
      "max         6.446158\n",
      "Name: starttime, dtype: float64\n",
      "count    207.000000\n",
      "mean       2.785818\n",
      "std        1.197868\n",
      "min        1.602630\n",
      "25%        1.951701\n",
      "50%        2.482394\n",
      "75%        3.202495\n",
      "max       10.776927\n",
      "Name: starttime, dtype: float64\n"
     ]
    }
   ],
   "source": [
    "print(vanilla_approach['starttime'].describe())\n",
    "print(all_top_10['starttime'].describe())\n",
    "print(cluster_top_10['starttime'].describe())\n",
    "print(ont_the_fly['starttime'].describe())"
   ],
   "metadata": {
    "collapsed": false,
    "ExecuteTime": {
     "end_time": "2024-05-01T17:04:55.973936Z",
     "start_time": "2024-05-01T17:04:55.952723Z"
    }
   },
   "id": "80f574bcf35a7db7"
  },
  {
   "cell_type": "code",
   "execution_count": 476,
   "outputs": [
    {
     "name": "stdout",
     "output_type": "stream",
     "text": [
      "             values\n",
      "count  60950.000000\n",
      "mean       0.744091\n",
      "std        0.311783\n",
      "min        0.464759\n",
      "25%        0.575957\n",
      "50%        0.622189\n",
      "75%        0.781303\n",
      "max        4.786615\n",
      "             values\n",
      "count  60950.000000\n",
      "mean       0.751804\n",
      "std        0.360486\n",
      "min        0.456613\n",
      "25%        0.571799\n",
      "50%        0.615075\n",
      "75%        0.791910\n",
      "max        5.962208\n",
      "             values\n",
      "count  60950.000000\n",
      "mean       0.750894\n",
      "std        0.342150\n",
      "min        0.455889\n",
      "25%        0.567250\n",
      "50%        0.605815\n",
      "75%        0.771895\n",
      "max        4.682547\n",
      "            values\n",
      "count  6095.000000\n",
      "mean      1.043103\n",
      "std       0.606937\n",
      "min       0.519841\n",
      "25%       0.664351\n",
      "50%       0.815230\n",
      "75%       1.107930\n",
      "max       4.331439\n"
     ]
    }
   ],
   "source": [
    "selected_columns = ['starttime1', 'starttime2', 'starttime3', 'starttime4', 'starttime5']\n",
    "tmp2 = np.tile(np.array(vanilla_approach_func['count'], dtype=np.int64), 5)\n",
    "tmp = pd.DataFrame({\"values\": vanilla_approach_func[selected_columns].values.flatten()})\n",
    "print(pd.DataFrame({'values' : tmp['values'].repeat(tmp2)}).describe())\n",
    "tmp = pd.DataFrame({\"values\": all_top_10_func[selected_columns].values.flatten()})\n",
    "print(pd.DataFrame({'values' : tmp['values'].repeat(tmp2)}).describe())\n",
    "tmp = pd.DataFrame({\"values\": cluster_top_10_func[selected_columns].values.flatten()})\n",
    "print(pd.DataFrame({'values' : tmp['values'].repeat(tmp2)}).describe())\n",
    "tmp = pd.DataFrame({\"values\": on_the_fly_func[selected_columns].values.flatten()})\n",
    "print(pd.DataFrame({'values' : tmp['values'].repeat(np.tile(np.array(vanilla_approach_func['count'].iloc[0:207], dtype=np.int64), 5))}).describe())"
   ],
   "metadata": {
    "collapsed": false,
    "ExecuteTime": {
     "end_time": "2024-05-01T17:05:46.178031Z",
     "start_time": "2024-05-01T17:05:46.164575Z"
    }
   },
   "id": "2867ec324267f7f0"
  },
  {
   "cell_type": "code",
   "execution_count": 119,
   "outputs": [
    {
     "name": "stdout",
     "output_type": "stream",
     "text": [
      "                  0\n",
      "count  10350.000000\n",
      "mean       0.747031\n",
      "std        0.317317\n",
      "min        0.464759\n",
      "25%        0.575343\n",
      "50%        0.620596\n",
      "75%        0.785801\n",
      "max        4.786615\n",
      "                  0\n",
      "count  10350.000000\n",
      "mean       0.742667\n",
      "std        0.327570\n",
      "min        0.456613\n",
      "25%        0.571401\n",
      "50%        0.613572\n",
      "75%        0.781997\n",
      "max        5.962208\n",
      "                  0\n",
      "count  10350.000000\n",
      "mean       0.747713\n",
      "std        0.341122\n",
      "min        0.455889\n",
      "25%        0.565044\n",
      "50%        0.606628\n",
      "75%        0.773078\n",
      "max        4.682547\n"
     ]
    }
   ],
   "source": [
    "selected_columns = ['starttime1', 'starttime2', 'starttime3', 'starttime4', 'starttime5']\n",
    "print(pd.DataFrame(vanilla_approach[selected_columns].values.flatten()).describe())\n",
    "print(pd.DataFrame(all_top_10[selected_columns].values.flatten()).describe())\n",
    "print(pd.DataFrame(cluster_top_10[selected_columns].values.flatten()).describe())"
   ],
   "metadata": {
    "collapsed": false,
    "ExecuteTime": {
     "start_time": "2024-04-19T00:10:07.090090Z"
    }
   },
   "id": "d7df953f4251b085"
  },
  {
   "cell_type": "code",
   "execution_count": 363,
   "outputs": [
    {
     "name": "stdout",
     "output_type": "stream",
     "text": [
      "         values\n",
      "count  8.000000\n",
      "mean   0.048696\n",
      "std    0.097491\n",
      "min   -0.017528\n",
      "25%   -0.008272\n",
      "50%    0.005183\n",
      "75%    0.049235\n",
      "max    0.245600\n",
      "         values\n",
      "count  8.000000\n",
      "mean   0.001530\n",
      "std    0.040451\n",
      "min   -0.026317\n",
      "25%   -0.019750\n",
      "50%   -0.013579\n",
      "75%    0.002286\n",
      "max    0.097397\n"
     ]
    }
   ],
   "source": [
    "slow_start_all_top_10 = (pd.DataFrame(all_top_10[selected_columns].values.flatten()) - pd.DataFrame(vanilla_approach[selected_columns].values.flatten())) / pd.DataFrame(vanilla_approach[selected_columns].values.flatten())\n",
    "slow_start_cluster_top_10 = (pd.DataFrame(cluster_top_10[selected_columns].values.flatten()) - pd.DataFrame(vanilla_approach[selected_columns].values.flatten())) / pd.DataFrame(vanilla_approach[selected_columns].values.flatten())\n",
    "\n",
    "print(slow_start_all_top_10.describe())\n",
    "print(slow_start_cluster_top_10.describe())"
   ],
   "metadata": {
    "collapsed": false,
    "ExecuteTime": {
     "end_time": "2024-04-22T21:36:55.804050Z",
     "start_time": "2024-04-22T21:36:55.789154Z"
    }
   },
   "id": "a0d21b8760cd75bd"
  },
  {
   "cell_type": "code",
   "execution_count": 397,
   "outputs": [
    {
     "name": "stdout",
     "output_type": "stream",
     "text": [
      "             values\n",
      "count  60950.000000\n",
      "mean       0.363795\n",
      "std        0.586131\n",
      "min        0.000006\n",
      "25%        0.022799\n",
      "50%        0.122034\n",
      "75%        0.473193\n",
      "max        2.782723\n",
      "             values\n",
      "count  60950.000000\n",
      "mean       0.331484\n",
      "std        0.593865\n",
      "min        0.000006\n",
      "25%        0.011844\n",
      "50%        0.047828\n",
      "75%        0.423667\n",
      "max        2.843395\n",
      "             values\n",
      "count  60950.000000\n",
      "mean       0.336161\n",
      "std        0.597642\n",
      "min        0.000005\n",
      "25%        0.012308\n",
      "50%        0.051632\n",
      "75%        0.425567\n",
      "max        2.823189\n"
     ]
    }
   ],
   "source": [
    "selected_columns = ['importtime1', 'importtime2', 'importtime3', 'importtime4', 'importtime5']\n",
    "tmp2 = np.tile(np.array(vanilla_approach_func['count'], dtype=np.int64), 5)\n",
    "tmp = pd.DataFrame({\"values\": vanilla_approach_func[selected_columns].values.flatten()})\n",
    "print(pd.DataFrame({'values' : tmp['values'].repeat(tmp2)}).describe())\n",
    "tmp = pd.DataFrame({\"values\": all_top_10_func[selected_columns].values.flatten()})\n",
    "print(pd.DataFrame({'values' : tmp['values'].repeat(tmp2)}).describe())\n",
    "tmp = pd.DataFrame({\"values\": cluster_top_10_func[selected_columns].values.flatten()})\n",
    "print(pd.DataFrame({'values' : tmp['values'].repeat(tmp2)}).describe())"
   ],
   "metadata": {
    "collapsed": false,
    "ExecuteTime": {
     "end_time": "2024-04-22T22:50:18.642783Z",
     "start_time": "2024-04-22T22:50:18.611613Z"
    }
   },
   "id": "92bfbfe3d940e2e7"
  },
  {
   "cell_type": "code",
   "execution_count": 398,
   "outputs": [
    {
     "name": "stdout",
     "output_type": "stream",
     "text": [
      "                  0\n",
      "count  10350.000000\n",
      "mean       0.370839\n",
      "std        0.607964\n",
      "min        0.000006\n",
      "25%        0.026599\n",
      "50%        0.114231\n",
      "75%        0.441066\n",
      "max        2.782723\n",
      "                  0\n",
      "count  10350.000000\n",
      "mean       0.339871\n",
      "std        0.618188\n",
      "min        0.000006\n",
      "25%        0.011698\n",
      "50%        0.037195\n",
      "75%        0.363135\n",
      "max        2.843395\n",
      "                  0\n",
      "count  10350.000000\n",
      "mean       0.344558\n",
      "std        0.621159\n",
      "min        0.000005\n",
      "25%        0.012407\n",
      "50%        0.047944\n",
      "75%        0.376575\n",
      "max        2.823189\n"
     ]
    }
   ],
   "source": [
    "selected_columns = ['importtime1', 'importtime2', 'importtime3', 'importtime4', 'importtime5']\n",
    "print(pd.DataFrame(vanilla_approach[selected_columns].values.flatten()).describe())\n",
    "print(pd.DataFrame(all_top_10[selected_columns].values.flatten()).describe())\n",
    "print(pd.DataFrame(cluster_top_10[selected_columns].values.flatten()).describe())"
   ],
   "metadata": {
    "collapsed": false,
    "ExecuteTime": {
     "end_time": "2024-04-22T22:54:03.157965Z",
     "start_time": "2024-04-22T22:54:03.130525Z"
    }
   },
   "id": "97ec791ee1226365"
  },
  {
   "cell_type": "code",
   "execution_count": 355,
   "outputs": [
    {
     "name": "stdout",
     "output_type": "stream",
     "text": [
      "             values\n",
      "count  12190.000000\n",
      "mean       2.642183\n",
      "std        5.220458\n",
      "min        0.000006\n",
      "25%        0.073776\n",
      "50%        0.202019\n",
      "75%        2.563559\n",
      "max       30.102168\n",
      "             values\n",
      "count  12190.000000\n",
      "mean       2.722626\n",
      "std        5.074414\n",
      "min        0.000006\n",
      "25%        0.046108\n",
      "50%        0.108329\n",
      "75%        3.167456\n",
      "max       29.793559\n",
      "             values\n",
      "count  12190.000000\n",
      "mean       3.895476\n",
      "std        7.248865\n",
      "min        0.000006\n",
      "25%        0.050240\n",
      "50%        0.228351\n",
      "75%        4.024313\n",
      "max       46.055253\n"
     ]
    }
   ],
   "source": [
    "print(pd.DataFrame({'values' : vanilla_approach_func.importtime.repeat(vanilla_approach_func['count'])}).describe())\n",
    "print(pd.DataFrame({'values' : all_top_10_func.importtime.repeat(vanilla_approach_func['count'])}).describe())\n",
    "print(pd.DataFrame({'values' : cluster_top_10_func.importtime.repeat(vanilla_approach_func['count'])}).describe())"
   ],
   "metadata": {
    "collapsed": false,
    "ExecuteTime": {
     "end_time": "2024-04-22T20:54:18.208370Z",
     "start_time": "2024-04-22T20:54:18.199297Z"
    }
   },
   "id": "3c508499d6472222"
  },
  {
   "cell_type": "code",
   "execution_count": 104,
   "outputs": [
    {
     "name": "stdout",
     "output_type": "stream",
     "text": [
      "count    2070.000000\n",
      "mean        2.411723\n",
      "std         4.981894\n",
      "min         0.000006\n",
      "25%         0.099009\n",
      "50%         0.285670\n",
      "75%         2.039378\n",
      "max        30.102168\n",
      "Name: importtime, dtype: float64\n",
      "count    2070.000000\n",
      "mean        2.596899\n",
      "std         4.837630\n",
      "min         0.000006\n",
      "25%         0.056769\n",
      "50%         0.221949\n",
      "75%         2.917395\n",
      "max        29.793559\n",
      "Name: importtime, dtype: float64\n",
      "count    2070.000000\n",
      "mean        3.736112\n",
      "std         6.733596\n",
      "min         0.000006\n",
      "25%         0.080047\n",
      "50%         0.310766\n",
      "75%         4.260260\n",
      "max        46.055253\n",
      "Name: importtime, dtype: float64\n"
     ]
    }
   ],
   "source": [
    "print(vanilla_approach['importtime'].describe())\n",
    "print(all_top_10['importtime'].describe())\n",
    "print(cluster_top_10['importtime'].describe())"
   ],
   "metadata": {
    "collapsed": false,
    "ExecuteTime": {
     "start_time": "2024-04-18T23:45:25.283732Z"
    }
   },
   "id": "ab7bdf3ce2f499d2"
  },
  {
   "cell_type": "code",
   "execution_count": 448,
   "outputs": [
    {
     "name": "stdout",
     "output_type": "stream",
     "text": [
      "             values\n",
      "count  60950.000000\n",
      "mean       2.127090\n",
      "std        0.670617\n",
      "min        1.502722\n",
      "25%        1.691867\n",
      "50%        1.874331\n",
      "75%        2.291996\n",
      "max        7.508956\n",
      "             values\n",
      "count  60950.000000\n",
      "mean       2.104914\n",
      "std        0.735606\n",
      "min        1.506482\n",
      "25%        1.643005\n",
      "50%        1.842702\n",
      "75%        2.233986\n",
      "max        9.562239\n",
      "             values\n",
      "count  60950.000000\n",
      "mean       2.106181\n",
      "std        0.699330\n",
      "min        1.493338\n",
      "25%        1.633444\n",
      "50%        1.852346\n",
      "75%        2.265553\n",
      "max        7.426884\n"
     ]
    }
   ],
   "source": [
    "selected_columns = ['warmtime1', 'warmtime2', 'warmtime3', 'warmtime4', 'warmtime5']\n",
    "tmp2 = np.tile(np.array(vanilla_approach_func['count'], dtype=np.int64), 5)\n",
    "tmp = pd.DataFrame({\"values\": vanilla_approach_func[selected_columns].values.flatten()})\n",
    "print(pd.DataFrame({'values' : tmp['values'].repeat(tmp2)}).describe())\n",
    "tmp = pd.DataFrame({\"values\": all_top_10_func[selected_columns].values.flatten()})\n",
    "print(pd.DataFrame({'values' : tmp['values'].repeat(tmp2)}).describe())\n",
    "tmp = pd.DataFrame({\"values\": cluster_top_10_func[selected_columns].values.flatten()})\n",
    "print(pd.DataFrame({'values' : tmp['values'].repeat(tmp2)}).describe())"
   ],
   "metadata": {
    "collapsed": false,
    "ExecuteTime": {
     "end_time": "2024-04-24T19:54:06.880817Z",
     "start_time": "2024-04-24T19:54:06.859042Z"
    }
   },
   "id": "10014c188ebcfc38"
  },
  {
   "cell_type": "code",
   "execution_count": 59,
   "outputs": [],
   "source": [
    "toplot = pd.DataFrame({'values': pd.concat([vanilla_approach.buldingtime, all_top_10.buldingtime, cluster_top_10.buldingtime], ignore_index=True), 'what': ['vanilla_approach'] * len(vanilla_approach) + ['all_top_10'] * len(all_top_10) + ['cluster_top_10'] * len(cluster_top_10)})"
   ],
   "metadata": {
    "collapsed": false,
    "ExecuteTime": {
     "start_time": "2024-04-18T23:24:37.839503Z"
    }
   },
   "id": "7d2088137db47043"
  },
  {
   "cell_type": "code",
   "execution_count": 60,
   "outputs": [
    {
     "data": {
      "text/plain": "<Figure size 1000x600 with 1 Axes>",
      "image/png": "[encoded data removed]"
     },
     "metadata": {},
     "output_type": "display_data"
    }
   ],
   "source": [
    "plt.figure(figsize=(10, 6))\n",
    "sns.boxplot(x='what', y='values', data=toplot)\n",
    "plt.xlabel('')\n",
    "plt.ylabel('Time in seconds')\n",
    "plt.title('Build Time')\n",
    "plt.yscale('log')\n",
    "#plt.yticks([0.5, 1, 3, 5],[0.5, 1, 3, 5])\n",
    "plt.show()"
   ],
   "metadata": {
    "collapsed": false,
    "ExecuteTime": {
     "start_time": "2024-04-18T23:24:38.960750Z"
    }
   },
   "id": "3843bf05a219cfa1"
  },
  {
   "cell_type": "code",
   "execution_count": 100,
   "outputs": [],
   "source": [
    "toplot = pd.DataFrame({'values': pd.concat([vanilla_approach.installtime, all_top_10.installtime, cluster_top_10.installtime], ignore_index=True), 'what': ['vanilla_approach'] * len(vanilla_approach) + ['all_top_10'] * len(all_top_10) + ['cluster_top_10'] * len(cluster_top_10)})\n",
    "toplot = toplot[toplot['values']>-1]"
   ],
   "metadata": {
    "collapsed": false,
    "ExecuteTime": {
     "start_time": "2024-04-18T23:40:54.749264Z"
    }
   },
   "id": "b2976d7b61876cb4"
  },
  {
   "cell_type": "code",
   "execution_count": 101,
   "outputs": [
    {
     "data": {
      "text/plain": "<Figure size 1000x600 with 1 Axes>",
      "image/png": "[encoded data removed]"
     },
     "metadata": {},
     "output_type": "display_data"
    }
   ],
   "source": [
    "plt.figure(figsize=(10, 6))\n",
    "sns.boxplot(x='what', y='values', data=toplot)\n",
    "plt.xlabel('')\n",
    "plt.ylabel('Time in seconds')\n",
    "plt.title('Install Time')\n",
    "plt.yscale('log')\n",
    "#plt.yticks([0.5, 1, 3, 5],[0.5, 1, 3, 5])\n",
    "plt.show()"
   ],
   "metadata": {
    "collapsed": false,
    "ExecuteTime": {
     "start_time": "2024-04-18T23:40:56.265449Z"
    }
   },
   "id": "4ad2fa6e476f597a"
  },
  {
   "cell_type": "code",
   "execution_count": 377,
   "outputs": [],
   "source": [
    "plot_build = pd.DataFrame({'values': pd.concat([vanilla_approach.buldingtime, all_top_10.buldingtime, cluster_top_10.buldingtime], ignore_index=True), 'what': ['Naïve'] * len(vanilla_approach) + ['All Top 10'] * len(all_top_10) + ['Cluster Top 10'] * len(cluster_top_10)})\n",
    "\n",
    "plot_install = pd.DataFrame({'values': pd.concat([vanilla_approach.installtime, all_top_10.installtime, cluster_top_10.installtime], ignore_index=True), 'what': ['Naïve'] * len(vanilla_approach) + ['All Top 10'] * len(all_top_10) + ['Cluster Top 10'] * len(cluster_top_10)})\n",
    "plot_install = plot_install[plot_install['values']>-1]\n",
    "\n",
    "\n",
    "toplot = pd.DataFrame(pd.concat([plot_build, plot_install], ignore_index=True))\n",
    "toplot['exp'] = ['Build Time'] * len(plot_build) + ['Install Time'] * len(plot_install) "
   ],
   "metadata": {
    "collapsed": false,
    "ExecuteTime": {
     "end_time": "2024-04-22T22:18:09.468601Z",
     "start_time": "2024-04-22T22:18:09.452346Z"
    }
   },
   "id": "c96db927f692dd04"
  },
  {
   "cell_type": "code",
   "execution_count": 383,
   "outputs": [
    {
     "data": {
      "text/plain": "<Figure size 640x480 with 1 Axes>",
      "image/png": "[encoded data removed]"
     },
     "metadata": {},
     "output_type": "display_data"
    }
   ],
   "source": [
    "sns.set_style(\"whitegrid\")\n",
    "sns.boxplot(x='what', y='values', hue='exp', data=toplot)\n",
    "plt.xlabel('')\n",
    "plt.ylabel('Time in seconds')\n",
    "plt.yscale('log')\n",
    "plt.legend(loc='upper right', bbox_to_anchor=(1, 1), shadow=False, ncol=2)\n",
    "\n",
    "plt.savefig('figures/buildtime.pdf', format='pdf')\n",
    "\n",
    "# Show the plot\n",
    "plt.show()"
   ],
   "metadata": {
    "collapsed": false,
    "ExecuteTime": {
     "end_time": "2024-04-22T22:21:19.795874Z",
     "start_time": "2024-04-22T22:21:19.617666Z"
    }
   },
   "id": "db3dfbcf51872e"
  },
  {
   "cell_type": "code",
   "execution_count": 392,
   "outputs": [],
   "source": [
    "#toplot = pd.DataFrame({'values': pd.concat([vanilla_approach.starttime, all_top_10.starttime, cluster_top_10.starttime], ignore_index=True), 'what': ['vanilla_approach'] * len(vanilla_approach) + ['all_top_10'] * len(all_top_10) + ['cluster_top_10'] * len(cluster_top_10)})\n",
    "toplot = pd.DataFrame({'values': pd.concat([vanilla_approach['starttime1'], vanilla_approach['starttime2'], vanilla_approach['starttime3'], vanilla_approach['starttime4'], vanilla_approach['starttime5'],\n",
    "               all_top_10['starttime1'], all_top_10['starttime2'], all_top_10['starttime3'], all_top_10['starttime4'], all_top_10['starttime5'],\n",
    "               cluster_top_10['starttime1'], cluster_top_10['starttime2'], cluster_top_10['starttime3'], cluster_top_10['starttime4'], cluster_top_10['starttime5']], ignore_index=True), \n",
    "            'what': ['Naïve'] * 5 * len(vanilla_approach) + ['All Top 10'] * 5 * len(all_top_10) + ['Cluster Top 10'] * 5 * len(cluster_top_10)})"
   ],
   "metadata": {
    "collapsed": false,
    "ExecuteTime": {
     "end_time": "2024-04-22T22:34:12.195381Z",
     "start_time": "2024-04-22T22:34:12.166901Z"
    }
   },
   "id": "271fd4500dfbdf99"
  },
  {
   "cell_type": "code",
   "execution_count": 396,
   "outputs": [
    {
     "data": {
      "text/plain": "<Figure size 640x480 with 1 Axes>",
      "image/png": "[encoded data removed]"
     },
     "metadata": {},
     "output_type": "display_data"
    }
   ],
   "source": [
    "sns.set_style(\"whitegrid\")\n",
    "#plt.figure(figsize=(10, 6))\n",
    "sns.boxplot(x='what', y='values', data=toplot)\n",
    "plt.xlabel('')\n",
    "plt.ylabel('Time in seconds')\n",
    "plt.yscale('log')\n",
    "plt.yticks([0.5, 1, 3, 5],[0.5, 1, 3, 5])\n",
    "\n",
    "plt.savefig('figures/start.pdf', format='pdf')\n",
    "\n",
    "plt.show()"
   ],
   "metadata": {
    "collapsed": false,
    "ExecuteTime": {
     "end_time": "2024-04-22T22:37:57.159938Z",
     "start_time": "2024-04-22T22:37:57.006310Z"
    }
   },
   "id": "d46b592e60d5cff0"
  },
  {
   "cell_type": "code",
   "execution_count": 102,
   "outputs": [],
   "source": [
    "toplot = pd.DataFrame({'values': pd.concat([vanilla_approach.importtime, all_top_10.importtime, cluster_top_10.importtime], ignore_index=True), 'what': ['vanilla_approach'] * len(vanilla_approach) + ['all_top_10'] * len(all_top_10) + ['cluster_top_10'] * len(cluster_top_10)})"
   ],
   "metadata": {
    "collapsed": false,
    "ExecuteTime": {
     "start_time": "2024-04-18T23:41:58.666957Z"
    }
   },
   "id": "cf3ce189493273c1"
  },
  {
   "cell_type": "code",
   "execution_count": 103,
   "outputs": [
    {
     "data": {
      "text/plain": "<Figure size 1000x600 with 1 Axes>",
      "image/png": "[encoded data removed]"
     },
     "metadata": {},
     "output_type": "display_data"
    }
   ],
   "source": [
    "plt.figure(figsize=(10, 6))\n",
    "sns.boxplot(x='what', y='values', data=toplot)\n",
    "plt.xlabel('')\n",
    "plt.ylabel('Time in seconds')\n",
    "plt.title('Import Time')\n",
    "plt.yscale('log')\n",
    "#plt.yticks([0.5, 1, 3, 5],[0.5, 1, 3, 5])\n",
    "plt.show()"
   ],
   "metadata": {
    "collapsed": false,
    "ExecuteTime": {
     "start_time": "2024-04-18T23:41:59.956742Z"
    }
   },
   "id": "60906fa63e1a0788"
  },
  {
   "cell_type": "code",
   "execution_count": 385,
   "outputs": [],
   "source": [
    "plot_start = pd.DataFrame({'values': pd.concat([vanilla_approach['starttime1'], vanilla_approach['starttime2'], vanilla_approach['starttime3'], vanilla_approach['starttime4'], vanilla_approach['starttime5'],\n",
    "               all_top_10['starttime1'], all_top_10['starttime2'], all_top_10['starttime3'], all_top_10['starttime4'], all_top_10['starttime5'],\n",
    "               cluster_top_10['starttime1'], cluster_top_10['starttime2'], cluster_top_10['starttime3'], cluster_top_10['starttime4'], cluster_top_10['starttime5']], ignore_index=True), \n",
    "            'what': ['Naïve'] * 5 * len(vanilla_approach) + ['All Top 10'] * 5 * len(all_top_10) + ['Cluster Top 10'] * 5 * len(cluster_top_10)})\n",
    "\n",
    "plot_import = pd.DataFrame({'values': pd.concat([vanilla_approach.importtime, all_top_10.importtime, cluster_top_10.importtime], ignore_index=True), 'what': ['Naïve'] * len(vanilla_approach) + ['All Top 10'] * len(all_top_10) + ['Cluster Top 10'] * len(cluster_top_10)})\n",
    "\n",
    "\n",
    "\n",
    "toplot = pd.DataFrame(pd.concat([plot_start, plot_import], ignore_index=True))\n",
    "toplot['exp'] = ['Start Time'] * len(plot_start) + ['Import Time'] * len(plot_import) "
   ],
   "metadata": {
    "collapsed": false,
    "ExecuteTime": {
     "end_time": "2024-04-22T22:32:05.392839Z",
     "start_time": "2024-04-22T22:32:05.384Z"
    }
   },
   "id": "515808015a95ead2"
  },
  {
   "cell_type": "code",
   "execution_count": 386,
   "outputs": [
    {
     "data": {
      "text/plain": "<Figure size 640x480 with 1 Axes>",
      "image/png": "[encoded data removed]"
     },
     "metadata": {},
     "output_type": "display_data"
    }
   ],
   "source": [
    "sns.set_style(\"whitegrid\")\n",
    "sns.boxplot(x='what', y='values', hue='exp', data=toplot)\n",
    "plt.xlabel('')\n",
    "plt.ylabel('Time in seconds')\n",
    "plt.yscale('log')\n",
    "plt.legend(loc='upper right', bbox_to_anchor=(1, 1), shadow=False, ncol=2)\n",
    "\n",
    "plt.savefig('figures/start.pdf', format='pdf')\n",
    "\n",
    "# Show the plot\n",
    "plt.show()"
   ],
   "metadata": {
    "collapsed": false,
    "ExecuteTime": {
     "end_time": "2024-04-22T22:32:36.907430Z",
     "start_time": "2024-04-22T22:32:36.615017Z"
    }
   },
   "id": "3bb062261ca2360b"
  },
  {
   "cell_type": "code",
   "execution_count": 284,
   "outputs": [
    {
     "name": "stderr",
     "output_type": "stream",
     "text": [
      "/var/folders/86/fyd29lqj0033vg6drb2b412m0000gn/T/ipykernel_6215/1746028317.py:4: FutureWarning: Series.__getitem__ treating keys as positions is deprecated. In a future version, integer keys will always be treated as labels (consistent with DataFrame behavior). To access a value by position, use `ser.iloc[pos]`\n",
      "  if pd.isna(row[1]):\n",
      "/var/folders/86/fyd29lqj0033vg6drb2b412m0000gn/T/ipykernel_6215/1746028317.py:7: FutureWarning: Series.__getitem__ treating keys as positions is deprecated. In a future version, integer keys will always be treated as labels (consistent with DataFrame behavior). To access a value by position, use `ser.iloc[pos]`\n",
      "  ins = set(row[1].split(\";\"))\n",
      "/var/folders/86/fyd29lqj0033vg6drb2b412m0000gn/T/ipykernel_6215/1746028317.py:8: FutureWarning: Series.__getitem__ treating keys as positions is deprecated. In a future version, integer keys will always be treated as labels (consistent with DataFrame behavior). To access a value by position, use `ser.iloc[pos]`\n",
      "  all = set(row[2].split(\";\"))\n",
      "/var/folders/86/fyd29lqj0033vg6drb2b412m0000gn/T/ipykernel_6215/1746028317.py:9: FutureWarning: Series.__getitem__ treating keys as positions is deprecated. In a future version, integer keys will always be treated as labels (consistent with DataFrame behavior). To access a value by position, use `ser.iloc[pos]`\n",
      "  if pd.isna(row[3]):\n",
      "/var/folders/86/fyd29lqj0033vg6drb2b412m0000gn/T/ipykernel_6215/1746028317.py:12: FutureWarning: Series.__getitem__ treating keys as positions is deprecated. In a future version, integer keys will always be treated as labels (consistent with DataFrame behavior). To access a value by position, use `ser.iloc[pos]`\n",
      "  clu = set(row[3].split(\";\"))\n"
     ]
    },
    {
     "data": {
      "text/plain": "   toInstall  AlreayInstalled_all  AlreayInstalled_cluster  Installed_all  \\\n0          7                    3                        7             10   \n1          6                    2                        6             10   \n2          1                    0                        1             10   \n3          1                    0                        1             10   \n4          1                    0                        1             10   \n\n   Installed_cluster  \n0                 10  \n1                 10  \n2                 10  \n3                 11  \n4                 11  ",
      "text/html": "<div>\n<style scoped>\n    .dataframe tbody tr th:only-of-type {\n        vertical-align: middle;\n    }\n\n    .dataframe tbody tr th {\n        vertical-align: top;\n    }\n\n    .dataframe thead th {\n        text-align: right;\n    }\n</style>\n<table border=\"1\" class=\"dataframe\">\n  <thead>\n    <tr style=\"text-align: right;\">\n      <th></th>\n      <th>toInstall</th>\n      <th>AlreayInstalled_all</th>\n      <th>AlreayInstalled_cluster</th>\n      <th>Installed_all</th>\n      <th>Installed_cluster</th>\n    </tr>\n  </thead>\n  <tbody>\n    <tr>\n      <th>0</th>\n      <td>7</td>\n      <td>3</td>\n      <td>7</td>\n      <td>10</td>\n      <td>10</td>\n    </tr>\n    <tr>\n      <th>1</th>\n      <td>6</td>\n      <td>2</td>\n      <td>6</td>\n      <td>10</td>\n      <td>10</td>\n    </tr>\n    <tr>\n      <th>2</th>\n      <td>1</td>\n      <td>0</td>\n      <td>1</td>\n      <td>10</td>\n      <td>10</td>\n    </tr>\n    <tr>\n      <th>3</th>\n      <td>1</td>\n      <td>0</td>\n      <td>1</td>\n      <td>10</td>\n      <td>11</td>\n    </tr>\n    <tr>\n      <th>4</th>\n      <td>1</td>\n      <td>0</td>\n      <td>1</td>\n      <td>10</td>\n      <td>11</td>\n    </tr>\n  </tbody>\n</table>\n</div>"
     },
     "execution_count": 284,
     "metadata": {},
     "output_type": "execute_result"
    }
   ],
   "source": [
    "install = pd.read_csv(\"experiments/installations.csv\")\n",
    "install_libaries = pd.DataFrame()\n",
    "for index, row in install.iterrows():\n",
    "    if pd.isna(row[1]):\n",
    "        ins = set()\n",
    "    else: \n",
    "        ins = set(row[1].split(\";\"))\n",
    "    all = set(row[2].split(\";\"))\n",
    "    if pd.isna(row[3]):\n",
    "        clu = set()\n",
    "    else: \n",
    "        clu = set(row[3].split(\";\"))\n",
    "    install_libaries = pd.concat([install_libaries, pd.DataFrame([[len(ins), len(ins.intersection(all)), len(ins.intersection(clu)), len(all), len(clu)]])], ignore_index=True)\n",
    "install_libaries.columns = ['toInstall', 'AlreayInstalled_all', 'AlreayInstalled_cluster', 'Installed_all', 'Installed_cluster']\n",
    "\n",
    "install_libaries.head()"
   ],
   "metadata": {
    "collapsed": false,
    "ExecuteTime": {
     "start_time": "2024-04-22T19:46:47.219170Z"
    }
   },
   "id": "a67357045bfa20fe"
  },
  {
   "cell_type": "code",
   "execution_count": 288,
   "outputs": [
    {
     "name": "stdout",
     "output_type": "stream",
     "text": [
      "count    149.000000\n",
      "mean       1.993289\n",
      "std        1.402202\n",
      "min        1.000000\n",
      "25%        1.000000\n",
      "50%        1.000000\n",
      "75%        2.000000\n",
      "max        7.000000\n",
      "Name: toInstall, dtype: float64\n",
      "count    149.000000\n",
      "mean       0.791946\n",
      "std        0.960540\n",
      "min        0.000000\n",
      "25%        0.000000\n",
      "50%        1.000000\n",
      "75%        1.000000\n",
      "max        5.000000\n",
      "dtype: float64\n",
      "count    149.000000\n",
      "mean       0.067114\n",
      "std        0.300100\n",
      "min        0.000000\n",
      "25%        0.000000\n",
      "50%        0.000000\n",
      "75%        0.000000\n",
      "max        2.000000\n",
      "dtype: float64\n"
     ]
    }
   ],
   "source": [
    "install_libaries = install_libaries[install_libaries.toInstall>0]\n",
    "print(install_libaries.toInstall.describe())\n",
    "print((install_libaries.toInstall - install_libaries.AlreayInstalled_all).describe())\n",
    "print((install_libaries.toInstall - install_libaries.AlreayInstalled_cluster).describe())"
   ],
   "metadata": {
    "collapsed": false,
    "ExecuteTime": {
     "start_time": "2024-04-22T19:50:21.854836Z"
    }
   },
   "id": "d5b85395dccaf92c"
  },
  {
   "cell_type": "code",
   "execution_count": 289,
   "outputs": [
    {
     "data": {
      "text/plain": "0.9463087248322147"
     },
     "execution_count": 289,
     "metadata": {},
     "output_type": "execute_result"
    }
   ],
   "source": [
    "tmp = (install_libaries.toInstall - install_libaries.AlreayInstalled_cluster)\n",
    "len(tmp[tmp==0])/len(tmp)"
   ],
   "metadata": {
    "collapsed": false,
    "ExecuteTime": {
     "start_time": "2024-04-22T19:50:26.063446Z"
    }
   },
   "id": "84d75448244bc4de"
  },
  {
   "cell_type": "code",
   "execution_count": 290,
   "outputs": [
    {
     "name": "stdout",
     "output_type": "stream",
     "text": [
      "count    149.000000\n",
      "mean       8.006711\n",
      "std        1.402202\n",
      "min        3.000000\n",
      "25%        8.000000\n",
      "50%        9.000000\n",
      "75%        9.000000\n",
      "max        9.000000\n",
      "dtype: float64\n",
      "count    132.000000\n",
      "mean       6.931818\n",
      "std        2.801835\n",
      "min        1.000000\n",
      "25%        5.000000\n",
      "50%        8.000000\n",
      "75%        9.000000\n",
      "max       10.000000\n",
      "dtype: float64\n"
     ]
    }
   ],
   "source": [
    "print((install_libaries.Installed_all - install_libaries.toInstall).describe())\n",
    "tmp = install_libaries.Installed_cluster - install_libaries.toInstall\n",
    "print(tmp[tmp>0].describe())"
   ],
   "metadata": {
    "collapsed": false,
    "ExecuteTime": {
     "start_time": "2024-04-22T19:50:28.169902Z"
    }
   },
   "id": "b1904762687560a6"
  },
  {
   "cell_type": "code",
   "execution_count": 541,
   "outputs": [],
   "source": [
    "size_vanilla = pd.read_csv(\"data/vanilla_approach/size.csv\", header=None)\n",
    "size_cluster_top_10 = pd.read_csv(\"data/cluster_top_10/size.csv\", header=None)\n",
    "size_all_top_10 = pd.read_csv(\"data/all_top_10/size.csv\", header=None)\n",
    "size_onthefly = 1.01"
   ],
   "metadata": {
    "collapsed": false,
    "ExecuteTime": {
     "end_time": "2024-05-01T18:11:47.187401Z",
     "start_time": "2024-05-01T18:11:47.178571Z"
    }
   },
   "id": "6ea1a9c1e371474d"
  },
  {
   "cell_type": "code",
   "execution_count": 542,
   "outputs": [],
   "source": [
    "size_vanilla[1] = [float(re.sub(r'GB$', '', size)) for size in size_vanilla[1]]\n",
    "size_cluster_top_10[1] = [float(re.sub(r'GB$', '', size)) for size in size_cluster_top_10[1]]\n",
    "size_all_top_10[1] = [float(re.sub(r'GB$', '', size)) for size in size_all_top_10[1]]"
   ],
   "metadata": {
    "collapsed": false,
    "ExecuteTime": {
     "end_time": "2024-05-01T18:11:48.872320Z",
     "start_time": "2024-05-01T18:11:48.866542Z"
    }
   },
   "id": "97805091430b3000"
  },
  {
   "cell_type": "code",
   "execution_count": 544,
   "outputs": [
    {
     "name": "stdout",
     "output_type": "stream",
     "text": [
      "            values\n",
      "count  1187.000000\n",
      "mean      1.733336\n",
      "std       1.606800\n",
      "min       1.010000\n",
      "25%       1.010000\n",
      "50%       1.020000\n",
      "75%       1.250000\n",
      "max       7.330000\n",
      "            values\n",
      "count  1187.000000\n",
      "mean      8.465914\n",
      "std       0.093987\n",
      "min       8.450000\n",
      "25%       8.450000\n",
      "50%       8.450000\n",
      "75%       8.450000\n",
      "max       9.560000\n",
      "            values\n",
      "count  1187.000000\n",
      "mean      3.335139\n",
      "std       2.442924\n",
      "min       1.010000\n",
      "25%       1.250000\n",
      "50%       1.580000\n",
      "75%       6.370000\n",
      "max       7.330000\n"
     ]
    },
    {
     "name": "stderr",
     "output_type": "stream",
     "text": [
      "/Users/antree/Documents/Research/package-preloading/venv/lib/python3.11/site-packages/pandas/core/series.py:1022: RuntimeWarning: invalid value encountered in cast\n",
      "  arr = np.asarray(values, dtype=dtype)\n",
      "/Users/antree/Documents/Research/package-preloading/venv/lib/python3.11/site-packages/pandas/core/series.py:1022: RuntimeWarning: invalid value encountered in cast\n",
      "  arr = np.asarray(values, dtype=dtype)\n",
      "/Users/antree/Documents/Research/package-preloading/venv/lib/python3.11/site-packages/pandas/core/series.py:1022: RuntimeWarning: invalid value encountered in cast\n",
      "  arr = np.asarray(values, dtype=dtype)\n"
     ]
    }
   ],
   "source": [
    "print(pd.DataFrame({'values' : size_vanilla[1].repeat(vanilla_approach_func['count'].iloc[0:207])}).describe())\n",
    "print(pd.DataFrame({'values' : size_all_top_10[1].repeat(vanilla_approach_func['count'].iloc[0:207])}).describe())\n",
    "print(pd.DataFrame({'values' : size_cluster_top_10[1].repeat(vanilla_approach_func['count'].iloc[0:207])}).describe())"
   ],
   "metadata": {
    "collapsed": false,
    "ExecuteTime": {
     "end_time": "2024-05-01T18:11:55.912038Z",
     "start_time": "2024-05-01T18:11:55.908151Z"
    }
   },
   "id": "689a1e548e403e8b"
  },
  {
   "cell_type": "code",
   "execution_count": 177,
   "outputs": [
    {
     "data": {
      "text/plain": "   Unnamed: 0.1                         func4.name               imports  \\\n0             0  0-04-_check_slurm_job_statuses.py            subprocess   \n3             3              873-04-call_mtrack.py            mtrack;sys   \n4             4           43-04-make_corr_plots.py  json;os;xpcs_webplot   \n6             6           3-04-submit_slurm_job.py         os;subprocess   \n7             7         397-01-rejection_sample.py                random   \n\n            Cluster  \n0               Job  \n3      Data:_mtrack  \n4  Sci:_Instruments  \n6               Job  \n7           Trivial  ",
      "text/html": "<div>\n<style scoped>\n    .dataframe tbody tr th:only-of-type {\n        vertical-align: middle;\n    }\n\n    .dataframe tbody tr th {\n        vertical-align: top;\n    }\n\n    .dataframe thead th {\n        text-align: right;\n    }\n</style>\n<table border=\"1\" class=\"dataframe\">\n  <thead>\n    <tr style=\"text-align: right;\">\n      <th></th>\n      <th>Unnamed: 0.1</th>\n      <th>func4.name</th>\n      <th>imports</th>\n      <th>Cluster</th>\n    </tr>\n  </thead>\n  <tbody>\n    <tr>\n      <th>0</th>\n      <td>0</td>\n      <td>0-04-_check_slurm_job_statuses.py</td>\n      <td>subprocess</td>\n      <td>Job</td>\n    </tr>\n    <tr>\n      <th>3</th>\n      <td>3</td>\n      <td>873-04-call_mtrack.py</td>\n      <td>mtrack;sys</td>\n      <td>Data:_mtrack</td>\n    </tr>\n    <tr>\n      <th>4</th>\n      <td>4</td>\n      <td>43-04-make_corr_plots.py</td>\n      <td>json;os;xpcs_webplot</td>\n      <td>Sci:_Instruments</td>\n    </tr>\n    <tr>\n      <th>6</th>\n      <td>6</td>\n      <td>3-04-submit_slurm_job.py</td>\n      <td>os;subprocess</td>\n      <td>Job</td>\n    </tr>\n    <tr>\n      <th>7</th>\n      <td>7</td>\n      <td>397-01-rejection_sample.py</td>\n      <td>random</td>\n      <td>Trivial</td>\n    </tr>\n  </tbody>\n</table>\n</div>"
     },
     "execution_count": 177,
     "metadata": {},
     "output_type": "execute_result"
    }
   ],
   "source": [
    "#func_mapping.head()"
   ],
   "metadata": {
    "collapsed": false,
    "ExecuteTime": {
     "start_time": "2024-04-22T17:25:31.776973Z"
    }
   },
   "id": "1193e24cb837950b"
  },
  {
   "cell_type": "code",
   "execution_count": 178,
   "outputs": [
    {
     "data": {
      "text/plain": "                              task_uuid                         func4.name  \\\n0  000001d5-b3f0-4c17-8074-04f013f7bf52  0-04-_check_slurm_job_statuses.py   \n1  00002521-04ba-4fb6-9c38-92ba23dc00d7  0-04-_check_slurm_job_statuses.py   \n2  00002642-f850-42b4-9e1e-2698c3396498  0-04-_check_slurm_job_statuses.py   \n3  00002deb-cf79-43ed-8aff-3281938809fe  0-04-_check_slurm_job_statuses.py   \n4  0000754b-898e-43dc-9b55-35d1a6fe6633  0-04-_check_slurm_job_statuses.py   \n\n   executiontime  \n0         0.0243  \n1         0.0331  \n2         0.0432  \n3         0.0268  \n4         0.0284  ",
      "text/html": "<div>\n<style scoped>\n    .dataframe tbody tr th:only-of-type {\n        vertical-align: middle;\n    }\n\n    .dataframe tbody tr th {\n        vertical-align: top;\n    }\n\n    .dataframe thead th {\n        text-align: right;\n    }\n</style>\n<table border=\"1\" class=\"dataframe\">\n  <thead>\n    <tr style=\"text-align: right;\">\n      <th></th>\n      <th>task_uuid</th>\n      <th>func4.name</th>\n      <th>executiontime</th>\n    </tr>\n  </thead>\n  <tbody>\n    <tr>\n      <th>0</th>\n      <td>000001d5-b3f0-4c17-8074-04f013f7bf52</td>\n      <td>0-04-_check_slurm_job_statuses.py</td>\n      <td>0.0243</td>\n    </tr>\n    <tr>\n      <th>1</th>\n      <td>00002521-04ba-4fb6-9c38-92ba23dc00d7</td>\n      <td>0-04-_check_slurm_job_statuses.py</td>\n      <td>0.0331</td>\n    </tr>\n    <tr>\n      <th>2</th>\n      <td>00002642-f850-42b4-9e1e-2698c3396498</td>\n      <td>0-04-_check_slurm_job_statuses.py</td>\n      <td>0.0432</td>\n    </tr>\n    <tr>\n      <th>3</th>\n      <td>00002deb-cf79-43ed-8aff-3281938809fe</td>\n      <td>0-04-_check_slurm_job_statuses.py</td>\n      <td>0.0268</td>\n    </tr>\n    <tr>\n      <th>4</th>\n      <td>0000754b-898e-43dc-9b55-35d1a6fe6633</td>\n      <td>0-04-_check_slurm_job_statuses.py</td>\n      <td>0.0284</td>\n    </tr>\n  </tbody>\n</table>\n</div>"
     },
     "execution_count": 178,
     "metadata": {},
     "output_type": "execute_result"
    }
   ],
   "source": [
    "#task_mapping = pd.read_csv(\"funcx/task_function_mapping.csv\")\n",
    "#task_mapping.head()"
   ],
   "metadata": {
    "collapsed": false,
    "ExecuteTime": {
     "start_time": "2024-04-22T17:26:30.292387Z"
    }
   },
   "id": "203f358ec46b38f6"
  },
  {
   "cell_type": "code",
   "execution_count": 182,
   "outputs": [
    {
     "data": {
      "text/plain": "(1339976, 6)"
     },
     "execution_count": 182,
     "metadata": {},
     "output_type": "execute_result"
    }
   ],
   "source": [
    "#funcs = pd.merge(func_mapping, task_mapping, on=\"func4.name\")\n",
    "#funcs.shape"
   ],
   "metadata": {
    "collapsed": false,
    "ExecuteTime": {
     "start_time": "2024-04-22T17:27:33.770610Z"
    }
   },
   "id": "824ad9b1bef7e951"
  },
  {
   "cell_type": "code",
   "execution_count": 183,
   "outputs": [
    {
     "data": {
      "text/plain": "                                               imports  count\n242                                numpy;os;tensorflow      1\n243                                numpy;sklearn;torch      1\n244                               identify;os;settings      1\n245                                             mtrack      1\n246  argparse;copy;datetime;funcx;itertools;json;ma...      1",
      "text/html": "<div>\n<style scoped>\n    .dataframe tbody tr th:only-of-type {\n        vertical-align: middle;\n    }\n\n    .dataframe tbody tr th {\n        vertical-align: top;\n    }\n\n    .dataframe thead th {\n        text-align: right;\n    }\n</style>\n<table border=\"1\" class=\"dataframe\">\n  <thead>\n    <tr style=\"text-align: right;\">\n      <th></th>\n      <th>imports</th>\n      <th>count</th>\n    </tr>\n  </thead>\n  <tbody>\n    <tr>\n      <th>242</th>\n      <td>numpy;os;tensorflow</td>\n      <td>1</td>\n    </tr>\n    <tr>\n      <th>243</th>\n      <td>numpy;sklearn;torch</td>\n      <td>1</td>\n    </tr>\n    <tr>\n      <th>244</th>\n      <td>identify;os;settings</td>\n      <td>1</td>\n    </tr>\n    <tr>\n      <th>245</th>\n      <td>mtrack</td>\n      <td>1</td>\n    </tr>\n    <tr>\n      <th>246</th>\n      <td>argparse;copy;datetime;funcx;itertools;json;ma...</td>\n      <td>1</td>\n    </tr>\n  </tbody>\n</table>\n</div>"
     },
     "execution_count": 183,
     "metadata": {},
     "output_type": "execute_result"
    }
   ],
   "source": [
    "#counts = funcs.imports.value_counts()\n",
    "#counts = pd.DataFrame(counts)\n",
    "#counts.reset_index(inplace=True)\n",
    "#counts = counts._append({'imports': \"argparse;copy;datetime;funcx;itertools;json;matplotlib;numpy;os;pathlib;shutil;sys;threading;typing\", 'count': 1}, ignore_index=True)\n",
    "#counts.tail()"
   ],
   "metadata": {
    "collapsed": false,
    "ExecuteTime": {
     "start_time": "2024-04-22T17:27:43.772014Z"
    }
   },
   "id": "5146a10e98a9fc0"
  },
  {
   "cell_type": "code",
   "execution_count": 132,
   "outputs": [
    {
     "data": {
      "text/plain": "   toInstall  AlreayInstalled_all  AlreayInstalled_cluster  \\\n0          7                    3                        7   \n1          6                    2                        6   \n2          1                    0                        1   \n3          1                    0                        1   \n4          1                    0                        1   \n\n                                             imports  \n0  argparse;copy;datetime;funcx;itertools;json;ma...  \n1  argparse;copy;funcx;itertools;json;matplotlib;...  \n2                                       argparse;sys  \n3                                              CLEAN  \n4                                           CLEAN;os  ",
      "text/html": "<div>\n<style scoped>\n    .dataframe tbody tr th:only-of-type {\n        vertical-align: middle;\n    }\n\n    .dataframe tbody tr th {\n        vertical-align: top;\n    }\n\n    .dataframe thead th {\n        text-align: right;\n    }\n</style>\n<table border=\"1\" class=\"dataframe\">\n  <thead>\n    <tr style=\"text-align: right;\">\n      <th></th>\n      <th>toInstall</th>\n      <th>AlreayInstalled_all</th>\n      <th>AlreayInstalled_cluster</th>\n      <th>imports</th>\n    </tr>\n  </thead>\n  <tbody>\n    <tr>\n      <th>0</th>\n      <td>7</td>\n      <td>3</td>\n      <td>7</td>\n      <td>argparse;copy;datetime;funcx;itertools;json;ma...</td>\n    </tr>\n    <tr>\n      <th>1</th>\n      <td>6</td>\n      <td>2</td>\n      <td>6</td>\n      <td>argparse;copy;funcx;itertools;json;matplotlib;...</td>\n    </tr>\n    <tr>\n      <th>2</th>\n      <td>1</td>\n      <td>0</td>\n      <td>1</td>\n      <td>argparse;sys</td>\n    </tr>\n    <tr>\n      <th>3</th>\n      <td>1</td>\n      <td>0</td>\n      <td>1</td>\n      <td>CLEAN</td>\n    </tr>\n    <tr>\n      <th>4</th>\n      <td>1</td>\n      <td>0</td>\n      <td>1</td>\n      <td>CLEAN;os</td>\n    </tr>\n  </tbody>\n</table>\n</div>"
     },
     "execution_count": 132,
     "metadata": {},
     "output_type": "execute_result"
    }
   ],
   "source": [
    "#install_libaries['imports'] = install.imports\n",
    "#install_libaries.head()"
   ],
   "metadata": {
    "collapsed": false,
    "ExecuteTime": {
     "end_time": "2024-04-19T19:57:14.424327Z",
     "start_time": "2024-04-19T19:57:14.421213Z"
    }
   },
   "id": "4fcb7ff37c069d24"
  },
  {
   "cell_type": "code",
   "execution_count": 184,
   "outputs": [
    {
     "data": {
      "text/plain": "   toInstall  AlreayInstalled_all  AlreayInstalled_cluster  \\\n0          7                    3                        7   \n1          1                    0                        1   \n2          1                    0                        1   \n3          2                    1                        2   \n4          6                    5                        6   \n\n                                             imports  count  \n0  argparse;copy;datetime;funcx;itertools;json;ma...      1  \n1                                              CLEAN      2  \n2                                           CLEAN;os      6  \n3                                    CLEAN;os;pandas     14  \n4  collections;dataset;imblearn;numpy;os;pandas;s...      2  ",
      "text/html": "<div>\n<style scoped>\n    .dataframe tbody tr th:only-of-type {\n        vertical-align: middle;\n    }\n\n    .dataframe tbody tr th {\n        vertical-align: top;\n    }\n\n    .dataframe thead th {\n        text-align: right;\n    }\n</style>\n<table border=\"1\" class=\"dataframe\">\n  <thead>\n    <tr style=\"text-align: right;\">\n      <th></th>\n      <th>toInstall</th>\n      <th>AlreayInstalled_all</th>\n      <th>AlreayInstalled_cluster</th>\n      <th>imports</th>\n      <th>count</th>\n    </tr>\n  </thead>\n  <tbody>\n    <tr>\n      <th>0</th>\n      <td>7</td>\n      <td>3</td>\n      <td>7</td>\n      <td>argparse;copy;datetime;funcx;itertools;json;ma...</td>\n      <td>1</td>\n    </tr>\n    <tr>\n      <th>1</th>\n      <td>1</td>\n      <td>0</td>\n      <td>1</td>\n      <td>CLEAN</td>\n      <td>2</td>\n    </tr>\n    <tr>\n      <th>2</th>\n      <td>1</td>\n      <td>0</td>\n      <td>1</td>\n      <td>CLEAN;os</td>\n      <td>6</td>\n    </tr>\n    <tr>\n      <th>3</th>\n      <td>2</td>\n      <td>1</td>\n      <td>2</td>\n      <td>CLEAN;os;pandas</td>\n      <td>14</td>\n    </tr>\n    <tr>\n      <th>4</th>\n      <td>6</td>\n      <td>5</td>\n      <td>6</td>\n      <td>collections;dataset;imblearn;numpy;os;pandas;s...</td>\n      <td>2</td>\n    </tr>\n  </tbody>\n</table>\n</div>"
     },
     "execution_count": 184,
     "metadata": {},
     "output_type": "execute_result"
    }
   ],
   "source": [
    "#df = pd.merge(install_libaries[install_libaries.toInstall>0], counts, on=\"imports\")\n",
    "#df.head()"
   ],
   "metadata": {
    "collapsed": false,
    "ExecuteTime": {
     "end_time": "2024-04-22T17:27:57.426524Z",
     "start_time": "2024-04-22T17:27:57.420969Z"
    }
   },
   "id": "e5051296da8a2121"
  },
  {
   "cell_type": "code",
   "execution_count": 192,
   "outputs": [
    {
     "name": "stdout",
     "output_type": "stream",
     "text": [
      "              values\n",
      "count  116181.000000\n",
      "mean        1.945490\n",
      "std         1.409403\n",
      "min         1.000000\n",
      "25%         1.000000\n",
      "50%         1.000000\n",
      "75%         4.000000\n",
      "max         7.000000\n",
      "              values\n",
      "count  116181.000000\n",
      "mean        0.575808\n",
      "std         0.536863\n",
      "min         0.000000\n",
      "25%         0.000000\n",
      "50%         1.000000\n",
      "75%         1.000000\n",
      "max         4.000000\n",
      "              values\n",
      "count  116181.000000\n",
      "mean        0.000792\n",
      "std         0.032660\n",
      "min         0.000000\n",
      "25%         0.000000\n",
      "50%         0.000000\n",
      "75%         0.000000\n",
      "max         2.000000\n"
     ]
    }
   ],
   "source": [
    "#print(pd.DataFrame({'values' : df.toInstall.repeat(df['count'])}).describe())\n",
    "#print(pd.DataFrame({'values' : (df.toInstall - df.AlreayInstalled_all).repeat(df['count'])}).describe())\n",
    "#print(pd.DataFrame({'values' : (df.toInstall - df.AlreayInstalled_cluster).repeat(df['count'])}).describe())"
   ],
   "metadata": {
    "collapsed": false,
    "ExecuteTime": {
     "end_time": "2024-04-22T17:35:29.884983Z",
     "start_time": "2024-04-22T17:35:29.868053Z"
    }
   },
   "id": "ac6dbb89915f2b86"
  },
  {
   "cell_type": "code",
   "execution_count": 189,
   "outputs": [
    {
     "data": {
      "text/plain": "        toInstall  AlreayInstalled_all  AlreayInstalled_cluster\ncount  149.000000           149.000000               149.000000\nmean     1.993289             1.201342                 1.926174\nstd      1.402202             1.185383                 1.428919\nmin      1.000000             0.000000                 0.000000\n25%      1.000000             0.000000                 1.000000\n50%      1.000000             1.000000                 1.000000\n75%      2.000000             2.000000                 2.000000\nmax      7.000000             5.000000                 7.000000",
      "text/html": "<div>\n<style scoped>\n    .dataframe tbody tr th:only-of-type {\n        vertical-align: middle;\n    }\n\n    .dataframe tbody tr th {\n        vertical-align: top;\n    }\n\n    .dataframe thead th {\n        text-align: right;\n    }\n</style>\n<table border=\"1\" class=\"dataframe\">\n  <thead>\n    <tr style=\"text-align: right;\">\n      <th></th>\n      <th>toInstall</th>\n      <th>AlreayInstalled_all</th>\n      <th>AlreayInstalled_cluster</th>\n    </tr>\n  </thead>\n  <tbody>\n    <tr>\n      <th>count</th>\n      <td>149.000000</td>\n      <td>149.000000</td>\n      <td>149.000000</td>\n    </tr>\n    <tr>\n      <th>mean</th>\n      <td>1.993289</td>\n      <td>1.201342</td>\n      <td>1.926174</td>\n    </tr>\n    <tr>\n      <th>std</th>\n      <td>1.402202</td>\n      <td>1.185383</td>\n      <td>1.428919</td>\n    </tr>\n    <tr>\n      <th>min</th>\n      <td>1.000000</td>\n      <td>0.000000</td>\n      <td>0.000000</td>\n    </tr>\n    <tr>\n      <th>25%</th>\n      <td>1.000000</td>\n      <td>0.000000</td>\n      <td>1.000000</td>\n    </tr>\n    <tr>\n      <th>50%</th>\n      <td>1.000000</td>\n      <td>1.000000</td>\n      <td>1.000000</td>\n    </tr>\n    <tr>\n      <th>75%</th>\n      <td>2.000000</td>\n      <td>2.000000</td>\n      <td>2.000000</td>\n    </tr>\n    <tr>\n      <th>max</th>\n      <td>7.000000</td>\n      <td>5.000000</td>\n      <td>7.000000</td>\n    </tr>\n  </tbody>\n</table>\n</div>"
     },
     "execution_count": 189,
     "metadata": {},
     "output_type": "execute_result"
    }
   ],
   "source": [
    "#install_libaries[install_libaries.toInstall>0].describe()"
   ],
   "metadata": {
    "collapsed": false,
    "ExecuteTime": {
     "end_time": "2024-04-22T17:29:58.458220Z",
     "start_time": "2024-04-22T17:29:58.446662Z"
    }
   },
   "id": "acca2a2e8ca3b2ce"
  },
  {
   "cell_type": "code",
   "execution_count": 263,
   "outputs": [],
   "source": [
    "max_start = max(itertools.chain.from_iterable([vanilla_approach[f'starttime{i+1}'] for i in range(5)]))\n",
    "\n",
    "plot_start = pd.DataFrame({'values': pd.concat([vanilla_approach['starttime1']/max_start, vanilla_approach['starttime2']/max_start, vanilla_approach['starttime3']/max_start, vanilla_approach['starttime4']/max_start, vanilla_approach['starttime5']/max_start, all_top_10['starttime1']/max_start, all_top_10['starttime2']/max_start, all_top_10['starttime3']/max_start, all_top_10['starttime4']/max_start, all_top_10['starttime5']/max_start,\n",
    "               cluster_top_10['starttime1']/max_start, cluster_top_10['starttime2']/max_start, cluster_top_10['starttime3']/max_start, cluster_top_10['starttime4']/max_start, cluster_top_10['starttime5']/max_start], ignore_index=True), \n",
    "            'what': ['vanilla_approach'] * 5 * len(vanilla_approach) + ['all_top_10'] * 5 * len(all_top_10) + ['cluster_top_10'] * 5 * len(cluster_top_10)})\n",
    "\n",
    "plot_build = pd.DataFrame({'values': pd.concat([vanilla_approach.buldingtime/max(vanilla_approach.buldingtime), all_top_10.buldingtime/max(vanilla_approach.buldingtime), cluster_top_10.buldingtime/max(vanilla_approach.buldingtime)], ignore_index=True), 'what': ['vanilla_approach'] * len(vanilla_approach) + ['all_top_10'] * len(all_top_10) + ['cluster_top_10'] * len(cluster_top_10)})\n",
    "\n",
    "plot_install = pd.DataFrame({'values': pd.concat([vanilla_approach.installtime/max(vanilla_approach.installtime), all_top_10.installtime/max(vanilla_approach.installtime), cluster_top_10.installtime/max(vanilla_approach.installtime)], ignore_index=True), 'what': ['vanilla_approach'] * len(vanilla_approach) + ['all_top_10'] * len(all_top_10) + ['cluster_top_10'] * len(cluster_top_10)})\n",
    "plot_install = plot_install[plot_install['values']>-1]\n",
    "\n",
    "plot_import = pd.DataFrame({'values': pd.concat(\n",
    "    [vanilla_approach.importtime/max(vanilla_approach.importtime), all_top_10.importtime/max(vanilla_approach.importtime), cluster_top_10.importtime/max(vanilla_approach.importtime)], ignore_index=True),\n",
    "                       'what': ['vanilla_approach'] * len(vanilla_approach) + ['all_top_10'] * len(all_top_10) + [\n",
    "                           'cluster_top_10'] * len(cluster_top_10)})\n",
    "\n",
    "toplot = pd.DataFrame(pd.concat([plot_build, plot_install, plot_start, plot_import], ignore_index=True))\n",
    "toplot['exp'] = ['Build'] * len(plot_build) + ['Install'] * len(plot_install) + ['Start'] * len(plot_start) + ['Import'] * len(plot_import)"
   ],
   "metadata": {
    "collapsed": false,
    "ExecuteTime": {
     "end_time": "2024-04-22T18:40:09.798827Z",
     "start_time": "2024-04-22T18:40:09.788689Z"
    }
   },
   "id": "f80d9ccc7c76ec1"
  },
  {
   "cell_type": "code",
   "execution_count": 265,
   "outputs": [
    {
     "data": {
      "text/plain": "<Figure size 640x480 with 1 Axes>",
      "image/png": "[encoded data removed]"
     },
     "metadata": {},
     "output_type": "display_data"
    }
   ],
   "source": [
    "sns.boxplot(x='what', y='values', hue='exp', data=toplot)\n",
    "plt.xlabel('')\n",
    "plt.ylabel('Normalized Time')\n",
    "#plt.yscale('log')\n",
    "plt.ylim(0,0.2)\n",
    "plt.legend(loc='upper center', bbox_to_anchor=(0.5, -0.1), shadow=True, ncol=4)\n",
    "# Show the plot\n",
    "plt.show()"
   ],
   "metadata": {
    "collapsed": false,
    "ExecuteTime": {
     "end_time": "2024-04-22T18:40:25.171840Z",
     "start_time": "2024-04-22T18:40:24.992908Z"
    }
   },
   "id": "d3a55c8f965af870"
  }
 ],
 "metadata": {
  "kernelspec": {
   "display_name": "Python 3",
   "language": "python",
   "name": "python3"
  },
  "language_info": {
   "codemirror_mode": {
    "name": "ipython",
    "version": 2
   },
   "file_extension": ".py",
   "mimetype": "text/x-python",
   "name": "python",
   "nbconvert_exporter": "python",
   "pygments_lexer": "ipython2",
   "version": "2.7.6"
  }
 },
 "nbformat": 4,
 "nbformat_minor": 5
}
