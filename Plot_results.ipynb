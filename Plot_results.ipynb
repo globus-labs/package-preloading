{
 "cells": [
  {
   "cell_type": "code",
   "execution_count": 2,
   "id": "initial_id",
   "metadata": {
    "collapsed": true,
    "ExecuteTime": {
     "end_time": "2024-04-15T18:57:12.330673Z",
     "start_time": "2024-04-15T18:57:12.315425Z"
    }
   },
   "outputs": [],
   "source": [
    "import pandas as pd\n",
    "import matplotlib.pyplot as plt\n",
    "import seaborn as sns"
   ]
  },
  {
   "cell_type": "code",
   "execution_count": 3,
   "outputs": [],
   "source": [
    "def prepare(data):\n",
    "    data['import.start'] = pd.to_datetime(data['import.start'])\n",
    "    data['import.stop'] = pd.to_datetime(data['import.stop'])\n",
    "    data['created'] = pd.to_datetime(data['created'])\n",
    "    data['started'] = pd.to_datetime(data['started'])\n",
    "    data['finished'] = pd.to_datetime(data['finished'])\n",
    "    \n",
    "    data['starttime'] = (data['started'] - data['created']).dt.total_seconds() \n",
    "    data['dockertime'] = (data['finished'] - data['started']).dt.total_seconds() \n",
    "    data['importtime'] = (data['import.stop'] - data['import.start']).dt.total_seconds() \n",
    "    \n",
    "    started_temp = pd.DataFrame()\n",
    "    docker_temp = pd.DataFrame()\n",
    "    import_temp = pd.DataFrame()\n",
    "    \n",
    "    for i in range(8,29,5):\n",
    "        started_temp.insert(range(8,29,5).index(i), \"\", (pd.to_datetime(data.iloc[:, i+1]) - pd.to_datetime(data.iloc[:, i])).dt.total_seconds() , True)\n",
    "        docker_temp.insert(range(8,29,5).index(i), \"\", (pd.to_datetime(data.iloc[:, i+2]) - pd.to_datetime(data.iloc[:, i+1])).dt.total_seconds() , True)\n",
    "        import_temp.insert(range(8,29,5).index(i), \"\", (pd.to_datetime(data.iloc[:, i+4]) - pd.to_datetime(data.iloc[:, i+3])).dt.total_seconds() , True)\n",
    "        \n",
    "    \n",
    "    started_temp.columns = ['starttime{}'.format(i) for i in range(1, 6)]\n",
    "    docker_temp.columns = ['dockertime{}'.format(i) for i in range(1, 6)]\n",
    "    import_temp.columns = ['importtime{}'.format(i) for i in range(1, 6)]\n",
    "    \n",
    "    data = pd.concat([data, started_temp, docker_temp, import_temp], axis=1)\n",
    "    \n",
    "    return data"
   ],
   "metadata": {
    "collapsed": false,
    "ExecuteTime": {
     "end_time": "2024-04-15T18:57:12.331466Z",
     "start_time": "2024-04-15T18:57:12.321075Z"
    }
   },
   "id": "b105810311362533"
  },
  {
   "cell_type": "code",
   "execution_count": 16,
   "outputs": [],
   "source": [
    "col = ['imports', 'buldingtime', 'installtime', 'starttime', 'dockertime',\n",
    "       'importtime', 'starttime1', 'starttime2', 'starttime3', 'starttime4',\n",
    "       'starttime5', 'dockertime1', 'dockertime2', 'dockertime3',\n",
    "       'dockertime4', 'dockertime5', 'importtime1', 'importtime2',\n",
    "       'importtime3', 'importtime4', 'importtime5']"
   ],
   "metadata": {
    "collapsed": false,
    "ExecuteTime": {
     "end_time": "2024-04-15T22:38:56.307821Z",
     "start_time": "2024-04-15T22:38:56.307083Z"
    }
   },
   "id": "8b12b92f7d9a3497"
  },
  {
   "cell_type": "code",
   "execution_count": 17,
   "outputs": [],
   "source": [
    "data = pd.read_csv(\"data/every_package/run10.csv\")\n",
    "data = prepare(data)\n",
    "imp = data[col[0]]\n",
    "data = data[col[1:]]\n",
    "for i in range(9, 0, -1):\n",
    "    tmp = pd.read_csv(\"data/every_package/run0\" + str(i) + \".csv\")\n",
    "    tmp = prepare(tmp)\n",
    "    tmp = tmp[col[1:]]\n",
    "    data = (data + tmp)\n",
    "data = data / 10\n",
    "data.insert(0, col[0], imp)"
   ],
   "metadata": {
    "collapsed": false,
    "ExecuteTime": {
     "end_time": "2024-04-15T22:38:58.378421Z",
     "start_time": "2024-04-15T22:38:58.208976Z"
    }
   },
   "id": "5463fa2f7a4dab52"
  },
  {
   "cell_type": "code",
   "execution_count": 24,
   "outputs": [
    {
     "data": {
      "text/plain": "        imports  buldingtime  installtime  starttime  dockertime  importtime  \\\n52          PIL        10.08         6.36   2.108298    1.193852    0.013953   \n0      argparse         8.41         5.31   2.026819    1.210094    0.044723   \n1         clean        10.11         6.21   2.264412    1.225619    0.008079   \n2   collections         3.10        -1.00   2.838753    1.332040    0.053543   \n3       colmena        18.33        14.83   2.292351    1.201289    0.008861   \n..          ...          ...          ...        ...         ...         ...   \n87      urllib3         8.46         5.57   2.105103    1.662203    0.455932   \n88         uuid         9.98         7.12   2.033960    1.218466    0.052394   \n89     warnings         2.65        -1.00   2.180663    1.233780    0.000008   \n90   webbrowser         2.68        -1.00   2.186071    1.513124    0.239609   \n91         yaml         9.10         5.69   2.204105    1.326100    0.117158   \n\n    starttime1  starttime2  starttime3  starttime4  ...  dockertime1  \\\n52    0.667763    0.737138    0.742705    0.667914  ...     1.021978   \n0     0.643705    0.622289    0.749516    0.647798  ...     1.033787   \n1     0.806776    0.811559    0.876272    0.895461  ...     1.020749   \n2     0.755990    0.707457    0.751481    0.635921  ...     1.055140   \n3     0.774815    0.751169    0.748512    0.698446  ...     1.020600   \n..         ...         ...         ...         ...  ...          ...   \n87    0.718015    0.659613    0.754252    0.807083  ...     1.113635   \n88    0.635997    0.656979    0.617127    0.668849  ...     1.034703   \n89    0.768780    0.746880    0.726569    0.775309  ...     1.036572   \n90    0.743873    0.669989    0.748356    0.741852  ...     1.160715   \n91    0.761542    0.748223    0.695590    0.709978  ...     1.051956   \n\n    dockertime2  dockertime3  dockertime4  dockertime5  importtime1  \\\n52     1.021711     1.021370     1.020851     1.021668     0.001137   \n0      1.033656     1.033979     1.033972     1.033666     0.010771   \n1      1.020595     1.020425     1.020686     1.020643     0.000363   \n2      1.055973     1.055858     1.055842     1.055403     0.017491   \n3      1.020932     1.020517     1.020675     1.020727     0.000348   \n..          ...          ...          ...          ...          ...   \n87     1.112219     1.112764     1.113489     1.113261     0.079703   \n88     1.034570     1.034552     1.034244     1.034420     0.011224   \n89     1.035644     1.036465     1.037282     1.035259     0.000010   \n90     1.167929     1.168152     1.164633     1.162913     0.119145   \n91     1.051937     1.052184     1.051938     1.051586     0.025387   \n\n    importtime2  importtime3  importtime4  importtime5  \n52     0.000956     0.000969     0.000951     0.001033  \n0      0.011305     0.010256     0.010476     0.009689  \n1      0.000313     0.000283     0.000356     0.000386  \n2      0.017785     0.017393     0.017150     0.017925  \n3      0.000371     0.000343     0.000450     0.000418  \n..          ...          ...          ...          ...  \n87     0.079253     0.079546     0.079558     0.079631  \n88     0.011740     0.011830     0.012209     0.011898  \n89     0.000012     0.000008     0.000008     0.000007  \n90     0.124510     0.119990     0.123114     0.121590  \n91     0.027515     0.027888     0.027376     0.025443  \n\n[92 rows x 21 columns]",
      "text/html": "<div>\n<style scoped>\n    .dataframe tbody tr th:only-of-type {\n        vertical-align: middle;\n    }\n\n    .dataframe tbody tr th {\n        vertical-align: top;\n    }\n\n    .dataframe thead th {\n        text-align: right;\n    }\n</style>\n<table border=\"1\" class=\"dataframe\">\n  <thead>\n    <tr style=\"text-align: right;\">\n      <th></th>\n      <th>imports</th>\n      <th>buldingtime</th>\n      <th>installtime</th>\n      <th>starttime</th>\n      <th>dockertime</th>\n      <th>importtime</th>\n      <th>starttime1</th>\n      <th>starttime2</th>\n      <th>starttime3</th>\n      <th>starttime4</th>\n      <th>...</th>\n      <th>dockertime1</th>\n      <th>dockertime2</th>\n      <th>dockertime3</th>\n      <th>dockertime4</th>\n      <th>dockertime5</th>\n      <th>importtime1</th>\n      <th>importtime2</th>\n      <th>importtime3</th>\n      <th>importtime4</th>\n      <th>importtime5</th>\n    </tr>\n  </thead>\n  <tbody>\n    <tr>\n      <th>52</th>\n      <td>PIL</td>\n      <td>10.08</td>\n      <td>6.36</td>\n      <td>2.108298</td>\n      <td>1.193852</td>\n      <td>0.013953</td>\n      <td>0.667763</td>\n      <td>0.737138</td>\n      <td>0.742705</td>\n      <td>0.667914</td>\n      <td>...</td>\n      <td>1.021978</td>\n      <td>1.021711</td>\n      <td>1.021370</td>\n      <td>1.020851</td>\n      <td>1.021668</td>\n      <td>0.001137</td>\n      <td>0.000956</td>\n      <td>0.000969</td>\n      <td>0.000951</td>\n      <td>0.001033</td>\n    </tr>\n    <tr>\n      <th>0</th>\n      <td>argparse</td>\n      <td>8.41</td>\n      <td>5.31</td>\n      <td>2.026819</td>\n      <td>1.210094</td>\n      <td>0.044723</td>\n      <td>0.643705</td>\n      <td>0.622289</td>\n      <td>0.749516</td>\n      <td>0.647798</td>\n      <td>...</td>\n      <td>1.033787</td>\n      <td>1.033656</td>\n      <td>1.033979</td>\n      <td>1.033972</td>\n      <td>1.033666</td>\n      <td>0.010771</td>\n      <td>0.011305</td>\n      <td>0.010256</td>\n      <td>0.010476</td>\n      <td>0.009689</td>\n    </tr>\n    <tr>\n      <th>1</th>\n      <td>clean</td>\n      <td>10.11</td>\n      <td>6.21</td>\n      <td>2.264412</td>\n      <td>1.225619</td>\n      <td>0.008079</td>\n      <td>0.806776</td>\n      <td>0.811559</td>\n      <td>0.876272</td>\n      <td>0.895461</td>\n      <td>...</td>\n      <td>1.020749</td>\n      <td>1.020595</td>\n      <td>1.020425</td>\n      <td>1.020686</td>\n      <td>1.020643</td>\n      <td>0.000363</td>\n      <td>0.000313</td>\n      <td>0.000283</td>\n      <td>0.000356</td>\n      <td>0.000386</td>\n    </tr>\n    <tr>\n      <th>2</th>\n      <td>collections</td>\n      <td>3.10</td>\n      <td>-1.00</td>\n      <td>2.838753</td>\n      <td>1.332040</td>\n      <td>0.053543</td>\n      <td>0.755990</td>\n      <td>0.707457</td>\n      <td>0.751481</td>\n      <td>0.635921</td>\n      <td>...</td>\n      <td>1.055140</td>\n      <td>1.055973</td>\n      <td>1.055858</td>\n      <td>1.055842</td>\n      <td>1.055403</td>\n      <td>0.017491</td>\n      <td>0.017785</td>\n      <td>0.017393</td>\n      <td>0.017150</td>\n      <td>0.017925</td>\n    </tr>\n    <tr>\n      <th>3</th>\n      <td>colmena</td>\n      <td>18.33</td>\n      <td>14.83</td>\n      <td>2.292351</td>\n      <td>1.201289</td>\n      <td>0.008861</td>\n      <td>0.774815</td>\n      <td>0.751169</td>\n      <td>0.748512</td>\n      <td>0.698446</td>\n      <td>...</td>\n      <td>1.020600</td>\n      <td>1.020932</td>\n      <td>1.020517</td>\n      <td>1.020675</td>\n      <td>1.020727</td>\n      <td>0.000348</td>\n      <td>0.000371</td>\n      <td>0.000343</td>\n      <td>0.000450</td>\n      <td>0.000418</td>\n    </tr>\n    <tr>\n      <th>...</th>\n      <td>...</td>\n      <td>...</td>\n      <td>...</td>\n      <td>...</td>\n      <td>...</td>\n      <td>...</td>\n      <td>...</td>\n      <td>...</td>\n      <td>...</td>\n      <td>...</td>\n      <td>...</td>\n      <td>...</td>\n      <td>...</td>\n      <td>...</td>\n      <td>...</td>\n      <td>...</td>\n      <td>...</td>\n      <td>...</td>\n      <td>...</td>\n      <td>...</td>\n      <td>...</td>\n    </tr>\n    <tr>\n      <th>87</th>\n      <td>urllib3</td>\n      <td>8.46</td>\n      <td>5.57</td>\n      <td>2.105103</td>\n      <td>1.662203</td>\n      <td>0.455932</td>\n      <td>0.718015</td>\n      <td>0.659613</td>\n      <td>0.754252</td>\n      <td>0.807083</td>\n      <td>...</td>\n      <td>1.113635</td>\n      <td>1.112219</td>\n      <td>1.112764</td>\n      <td>1.113489</td>\n      <td>1.113261</td>\n      <td>0.079703</td>\n      <td>0.079253</td>\n      <td>0.079546</td>\n      <td>0.079558</td>\n      <td>0.079631</td>\n    </tr>\n    <tr>\n      <th>88</th>\n      <td>uuid</td>\n      <td>9.98</td>\n      <td>7.12</td>\n      <td>2.033960</td>\n      <td>1.218466</td>\n      <td>0.052394</td>\n      <td>0.635997</td>\n      <td>0.656979</td>\n      <td>0.617127</td>\n      <td>0.668849</td>\n      <td>...</td>\n      <td>1.034703</td>\n      <td>1.034570</td>\n      <td>1.034552</td>\n      <td>1.034244</td>\n      <td>1.034420</td>\n      <td>0.011224</td>\n      <td>0.011740</td>\n      <td>0.011830</td>\n      <td>0.012209</td>\n      <td>0.011898</td>\n    </tr>\n    <tr>\n      <th>89</th>\n      <td>warnings</td>\n      <td>2.65</td>\n      <td>-1.00</td>\n      <td>2.180663</td>\n      <td>1.233780</td>\n      <td>0.000008</td>\n      <td>0.768780</td>\n      <td>0.746880</td>\n      <td>0.726569</td>\n      <td>0.775309</td>\n      <td>...</td>\n      <td>1.036572</td>\n      <td>1.035644</td>\n      <td>1.036465</td>\n      <td>1.037282</td>\n      <td>1.035259</td>\n      <td>0.000010</td>\n      <td>0.000012</td>\n      <td>0.000008</td>\n      <td>0.000008</td>\n      <td>0.000007</td>\n    </tr>\n    <tr>\n      <th>90</th>\n      <td>webbrowser</td>\n      <td>2.68</td>\n      <td>-1.00</td>\n      <td>2.186071</td>\n      <td>1.513124</td>\n      <td>0.239609</td>\n      <td>0.743873</td>\n      <td>0.669989</td>\n      <td>0.748356</td>\n      <td>0.741852</td>\n      <td>...</td>\n      <td>1.160715</td>\n      <td>1.167929</td>\n      <td>1.168152</td>\n      <td>1.164633</td>\n      <td>1.162913</td>\n      <td>0.119145</td>\n      <td>0.124510</td>\n      <td>0.119990</td>\n      <td>0.123114</td>\n      <td>0.121590</td>\n    </tr>\n    <tr>\n      <th>91</th>\n      <td>yaml</td>\n      <td>9.10</td>\n      <td>5.69</td>\n      <td>2.204105</td>\n      <td>1.326100</td>\n      <td>0.117158</td>\n      <td>0.761542</td>\n      <td>0.748223</td>\n      <td>0.695590</td>\n      <td>0.709978</td>\n      <td>...</td>\n      <td>1.051956</td>\n      <td>1.051937</td>\n      <td>1.052184</td>\n      <td>1.051938</td>\n      <td>1.051586</td>\n      <td>0.025387</td>\n      <td>0.027515</td>\n      <td>0.027888</td>\n      <td>0.027376</td>\n      <td>0.025443</td>\n    </tr>\n  </tbody>\n</table>\n<p>92 rows × 21 columns</p>\n</div>"
     },
     "execution_count": 24,
     "metadata": {},
     "output_type": "execute_result"
    }
   ],
   "source": [
    "data.sort_values(by=['imports'], ascending=True)"
   ],
   "metadata": {
    "collapsed": false,
    "ExecuteTime": {
     "end_time": "2024-04-15T22:46:28.939367Z",
     "start_time": "2024-04-15T22:46:28.927955Z"
    }
   },
   "id": "cf030448cc5480c9"
  },
  {
   "cell_type": "code",
   "execution_count": 89,
   "outputs": [],
   "source": [
    "vanilla_approach = pd.read_csv(f\"data/vanilla_approach/run10.csv\")\n",
    "all_top_10 = pd.read_csv(f\"data/all_top_10/run10.csv\")\n",
    "cluster_top_10 = pd.read_csv(f\"data/cluster_top_10/run10.csv\")"
   ],
   "metadata": {
    "collapsed": false,
    "ExecuteTime": {
     "end_time": "2024-04-18T23:30:51.716531Z",
     "start_time": "2024-04-18T23:30:51.699971Z"
    }
   },
   "id": "b7e2b77bc0726d30"
  },
  {
   "cell_type": "code",
   "execution_count": 90,
   "outputs": [],
   "source": [
    "for run in range(9, 0, -1):\n",
    "    vanilla_approach = pd.concat([vanilla_approach, pd.read_csv(f\"data/vanilla_approach/run0{run}.csv\")])\n",
    "    all_top_10 = pd.concat([all_top_10, pd.read_csv(f\"data/all_top_10/run0{run}.csv\")])\n",
    "    cluster_top_10 = pd.concat([cluster_top_10, pd.read_csv(f\"data/cluster_top_10/run0{run}.csv\")])"
   ],
   "metadata": {
    "collapsed": false,
    "ExecuteTime": {
     "end_time": "2024-04-18T23:30:53.436823Z",
     "start_time": "2024-04-18T23:30:53.323701Z"
    }
   },
   "id": "20565ce17b2897f5"
  },
  {
   "cell_type": "code",
   "execution_count": 91,
   "outputs": [],
   "source": [
    "vanilla_approach = prepare(vanilla_approach)\n",
    "all_top_10 = prepare(all_top_10)\n",
    "cluster_top_10 = prepare(cluster_top_10)"
   ],
   "metadata": {
    "collapsed": false,
    "ExecuteTime": {
     "end_time": "2024-04-18T23:30:55.678340Z",
     "start_time": "2024-04-18T23:30:55.536804Z"
    }
   },
   "id": "e7689597ae8c4d6d"
  },
  {
   "cell_type": "code",
   "execution_count": 98,
   "outputs": [],
   "source": [
    "vanilla_approach.loc[vanilla_approach['installtime'] == -1, 'installtime'] = 0\n",
    "all_top_10.loc[all_top_10['installtime'] == -1, 'installtime'] = 0\n",
    "cluster_top_10.loc[cluster_top_10['installtime'] == -1, 'installtime'] = 0"
   ],
   "metadata": {
    "collapsed": false,
    "ExecuteTime": {
     "end_time": "2024-04-18T23:33:21.402318Z",
     "start_time": "2024-04-18T23:33:21.390667Z"
    }
   },
   "id": "f5e53eabfa7ff9a6"
  },
  {
   "cell_type": "code",
   "execution_count": 44,
   "outputs": [
    {
     "name": "stdout",
     "output_type": "stream",
     "text": [
      "(1490, 51)\n",
      "(2070,)\n",
      "count    2070.000000\n",
      "mean       10.193527\n",
      "std        25.575314\n",
      "min         1.000000\n",
      "25%         3.800000\n",
      "50%         7.900000\n",
      "75%        10.600000\n",
      "max       400.000000\n",
      "Name: buldingtime, dtype: float64\n"
     ]
    }
   ],
   "source": [
    "print(vanilla_approach['buldingtime'].describe())\n",
    "print(all_top_10['buldingtime'].describe())\n",
    "print(cluster_top_10['buldingtime'].describe())"
   ],
   "metadata": {
    "collapsed": false,
    "ExecuteTime": {
     "end_time": "2024-04-18T23:18:17.860084Z",
     "start_time": "2024-04-18T23:18:17.852831Z"
    }
   },
   "id": "eed7799a7790efe4"
  },
  {
   "cell_type": "code",
   "execution_count": 99,
   "outputs": [
    {
     "name": "stdout",
     "output_type": "stream",
     "text": [
      "count    2070.000000\n",
      "mean       27.385797\n",
      "std        54.852401\n",
      "min         0.000000\n",
      "25%         0.000000\n",
      "50%         8.300000\n",
      "75%        18.375000\n",
      "max       243.300000\n",
      "Name: installtime, dtype: float64\n",
      "count    2070.000000\n",
      "mean        8.802705\n",
      "std        21.747069\n",
      "min         0.000000\n",
      "25%         0.000000\n",
      "50%         5.500000\n",
      "75%         8.400000\n",
      "max       234.400000\n",
      "Name: installtime, dtype: float64\n",
      "count    2070.000000\n",
      "mean        6.127150\n",
      "std        14.919013\n",
      "min         0.000000\n",
      "25%         0.000000\n",
      "50%         5.100000\n",
      "75%         7.100000\n",
      "max       217.600000\n",
      "Name: installtime, dtype: float64\n"
     ]
    }
   ],
   "source": [
    "print(vanilla_approach['installtime'].describe())\n",
    "print(all_top_10['installtime'].describe())\n",
    "print(cluster_top_10['installtime'].describe())"
   ],
   "metadata": {
    "collapsed": false,
    "ExecuteTime": {
     "end_time": "2024-04-18T23:33:28.327762Z",
     "start_time": "2024-04-18T23:33:28.315392Z"
    }
   },
   "id": "9a38a7faf9efabb0"
  },
  {
   "cell_type": "code",
   "execution_count": 8,
   "outputs": [
    {
     "name": "stdout",
     "output_type": "stream",
     "text": [
      "count    2070.000000\n",
      "mean        2.377417\n",
      "std         0.693898\n",
      "min         1.135387\n",
      "25%         1.911363\n",
      "50%         2.081936\n",
      "75%         2.707737\n",
      "max         7.351260\n",
      "Name: starttime, dtype: float64\n",
      "count    2070.000000\n",
      "mean        2.422666\n",
      "std         0.654609\n",
      "min         1.206953\n",
      "25%         2.007425\n",
      "50%         2.144118\n",
      "75%         2.697853\n",
      "max         7.388799\n",
      "Name: starttime, dtype: float64\n",
      "count    2070.000000\n",
      "mean        2.212326\n",
      "std         0.647975\n",
      "min         1.600626\n",
      "25%         1.826340\n",
      "50%         1.944655\n",
      "75%         2.316585\n",
      "max         6.446158\n",
      "Name: starttime, dtype: float64\n"
     ]
    }
   ],
   "source": [
    "print(vanilla_approach['starttime'].describe())\n",
    "print(all_top_10['starttime'].describe())\n",
    "print(cluster_top_10['starttime'].describe())"
   ],
   "metadata": {
    "collapsed": false,
    "ExecuteTime": {
     "end_time": "2024-04-15T18:57:12.603545Z",
     "start_time": "2024-04-15T18:57:12.599287Z"
    }
   },
   "id": "80f574bcf35a7db7"
  },
  {
   "cell_type": "code",
   "execution_count": 57,
   "outputs": [],
   "source": [
    "#toplot = pd.DataFrame({'values': pd.concat([vanilla_approach.starttime, all_top_10.starttime, cluster_top_10.starttime], ignore_index=True), 'what': ['vanilla_approach'] * len(vanilla_approach) + ['all_top_10'] * len(all_top_10) + ['cluster_top_10'] * len(cluster_top_10)})\n",
    "toplot = pd.DataFrame({'values': pd.concat([vanilla_approach['starttime1'], vanilla_approach['starttime2'], vanilla_approach['starttime3'], vanilla_approach['starttime4'], vanilla_approach['starttime5'],\n",
    "               all_top_10['starttime1'], all_top_10['starttime2'], all_top_10['starttime3'], all_top_10['starttime4'], all_top_10['starttime5'],\n",
    "               cluster_top_10['starttime1'], cluster_top_10['starttime2'], cluster_top_10['starttime3'], cluster_top_10['starttime4'], cluster_top_10['starttime5']], ignore_index=True), \n",
    "            'what': ['vanilla_approach'] * 5 * len(vanilla_approach) + ['all_top_10'] * 5 * len(all_top_10) + ['cluster_top_10'] * 5 * len(cluster_top_10)})"
   ],
   "metadata": {
    "collapsed": false,
    "ExecuteTime": {
     "end_time": "2024-04-18T23:24:33.379069Z",
     "start_time": "2024-04-18T23:24:33.372841Z"
    }
   },
   "id": "271fd4500dfbdf99"
  },
  {
   "cell_type": "code",
   "execution_count": 58,
   "outputs": [
    {
     "data": {
      "text/plain": "<Figure size 1000x600 with 1 Axes>",
      "image/png": "[encoded data removed]"
     },
     "metadata": {},
     "output_type": "display_data"
    }
   ],
   "source": [
    "plt.figure(figsize=(10, 6))\n",
    "sns.boxplot(x='what', y='values', data=toplot)\n",
    "plt.xlabel('')\n",
    "plt.ylabel('Time in seconds')\n",
    "plt.title('Start Time')\n",
    "plt.yscale('log')\n",
    "plt.yticks([0.5, 1, 3, 5],[0.5, 1, 3, 5])\n",
    "plt.show()"
   ],
   "metadata": {
    "collapsed": false,
    "ExecuteTime": {
     "end_time": "2024-04-18T23:24:34.844798Z",
     "start_time": "2024-04-18T23:24:34.703326Z"
    }
   },
   "id": "d46b592e60d5cff0"
  },
  {
   "cell_type": "code",
   "execution_count": 59,
   "outputs": [],
   "source": [
    "toplot = pd.DataFrame({'values': pd.concat([vanilla_approach.buldingtime, all_top_10.buldingtime, cluster_top_10.buldingtime], ignore_index=True), 'what': ['vanilla_approach'] * len(vanilla_approach) + ['all_top_10'] * len(all_top_10) + ['cluster_top_10'] * len(cluster_top_10)})"
   ],
   "metadata": {
    "collapsed": false,
    "ExecuteTime": {
     "end_time": "2024-04-18T23:24:37.842126Z",
     "start_time": "2024-04-18T23:24:37.839503Z"
    }
   },
   "id": "7d2088137db47043"
  },
  {
   "cell_type": "code",
   "execution_count": 60,
   "outputs": [
    {
     "data": {
      "text/plain": "<Figure size 1000x600 with 1 Axes>",
      "image/png": "[encoded data removed]"
     },
     "metadata": {},
     "output_type": "display_data"
    }
   ],
   "source": [
    "plt.figure(figsize=(10, 6))\n",
    "sns.boxplot(x='what', y='values', data=toplot)\n",
    "plt.xlabel('')\n",
    "plt.ylabel('Time in seconds')\n",
    "plt.title('Build Time')\n",
    "plt.yscale('log')\n",
    "#plt.yticks([0.5, 1, 3, 5],[0.5, 1, 3, 5])\n",
    "plt.show()"
   ],
   "metadata": {
    "collapsed": false,
    "ExecuteTime": {
     "end_time": "2024-04-18T23:24:39.151051Z",
     "start_time": "2024-04-18T23:24:38.960750Z"
    }
   },
   "id": "3843bf05a219cfa1"
  },
  {
   "cell_type": "code",
   "execution_count": 61,
   "outputs": [],
   "source": [
    "toplot = pd.DataFrame({'values': pd.concat([vanilla_approach.installtime, all_top_10.installtime, cluster_top_10.installtime], ignore_index=True), 'what': ['vanilla_approach'] * len(vanilla_approach) + ['all_top_10'] * len(all_top_10) + ['cluster_top_10'] * len(cluster_top_10)})\n",
    "toplot = toplot[toplot['values']>-1]"
   ],
   "metadata": {
    "collapsed": false,
    "ExecuteTime": {
     "end_time": "2024-04-18T23:24:43.258518Z",
     "start_time": "2024-04-18T23:24:43.256125Z"
    }
   },
   "id": "b2976d7b61876cb4"
  },
  {
   "cell_type": "code",
   "execution_count": 62,
   "outputs": [
    {
     "data": {
      "text/plain": "<Figure size 1000x600 with 1 Axes>",
      "image/png": "[encoded data removed]"
     },
     "metadata": {},
     "output_type": "display_data"
    }
   ],
   "source": [
    "plt.figure(figsize=(10, 6))\n",
    "sns.boxplot(x='what', y='values', data=toplot)\n",
    "plt.xlabel('')\n",
    "plt.ylabel('Time in seconds')\n",
    "plt.title('Install Time')\n",
    "plt.yscale('log')\n",
    "#plt.yticks([0.5, 1, 3, 5],[0.5, 1, 3, 5])\n",
    "plt.show()"
   ],
   "metadata": {
    "collapsed": false,
    "ExecuteTime": {
     "end_time": "2024-04-18T23:24:44.896684Z",
     "start_time": "2024-04-18T23:24:44.768970Z"
    }
   },
   "id": "4ad2fa6e476f597a"
  },
  {
   "cell_type": "code",
   "execution_count": 13,
   "outputs": [
    {
     "name": "stderr",
     "output_type": "stream",
     "text": [
      "/var/folders/86/fyd29lqj0033vg6drb2b412m0000gn/T/ipykernel_6215/3142692610.py:4: FutureWarning: Series.__getitem__ treating keys as positions is deprecated. In a future version, integer keys will always be treated as labels (consistent with DataFrame behavior). To access a value by position, use `ser.iloc[pos]`\n",
      "  if pd.isna(row[1]):\n",
      "/var/folders/86/fyd29lqj0033vg6drb2b412m0000gn/T/ipykernel_6215/3142692610.py:7: FutureWarning: Series.__getitem__ treating keys as positions is deprecated. In a future version, integer keys will always be treated as labels (consistent with DataFrame behavior). To access a value by position, use `ser.iloc[pos]`\n",
      "  ins = set(row[1].split(\";\"))\n",
      "/var/folders/86/fyd29lqj0033vg6drb2b412m0000gn/T/ipykernel_6215/3142692610.py:8: FutureWarning: Series.__getitem__ treating keys as positions is deprecated. In a future version, integer keys will always be treated as labels (consistent with DataFrame behavior). To access a value by position, use `ser.iloc[pos]`\n",
      "  all = set(row[2].split(\";\"))\n",
      "/var/folders/86/fyd29lqj0033vg6drb2b412m0000gn/T/ipykernel_6215/3142692610.py:9: FutureWarning: Series.__getitem__ treating keys as positions is deprecated. In a future version, integer keys will always be treated as labels (consistent with DataFrame behavior). To access a value by position, use `ser.iloc[pos]`\n",
      "  if pd.isna(row[3]):\n",
      "/var/folders/86/fyd29lqj0033vg6drb2b412m0000gn/T/ipykernel_6215/3142692610.py:12: FutureWarning: Series.__getitem__ treating keys as positions is deprecated. In a future version, integer keys will always be treated as labels (consistent with DataFrame behavior). To access a value by position, use `ser.iloc[pos]`\n",
      "  clu = set(row[3].split(\";\"))\n"
     ]
    }
   ],
   "source": [
    "install = pd.read_csv(\"experiments/installations.csv\")\n",
    "install_libaries = pd.DataFrame()\n",
    "for index, row in install.iterrows():\n",
    "    if pd.isna(row[1]):\n",
    "        ins = set()\n",
    "    else: \n",
    "        ins = set(row[1].split(\";\"))\n",
    "    all = set(row[2].split(\";\"))\n",
    "    if pd.isna(row[3]):\n",
    "        clu = set()\n",
    "    else: \n",
    "        clu = set(row[3].split(\";\"))\n",
    "    install_libaries = pd.concat([install_libaries, pd.DataFrame([[len(ins), len(ins.intersection(all)), len(ins.intersection(clu))]])], ignore_index=True)\n",
    "install_libaries.columns = ['toInstall', 'AlreayInstalled_all', 'AlreayInstalled_cluster']\n"
   ],
   "metadata": {
    "collapsed": false,
    "ExecuteTime": {
     "end_time": "2024-04-15T18:57:13.042247Z",
     "start_time": "2024-04-15T18:57:12.984455Z"
    }
   },
   "id": "a67357045bfa20fe"
  },
  {
   "cell_type": "code",
   "execution_count": 14,
   "outputs": [
    {
     "name": "stdout",
     "output_type": "stream",
     "text": [
      "count    207.000000\n",
      "mean       1.434783\n",
      "std        1.489232\n",
      "min        0.000000\n",
      "25%        0.000000\n",
      "50%        1.000000\n",
      "75%        2.000000\n",
      "max        7.000000\n",
      "Name: toInstall, dtype: float64\n",
      "count    207.000000\n",
      "mean       0.570048\n",
      "std        0.888804\n",
      "min        0.000000\n",
      "25%        0.000000\n",
      "50%        0.000000\n",
      "75%        1.000000\n",
      "max        5.000000\n",
      "dtype: float64\n",
      "count    207.000000\n",
      "mean       0.048309\n",
      "std        0.256156\n",
      "min        0.000000\n",
      "25%        0.000000\n",
      "50%        0.000000\n",
      "75%        0.000000\n",
      "max        2.000000\n",
      "dtype: float64\n"
     ]
    }
   ],
   "source": [
    "print(install_libaries.toInstall.describe())\n",
    "print((install_libaries.toInstall - install_libaries.AlreayInstalled_all).describe())\n",
    "print((install_libaries.toInstall - install_libaries.AlreayInstalled_cluster).describe())"
   ],
   "metadata": {
    "collapsed": false,
    "ExecuteTime": {
     "end_time": "2024-04-15T18:57:13.042496Z",
     "start_time": "2024-04-15T18:57:13.013574Z"
    }
   },
   "id": "d5b85395dccaf92c"
  }
 ],
 "metadata": {
  "kernelspec": {
   "display_name": "Python 3",
   "language": "python",
   "name": "python3"
  },
  "language_info": {
   "codemirror_mode": {
    "name": "ipython",
    "version": 2
   },
   "file_extension": ".py",
   "mimetype": "text/x-python",
   "name": "python",
   "nbconvert_exporter": "python",
   "pygments_lexer": "ipython2",
   "version": "2.7.6"
  }
 },
 "nbformat": 4,
 "nbformat_minor": 5
}
