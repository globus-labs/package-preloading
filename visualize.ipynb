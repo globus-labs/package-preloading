{
 "cells": [
  {
   "cell_type": "code",
   "execution_count": 1,
   "id": "initial_id",
   "metadata": {
    "ExecuteTime": {
     "end_time": "2024-04-06T03:08:11.238891Z",
     "start_time": "2024-04-06T03:08:11.233047Z"
    }
   },
   "outputs": [],
   "source": [
    "import pandas as pd"
   ]
  },
  {
   "cell_type": "code",
   "execution_count": 2,
   "id": "16b0a5ff0543ef2",
   "metadata": {
    "ExecuteTime": {
     "end_time": "2024-04-06T03:08:13.443629Z",
     "start_time": "2024-04-06T03:08:13.441938Z"
    },
    "collapsed": false,
    "jupyter": {
     "outputs_hidden": false
    }
   },
   "outputs": [],
   "source": [
    "def prepare(data):\n",
    "    data['import.start'] = pd.to_datetime(data['import.start'])\n",
    "    data['import.stop'] = pd.to_datetime(data['import.stop'])\n",
    "    data['created'] = pd.to_datetime(data['created'])\n",
    "    data['started'] = pd.to_datetime(data['started'])\n",
    "    data['finished'] = pd.to_datetime(data['finished'])\n",
    "    \n",
    "    data['starttime'] = (data['started'] - data['created']).dt.total_seconds() \n",
    "    data['dockertime'] = (data['finished'] - data['started']).dt.total_seconds() \n",
    "    data['importtime'] = (data['import.stop'] - data['import.start']).dt.total_seconds() \n",
    "    \n",
    "    started_temp = pd.DataFrame()\n",
    "    docker_temp = pd.DataFrame()\n",
    "    import_temp = pd.DataFrame()\n",
    "    \n",
    "    for i in range(8,29,5):\n",
    "        started_temp.insert(range(8,29,5).index(i), \"\", (pd.to_datetime(data.iloc[:, i+1]) - pd.to_datetime(data.iloc[:, i])).dt.total_seconds() , True)\n",
    "        docker_temp.insert(range(8,29,5).index(i), \"\", (pd.to_datetime(data.iloc[:, i+2]) - pd.to_datetime(data.iloc[:, i+1])).dt.total_seconds() , True)\n",
    "        import_temp.insert(range(8,29,5).index(i), \"\", (pd.to_datetime(data.iloc[:, i+4]) - pd.to_datetime(data.iloc[:, i+3])).dt.total_seconds() , True)\n",
    "        \n",
    "    \n",
    "    started_temp.columns = ['starttime{}'.format(i) for i in range(1, 6)]\n",
    "    docker_temp.columns = ['dockertime{}'.format(i) for i in range(1, 6)]\n",
    "    import_temp.columns = ['importtime{}'.format(i) for i in range(1, 6)]\n",
    "    \n",
    "    data = pd.concat([data, started_temp, docker_temp, import_temp], axis=1)\n",
    "    \n",
    "    return data"
   ]
  },
  {
   "cell_type": "code",
   "execution_count": 3,
   "id": "aa1b98486e816909",
   "metadata": {
    "ExecuteTime": {
     "end_time": "2024-04-06T03:08:15.229894Z",
     "start_time": "2024-04-06T03:08:15.228570Z"
    },
    "collapsed": false,
    "jupyter": {
     "outputs_hidden": false
    }
   },
   "outputs": [],
   "source": [
    "def extract_imports(imp):\n",
    "    imp = imp.split(\"'\")\n",
    "    l = \"\"\n",
    "    \n",
    "    for i in imp:\n",
    "        if i == \"(\" or i == \")\" or i == \",)\" or i == \",\" or i == \"()\" or i == \", \":\n",
    "            continue\n",
    "        else:\n",
    "            if l == \"\":\n",
    "                l = i\n",
    "            else:\n",
    "                l = l + \";\" + i\n",
    "    return l"
   ]
  },
  {
   "cell_type": "markdown",
   "id": "fc2b16992b94fa98",
   "metadata": {
    "collapsed": false,
    "jupyter": {
     "outputs_hidden": false
    }
   },
   "source": [
    "This is one experiment run with using the top 10 packages over all functions\n",
    "The installationtime is set to minus -1 if there was no install as for native python packages as os"
   ]
  },
  {
   "cell_type": "code",
   "execution_count": 4,
   "id": "75ea9358d1388ee3",
   "metadata": {
    "ExecuteTime": {
     "end_time": "2024-04-09T19:47:37.621736Z",
     "start_time": "2024-04-09T19:47:37.617673Z"
    },
    "collapsed": false,
    "jupyter": {
     "outputs_hidden": false
    }
   },
   "outputs": [],
   "source": [
    "approach = \"all_top_10\"\n",
    "col = ['imports', 'buldingtime', 'installtime', 'starttime', 'dockertime',\n",
    "       'importtime', 'starttime1', 'starttime2', 'starttime3', 'starttime4',\n",
    "       'starttime5', 'dockertime1', 'dockertime2', 'dockertime3',\n",
    "       'dockertime4', 'dockertime5', 'importtime1', 'importtime2',\n",
    "       'importtime3', 'importtime4', 'importtime5']"
   ]
  },
  {
   "cell_type": "code",
   "execution_count": 5,
   "id": "f7a4bf12f4164f60",
   "metadata": {
    "ExecuteTime": {
     "end_time": "2024-04-09T19:47:40.722354Z",
     "start_time": "2024-04-09T19:47:40.698292Z"
    },
    "collapsed": false,
    "jupyter": {
     "outputs_hidden": false
    }
   },
   "outputs": [],
   "source": [
    "data = pd.read_csv(\"data/\"+approach+\"/run10.csv\")\n",
    "data = prepare(data)\n",
    "imp = data[col[0]]\n",
    "data = data[col[1:]]"
   ]
  },
  {
   "cell_type": "code",
   "execution_count": 6,
   "id": "2fd342f5564b028b",
   "metadata": {
    "ExecuteTime": {
     "end_time": "2024-04-09T19:47:43.141334Z",
     "start_time": "2024-04-09T19:47:42.972822Z"
    },
    "collapsed": false,
    "jupyter": {
     "outputs_hidden": false
    }
   },
   "outputs": [],
   "source": [
    "for i in range(9,0,-1):\n",
    "    tmp = pd.read_csv(\"data/\"+approach+\"/run0\"+str(i)+\".csv\")\n",
    "    tmp = prepare(tmp)\n",
    "    tmp = tmp[col[1:]]\n",
    "    data = (data + tmp)\n",
    "data = data/10\n",
    "data.insert(0, col[0],imp)"
   ]
  },
  {
   "cell_type": "code",
   "execution_count": 7,
   "id": "3c05fb5f6459b67b",
   "metadata": {
    "ExecuteTime": {
     "end_time": "2024-04-09T19:47:47.639015Z",
     "start_time": "2024-04-09T19:47:47.634607Z"
    },
    "collapsed": false,
    "jupyter": {
     "outputs_hidden": false
    }
   },
   "outputs": [
    {
     "data": {
      "text/html": [
       "<div>\n",
       "<style scoped>\n",
       "    .dataframe tbody tr th:only-of-type {\n",
       "        vertical-align: middle;\n",
       "    }\n",
       "\n",
       "    .dataframe tbody tr th {\n",
       "        vertical-align: top;\n",
       "    }\n",
       "\n",
       "    .dataframe thead th {\n",
       "        text-align: right;\n",
       "    }\n",
       "</style>\n",
       "<table border=\"1\" class=\"dataframe\">\n",
       "  <thead>\n",
       "    <tr style=\"text-align: right;\">\n",
       "      <th></th>\n",
       "      <th>imports</th>\n",
       "      <th>buldingtime</th>\n",
       "      <th>installtime</th>\n",
       "      <th>starttime</th>\n",
       "      <th>dockertime</th>\n",
       "      <th>importtime</th>\n",
       "      <th>starttime1</th>\n",
       "      <th>starttime2</th>\n",
       "      <th>starttime3</th>\n",
       "      <th>starttime4</th>\n",
       "      <th>...</th>\n",
       "      <th>dockertime1</th>\n",
       "      <th>dockertime2</th>\n",
       "      <th>dockertime3</th>\n",
       "      <th>dockertime4</th>\n",
       "      <th>dockertime5</th>\n",
       "      <th>importtime1</th>\n",
       "      <th>importtime2</th>\n",
       "      <th>importtime3</th>\n",
       "      <th>importtime4</th>\n",
       "      <th>importtime5</th>\n",
       "    </tr>\n",
       "  </thead>\n",
       "  <tbody>\n",
       "    <tr>\n",
       "      <th>0</th>\n",
       "      <td>argparse;copy;datetime;funcx;itertools;json;ma...</td>\n",
       "      <td>32.55</td>\n",
       "      <td>28.33</td>\n",
       "      <td>2.857089</td>\n",
       "      <td>4.959326</td>\n",
       "      <td>3.581705</td>\n",
       "      <td>0.800952</td>\n",
       "      <td>0.790513</td>\n",
       "      <td>0.768165</td>\n",
       "      <td>0.837131</td>\n",
       "      <td>...</td>\n",
       "      <td>1.551979</td>\n",
       "      <td>1.553525</td>\n",
       "      <td>1.547483</td>\n",
       "      <td>1.544654</td>\n",
       "      <td>1.555830</td>\n",
       "      <td>0.443851</td>\n",
       "      <td>0.448588</td>\n",
       "      <td>0.440111</td>\n",
       "      <td>0.437569</td>\n",
       "      <td>0.446751</td>\n",
       "    </tr>\n",
       "    <tr>\n",
       "      <th>1</th>\n",
       "      <td>argparse;copy;funcx;itertools;json;matplotlib;...</td>\n",
       "      <td>28.58</td>\n",
       "      <td>25.28</td>\n",
       "      <td>2.465303</td>\n",
       "      <td>4.592141</td>\n",
       "      <td>3.236354</td>\n",
       "      <td>0.652623</td>\n",
       "      <td>0.669909</td>\n",
       "      <td>0.637811</td>\n",
       "      <td>0.659890</td>\n",
       "      <td>...</td>\n",
       "      <td>1.550738</td>\n",
       "      <td>1.548923</td>\n",
       "      <td>1.543917</td>\n",
       "      <td>1.550800</td>\n",
       "      <td>1.546416</td>\n",
       "      <td>0.444314</td>\n",
       "      <td>0.443242</td>\n",
       "      <td>0.438259</td>\n",
       "      <td>0.445283</td>\n",
       "      <td>0.441971</td>\n",
       "    </tr>\n",
       "    <tr>\n",
       "      <th>2</th>\n",
       "      <td>argparse;sys</td>\n",
       "      <td>8.08</td>\n",
       "      <td>5.57</td>\n",
       "      <td>2.345542</td>\n",
       "      <td>1.310198</td>\n",
       "      <td>0.033489</td>\n",
       "      <td>0.745338</td>\n",
       "      <td>0.747160</td>\n",
       "      <td>0.842015</td>\n",
       "      <td>0.660901</td>\n",
       "      <td>...</td>\n",
       "      <td>1.036167</td>\n",
       "      <td>1.036344</td>\n",
       "      <td>1.036176</td>\n",
       "      <td>1.035654</td>\n",
       "      <td>1.036544</td>\n",
       "      <td>0.006620</td>\n",
       "      <td>0.006533</td>\n",
       "      <td>0.005598</td>\n",
       "      <td>0.006537</td>\n",
       "      <td>0.006139</td>\n",
       "    </tr>\n",
       "    <tr>\n",
       "      <th>3</th>\n",
       "      <td>CLEAN</td>\n",
       "      <td>8.18</td>\n",
       "      <td>5.67</td>\n",
       "      <td>2.429079</td>\n",
       "      <td>1.309476</td>\n",
       "      <td>0.006192</td>\n",
       "      <td>0.744059</td>\n",
       "      <td>0.750829</td>\n",
       "      <td>0.785918</td>\n",
       "      <td>0.762379</td>\n",
       "      <td>...</td>\n",
       "      <td>1.028581</td>\n",
       "      <td>1.027413</td>\n",
       "      <td>1.027378</td>\n",
       "      <td>1.027771</td>\n",
       "      <td>1.026981</td>\n",
       "      <td>0.000239</td>\n",
       "      <td>0.000153</td>\n",
       "      <td>0.000201</td>\n",
       "      <td>0.000240</td>\n",
       "      <td>0.000223</td>\n",
       "    </tr>\n",
       "    <tr>\n",
       "      <th>4</th>\n",
       "      <td>CLEAN;os</td>\n",
       "      <td>7.75</td>\n",
       "      <td>5.46</td>\n",
       "      <td>2.407829</td>\n",
       "      <td>1.296658</td>\n",
       "      <td>0.006051</td>\n",
       "      <td>0.684403</td>\n",
       "      <td>0.735868</td>\n",
       "      <td>0.708399</td>\n",
       "      <td>0.624067</td>\n",
       "      <td>...</td>\n",
       "      <td>1.028333</td>\n",
       "      <td>1.028070</td>\n",
       "      <td>1.027802</td>\n",
       "      <td>1.027639</td>\n",
       "      <td>1.027857</td>\n",
       "      <td>0.000296</td>\n",
       "      <td>0.000291</td>\n",
       "      <td>0.000304</td>\n",
       "      <td>0.000191</td>\n",
       "      <td>0.000234</td>\n",
       "    </tr>\n",
       "  </tbody>\n",
       "</table>\n",
       "<p>5 rows × 21 columns</p>\n",
       "</div>"
      ],
      "text/plain": [
       "                                             imports  buldingtime  \\\n",
       "0  argparse;copy;datetime;funcx;itertools;json;ma...        32.55   \n",
       "1  argparse;copy;funcx;itertools;json;matplotlib;...        28.58   \n",
       "2                                       argparse;sys         8.08   \n",
       "3                                              CLEAN         8.18   \n",
       "4                                           CLEAN;os         7.75   \n",
       "\n",
       "   installtime  starttime  dockertime  importtime  starttime1  starttime2  \\\n",
       "0        28.33   2.857089    4.959326    3.581705    0.800952    0.790513   \n",
       "1        25.28   2.465303    4.592141    3.236354    0.652623    0.669909   \n",
       "2         5.57   2.345542    1.310198    0.033489    0.745338    0.747160   \n",
       "3         5.67   2.429079    1.309476    0.006192    0.744059    0.750829   \n",
       "4         5.46   2.407829    1.296658    0.006051    0.684403    0.735868   \n",
       "\n",
       "   starttime3  starttime4  ...  dockertime1  dockertime2  dockertime3  \\\n",
       "0    0.768165    0.837131  ...     1.551979     1.553525     1.547483   \n",
       "1    0.637811    0.659890  ...     1.550738     1.548923     1.543917   \n",
       "2    0.842015    0.660901  ...     1.036167     1.036344     1.036176   \n",
       "3    0.785918    0.762379  ...     1.028581     1.027413     1.027378   \n",
       "4    0.708399    0.624067  ...     1.028333     1.028070     1.027802   \n",
       "\n",
       "   dockertime4  dockertime5  importtime1  importtime2  importtime3  \\\n",
       "0     1.544654     1.555830     0.443851     0.448588     0.440111   \n",
       "1     1.550800     1.546416     0.444314     0.443242     0.438259   \n",
       "2     1.035654     1.036544     0.006620     0.006533     0.005598   \n",
       "3     1.027771     1.026981     0.000239     0.000153     0.000201   \n",
       "4     1.027639     1.027857     0.000296     0.000291     0.000304   \n",
       "\n",
       "   importtime4  importtime5  \n",
       "0     0.437569     0.446751  \n",
       "1     0.445283     0.441971  \n",
       "2     0.006537     0.006139  \n",
       "3     0.000240     0.000223  \n",
       "4     0.000191     0.000234  \n",
       "\n",
       "[5 rows x 21 columns]"
      ]
     },
     "execution_count": 7,
     "metadata": {},
     "output_type": "execute_result"
    }
   ],
   "source": [
    "data.head()"
   ]
  },
  {
   "cell_type": "markdown",
   "id": "cd6ceed409045138",
   "metadata": {
    "collapsed": false,
    "jupyter": {
     "outputs_hidden": false
    }
   },
   "source": [
    "This is the mapping between imports and function\n",
    "For this merge and the following ones, there is no need to think about on which join-operation. I cleaned the data beforehand. That is, there will be always a pair \n",
    "```python\n",
    "pd.merge(func_mapping,data, on='imports')\n",
    "```"
   ]
  },
  {
   "cell_type": "code",
   "execution_count": 8,
   "id": "d69f29b04d35b7e8",
   "metadata": {
    "ExecuteTime": {
     "end_time": "2024-04-06T03:08:24.027052Z",
     "start_time": "2024-04-06T03:08:24.002654Z"
    },
    "collapsed": false,
    "jupyter": {
     "outputs_hidden": false
    }
   },
   "outputs": [],
   "source": [
    "func_mapping = pd.read_csv('experiments/function_mapping.csv')\n",
    "func_mapping = func_mapping.drop(2)\n",
    "func_mapping['func4.imports'] = func_mapping[func_mapping['func4.imports'].str.len() >= 0]['func4.imports'].map(lambda x: extract_imports(x))\n",
    "func_mapping = func_mapping[func_mapping['func4.imports'] != \"\"]\n",
    "func_mapping.rename(columns={'func4.imports': 'imports'}, inplace=True)\n",
    "func_mapping.drop(columns=['Unnamed: 0'], inplace=True)"
   ]
  },
  {
   "cell_type": "code",
   "execution_count": 9,
   "id": "fce0774177c6d33e",
   "metadata": {
    "ExecuteTime": {
     "end_time": "2024-04-06T03:08:25.830936Z",
     "start_time": "2024-04-06T03:08:25.825219Z"
    },
    "collapsed": false,
    "jupyter": {
     "outputs_hidden": false
    }
   },
   "outputs": [
    {
     "data": {
      "text/html": [
       "<div>\n",
       "<style scoped>\n",
       "    .dataframe tbody tr th:only-of-type {\n",
       "        vertical-align: middle;\n",
       "    }\n",
       "\n",
       "    .dataframe tbody tr th {\n",
       "        vertical-align: top;\n",
       "    }\n",
       "\n",
       "    .dataframe thead th {\n",
       "        text-align: right;\n",
       "    }\n",
       "</style>\n",
       "<table border=\"1\" class=\"dataframe\">\n",
       "  <thead>\n",
       "    <tr style=\"text-align: right;\">\n",
       "      <th></th>\n",
       "      <th>func4.name</th>\n",
       "      <th>imports</th>\n",
       "      <th>Cluster</th>\n",
       "    </tr>\n",
       "  </thead>\n",
       "  <tbody>\n",
       "    <tr>\n",
       "      <th>0</th>\n",
       "      <td>0-04-_check_slurm_job_statuses.py</td>\n",
       "      <td>subprocess</td>\n",
       "      <td>Job</td>\n",
       "    </tr>\n",
       "    <tr>\n",
       "      <th>3</th>\n",
       "      <td>873-04-call_mtrack.py</td>\n",
       "      <td>mtrack;sys</td>\n",
       "      <td>Data: mtrack</td>\n",
       "    </tr>\n",
       "    <tr>\n",
       "      <th>4</th>\n",
       "      <td>43-04-make_corr_plots.py</td>\n",
       "      <td>json;os;xpcs_webplot</td>\n",
       "      <td>Sci: Instruments</td>\n",
       "    </tr>\n",
       "    <tr>\n",
       "      <th>6</th>\n",
       "      <td>3-04-submit_slurm_job.py</td>\n",
       "      <td>os;subprocess</td>\n",
       "      <td>Job</td>\n",
       "    </tr>\n",
       "    <tr>\n",
       "      <th>7</th>\n",
       "      <td>397-01-rejection_sample.py</td>\n",
       "      <td>random</td>\n",
       "      <td>Trivial</td>\n",
       "    </tr>\n",
       "  </tbody>\n",
       "</table>\n",
       "</div>"
      ],
      "text/plain": [
       "                          func4.name               imports           Cluster\n",
       "0  0-04-_check_slurm_job_statuses.py            subprocess               Job\n",
       "3              873-04-call_mtrack.py            mtrack;sys      Data: mtrack\n",
       "4           43-04-make_corr_plots.py  json;os;xpcs_webplot  Sci: Instruments\n",
       "6           3-04-submit_slurm_job.py         os;subprocess               Job\n",
       "7         397-01-rejection_sample.py                random           Trivial"
      ]
     },
     "execution_count": 9,
     "metadata": {},
     "output_type": "execute_result"
    }
   ],
   "source": [
    "func_mapping.head()"
   ]
  },
  {
   "cell_type": "markdown",
   "id": "eea7d1de6fcc4133",
   "metadata": {
    "collapsed": false,
    "jupyter": {
     "outputs_hidden": false
    }
   },
   "source": [
    "Here is the mapping between functions and task\n",
    "```python\n",
    "pd.merge(func_mapping,task_mapping, on='func4.name')\n",
    "```"
   ]
  },
  {
   "cell_type": "code",
   "execution_count": 10,
   "id": "d5b9db0d236f73cb",
   "metadata": {
    "ExecuteTime": {
     "end_time": "2024-04-06T03:08:28.436627Z",
     "start_time": "2024-04-06T03:08:27.622684Z"
    },
    "collapsed": false,
    "jupyter": {
     "outputs_hidden": false
    }
   },
   "outputs": [],
   "source": [
    "task_mapping = pd.read_csv(\"funcx/task_function_mapping.csv\")"
   ]
  },
  {
   "cell_type": "code",
   "execution_count": 11,
   "id": "fb43b239175454a9",
   "metadata": {
    "ExecuteTime": {
     "end_time": "2024-04-06T03:08:28.441554Z",
     "start_time": "2024-04-06T03:08:28.438275Z"
    },
    "collapsed": false,
    "jupyter": {
     "outputs_hidden": false
    }
   },
   "outputs": [
    {
     "data": {
      "text/html": [
       "<div>\n",
       "<style scoped>\n",
       "    .dataframe tbody tr th:only-of-type {\n",
       "        vertical-align: middle;\n",
       "    }\n",
       "\n",
       "    .dataframe tbody tr th {\n",
       "        vertical-align: top;\n",
       "    }\n",
       "\n",
       "    .dataframe thead th {\n",
       "        text-align: right;\n",
       "    }\n",
       "</style>\n",
       "<table border=\"1\" class=\"dataframe\">\n",
       "  <thead>\n",
       "    <tr style=\"text-align: right;\">\n",
       "      <th></th>\n",
       "      <th>task_uuid</th>\n",
       "      <th>func4.name</th>\n",
       "      <th>executiontime</th>\n",
       "    </tr>\n",
       "  </thead>\n",
       "  <tbody>\n",
       "    <tr>\n",
       "      <th>0</th>\n",
       "      <td>000001d5-b3f0-4c17-8074-04f013f7bf52</td>\n",
       "      <td>0-04-_check_slurm_job_statuses.py</td>\n",
       "      <td>0.0243</td>\n",
       "    </tr>\n",
       "    <tr>\n",
       "      <th>1</th>\n",
       "      <td>00002521-04ba-4fb6-9c38-92ba23dc00d7</td>\n",
       "      <td>0-04-_check_slurm_job_statuses.py</td>\n",
       "      <td>0.0331</td>\n",
       "    </tr>\n",
       "    <tr>\n",
       "      <th>2</th>\n",
       "      <td>00002642-f850-42b4-9e1e-2698c3396498</td>\n",
       "      <td>0-04-_check_slurm_job_statuses.py</td>\n",
       "      <td>0.0432</td>\n",
       "    </tr>\n",
       "    <tr>\n",
       "      <th>3</th>\n",
       "      <td>00002deb-cf79-43ed-8aff-3281938809fe</td>\n",
       "      <td>0-04-_check_slurm_job_statuses.py</td>\n",
       "      <td>0.0268</td>\n",
       "    </tr>\n",
       "    <tr>\n",
       "      <th>4</th>\n",
       "      <td>0000754b-898e-43dc-9b55-35d1a6fe6633</td>\n",
       "      <td>0-04-_check_slurm_job_statuses.py</td>\n",
       "      <td>0.0284</td>\n",
       "    </tr>\n",
       "  </tbody>\n",
       "</table>\n",
       "</div>"
      ],
      "text/plain": [
       "                              task_uuid                         func4.name  \\\n",
       "0  000001d5-b3f0-4c17-8074-04f013f7bf52  0-04-_check_slurm_job_statuses.py   \n",
       "1  00002521-04ba-4fb6-9c38-92ba23dc00d7  0-04-_check_slurm_job_statuses.py   \n",
       "2  00002642-f850-42b4-9e1e-2698c3396498  0-04-_check_slurm_job_statuses.py   \n",
       "3  00002deb-cf79-43ed-8aff-3281938809fe  0-04-_check_slurm_job_statuses.py   \n",
       "4  0000754b-898e-43dc-9b55-35d1a6fe6633  0-04-_check_slurm_job_statuses.py   \n",
       "\n",
       "   executiontime  \n",
       "0         0.0243  \n",
       "1         0.0331  \n",
       "2         0.0432  \n",
       "3         0.0268  \n",
       "4         0.0284  "
      ]
     },
     "execution_count": 11,
     "metadata": {},
     "output_type": "execute_result"
    }
   ],
   "source": [
    "task_mapping.head()"
   ]
  },
  {
   "cell_type": "markdown",
   "id": "f356aaf6a14c523f",
   "metadata": {
    "collapsed": false,
    "jupyter": {
     "outputs_hidden": false
    }
   },
   "source": [
    "Here we have the timestamp for each task\n",
    "For merging\n",
    "```python\n",
    "pd.merge(task_mapping,task_mapping, on='task_uuid')\n",
    "```"
   ]
  },
  {
   "cell_type": "code",
   "execution_count": 12,
   "id": "3f3bd22dded8555f",
   "metadata": {
    "ExecuteTime": {
     "end_time": "2024-04-06T03:08:31.327015Z",
     "start_time": "2024-04-06T03:08:30.406782Z"
    },
    "collapsed": false,
    "jupyter": {
     "outputs_hidden": false
    }
   },
   "outputs": [],
   "source": [
    "task = pd.read_csv(\"funcx/tasks_pt1.csv\")\n",
    "task = pd.concat([task, pd.read_csv(\"funcx/tasks_pt2.csv\")], ignore_index=True)\n",
    "task['received'] = task['received'].interpolate()"
   ]
  },
  {
   "cell_type": "code",
   "execution_count": 13,
   "id": "97f3b2d5c05fe98e",
   "metadata": {
    "ExecuteTime": {
     "end_time": "2024-04-06T03:08:33.258452Z",
     "start_time": "2024-04-06T03:08:33.252693Z"
    },
    "collapsed": false,
    "jupyter": {
     "outputs_hidden": false
    }
   },
   "outputs": [
    {
     "data": {
      "text/html": [
       "<div>\n",
       "<style scoped>\n",
       "    .dataframe tbody tr th:only-of-type {\n",
       "        vertical-align: middle;\n",
       "    }\n",
       "\n",
       "    .dataframe tbody tr th {\n",
       "        vertical-align: top;\n",
       "    }\n",
       "\n",
       "    .dataframe thead th {\n",
       "        text-align: right;\n",
       "    }\n",
       "</style>\n",
       "<table border=\"1\" class=\"dataframe\">\n",
       "  <thead>\n",
       "    <tr style=\"text-align: right;\">\n",
       "      <th></th>\n",
       "      <th>task_uuid</th>\n",
       "      <th>user_id</th>\n",
       "      <th>endpoint_uuid</th>\n",
       "      <th>received</th>\n",
       "    </tr>\n",
       "  </thead>\n",
       "  <tbody>\n",
       "    <tr>\n",
       "      <th>0</th>\n",
       "      <td>000001d5-b3f0-4c17-8074-04f013f7bf52</td>\n",
       "      <td>293.0</td>\n",
       "      <td>340e58fa-c5f5-46af-a7f6-81b8c36661de</td>\n",
       "      <td>1.681417e+18</td>\n",
       "    </tr>\n",
       "    <tr>\n",
       "      <th>1</th>\n",
       "      <td>00002521-04ba-4fb6-9c38-92ba23dc00d7</td>\n",
       "      <td>293.0</td>\n",
       "      <td>340e58fa-c5f5-46af-a7f6-81b8c36661de</td>\n",
       "      <td>1.679386e+18</td>\n",
       "    </tr>\n",
       "    <tr>\n",
       "      <th>2</th>\n",
       "      <td>00002642-f850-42b4-9e1e-2698c3396498</td>\n",
       "      <td>286.0</td>\n",
       "      <td>cbc1f8d4-71b2-4a41-8ed4-9c75421eb89f</td>\n",
       "      <td>1.683246e+18</td>\n",
       "    </tr>\n",
       "    <tr>\n",
       "      <th>3</th>\n",
       "      <td>00002deb-cf79-43ed-8aff-3281938809fe</td>\n",
       "      <td>293.0</td>\n",
       "      <td>340e58fa-c5f5-46af-a7f6-81b8c36661de</td>\n",
       "      <td>1.677897e+18</td>\n",
       "    </tr>\n",
       "    <tr>\n",
       "      <th>4</th>\n",
       "      <td>0000754b-898e-43dc-9b55-35d1a6fe6633</td>\n",
       "      <td>293.0</td>\n",
       "      <td>340e58fa-c5f5-46af-a7f6-81b8c36661de</td>\n",
       "      <td>1.679277e+18</td>\n",
       "    </tr>\n",
       "  </tbody>\n",
       "</table>\n",
       "</div>"
      ],
      "text/plain": [
       "                              task_uuid  user_id  \\\n",
       "0  000001d5-b3f0-4c17-8074-04f013f7bf52    293.0   \n",
       "1  00002521-04ba-4fb6-9c38-92ba23dc00d7    293.0   \n",
       "2  00002642-f850-42b4-9e1e-2698c3396498    286.0   \n",
       "3  00002deb-cf79-43ed-8aff-3281938809fe    293.0   \n",
       "4  0000754b-898e-43dc-9b55-35d1a6fe6633    293.0   \n",
       "\n",
       "                          endpoint_uuid      received  \n",
       "0  340e58fa-c5f5-46af-a7f6-81b8c36661de  1.681417e+18  \n",
       "1  340e58fa-c5f5-46af-a7f6-81b8c36661de  1.679386e+18  \n",
       "2  cbc1f8d4-71b2-4a41-8ed4-9c75421eb89f  1.683246e+18  \n",
       "3  340e58fa-c5f5-46af-a7f6-81b8c36661de  1.677897e+18  \n",
       "4  340e58fa-c5f5-46af-a7f6-81b8c36661de  1.679277e+18  "
      ]
     },
     "execution_count": 13,
     "metadata": {},
     "output_type": "execute_result"
    }
   ],
   "source": [
    "task.head()"
   ]
  },
  {
   "cell_type": "markdown",
   "id": "fc43beb653edaa8e",
   "metadata": {
    "collapsed": false,
    "jupyter": {
     "outputs_hidden": false
    }
   },
   "source": [
    "Here are information about the endpoints\n",
    "For merging:\n",
    "```python\n",
    "pd.merge(task,endpoints, on='endpoint_uuid')\n",
    "```"
   ]
  },
  {
   "cell_type": "code",
   "execution_count": 14,
   "id": "498689f1fefc6a3d",
   "metadata": {
    "ExecuteTime": {
     "end_time": "2024-04-06T03:08:35.309136Z",
     "start_time": "2024-04-06T03:08:35.306266Z"
    },
    "collapsed": false,
    "jupyter": {
     "outputs_hidden": false
    }
   },
   "outputs": [],
   "source": [
    "endpoints = pd.read_csv(\"funcx/endpoints.csv\")"
   ]
  },
  {
   "cell_type": "code",
   "execution_count": 15,
   "id": "6f5d59ea84205f9d",
   "metadata": {
    "ExecuteTime": {
     "end_time": "2024-04-06T03:08:37.026566Z",
     "start_time": "2024-04-06T03:08:37.016453Z"
    },
    "collapsed": false,
    "jupyter": {
     "outputs_hidden": false
    }
   },
   "outputs": [
    {
     "data": {
      "text/html": [
       "<div>\n",
       "<style scoped>\n",
       "    .dataframe tbody tr th:only-of-type {\n",
       "        vertical-align: middle;\n",
       "    }\n",
       "\n",
       "    .dataframe tbody tr th {\n",
       "        vertical-align: top;\n",
       "    }\n",
       "\n",
       "    .dataframe thead th {\n",
       "        text-align: right;\n",
       "    }\n",
       "</style>\n",
       "<table border=\"1\" class=\"dataframe\">\n",
       "  <thead>\n",
       "    <tr style=\"text-align: right;\">\n",
       "      <th></th>\n",
       "      <th>endpoint_uuid</th>\n",
       "      <th>X_type</th>\n",
       "      <th>ip</th>\n",
       "      <th>cluster</th>\n",
       "    </tr>\n",
       "  </thead>\n",
       "  <tbody>\n",
       "    <tr>\n",
       "      <th>0</th>\n",
       "      <td>00000000-0000-4000-8000-000011110000</td>\n",
       "      <td>LocalProvider</td>\n",
       "      <td>216.80.70.252</td>\n",
       "      <td>6</td>\n",
       "    </tr>\n",
       "    <tr>\n",
       "      <th>1</th>\n",
       "      <td>001fecc2-1393-4bd9-950e-5645e15e3a53</td>\n",
       "      <td>SlurmProvider</td>\n",
       "      <td>141.142.140.194</td>\n",
       "      <td>10</td>\n",
       "    </tr>\n",
       "    <tr>\n",
       "      <th>2</th>\n",
       "      <td>006f558d-df82-45c2-b2d5-94274ef41a69</td>\n",
       "      <td>SlurmProvider</td>\n",
       "      <td>141.142.140.194</td>\n",
       "      <td>10</td>\n",
       "    </tr>\n",
       "    <tr>\n",
       "      <th>3</th>\n",
       "      <td>00824163-569c-4f0d-953d-097cd3b7179d</td>\n",
       "      <td>NaN</td>\n",
       "      <td>159.226.43.47</td>\n",
       "      <td>10</td>\n",
       "    </tr>\n",
       "    <tr>\n",
       "      <th>4</th>\n",
       "      <td>01a3324e-7ad9-4563-b598-0c2499068a39</td>\n",
       "      <td>LocalProvider</td>\n",
       "      <td>128.135.204.6</td>\n",
       "      <td>8</td>\n",
       "    </tr>\n",
       "  </tbody>\n",
       "</table>\n",
       "</div>"
      ],
      "text/plain": [
       "                          endpoint_uuid         X_type               ip  \\\n",
       "0  00000000-0000-4000-8000-000011110000  LocalProvider    216.80.70.252   \n",
       "1  001fecc2-1393-4bd9-950e-5645e15e3a53  SlurmProvider  141.142.140.194   \n",
       "2  006f558d-df82-45c2-b2d5-94274ef41a69  SlurmProvider  141.142.140.194   \n",
       "3  00824163-569c-4f0d-953d-097cd3b7179d            NaN    159.226.43.47   \n",
       "4  01a3324e-7ad9-4563-b598-0c2499068a39  LocalProvider    128.135.204.6   \n",
       "\n",
       "   cluster  \n",
       "0        6  \n",
       "1       10  \n",
       "2       10  \n",
       "3       10  \n",
       "4        8  "
      ]
     },
     "execution_count": 15,
     "metadata": {},
     "output_type": "execute_result"
    }
   ],
   "source": [
    "endpoints.head()"
   ]
  },
  {
   "cell_type": "markdown",
   "id": "7ed31d7a5e47d9b",
   "metadata": {
    "collapsed": false,
    "jupyter": {
     "outputs_hidden": false
    }
   },
   "source": [
    "Example merging in the end:\n",
    "```python\n",
    "o = pd.merge(func_mapping,data, on='imports')\n",
    "p = pd.merge(task_mapping,o, on='func4.name')\n",
    "r = pd.merge(task, p, on='task_uuid')\n",
    "```"
   ]
  },
  {
   "cell_type": "code",
   "execution_count": 16,
   "id": "a44f104c45432cb9",
   "metadata": {
    "collapsed": false,
    "jupyter": {
     "outputs_hidden": false
    }
   },
   "outputs": [],
   "source": [
    "o = pd.merge(func_mapping,data, on='imports')\n",
    "p = pd.merge(task_mapping,o, on='func4.name')\n",
    "r = pd.merge(task, p, on='task_uuid')\n",
    "r.to_csv(\"my_data.csv\")"
   ]
  },
  {
   "cell_type": "code",
   "execution_count": 17,
   "id": "0c66359c-da51-4767-a768-91bac56f54c6",
   "metadata": {},
   "outputs": [],
   "source": [
    "sorted_df = r.sort_values(by=[\"received\"], ascending=True)\n",
    "sorted_df.to_csv(\"my_data_sorted.csv\")"
   ]
  },
  {
   "cell_type": "code",
   "execution_count": null,
   "id": "added575-1e6f-4b86-962a-5f8e7ee8adf7",
   "metadata": {},
   "outputs": [],
   "source": []
  }
 ],
 "metadata": {
  "kernelspec": {
   "display_name": "Python 3 (ipykernel)",
   "language": "python",
   "name": "python3"
  },
  "language_info": {
   "codemirror_mode": {
    "name": "ipython",
    "version": 3
   },
   "file_extension": ".py",
   "mimetype": "text/x-python",
   "name": "python",
   "nbconvert_exporter": "python",
   "pygments_lexer": "ipython3",
   "version": "3.10.12"
  }
 },
 "nbformat": 4,
 "nbformat_minor": 5
}
