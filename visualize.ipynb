{
 "cells": [
  {
   "cell_type": "code",
   "execution_count": 63,
   "id": "initial_id",
   "metadata": {
    "ExecuteTime": {
     "end_time": "2024-04-23T16:28:30.236665Z",
     "start_time": "2024-04-23T16:28:30.192188Z"
    }
   },
   "outputs": [],
   "source": [
    "import pandas as pd"
   ]
  },
  {
   "cell_type": "code",
   "execution_count": 64,
   "id": "16b0a5ff0543ef2",
   "metadata": {
    "collapsed": false,
    "ExecuteTime": {
     "end_time": "2024-04-23T16:28:30.259128Z",
     "start_time": "2024-04-23T16:28:30.197699Z"
    }
   },
   "outputs": [],
   "source": [
    "def prepare(data):\n",
    "    data['import.start'] = pd.to_datetime(data['import.start'])\n",
    "    data['import.stop'] = pd.to_datetime(data['import.stop'])\n",
    "    data['created'] = pd.to_datetime(data['created'])\n",
    "    data['started'] = pd.to_datetime(data['started'])\n",
    "    data['finished'] = pd.to_datetime(data['finished'])\n",
    "    \n",
    "    data['starttime'] = (data['started'] - data['created']).dt.total_seconds() \n",
    "    data['dockertime'] = (data['finished'] - data['started']).dt.total_seconds() \n",
    "    data['importtime'] = (data['import.stop'] - data['import.start']).dt.total_seconds() \n",
    "    \n",
    "    started_temp = pd.DataFrame()\n",
    "    docker_temp = pd.DataFrame()\n",
    "    import_temp = pd.DataFrame()\n",
    "    \n",
    "    for i in range(8,29,5):\n",
    "        started_temp.insert(range(8,29,5).index(i), \"\", (pd.to_datetime(data.iloc[:, i+1]) - pd.to_datetime(data.iloc[:, i])).dt.total_seconds() , True)\n",
    "        docker_temp.insert(range(8,29,5).index(i), \"\", (pd.to_datetime(data.iloc[:, i+2]) - pd.to_datetime(data.iloc[:, i+1])).dt.total_seconds() , True)\n",
    "        import_temp.insert(range(8,29,5).index(i), \"\", (pd.to_datetime(data.iloc[:, i+4]) - pd.to_datetime(data.iloc[:, i+3])).dt.total_seconds() , True)\n",
    "        \n",
    "    \n",
    "    started_temp.columns = ['starttime{}'.format(i) for i in range(1, 6)]\n",
    "    docker_temp.columns = ['dockertime{}'.format(i) for i in range(1, 6)]\n",
    "    import_temp.columns = ['importtime{}'.format(i) for i in range(1, 6)]\n",
    "    \n",
    "    data = pd.concat([data, started_temp, docker_temp, import_temp], axis=1)\n",
    "    \n",
    "    return data"
   ]
  },
  {
   "cell_type": "code",
   "execution_count": 65,
   "id": "aa1b98486e816909",
   "metadata": {
    "collapsed": false,
    "ExecuteTime": {
     "end_time": "2024-04-23T16:28:30.261755Z",
     "start_time": "2024-04-23T16:28:30.200315Z"
    }
   },
   "outputs": [],
   "source": [
    "def extract_imports(imp):\n",
    "    imp = imp.split(\"'\")\n",
    "    l = \"\"\n",
    "    \n",
    "    for i in imp:\n",
    "        if i == \"(\" or i == \")\" or i == \",)\" or i == \",\" or i == \"()\" or i == \", \":\n",
    "            continue\n",
    "        else:\n",
    "            if l == \"\":\n",
    "                l = i\n",
    "            else:\n",
    "                l = l + \";\" + i\n",
    "    return l"
   ]
  },
  {
   "cell_type": "markdown",
   "id": "fc2b16992b94fa98",
   "metadata": {
    "collapsed": false
   },
   "source": [
    "This is one experiment run with using the top 10 packages over all functions\n",
    "The installationtime is set to minus -1 if there was no install as for native python packages as os"
   ]
  },
  {
   "cell_type": "code",
   "execution_count": 66,
   "id": "75ea9358d1388ee3",
   "metadata": {
    "collapsed": false,
    "ExecuteTime": {
     "end_time": "2024-04-23T16:28:30.271074Z",
     "start_time": "2024-04-23T16:28:30.203987Z"
    }
   },
   "outputs": [],
   "source": [
    "#approach = \"all_top_10\"\n",
    "#approach = \"vanilla_approach\"\n",
    "approach = \"cluster_top_10\"\n",
    "col = ['imports', 'buldingtime', 'installtime', 'starttime', 'dockertime',\n",
    "       'importtime', 'starttime1', 'starttime2', 'starttime3', 'starttime4',\n",
    "       'starttime5', 'dockertime1', 'dockertime2', 'dockertime3',\n",
    "       'dockertime4', 'dockertime5', 'importtime1', 'importtime2',\n",
    "       'importtime3', 'importtime4', 'importtime5']"
   ]
  },
  {
   "cell_type": "code",
   "execution_count": 67,
   "id": "f7a4bf12f4164f60",
   "metadata": {
    "collapsed": false,
    "ExecuteTime": {
     "end_time": "2024-04-23T16:28:30.293683Z",
     "start_time": "2024-04-23T16:28:30.206440Z"
    }
   },
   "outputs": [],
   "source": [
    "data = pd.read_csv(\"data/\"+approach+\"/run10.csv\")\n",
    "data = prepare(data)\n",
    "imp = data[col[0]]\n",
    "data = data[col[1:]]"
   ]
  },
  {
   "cell_type": "code",
   "execution_count": 68,
   "id": "2fd342f5564b028b",
   "metadata": {
    "collapsed": false,
    "ExecuteTime": {
     "end_time": "2024-04-23T16:28:30.408064Z",
     "start_time": "2024-04-23T16:28:30.236176Z"
    }
   },
   "outputs": [
    {
     "name": "stderr",
     "output_type": "stream",
     "text": [
      "/var/folders/86/fyd29lqj0033vg6drb2b412m0000gn/T/ipykernel_8026/337023197.py:4: UserWarning: Could not infer format, so each element will be parsed individually, falling back to `dateutil`. To ensure parsing is consistent and as-expected, please specify a format.\n",
      "  data['created'] = pd.to_datetime(data['created'])\n"
     ]
    }
   ],
   "source": [
    "for i in range(9,0,-1):\n",
    "    tmp = pd.read_csv(\"data/\"+approach+\"/run0\"+str(i)+\".csv\")\n",
    "    tmp = prepare(tmp)\n",
    "    tmp = tmp[col[1:]]\n",
    "    data = (data + tmp)\n",
    "data = data/10\n",
    "data.insert(0, col[0],imp)"
   ]
  },
  {
   "cell_type": "code",
   "execution_count": 69,
   "id": "3c05fb5f6459b67b",
   "metadata": {
    "collapsed": false,
    "ExecuteTime": {
     "end_time": "2024-04-23T16:28:30.414765Z",
     "start_time": "2024-04-23T16:28:30.408727Z"
    }
   },
   "outputs": [
    {
     "data": {
      "text/plain": "                                             imports  buldingtime  \\\n0  argparse;copy;datetime;funcx;itertools;json;ma...        15.60   \n1  argparse;copy;funcx;itertools;json;matplotlib;...        15.16   \n2                                       argparse;sys         9.57   \n3                                              CLEAN         7.97   \n4                                           CLEAN;os         8.20   \n\n   installtime  starttime  dockertime  importtime  starttime1  starttime2  \\\n0        12.19   2.180410    9.054598    7.674799    0.791878    0.840661   \n1        11.58   2.278498    9.340353    7.962382    0.776983    0.753207   \n2         6.23   2.267264    1.268426    0.027284    0.781053    0.766173   \n3         5.09   2.066498    1.207408    0.018558    0.692933    0.680355   \n4         4.93   2.274209    1.226708    0.015460    0.827641    0.871029   \n\n   starttime3  starttime4  ...  dockertime1  dockertime2  dockertime3  \\\n0    0.908933    0.730136  ...     1.554564     1.552487     1.557682   \n1    0.744361    0.698806  ...     1.550500     1.548959     1.550702   \n2    0.768329    0.784168  ...     1.036251     1.035948     1.036531   \n3    0.647873    0.637311  ...     1.021332     1.021416     1.020979   \n4    0.763014    0.738976  ...     1.022042     1.020680     1.021262   \n\n   dockertime4  dockertime5  importtime1  importtime2  importtime3  \\\n0     1.554612     1.550625     0.444415     0.440468     0.442420   \n1     1.547994     1.551501     0.440383     0.443808     0.443245   \n2     1.036197     1.036698     0.006813     0.007098     0.006366   \n3     1.021203     1.021200     0.000221     0.000419     0.000387   \n4     1.021338     1.020796     0.000344     0.000279     0.000340   \n\n   importtime4  importtime5  \n0     0.447363     0.444389  \n1     0.442713     0.441791  \n2     0.006247     0.006893  \n3     0.000352     0.000368  \n4     0.000340     0.000368  \n\n[5 rows x 21 columns]",
      "text/html": "<div>\n<style scoped>\n    .dataframe tbody tr th:only-of-type {\n        vertical-align: middle;\n    }\n\n    .dataframe tbody tr th {\n        vertical-align: top;\n    }\n\n    .dataframe thead th {\n        text-align: right;\n    }\n</style>\n<table border=\"1\" class=\"dataframe\">\n  <thead>\n    <tr style=\"text-align: right;\">\n      <th></th>\n      <th>imports</th>\n      <th>buldingtime</th>\n      <th>installtime</th>\n      <th>starttime</th>\n      <th>dockertime</th>\n      <th>importtime</th>\n      <th>starttime1</th>\n      <th>starttime2</th>\n      <th>starttime3</th>\n      <th>starttime4</th>\n      <th>...</th>\n      <th>dockertime1</th>\n      <th>dockertime2</th>\n      <th>dockertime3</th>\n      <th>dockertime4</th>\n      <th>dockertime5</th>\n      <th>importtime1</th>\n      <th>importtime2</th>\n      <th>importtime3</th>\n      <th>importtime4</th>\n      <th>importtime5</th>\n    </tr>\n  </thead>\n  <tbody>\n    <tr>\n      <th>0</th>\n      <td>argparse;copy;datetime;funcx;itertools;json;ma...</td>\n      <td>15.60</td>\n      <td>12.19</td>\n      <td>2.180410</td>\n      <td>9.054598</td>\n      <td>7.674799</td>\n      <td>0.791878</td>\n      <td>0.840661</td>\n      <td>0.908933</td>\n      <td>0.730136</td>\n      <td>...</td>\n      <td>1.554564</td>\n      <td>1.552487</td>\n      <td>1.557682</td>\n      <td>1.554612</td>\n      <td>1.550625</td>\n      <td>0.444415</td>\n      <td>0.440468</td>\n      <td>0.442420</td>\n      <td>0.447363</td>\n      <td>0.444389</td>\n    </tr>\n    <tr>\n      <th>1</th>\n      <td>argparse;copy;funcx;itertools;json;matplotlib;...</td>\n      <td>15.16</td>\n      <td>11.58</td>\n      <td>2.278498</td>\n      <td>9.340353</td>\n      <td>7.962382</td>\n      <td>0.776983</td>\n      <td>0.753207</td>\n      <td>0.744361</td>\n      <td>0.698806</td>\n      <td>...</td>\n      <td>1.550500</td>\n      <td>1.548959</td>\n      <td>1.550702</td>\n      <td>1.547994</td>\n      <td>1.551501</td>\n      <td>0.440383</td>\n      <td>0.443808</td>\n      <td>0.443245</td>\n      <td>0.442713</td>\n      <td>0.441791</td>\n    </tr>\n    <tr>\n      <th>2</th>\n      <td>argparse;sys</td>\n      <td>9.57</td>\n      <td>6.23</td>\n      <td>2.267264</td>\n      <td>1.268426</td>\n      <td>0.027284</td>\n      <td>0.781053</td>\n      <td>0.766173</td>\n      <td>0.768329</td>\n      <td>0.784168</td>\n      <td>...</td>\n      <td>1.036251</td>\n      <td>1.035948</td>\n      <td>1.036531</td>\n      <td>1.036197</td>\n      <td>1.036698</td>\n      <td>0.006813</td>\n      <td>0.007098</td>\n      <td>0.006366</td>\n      <td>0.006247</td>\n      <td>0.006893</td>\n    </tr>\n    <tr>\n      <th>3</th>\n      <td>CLEAN</td>\n      <td>7.97</td>\n      <td>5.09</td>\n      <td>2.066498</td>\n      <td>1.207408</td>\n      <td>0.018558</td>\n      <td>0.692933</td>\n      <td>0.680355</td>\n      <td>0.647873</td>\n      <td>0.637311</td>\n      <td>...</td>\n      <td>1.021332</td>\n      <td>1.021416</td>\n      <td>1.020979</td>\n      <td>1.021203</td>\n      <td>1.021200</td>\n      <td>0.000221</td>\n      <td>0.000419</td>\n      <td>0.000387</td>\n      <td>0.000352</td>\n      <td>0.000368</td>\n    </tr>\n    <tr>\n      <th>4</th>\n      <td>CLEAN;os</td>\n      <td>8.20</td>\n      <td>4.93</td>\n      <td>2.274209</td>\n      <td>1.226708</td>\n      <td>0.015460</td>\n      <td>0.827641</td>\n      <td>0.871029</td>\n      <td>0.763014</td>\n      <td>0.738976</td>\n      <td>...</td>\n      <td>1.022042</td>\n      <td>1.020680</td>\n      <td>1.021262</td>\n      <td>1.021338</td>\n      <td>1.020796</td>\n      <td>0.000344</td>\n      <td>0.000279</td>\n      <td>0.000340</td>\n      <td>0.000340</td>\n      <td>0.000368</td>\n    </tr>\n  </tbody>\n</table>\n<p>5 rows × 21 columns</p>\n</div>"
     },
     "execution_count": 69,
     "metadata": {},
     "output_type": "execute_result"
    }
   ],
   "source": [
    "data.head()"
   ]
  },
  {
   "cell_type": "markdown",
   "id": "cd6ceed409045138",
   "metadata": {
    "collapsed": false
   },
   "source": [
    "This is the mapping between imports and function\n",
    "For this merge and the following ones, there is no need to think about on which join-operation. I cleaned the data beforehand. That is, there will be always a pair \n",
    "```python\n",
    "pd.merge(func_mapping,data, on='imports')\n",
    "```"
   ]
  },
  {
   "cell_type": "code",
   "execution_count": 70,
   "id": "d69f29b04d35b7e8",
   "metadata": {
    "collapsed": false,
    "ExecuteTime": {
     "end_time": "2024-04-23T16:28:30.421949Z",
     "start_time": "2024-04-23T16:28:30.415449Z"
    }
   },
   "outputs": [],
   "source": [
    "func_mapping = pd.read_csv('experiments/function_mapping.csv')\n",
    "func_mapping = func_mapping.drop(2)\n",
    "func_mapping['func4.imports'] = func_mapping[func_mapping['func4.imports'].str.len() >= 0]['func4.imports'].map(lambda x: extract_imports(x))\n",
    "func_mapping = func_mapping[func_mapping['func4.imports'] != \"\"]\n",
    "func_mapping.rename(columns={'func4.imports': 'imports'}, inplace=True)\n",
    "func_mapping.drop(columns=['Unnamed: 0'], inplace=True)"
   ]
  },
  {
   "cell_type": "code",
   "execution_count": 71,
   "id": "fce0774177c6d33e",
   "metadata": {
    "collapsed": false,
    "ExecuteTime": {
     "end_time": "2024-04-23T16:28:30.427657Z",
     "start_time": "2024-04-23T16:28:30.424900Z"
    }
   },
   "outputs": [
    {
     "data": {
      "text/plain": "   Unnamed: 0.1                         func4.name               imports  \\\n0             0  0-04-_check_slurm_job_statuses.py            subprocess   \n3             3              873-04-call_mtrack.py            mtrack;sys   \n4             4           43-04-make_corr_plots.py  json;os;xpcs_webplot   \n6             6           3-04-submit_slurm_job.py         os;subprocess   \n7             7         397-01-rejection_sample.py                random   \n\n            Cluster  \n0               Job  \n3      Data:_mtrack  \n4  Sci:_Instruments  \n6               Job  \n7           Trivial  ",
      "text/html": "<div>\n<style scoped>\n    .dataframe tbody tr th:only-of-type {\n        vertical-align: middle;\n    }\n\n    .dataframe tbody tr th {\n        vertical-align: top;\n    }\n\n    .dataframe thead th {\n        text-align: right;\n    }\n</style>\n<table border=\"1\" class=\"dataframe\">\n  <thead>\n    <tr style=\"text-align: right;\">\n      <th></th>\n      <th>Unnamed: 0.1</th>\n      <th>func4.name</th>\n      <th>imports</th>\n      <th>Cluster</th>\n    </tr>\n  </thead>\n  <tbody>\n    <tr>\n      <th>0</th>\n      <td>0</td>\n      <td>0-04-_check_slurm_job_statuses.py</td>\n      <td>subprocess</td>\n      <td>Job</td>\n    </tr>\n    <tr>\n      <th>3</th>\n      <td>3</td>\n      <td>873-04-call_mtrack.py</td>\n      <td>mtrack;sys</td>\n      <td>Data:_mtrack</td>\n    </tr>\n    <tr>\n      <th>4</th>\n      <td>4</td>\n      <td>43-04-make_corr_plots.py</td>\n      <td>json;os;xpcs_webplot</td>\n      <td>Sci:_Instruments</td>\n    </tr>\n    <tr>\n      <th>6</th>\n      <td>6</td>\n      <td>3-04-submit_slurm_job.py</td>\n      <td>os;subprocess</td>\n      <td>Job</td>\n    </tr>\n    <tr>\n      <th>7</th>\n      <td>7</td>\n      <td>397-01-rejection_sample.py</td>\n      <td>random</td>\n      <td>Trivial</td>\n    </tr>\n  </tbody>\n</table>\n</div>"
     },
     "execution_count": 71,
     "metadata": {},
     "output_type": "execute_result"
    }
   ],
   "source": [
    "func_mapping.head()"
   ]
  },
  {
   "cell_type": "markdown",
   "id": "eea7d1de6fcc4133",
   "metadata": {
    "collapsed": false
   },
   "source": [
    "Here is the mapping between functions and task\n",
    "```python\n",
    "pd.merge(func_mapping,task_mapping, on='func4.name')\n",
    "```"
   ]
  },
  {
   "cell_type": "code",
   "execution_count": 72,
   "id": "d5b9db0d236f73cb",
   "metadata": {
    "collapsed": false,
    "ExecuteTime": {
     "end_time": "2024-04-23T16:28:31.238523Z",
     "start_time": "2024-04-23T16:28:30.427274Z"
    }
   },
   "outputs": [],
   "source": [
    "task_mapping = pd.read_csv(\"funcx/task_function_mapping.csv\")"
   ]
  },
  {
   "cell_type": "code",
   "execution_count": 73,
   "id": "fb43b239175454a9",
   "metadata": {
    "collapsed": false,
    "ExecuteTime": {
     "end_time": "2024-04-23T16:28:31.244876Z",
     "start_time": "2024-04-23T16:28:31.240581Z"
    }
   },
   "outputs": [
    {
     "data": {
      "text/plain": "                              task_uuid                         func4.name  \\\n0  000001d5-b3f0-4c17-8074-04f013f7bf52  0-04-_check_slurm_job_statuses.py   \n1  00002521-04ba-4fb6-9c38-92ba23dc00d7  0-04-_check_slurm_job_statuses.py   \n2  00002642-f850-42b4-9e1e-2698c3396498  0-04-_check_slurm_job_statuses.py   \n3  00002deb-cf79-43ed-8aff-3281938809fe  0-04-_check_slurm_job_statuses.py   \n4  0000754b-898e-43dc-9b55-35d1a6fe6633  0-04-_check_slurm_job_statuses.py   \n\n   executiontime  \n0         0.0243  \n1         0.0331  \n2         0.0432  \n3         0.0268  \n4         0.0284  ",
      "text/html": "<div>\n<style scoped>\n    .dataframe tbody tr th:only-of-type {\n        vertical-align: middle;\n    }\n\n    .dataframe tbody tr th {\n        vertical-align: top;\n    }\n\n    .dataframe thead th {\n        text-align: right;\n    }\n</style>\n<table border=\"1\" class=\"dataframe\">\n  <thead>\n    <tr style=\"text-align: right;\">\n      <th></th>\n      <th>task_uuid</th>\n      <th>func4.name</th>\n      <th>executiontime</th>\n    </tr>\n  </thead>\n  <tbody>\n    <tr>\n      <th>0</th>\n      <td>000001d5-b3f0-4c17-8074-04f013f7bf52</td>\n      <td>0-04-_check_slurm_job_statuses.py</td>\n      <td>0.0243</td>\n    </tr>\n    <tr>\n      <th>1</th>\n      <td>00002521-04ba-4fb6-9c38-92ba23dc00d7</td>\n      <td>0-04-_check_slurm_job_statuses.py</td>\n      <td>0.0331</td>\n    </tr>\n    <tr>\n      <th>2</th>\n      <td>00002642-f850-42b4-9e1e-2698c3396498</td>\n      <td>0-04-_check_slurm_job_statuses.py</td>\n      <td>0.0432</td>\n    </tr>\n    <tr>\n      <th>3</th>\n      <td>00002deb-cf79-43ed-8aff-3281938809fe</td>\n      <td>0-04-_check_slurm_job_statuses.py</td>\n      <td>0.0268</td>\n    </tr>\n    <tr>\n      <th>4</th>\n      <td>0000754b-898e-43dc-9b55-35d1a6fe6633</td>\n      <td>0-04-_check_slurm_job_statuses.py</td>\n      <td>0.0284</td>\n    </tr>\n  </tbody>\n</table>\n</div>"
     },
     "execution_count": 73,
     "metadata": {},
     "output_type": "execute_result"
    }
   ],
   "source": [
    "task_mapping.head()"
   ]
  },
  {
   "cell_type": "markdown",
   "id": "f356aaf6a14c523f",
   "metadata": {
    "collapsed": false
   },
   "source": [
    "Here we have the timestamp for each task\n",
    "For merging\n",
    "```python\n",
    "pd.merge(task_mapping,task_mapping, on='task_uuid')\n",
    "```"
   ]
  },
  {
   "cell_type": "code",
   "execution_count": 74,
   "id": "3f3bd22dded8555f",
   "metadata": {
    "collapsed": false,
    "ExecuteTime": {
     "end_time": "2024-04-23T16:28:32.204369Z",
     "start_time": "2024-04-23T16:28:31.243518Z"
    }
   },
   "outputs": [],
   "source": [
    "task = pd.read_csv(\"funcx/tasks_pt1.csv\")\n",
    "task = pd.concat([task, pd.read_csv(\"funcx/tasks_pt2.csv\")], ignore_index=True)\n",
    "task['received'] = task['received'].interpolate()"
   ]
  },
  {
   "cell_type": "code",
   "execution_count": 75,
   "id": "97f3b2d5c05fe98e",
   "metadata": {
    "collapsed": false,
    "ExecuteTime": {
     "end_time": "2024-04-23T16:28:32.210626Z",
     "start_time": "2024-04-23T16:28:32.206605Z"
    }
   },
   "outputs": [
    {
     "data": {
      "text/plain": "                              task_uuid  user_id  \\\n0  000001d5-b3f0-4c17-8074-04f013f7bf52    293.0   \n1  00002521-04ba-4fb6-9c38-92ba23dc00d7    293.0   \n2  00002642-f850-42b4-9e1e-2698c3396498    286.0   \n3  00002deb-cf79-43ed-8aff-3281938809fe    293.0   \n4  0000754b-898e-43dc-9b55-35d1a6fe6633    293.0   \n\n                          endpoint_uuid      received  \n0  340e58fa-c5f5-46af-a7f6-81b8c36661de  1.681417e+18  \n1  340e58fa-c5f5-46af-a7f6-81b8c36661de  1.679386e+18  \n2  cbc1f8d4-71b2-4a41-8ed4-9c75421eb89f  1.683246e+18  \n3  340e58fa-c5f5-46af-a7f6-81b8c36661de  1.677897e+18  \n4  340e58fa-c5f5-46af-a7f6-81b8c36661de  1.679277e+18  ",
      "text/html": "<div>\n<style scoped>\n    .dataframe tbody tr th:only-of-type {\n        vertical-align: middle;\n    }\n\n    .dataframe tbody tr th {\n        vertical-align: top;\n    }\n\n    .dataframe thead th {\n        text-align: right;\n    }\n</style>\n<table border=\"1\" class=\"dataframe\">\n  <thead>\n    <tr style=\"text-align: right;\">\n      <th></th>\n      <th>task_uuid</th>\n      <th>user_id</th>\n      <th>endpoint_uuid</th>\n      <th>received</th>\n    </tr>\n  </thead>\n  <tbody>\n    <tr>\n      <th>0</th>\n      <td>000001d5-b3f0-4c17-8074-04f013f7bf52</td>\n      <td>293.0</td>\n      <td>340e58fa-c5f5-46af-a7f6-81b8c36661de</td>\n      <td>1.681417e+18</td>\n    </tr>\n    <tr>\n      <th>1</th>\n      <td>00002521-04ba-4fb6-9c38-92ba23dc00d7</td>\n      <td>293.0</td>\n      <td>340e58fa-c5f5-46af-a7f6-81b8c36661de</td>\n      <td>1.679386e+18</td>\n    </tr>\n    <tr>\n      <th>2</th>\n      <td>00002642-f850-42b4-9e1e-2698c3396498</td>\n      <td>286.0</td>\n      <td>cbc1f8d4-71b2-4a41-8ed4-9c75421eb89f</td>\n      <td>1.683246e+18</td>\n    </tr>\n    <tr>\n      <th>3</th>\n      <td>00002deb-cf79-43ed-8aff-3281938809fe</td>\n      <td>293.0</td>\n      <td>340e58fa-c5f5-46af-a7f6-81b8c36661de</td>\n      <td>1.677897e+18</td>\n    </tr>\n    <tr>\n      <th>4</th>\n      <td>0000754b-898e-43dc-9b55-35d1a6fe6633</td>\n      <td>293.0</td>\n      <td>340e58fa-c5f5-46af-a7f6-81b8c36661de</td>\n      <td>1.679277e+18</td>\n    </tr>\n  </tbody>\n</table>\n</div>"
     },
     "execution_count": 75,
     "metadata": {},
     "output_type": "execute_result"
    }
   ],
   "source": [
    "task.head()"
   ]
  },
  {
   "cell_type": "markdown",
   "id": "fc43beb653edaa8e",
   "metadata": {
    "collapsed": false
   },
   "source": [
    "Here are information about the endpoints\n",
    "For merging:\n",
    "```python\n",
    "pd.merge(task,endpoints, on='endpoint_uuid')\n",
    "```"
   ]
  },
  {
   "cell_type": "code",
   "execution_count": 76,
   "id": "498689f1fefc6a3d",
   "metadata": {
    "collapsed": false,
    "ExecuteTime": {
     "end_time": "2024-04-23T16:28:32.216091Z",
     "start_time": "2024-04-23T16:28:32.209185Z"
    }
   },
   "outputs": [],
   "source": [
    "endpoints = pd.read_csv(\"funcx/endpoints.csv\")"
   ]
  },
  {
   "cell_type": "code",
   "execution_count": 77,
   "id": "6f5d59ea84205f9d",
   "metadata": {
    "collapsed": false,
    "ExecuteTime": {
     "end_time": "2024-04-23T16:28:32.216321Z",
     "start_time": "2024-04-23T16:28:32.214227Z"
    }
   },
   "outputs": [
    {
     "data": {
      "text/plain": "                          endpoint_uuid         X_type               ip  \\\n0  00000000-0000-4000-8000-000011110000  LocalProvider    216.80.70.252   \n1  001fecc2-1393-4bd9-950e-5645e15e3a53  SlurmProvider  141.142.140.194   \n2  006f558d-df82-45c2-b2d5-94274ef41a69  SlurmProvider  141.142.140.194   \n3  00824163-569c-4f0d-953d-097cd3b7179d            NaN    159.226.43.47   \n4  01a3324e-7ad9-4563-b598-0c2499068a39  LocalProvider    128.135.204.6   \n\n   cluster  \n0        6  \n1       10  \n2       10  \n3       10  \n4        8  ",
      "text/html": "<div>\n<style scoped>\n    .dataframe tbody tr th:only-of-type {\n        vertical-align: middle;\n    }\n\n    .dataframe tbody tr th {\n        vertical-align: top;\n    }\n\n    .dataframe thead th {\n        text-align: right;\n    }\n</style>\n<table border=\"1\" class=\"dataframe\">\n  <thead>\n    <tr style=\"text-align: right;\">\n      <th></th>\n      <th>endpoint_uuid</th>\n      <th>X_type</th>\n      <th>ip</th>\n      <th>cluster</th>\n    </tr>\n  </thead>\n  <tbody>\n    <tr>\n      <th>0</th>\n      <td>00000000-0000-4000-8000-000011110000</td>\n      <td>LocalProvider</td>\n      <td>216.80.70.252</td>\n      <td>6</td>\n    </tr>\n    <tr>\n      <th>1</th>\n      <td>001fecc2-1393-4bd9-950e-5645e15e3a53</td>\n      <td>SlurmProvider</td>\n      <td>141.142.140.194</td>\n      <td>10</td>\n    </tr>\n    <tr>\n      <th>2</th>\n      <td>006f558d-df82-45c2-b2d5-94274ef41a69</td>\n      <td>SlurmProvider</td>\n      <td>141.142.140.194</td>\n      <td>10</td>\n    </tr>\n    <tr>\n      <th>3</th>\n      <td>00824163-569c-4f0d-953d-097cd3b7179d</td>\n      <td>NaN</td>\n      <td>159.226.43.47</td>\n      <td>10</td>\n    </tr>\n    <tr>\n      <th>4</th>\n      <td>01a3324e-7ad9-4563-b598-0c2499068a39</td>\n      <td>LocalProvider</td>\n      <td>128.135.204.6</td>\n      <td>8</td>\n    </tr>\n  </tbody>\n</table>\n</div>"
     },
     "execution_count": 77,
     "metadata": {},
     "output_type": "execute_result"
    }
   ],
   "source": [
    "endpoints.head()"
   ]
  },
  {
   "cell_type": "markdown",
   "id": "7ed31d7a5e47d9b",
   "metadata": {
    "collapsed": false
   },
   "source": [
    "Example merging in the end:\n",
    "```python\n",
    "o = pd.merge(func_mapping,data, on='imports')\n",
    "p = pd.merge(task_mapping,o, on='func4.name')\n",
    "r = pd.merge(task, p, on='task_uuid')\n",
    "```"
   ]
  },
  {
   "cell_type": "code",
   "execution_count": 78,
   "id": "a44f104c45432cb9",
   "metadata": {
    "collapsed": false,
    "ExecuteTime": {
     "end_time": "2024-04-23T16:28:46.555876Z",
     "start_time": "2024-04-23T16:28:32.217418Z"
    }
   },
   "outputs": [],
   "source": [
    "o = pd.merge(func_mapping,data, on='imports')\n",
    "p = pd.merge(task_mapping,o, on='func4.name')\n",
    "r = pd.merge(task, p, on='task_uuid')\n",
    "r.to_csv(\"my_data.csv\")"
   ]
  },
  {
   "cell_type": "code",
   "execution_count": 79,
   "id": "0c66359c-da51-4767-a768-91bac56f54c6",
   "metadata": {
    "ExecuteTime": {
     "end_time": "2024-04-23T16:29:00.505132Z",
     "start_time": "2024-04-23T16:28:46.556197Z"
    }
   },
   "outputs": [],
   "source": [
    "sorted_df = r.sort_values(by=[\"received\"], ascending=True)\n",
    "sorted_df = sorted_df.dropna()\n",
    "sorted_df.to_csv(approach+\"_data_sorted.csv\")"
   ]
  },
  {
   "cell_type": "code",
   "execution_count": 80,
   "id": "added575-1e6f-4b86-962a-5f8e7ee8adf7",
   "metadata": {
    "ExecuteTime": {
     "end_time": "2024-04-23T16:29:00.514257Z",
     "start_time": "2024-04-23T16:29:00.511431Z"
    }
   },
   "outputs": [
    {
     "data": {
      "text/plain": "                                    task_uuid  user_id  \\\n1109608  2dda391f-cb85-4e2f-8ae7-c9c603a821dd    458.0   \n1109630  ac3f3e5e-aeff-4236-a3a5-223dcf00aba4    458.0   \n1109604  1347620d-56a1-4d30-b8d3-32ded9e08b47    458.0   \n1109605  1fbeacd4-b3e9-4bb9-bc1c-92fc9abd238f    600.0   \n1109606  285a505d-66ae-4e5c-88a3-e70794e425ae    600.0   \n\n                                endpoint_uuid      received     func4.name  \\\n1109608  396e6fd2-ed3d-4e84-b7a6-b8bc7d98d230  1.669597e+18  296-04-tar.py   \n1109630  396e6fd2-ed3d-4e84-b7a6-b8bc7d98d230  1.669598e+18  296-04-tar.py   \n1109604  396e6fd2-ed3d-4e84-b7a6-b8bc7d98d230  1.669598e+18  296-04-tar.py   \n1109605  674446c2-4dc6-41a6-b767-bf6ce67df702  1.669598e+18  296-04-tar.py   \n1109606  674446c2-4dc6-41a6-b767-bf6ce67df702  1.669598e+18  296-04-tar.py   \n\n         executiontime  Unnamed: 0.1             imports           Cluster  \\\n1109608         0.0021           436  os;pathlib;tarfile  Sci:_Instruments   \n1109630         0.0017           436  os;pathlib;tarfile  Sci:_Instruments   \n1109604         0.0020           436  os;pathlib;tarfile  Sci:_Instruments   \n1109605         0.0095           436  os;pathlib;tarfile  Sci:_Instruments   \n1109606         0.0081           436  os;pathlib;tarfile  Sci:_Instruments   \n\n         buldingtime  ...  dockertime1  dockertime2  dockertime3  dockertime4  \\\n1109608          7.7  ...     1.047234     1.047545     1.047907      1.04703   \n1109630          7.7  ...     1.047234     1.047545     1.047907      1.04703   \n1109604          7.7  ...     1.047234     1.047545     1.047907      1.04703   \n1109605          7.7  ...     1.047234     1.047545     1.047907      1.04703   \n1109606          7.7  ...     1.047234     1.047545     1.047907      1.04703   \n\n         dockertime5  importtime1  importtime2  importtime3  importtime4  \\\n1109608     1.048197      0.01628     0.016247     0.016803     0.016089   \n1109630     1.048197      0.01628     0.016247     0.016803     0.016089   \n1109604     1.048197      0.01628     0.016247     0.016803     0.016089   \n1109605     1.048197      0.01628     0.016247     0.016803     0.016089   \n1109606     1.048197      0.01628     0.016247     0.016803     0.016089   \n\n         importtime5  \n1109608     0.016373  \n1109630     0.016373  \n1109604     0.016373  \n1109605     0.016373  \n1109606     0.016373  \n\n[5 rows x 29 columns]",
      "text/html": "<div>\n<style scoped>\n    .dataframe tbody tr th:only-of-type {\n        vertical-align: middle;\n    }\n\n    .dataframe tbody tr th {\n        vertical-align: top;\n    }\n\n    .dataframe thead th {\n        text-align: right;\n    }\n</style>\n<table border=\"1\" class=\"dataframe\">\n  <thead>\n    <tr style=\"text-align: right;\">\n      <th></th>\n      <th>task_uuid</th>\n      <th>user_id</th>\n      <th>endpoint_uuid</th>\n      <th>received</th>\n      <th>func4.name</th>\n      <th>executiontime</th>\n      <th>Unnamed: 0.1</th>\n      <th>imports</th>\n      <th>Cluster</th>\n      <th>buldingtime</th>\n      <th>...</th>\n      <th>dockertime1</th>\n      <th>dockertime2</th>\n      <th>dockertime3</th>\n      <th>dockertime4</th>\n      <th>dockertime5</th>\n      <th>importtime1</th>\n      <th>importtime2</th>\n      <th>importtime3</th>\n      <th>importtime4</th>\n      <th>importtime5</th>\n    </tr>\n  </thead>\n  <tbody>\n    <tr>\n      <th>1109608</th>\n      <td>2dda391f-cb85-4e2f-8ae7-c9c603a821dd</td>\n      <td>458.0</td>\n      <td>396e6fd2-ed3d-4e84-b7a6-b8bc7d98d230</td>\n      <td>1.669597e+18</td>\n      <td>296-04-tar.py</td>\n      <td>0.0021</td>\n      <td>436</td>\n      <td>os;pathlib;tarfile</td>\n      <td>Sci:_Instruments</td>\n      <td>7.7</td>\n      <td>...</td>\n      <td>1.047234</td>\n      <td>1.047545</td>\n      <td>1.047907</td>\n      <td>1.04703</td>\n      <td>1.048197</td>\n      <td>0.01628</td>\n      <td>0.016247</td>\n      <td>0.016803</td>\n      <td>0.016089</td>\n      <td>0.016373</td>\n    </tr>\n    <tr>\n      <th>1109630</th>\n      <td>ac3f3e5e-aeff-4236-a3a5-223dcf00aba4</td>\n      <td>458.0</td>\n      <td>396e6fd2-ed3d-4e84-b7a6-b8bc7d98d230</td>\n      <td>1.669598e+18</td>\n      <td>296-04-tar.py</td>\n      <td>0.0017</td>\n      <td>436</td>\n      <td>os;pathlib;tarfile</td>\n      <td>Sci:_Instruments</td>\n      <td>7.7</td>\n      <td>...</td>\n      <td>1.047234</td>\n      <td>1.047545</td>\n      <td>1.047907</td>\n      <td>1.04703</td>\n      <td>1.048197</td>\n      <td>0.01628</td>\n      <td>0.016247</td>\n      <td>0.016803</td>\n      <td>0.016089</td>\n      <td>0.016373</td>\n    </tr>\n    <tr>\n      <th>1109604</th>\n      <td>1347620d-56a1-4d30-b8d3-32ded9e08b47</td>\n      <td>458.0</td>\n      <td>396e6fd2-ed3d-4e84-b7a6-b8bc7d98d230</td>\n      <td>1.669598e+18</td>\n      <td>296-04-tar.py</td>\n      <td>0.0020</td>\n      <td>436</td>\n      <td>os;pathlib;tarfile</td>\n      <td>Sci:_Instruments</td>\n      <td>7.7</td>\n      <td>...</td>\n      <td>1.047234</td>\n      <td>1.047545</td>\n      <td>1.047907</td>\n      <td>1.04703</td>\n      <td>1.048197</td>\n      <td>0.01628</td>\n      <td>0.016247</td>\n      <td>0.016803</td>\n      <td>0.016089</td>\n      <td>0.016373</td>\n    </tr>\n    <tr>\n      <th>1109605</th>\n      <td>1fbeacd4-b3e9-4bb9-bc1c-92fc9abd238f</td>\n      <td>600.0</td>\n      <td>674446c2-4dc6-41a6-b767-bf6ce67df702</td>\n      <td>1.669598e+18</td>\n      <td>296-04-tar.py</td>\n      <td>0.0095</td>\n      <td>436</td>\n      <td>os;pathlib;tarfile</td>\n      <td>Sci:_Instruments</td>\n      <td>7.7</td>\n      <td>...</td>\n      <td>1.047234</td>\n      <td>1.047545</td>\n      <td>1.047907</td>\n      <td>1.04703</td>\n      <td>1.048197</td>\n      <td>0.01628</td>\n      <td>0.016247</td>\n      <td>0.016803</td>\n      <td>0.016089</td>\n      <td>0.016373</td>\n    </tr>\n    <tr>\n      <th>1109606</th>\n      <td>285a505d-66ae-4e5c-88a3-e70794e425ae</td>\n      <td>600.0</td>\n      <td>674446c2-4dc6-41a6-b767-bf6ce67df702</td>\n      <td>1.669598e+18</td>\n      <td>296-04-tar.py</td>\n      <td>0.0081</td>\n      <td>436</td>\n      <td>os;pathlib;tarfile</td>\n      <td>Sci:_Instruments</td>\n      <td>7.7</td>\n      <td>...</td>\n      <td>1.047234</td>\n      <td>1.047545</td>\n      <td>1.047907</td>\n      <td>1.04703</td>\n      <td>1.048197</td>\n      <td>0.01628</td>\n      <td>0.016247</td>\n      <td>0.016803</td>\n      <td>0.016089</td>\n      <td>0.016373</td>\n    </tr>\n  </tbody>\n</table>\n<p>5 rows × 29 columns</p>\n</div>"
     },
     "execution_count": 80,
     "metadata": {},
     "output_type": "execute_result"
    }
   ],
   "source": [
    "sorted_df.head()"
   ]
  },
  {
   "cell_type": "code",
   "execution_count": 83,
   "outputs": [],
   "source": [
    "p = sorted_df.dropna()"
   ],
   "metadata": {
    "collapsed": false,
    "ExecuteTime": {
     "end_time": "2024-04-23T18:53:43.129572Z",
     "start_time": "2024-04-23T18:53:41.035371Z"
    }
   },
   "id": "9920706f03f85292"
  },
  {
   "cell_type": "code",
   "execution_count": 84,
   "outputs": [
    {
     "data": {
      "text/plain": "Empty DataFrame\nColumns: [task_uuid, user_id, endpoint_uuid, received, func4.name, executiontime, Unnamed: 0.1, imports, Cluster, buldingtime, installtime, starttime, dockertime, importtime, starttime1, starttime2, starttime3, starttime4, starttime5, dockertime1, dockertime2, dockertime3, dockertime4, dockertime5, importtime1, importtime2, importtime3, importtime4, importtime5]\nIndex: []\n\n[0 rows x 29 columns]",
      "text/html": "<div>\n<style scoped>\n    .dataframe tbody tr th:only-of-type {\n        vertical-align: middle;\n    }\n\n    .dataframe tbody tr th {\n        vertical-align: top;\n    }\n\n    .dataframe thead th {\n        text-align: right;\n    }\n</style>\n<table border=\"1\" class=\"dataframe\">\n  <thead>\n    <tr style=\"text-align: right;\">\n      <th></th>\n      <th>task_uuid</th>\n      <th>user_id</th>\n      <th>endpoint_uuid</th>\n      <th>received</th>\n      <th>func4.name</th>\n      <th>executiontime</th>\n      <th>Unnamed: 0.1</th>\n      <th>imports</th>\n      <th>Cluster</th>\n      <th>buldingtime</th>\n      <th>...</th>\n      <th>dockertime1</th>\n      <th>dockertime2</th>\n      <th>dockertime3</th>\n      <th>dockertime4</th>\n      <th>dockertime5</th>\n      <th>importtime1</th>\n      <th>importtime2</th>\n      <th>importtime3</th>\n      <th>importtime4</th>\n      <th>importtime5</th>\n    </tr>\n  </thead>\n  <tbody>\n  </tbody>\n</table>\n<p>0 rows × 29 columns</p>\n</div>"
     },
     "execution_count": 84,
     "metadata": {},
     "output_type": "execute_result"
    }
   ],
   "source": [
    "p[p.task_uuid.isna()]"
   ],
   "metadata": {
    "collapsed": false,
    "ExecuteTime": {
     "end_time": "2024-04-23T18:53:53.063258Z",
     "start_time": "2024-04-23T18:53:53.053217Z"
    }
   },
   "id": "e0237c4c1c4cf0f6"
  }
 ],
 "metadata": {
  "kernelspec": {
   "display_name": "Python 3 (ipykernel)",
   "language": "python",
   "name": "python3"
  },
  "language_info": {
   "codemirror_mode": {
    "name": "ipython",
    "version": 3
   },
   "file_extension": ".py",
   "mimetype": "text/x-python",
   "name": "python",
   "nbconvert_exporter": "python",
   "pygments_lexer": "ipython3",
   "version": "3.10.12"
  }
 },
 "nbformat": 4,
 "nbformat_minor": 5
}
