{
 "cells": [
  {
   "cell_type": "code",
   "execution_count": 2,
   "id": "initial_id",
   "metadata": {
    "collapsed": true,
    "ExecuteTime": {
     "end_time": "2024-04-05T20:26:25.938669Z",
     "start_time": "2024-04-05T20:26:25.321441Z"
    }
   },
   "outputs": [],
   "source": [
    "import pandas as pd"
   ]
  },
  {
   "cell_type": "code",
   "execution_count": 125,
   "outputs": [],
   "source": [
    "def prepare(data):\n",
    "    data['import.start'] = pd.to_datetime(data['import.start'])\n",
    "    data['import.stop'] = pd.to_datetime(data['import.stop'])\n",
    "    data['created'] = pd.to_datetime(data['created'])\n",
    "    data['started'] = pd.to_datetime(data['started'])\n",
    "    data['finished'] = pd.to_datetime(data['finished'])\n",
    "    \n",
    "    data['starttime'] = (data['started'] - data['created']).dt.total_seconds() \n",
    "    data['dockertime'] = (data['finished'] - data['started']).dt.total_seconds() \n",
    "    data['importtime'] = (data['import.stop'] - data['import.start']).dt.total_seconds() \n",
    "    \n",
    "    started_temp = pd.DataFrame()\n",
    "    \n",
    "    for i in range(8,29,5):\n",
    "        print(i)\n",
    "        started_temp.insert(range(8,29,5).index(i), \"\", (pd.to_datetime(data.iloc[:, i+1]) - pd.to_datetime(data.iloc[:, i])).dt.total_seconds() , True)\n",
    "        \n",
    "    \n",
    "    started_temp.columns = ['starttime{}'.format(i) for i in range(1, 6)]\n",
    "    \n",
    "    data = pd.concat([data, started_temp], axis=1)\n",
    "    \n",
    "    return data"
   ],
   "metadata": {
    "collapsed": false,
    "ExecuteTime": {
     "end_time": "2024-04-05T21:29:55.065995Z",
     "start_time": "2024-04-05T21:29:55.063404Z"
    }
   },
   "id": "16b0a5ff0543ef2"
  },
  {
   "cell_type": "code",
   "execution_count": 126,
   "outputs": [],
   "source": [
    "data = pd.read_csv(\"data/all_top_10/run01.csv\")"
   ],
   "metadata": {
    "collapsed": false,
    "ExecuteTime": {
     "end_time": "2024-04-05T21:29:56.612987Z",
     "start_time": "2024-04-05T21:29:56.607221Z"
    }
   },
   "id": "e7f1e7bbf5551e58"
  },
  {
   "cell_type": "code",
   "execution_count": 127,
   "outputs": [
    {
     "name": "stdout",
     "output_type": "stream",
     "text": [
      "8\n",
      "13\n",
      "18\n",
      "23\n",
      "28\n"
     ]
    }
   ],
   "source": [
    "data = prepare(data)"
   ],
   "metadata": {
    "collapsed": false,
    "ExecuteTime": {
     "end_time": "2024-04-05T21:29:57.772374Z",
     "start_time": "2024-04-05T21:29:57.767453Z"
    }
   },
   "id": "bcd911ce1280969b"
  },
  {
   "cell_type": "code",
   "execution_count": 128,
   "outputs": [
    {
     "data": {
      "text/plain": "                                             imports  buldingtime  \\\n0  argparse;copy;datetime;funcx;itertools;json;ma...         33.8   \n1  argparse;copy;funcx;itertools;json;matplotlib;...         29.9   \n2                                       argparse;sys         10.2   \n3                                              CLEAN          9.9   \n4                                           CLEAN;os          8.7   \n\n   installtime                             created  \\\n0         29.6 2024-02-24 01:46:01.942904105+00:00   \n1         26.5 2024-02-24 02:09:36.505206886+00:00   \n2          7.7 2024-02-24 00:05:31.638063327+00:00   \n3          6.7 2024-02-24 00:22:43.932787955+00:00   \n4          5.6 2024-02-24 00:07:08.397271981+00:00   \n\n                              started                            finished  \\\n0 2024-02-24 01:46:04.647990666+00:00 2024-02-24 01:46:09.073126174+00:00   \n1 2024-02-24 02:09:40.258796428+00:00 2024-02-24 02:09:46.050924065+00:00   \n2 2024-02-24 00:05:34.541170351+00:00 2024-02-24 00:05:36.181886165+00:00   \n3 2024-02-24 00:22:46.799827019+00:00 2024-02-24 00:22:48.437580594+00:00   \n4 2024-02-24 00:07:10.981056935+00:00 2024-02-24 00:07:12.645445316+00:00   \n\n                         import.start                         import.stop  \\\n0 2024-02-24 01:46:04.920405878+00:00 2024-02-24 01:46:07.935107627+00:00   \n1 2024-02-24 02:09:40.521566627+00:00 2024-02-24 02:09:44.940560231+00:00   \n2 2024-02-24 00:05:35.038664640+00:00 2024-02-24 00:05:35.158730894+00:00   \n3 2024-02-24 00:22:47.405126622+00:00 2024-02-24 00:22:47.410974338+00:00   \n4 2024-02-24 00:07:11.617646310+00:00 2024-02-24 00:07:11.623721815+00:00   \n\n                     run1.created                    run1.started  ...  \\\n0  2024-02-24T01:46:10.078100248Z  2024-02-24T01:46:11.228743829Z  ...   \n1  2024-02-24T02:09:46.803715316Z  2024-02-24T02:09:47.652338465Z  ...   \n2  2024-02-24T00:05:36.969313195Z  2024-02-24T00:05:38.004811892Z  ...   \n3   2024-02-24T00:22:49.12014949Z  2024-02-24T00:22:49.963651528Z  ...   \n4  2024-02-24T00:07:13.405962709Z  2024-02-24T00:07:14.262820498Z  ...   \n\n                run5.import.start                run5.import.stop starttime  \\\n0  2024-02-24T01:46:25.002164307Z  2024-02-24T01:46:25.446521213Z  2.705087   \n1  2024-02-24T02:10:00.297477065Z  2024-02-24T02:10:00.769389974Z  3.753590   \n2  2024-02-24T00:05:49.581944292Z  2024-02-24T00:05:49.589224895Z  2.903107   \n3  2024-02-24T00:23:02.144244308Z  2024-02-24T00:23:02.144266820Z  2.867039   \n4  2024-02-24T00:07:27.046705554Z  2024-02-24T00:07:27.046730058Z  2.583785   \n\n  dockertime importtime starttime1 starttime2 starttime3 starttime4 starttime5  \n0   4.425136   3.014702   1.150644   0.951442   1.021779   1.218273   0.791984  \n1   5.792128   4.418994   0.848623   0.924125   0.801321   0.927544   1.076710  \n2   1.640716   0.120066   1.035499   1.041559   1.145632   0.959571   1.284366  \n3   1.637754   0.005848   0.843502   1.564489   1.442526   1.143089   0.756972  \n4   1.664388   0.006076   0.856858   1.144579   1.034260   0.925805   0.945551  \n\n[5 rows x 41 columns]",
      "text/html": "<div>\n<style scoped>\n    .dataframe tbody tr th:only-of-type {\n        vertical-align: middle;\n    }\n\n    .dataframe tbody tr th {\n        vertical-align: top;\n    }\n\n    .dataframe thead th {\n        text-align: right;\n    }\n</style>\n<table border=\"1\" class=\"dataframe\">\n  <thead>\n    <tr style=\"text-align: right;\">\n      <th></th>\n      <th>imports</th>\n      <th>buldingtime</th>\n      <th>installtime</th>\n      <th>created</th>\n      <th>started</th>\n      <th>finished</th>\n      <th>import.start</th>\n      <th>import.stop</th>\n      <th>run1.created</th>\n      <th>run1.started</th>\n      <th>...</th>\n      <th>run5.import.start</th>\n      <th>run5.import.stop</th>\n      <th>starttime</th>\n      <th>dockertime</th>\n      <th>importtime</th>\n      <th>starttime1</th>\n      <th>starttime2</th>\n      <th>starttime3</th>\n      <th>starttime4</th>\n      <th>starttime5</th>\n    </tr>\n  </thead>\n  <tbody>\n    <tr>\n      <th>0</th>\n      <td>argparse;copy;datetime;funcx;itertools;json;ma...</td>\n      <td>33.8</td>\n      <td>29.6</td>\n      <td>2024-02-24 01:46:01.942904105+00:00</td>\n      <td>2024-02-24 01:46:04.647990666+00:00</td>\n      <td>2024-02-24 01:46:09.073126174+00:00</td>\n      <td>2024-02-24 01:46:04.920405878+00:00</td>\n      <td>2024-02-24 01:46:07.935107627+00:00</td>\n      <td>2024-02-24T01:46:10.078100248Z</td>\n      <td>2024-02-24T01:46:11.228743829Z</td>\n      <td>...</td>\n      <td>2024-02-24T01:46:25.002164307Z</td>\n      <td>2024-02-24T01:46:25.446521213Z</td>\n      <td>2.705087</td>\n      <td>4.425136</td>\n      <td>3.014702</td>\n      <td>1.150644</td>\n      <td>0.951442</td>\n      <td>1.021779</td>\n      <td>1.218273</td>\n      <td>0.791984</td>\n    </tr>\n    <tr>\n      <th>1</th>\n      <td>argparse;copy;funcx;itertools;json;matplotlib;...</td>\n      <td>29.9</td>\n      <td>26.5</td>\n      <td>2024-02-24 02:09:36.505206886+00:00</td>\n      <td>2024-02-24 02:09:40.258796428+00:00</td>\n      <td>2024-02-24 02:09:46.050924065+00:00</td>\n      <td>2024-02-24 02:09:40.521566627+00:00</td>\n      <td>2024-02-24 02:09:44.940560231+00:00</td>\n      <td>2024-02-24T02:09:46.803715316Z</td>\n      <td>2024-02-24T02:09:47.652338465Z</td>\n      <td>...</td>\n      <td>2024-02-24T02:10:00.297477065Z</td>\n      <td>2024-02-24T02:10:00.769389974Z</td>\n      <td>3.753590</td>\n      <td>5.792128</td>\n      <td>4.418994</td>\n      <td>0.848623</td>\n      <td>0.924125</td>\n      <td>0.801321</td>\n      <td>0.927544</td>\n      <td>1.076710</td>\n    </tr>\n    <tr>\n      <th>2</th>\n      <td>argparse;sys</td>\n      <td>10.2</td>\n      <td>7.7</td>\n      <td>2024-02-24 00:05:31.638063327+00:00</td>\n      <td>2024-02-24 00:05:34.541170351+00:00</td>\n      <td>2024-02-24 00:05:36.181886165+00:00</td>\n      <td>2024-02-24 00:05:35.038664640+00:00</td>\n      <td>2024-02-24 00:05:35.158730894+00:00</td>\n      <td>2024-02-24T00:05:36.969313195Z</td>\n      <td>2024-02-24T00:05:38.004811892Z</td>\n      <td>...</td>\n      <td>2024-02-24T00:05:49.581944292Z</td>\n      <td>2024-02-24T00:05:49.589224895Z</td>\n      <td>2.903107</td>\n      <td>1.640716</td>\n      <td>0.120066</td>\n      <td>1.035499</td>\n      <td>1.041559</td>\n      <td>1.145632</td>\n      <td>0.959571</td>\n      <td>1.284366</td>\n    </tr>\n    <tr>\n      <th>3</th>\n      <td>CLEAN</td>\n      <td>9.9</td>\n      <td>6.7</td>\n      <td>2024-02-24 00:22:43.932787955+00:00</td>\n      <td>2024-02-24 00:22:46.799827019+00:00</td>\n      <td>2024-02-24 00:22:48.437580594+00:00</td>\n      <td>2024-02-24 00:22:47.405126622+00:00</td>\n      <td>2024-02-24 00:22:47.410974338+00:00</td>\n      <td>2024-02-24T00:22:49.12014949Z</td>\n      <td>2024-02-24T00:22:49.963651528Z</td>\n      <td>...</td>\n      <td>2024-02-24T00:23:02.144244308Z</td>\n      <td>2024-02-24T00:23:02.144266820Z</td>\n      <td>2.867039</td>\n      <td>1.637754</td>\n      <td>0.005848</td>\n      <td>0.843502</td>\n      <td>1.564489</td>\n      <td>1.442526</td>\n      <td>1.143089</td>\n      <td>0.756972</td>\n    </tr>\n    <tr>\n      <th>4</th>\n      <td>CLEAN;os</td>\n      <td>8.7</td>\n      <td>5.6</td>\n      <td>2024-02-24 00:07:08.397271981+00:00</td>\n      <td>2024-02-24 00:07:10.981056935+00:00</td>\n      <td>2024-02-24 00:07:12.645445316+00:00</td>\n      <td>2024-02-24 00:07:11.617646310+00:00</td>\n      <td>2024-02-24 00:07:11.623721815+00:00</td>\n      <td>2024-02-24T00:07:13.405962709Z</td>\n      <td>2024-02-24T00:07:14.262820498Z</td>\n      <td>...</td>\n      <td>2024-02-24T00:07:27.046705554Z</td>\n      <td>2024-02-24T00:07:27.046730058Z</td>\n      <td>2.583785</td>\n      <td>1.664388</td>\n      <td>0.006076</td>\n      <td>0.856858</td>\n      <td>1.144579</td>\n      <td>1.034260</td>\n      <td>0.925805</td>\n      <td>0.945551</td>\n    </tr>\n  </tbody>\n</table>\n<p>5 rows × 41 columns</p>\n</div>"
     },
     "execution_count": 128,
     "metadata": {},
     "output_type": "execute_result"
    }
   ],
   "source": [
    "data.head()"
   ],
   "metadata": {
    "collapsed": false,
    "ExecuteTime": {
     "end_time": "2024-04-05T21:30:01.374876Z",
     "start_time": "2024-04-05T21:30:01.362874Z"
    }
   },
   "id": "3c05fb5f6459b67b"
  }
 ],
 "metadata": {
  "kernelspec": {
   "display_name": "Python 3",
   "language": "python",
   "name": "python3"
  },
  "language_info": {
   "codemirror_mode": {
    "name": "ipython",
    "version": 2
   },
   "file_extension": ".py",
   "mimetype": "text/x-python",
   "name": "python",
   "nbconvert_exporter": "python",
   "pygments_lexer": "ipython2",
   "version": "2.7.6"
  }
 },
 "nbformat": 4,
 "nbformat_minor": 5
}
