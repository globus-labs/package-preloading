{
 "cells": [
  {
   "cell_type": "code",
   "execution_count": 315,
   "id": "initial_id",
   "metadata": {
    "collapsed": true,
    "ExecuteTime": {
     "end_time": "2024-04-06T03:08:11.238891Z",
     "start_time": "2024-04-06T03:08:11.233047Z"
    }
   },
   "outputs": [],
   "source": [
    "import pandas as pd"
   ]
  },
  {
   "cell_type": "code",
   "execution_count": 316,
   "outputs": [],
   "source": [
    "def prepare(data):\n",
    "    data['import.start'] = pd.to_datetime(data['import.start'])\n",
    "    data['import.stop'] = pd.to_datetime(data['import.stop'])\n",
    "    data['created'] = pd.to_datetime(data['created'])\n",
    "    data['started'] = pd.to_datetime(data['started'])\n",
    "    data['finished'] = pd.to_datetime(data['finished'])\n",
    "    \n",
    "    data['starttime'] = (data['started'] - data['created']).dt.total_seconds() \n",
    "    data['dockertime'] = (data['finished'] - data['started']).dt.total_seconds() \n",
    "    data['importtime'] = (data['import.stop'] - data['import.start']).dt.total_seconds() \n",
    "    \n",
    "    started_temp = pd.DataFrame()\n",
    "    docker_temp = pd.DataFrame()\n",
    "    import_temp = pd.DataFrame()\n",
    "    \n",
    "    for i in range(8,29,5):\n",
    "        started_temp.insert(range(8,29,5).index(i), \"\", (pd.to_datetime(data.iloc[:, i+1]) - pd.to_datetime(data.iloc[:, i])).dt.total_seconds() , True)\n",
    "        docker_temp.insert(range(8,29,5).index(i), \"\", (pd.to_datetime(data.iloc[:, i+2]) - pd.to_datetime(data.iloc[:, i+1])).dt.total_seconds() , True)\n",
    "        import_temp.insert(range(8,29,5).index(i), \"\", (pd.to_datetime(data.iloc[:, i+4]) - pd.to_datetime(data.iloc[:, i+3])).dt.total_seconds() , True)\n",
    "        \n",
    "    \n",
    "    started_temp.columns = ['starttime{}'.format(i) for i in range(1, 6)]\n",
    "    docker_temp.columns = ['dockertime{}'.format(i) for i in range(1, 6)]\n",
    "    import_temp.columns = ['importtime{}'.format(i) for i in range(1, 6)]\n",
    "    \n",
    "    data = pd.concat([data, started_temp, docker_temp, import_temp], axis=1)\n",
    "    \n",
    "    return data"
   ],
   "metadata": {
    "collapsed": false,
    "ExecuteTime": {
     "end_time": "2024-04-06T03:08:13.443629Z",
     "start_time": "2024-04-06T03:08:13.441938Z"
    }
   },
   "id": "16b0a5ff0543ef2"
  },
  {
   "cell_type": "code",
   "execution_count": 317,
   "outputs": [],
   "source": [
    "def extract_imports(imp):\n",
    "    imp = imp.split(\"'\")\n",
    "    l = \"\"\n",
    "    \n",
    "    for i in imp:\n",
    "        if i == \"(\" or i == \")\" or i == \",)\" or i == \",\" or i == \"()\" or i == \", \":\n",
    "            continue\n",
    "        else:\n",
    "            if l == \"\":\n",
    "                l = i\n",
    "            else:\n",
    "                l = l + \";\" + i\n",
    "    return l"
   ],
   "metadata": {
    "collapsed": false,
    "ExecuteTime": {
     "end_time": "2024-04-06T03:08:15.229894Z",
     "start_time": "2024-04-06T03:08:15.228570Z"
    }
   },
   "id": "aa1b98486e816909"
  },
  {
   "cell_type": "markdown",
   "source": [
    "This is one experiment run with using the top 10 packages over all functions\n",
    "The installationtime is set to minus -1 if there was no install as for native python packages as os"
   ],
   "metadata": {
    "collapsed": false
   },
   "id": "fc2b16992b94fa98"
  },
  {
   "cell_type": "code",
   "execution_count": 318,
   "outputs": [],
   "source": [
    "data = pd.read_csv(\"data/all_top_10/run01.csv\")\n",
    "data = prepare(data)\n",
    "data = data.loc[:, ['imports', 'buldingtime', 'installtime', 'starttime', 'dockertime',\n",
    "       'importtime', 'starttime1', 'starttime2', 'starttime3', 'starttime4',\n",
    "       'starttime5', 'dockertime1', 'dockertime2', 'dockertime3',\n",
    "       'dockertime4', 'dockertime5', 'importtime1', 'importtime2',\n",
    "       'importtime3', 'importtime4', 'importtime5']]"
   ],
   "metadata": {
    "collapsed": false,
    "ExecuteTime": {
     "end_time": "2024-04-06T03:08:17.803394Z",
     "start_time": "2024-04-06T03:08:17.769968Z"
    }
   },
   "id": "4d74750b8f4a4df2"
  },
  {
   "cell_type": "code",
   "execution_count": 319,
   "outputs": [
    {
     "data": {
      "text/plain": "                                             imports  buldingtime  \\\n0  argparse;copy;datetime;funcx;itertools;json;ma...         33.8   \n1  argparse;copy;funcx;itertools;json;matplotlib;...         29.9   \n2                                       argparse;sys         10.2   \n3                                              CLEAN          9.9   \n4                                           CLEAN;os          8.7   \n\n   installtime  starttime  dockertime  importtime  starttime1  starttime2  \\\n0         29.6   2.705087    4.425136    3.014702    1.150644    0.951442   \n1         26.5   3.753590    5.792128    4.418994    0.848623    0.924125   \n2          7.7   2.903107    1.640716    0.120066    1.035499    1.041559   \n3          6.7   2.867039    1.637754    0.005848    0.843502    1.564489   \n4          5.6   2.583785    1.664388    0.006076    0.856858    1.144579   \n\n   starttime3  starttime4  ...  dockertime1  dockertime2  dockertime3  \\\n0    1.021779    1.218273  ...     1.577872     1.566395     1.552404   \n1    0.801321    0.927544  ...     1.549871     1.546753     1.544053   \n2    1.145632    0.959571  ...     1.035915     1.034411     1.036701   \n3    1.442526    1.143089  ...     1.029524     1.026911     1.027171   \n4    1.034260    0.925805  ...     1.027819     1.029581     1.027125   \n\n   dockertime4  dockertime5  importtime1  importtime2  importtime3  \\\n0     1.536692     1.550373     0.469661     0.458105     0.443868   \n1     1.555687     1.581340     0.443171     0.438238     0.441210   \n2     1.033653     1.036441     0.004059     0.002662     0.006202   \n3     1.028132     1.026027     0.000016     0.000025     0.000028   \n4     1.027228     1.028558     0.000336     0.000139     0.000020   \n\n   importtime4  importtime5  \n0     0.415803     0.444357  \n1     0.449839     0.471913  \n2     0.007091     0.007281  \n3     0.000013     0.000023  \n4     0.000011     0.000025  \n\n[5 rows x 21 columns]",
      "text/html": "<div>\n<style scoped>\n    .dataframe tbody tr th:only-of-type {\n        vertical-align: middle;\n    }\n\n    .dataframe tbody tr th {\n        vertical-align: top;\n    }\n\n    .dataframe thead th {\n        text-align: right;\n    }\n</style>\n<table border=\"1\" class=\"dataframe\">\n  <thead>\n    <tr style=\"text-align: right;\">\n      <th></th>\n      <th>imports</th>\n      <th>buldingtime</th>\n      <th>installtime</th>\n      <th>starttime</th>\n      <th>dockertime</th>\n      <th>importtime</th>\n      <th>starttime1</th>\n      <th>starttime2</th>\n      <th>starttime3</th>\n      <th>starttime4</th>\n      <th>...</th>\n      <th>dockertime1</th>\n      <th>dockertime2</th>\n      <th>dockertime3</th>\n      <th>dockertime4</th>\n      <th>dockertime5</th>\n      <th>importtime1</th>\n      <th>importtime2</th>\n      <th>importtime3</th>\n      <th>importtime4</th>\n      <th>importtime5</th>\n    </tr>\n  </thead>\n  <tbody>\n    <tr>\n      <th>0</th>\n      <td>argparse;copy;datetime;funcx;itertools;json;ma...</td>\n      <td>33.8</td>\n      <td>29.6</td>\n      <td>2.705087</td>\n      <td>4.425136</td>\n      <td>3.014702</td>\n      <td>1.150644</td>\n      <td>0.951442</td>\n      <td>1.021779</td>\n      <td>1.218273</td>\n      <td>...</td>\n      <td>1.577872</td>\n      <td>1.566395</td>\n      <td>1.552404</td>\n      <td>1.536692</td>\n      <td>1.550373</td>\n      <td>0.469661</td>\n      <td>0.458105</td>\n      <td>0.443868</td>\n      <td>0.415803</td>\n      <td>0.444357</td>\n    </tr>\n    <tr>\n      <th>1</th>\n      <td>argparse;copy;funcx;itertools;json;matplotlib;...</td>\n      <td>29.9</td>\n      <td>26.5</td>\n      <td>3.753590</td>\n      <td>5.792128</td>\n      <td>4.418994</td>\n      <td>0.848623</td>\n      <td>0.924125</td>\n      <td>0.801321</td>\n      <td>0.927544</td>\n      <td>...</td>\n      <td>1.549871</td>\n      <td>1.546753</td>\n      <td>1.544053</td>\n      <td>1.555687</td>\n      <td>1.581340</td>\n      <td>0.443171</td>\n      <td>0.438238</td>\n      <td>0.441210</td>\n      <td>0.449839</td>\n      <td>0.471913</td>\n    </tr>\n    <tr>\n      <th>2</th>\n      <td>argparse;sys</td>\n      <td>10.2</td>\n      <td>7.7</td>\n      <td>2.903107</td>\n      <td>1.640716</td>\n      <td>0.120066</td>\n      <td>1.035499</td>\n      <td>1.041559</td>\n      <td>1.145632</td>\n      <td>0.959571</td>\n      <td>...</td>\n      <td>1.035915</td>\n      <td>1.034411</td>\n      <td>1.036701</td>\n      <td>1.033653</td>\n      <td>1.036441</td>\n      <td>0.004059</td>\n      <td>0.002662</td>\n      <td>0.006202</td>\n      <td>0.007091</td>\n      <td>0.007281</td>\n    </tr>\n    <tr>\n      <th>3</th>\n      <td>CLEAN</td>\n      <td>9.9</td>\n      <td>6.7</td>\n      <td>2.867039</td>\n      <td>1.637754</td>\n      <td>0.005848</td>\n      <td>0.843502</td>\n      <td>1.564489</td>\n      <td>1.442526</td>\n      <td>1.143089</td>\n      <td>...</td>\n      <td>1.029524</td>\n      <td>1.026911</td>\n      <td>1.027171</td>\n      <td>1.028132</td>\n      <td>1.026027</td>\n      <td>0.000016</td>\n      <td>0.000025</td>\n      <td>0.000028</td>\n      <td>0.000013</td>\n      <td>0.000023</td>\n    </tr>\n    <tr>\n      <th>4</th>\n      <td>CLEAN;os</td>\n      <td>8.7</td>\n      <td>5.6</td>\n      <td>2.583785</td>\n      <td>1.664388</td>\n      <td>0.006076</td>\n      <td>0.856858</td>\n      <td>1.144579</td>\n      <td>1.034260</td>\n      <td>0.925805</td>\n      <td>...</td>\n      <td>1.027819</td>\n      <td>1.029581</td>\n      <td>1.027125</td>\n      <td>1.027228</td>\n      <td>1.028558</td>\n      <td>0.000336</td>\n      <td>0.000139</td>\n      <td>0.000020</td>\n      <td>0.000011</td>\n      <td>0.000025</td>\n    </tr>\n  </tbody>\n</table>\n<p>5 rows × 21 columns</p>\n</div>"
     },
     "execution_count": 319,
     "metadata": {},
     "output_type": "execute_result"
    }
   ],
   "source": [
    "data.head()"
   ],
   "metadata": {
    "collapsed": false,
    "ExecuteTime": {
     "end_time": "2024-04-06T03:08:19.540881Z",
     "start_time": "2024-04-06T03:08:19.531096Z"
    }
   },
   "id": "3c05fb5f6459b67b"
  },
  {
   "cell_type": "markdown",
   "source": [
    "This is the mapping between imports and function\n",
    "For this merge and the following ones, there is no need to think about on which join-operation. I cleaned the data beforehand. That is, there will be always a pair \n",
    "```python\n",
    "pd.merge(func_mapping,data, on='imports')\n",
    "```"
   ],
   "metadata": {
    "collapsed": false
   },
   "id": "cd6ceed409045138"
  },
  {
   "cell_type": "code",
   "execution_count": 320,
   "outputs": [],
   "source": [
    "func_mapping = pd.read_csv('experiments/function_mapping.csv')\n",
    "func_mapping = func_mapping.drop(2)\n",
    "func_mapping['func4.imports'] = func_mapping[func_mapping['func4.imports'].str.len() >= 0]['func4.imports'].map(lambda x: extract_imports(x))\n",
    "func_mapping = func_mapping[func_mapping['func4.imports'] != \"\"]\n",
    "func_mapping.rename(columns={'func4.imports': 'imports'}, inplace=True)\n",
    "func_mapping.drop(columns=['Unnamed: 0'], inplace=True)"
   ],
   "metadata": {
    "collapsed": false,
    "ExecuteTime": {
     "end_time": "2024-04-06T03:08:24.027052Z",
     "start_time": "2024-04-06T03:08:24.002654Z"
    }
   },
   "id": "d69f29b04d35b7e8"
  },
  {
   "cell_type": "code",
   "execution_count": 321,
   "outputs": [
    {
     "data": {
      "text/plain": "                          func4.name               imports           Cluster\n0  0-04-_check_slurm_job_statuses.py            subprocess               Job\n3              873-04-call_mtrack.py            mtrack;sys      Data: mtrack\n4           43-04-make_corr_plots.py  json;os;xpcs_webplot  Sci: Instruments\n6           3-04-submit_slurm_job.py         os;subprocess               Job\n7         397-01-rejection_sample.py                random           Trivial",
      "text/html": "<div>\n<style scoped>\n    .dataframe tbody tr th:only-of-type {\n        vertical-align: middle;\n    }\n\n    .dataframe tbody tr th {\n        vertical-align: top;\n    }\n\n    .dataframe thead th {\n        text-align: right;\n    }\n</style>\n<table border=\"1\" class=\"dataframe\">\n  <thead>\n    <tr style=\"text-align: right;\">\n      <th></th>\n      <th>func4.name</th>\n      <th>imports</th>\n      <th>Cluster</th>\n    </tr>\n  </thead>\n  <tbody>\n    <tr>\n      <th>0</th>\n      <td>0-04-_check_slurm_job_statuses.py</td>\n      <td>subprocess</td>\n      <td>Job</td>\n    </tr>\n    <tr>\n      <th>3</th>\n      <td>873-04-call_mtrack.py</td>\n      <td>mtrack;sys</td>\n      <td>Data: mtrack</td>\n    </tr>\n    <tr>\n      <th>4</th>\n      <td>43-04-make_corr_plots.py</td>\n      <td>json;os;xpcs_webplot</td>\n      <td>Sci: Instruments</td>\n    </tr>\n    <tr>\n      <th>6</th>\n      <td>3-04-submit_slurm_job.py</td>\n      <td>os;subprocess</td>\n      <td>Job</td>\n    </tr>\n    <tr>\n      <th>7</th>\n      <td>397-01-rejection_sample.py</td>\n      <td>random</td>\n      <td>Trivial</td>\n    </tr>\n  </tbody>\n</table>\n</div>"
     },
     "execution_count": 321,
     "metadata": {},
     "output_type": "execute_result"
    }
   ],
   "source": [
    "func_mapping.head()"
   ],
   "metadata": {
    "collapsed": false,
    "ExecuteTime": {
     "end_time": "2024-04-06T03:08:25.830936Z",
     "start_time": "2024-04-06T03:08:25.825219Z"
    }
   },
   "id": "fce0774177c6d33e"
  },
  {
   "cell_type": "markdown",
   "source": [
    "Here is the mapping between functions and task\n",
    "```python\n",
    "pd.merge(func_mapping,task_mapping, on='func4.name')\n",
    "```"
   ],
   "metadata": {
    "collapsed": false
   },
   "id": "eea7d1de6fcc4133"
  },
  {
   "cell_type": "code",
   "execution_count": 322,
   "outputs": [],
   "source": [
    "task_mapping = pd.read_csv(\"funcx/task_function_mapping.csv\")"
   ],
   "metadata": {
    "collapsed": false,
    "ExecuteTime": {
     "end_time": "2024-04-06T03:08:28.436627Z",
     "start_time": "2024-04-06T03:08:27.622684Z"
    }
   },
   "id": "d5b9db0d236f73cb"
  },
  {
   "cell_type": "code",
   "execution_count": 323,
   "outputs": [
    {
     "data": {
      "text/plain": "                              task_uuid                         func4.name  \\\n0  000001d5-b3f0-4c17-8074-04f013f7bf52  0-04-_check_slurm_job_statuses.py   \n1  00002521-04ba-4fb6-9c38-92ba23dc00d7  0-04-_check_slurm_job_statuses.py   \n2  00002642-f850-42b4-9e1e-2698c3396498  0-04-_check_slurm_job_statuses.py   \n3  00002deb-cf79-43ed-8aff-3281938809fe  0-04-_check_slurm_job_statuses.py   \n4  0000754b-898e-43dc-9b55-35d1a6fe6633  0-04-_check_slurm_job_statuses.py   \n\n   executiontime  \n0         0.0243  \n1         0.0331  \n2         0.0432  \n3         0.0268  \n4         0.0284  ",
      "text/html": "<div>\n<style scoped>\n    .dataframe tbody tr th:only-of-type {\n        vertical-align: middle;\n    }\n\n    .dataframe tbody tr th {\n        vertical-align: top;\n    }\n\n    .dataframe thead th {\n        text-align: right;\n    }\n</style>\n<table border=\"1\" class=\"dataframe\">\n  <thead>\n    <tr style=\"text-align: right;\">\n      <th></th>\n      <th>task_uuid</th>\n      <th>func4.name</th>\n      <th>executiontime</th>\n    </tr>\n  </thead>\n  <tbody>\n    <tr>\n      <th>0</th>\n      <td>000001d5-b3f0-4c17-8074-04f013f7bf52</td>\n      <td>0-04-_check_slurm_job_statuses.py</td>\n      <td>0.0243</td>\n    </tr>\n    <tr>\n      <th>1</th>\n      <td>00002521-04ba-4fb6-9c38-92ba23dc00d7</td>\n      <td>0-04-_check_slurm_job_statuses.py</td>\n      <td>0.0331</td>\n    </tr>\n    <tr>\n      <th>2</th>\n      <td>00002642-f850-42b4-9e1e-2698c3396498</td>\n      <td>0-04-_check_slurm_job_statuses.py</td>\n      <td>0.0432</td>\n    </tr>\n    <tr>\n      <th>3</th>\n      <td>00002deb-cf79-43ed-8aff-3281938809fe</td>\n      <td>0-04-_check_slurm_job_statuses.py</td>\n      <td>0.0268</td>\n    </tr>\n    <tr>\n      <th>4</th>\n      <td>0000754b-898e-43dc-9b55-35d1a6fe6633</td>\n      <td>0-04-_check_slurm_job_statuses.py</td>\n      <td>0.0284</td>\n    </tr>\n  </tbody>\n</table>\n</div>"
     },
     "execution_count": 323,
     "metadata": {},
     "output_type": "execute_result"
    }
   ],
   "source": [
    "task_mapping.head()"
   ],
   "metadata": {
    "collapsed": false,
    "ExecuteTime": {
     "end_time": "2024-04-06T03:08:28.441554Z",
     "start_time": "2024-04-06T03:08:28.438275Z"
    }
   },
   "id": "fb43b239175454a9"
  },
  {
   "cell_type": "markdown",
   "source": [
    "Here we have the timestamp for each task\n",
    "For merging\n",
    "```python\n",
    "pd.merge(task_mapping,task_mapping, on='task_uuid')\n",
    "```"
   ],
   "metadata": {
    "collapsed": false
   },
   "id": "f356aaf6a14c523f"
  },
  {
   "cell_type": "code",
   "execution_count": 324,
   "outputs": [],
   "source": [
    "task = pd.read_csv(\"funcx/tasks_pt1.csv\")\n",
    "task = pd.concat([task, pd.read_csv(\"funcx/tasks_pt2.csv\")], ignore_index=True)\n",
    "task['received'] = task['received'].interpolate()"
   ],
   "metadata": {
    "collapsed": false,
    "ExecuteTime": {
     "end_time": "2024-04-06T03:08:31.327015Z",
     "start_time": "2024-04-06T03:08:30.406782Z"
    }
   },
   "id": "3f3bd22dded8555f"
  },
  {
   "cell_type": "code",
   "execution_count": 325,
   "outputs": [
    {
     "data": {
      "text/plain": "                              task_uuid  user_id  \\\n0  000001d5-b3f0-4c17-8074-04f013f7bf52    293.0   \n1  00002521-04ba-4fb6-9c38-92ba23dc00d7    293.0   \n2  00002642-f850-42b4-9e1e-2698c3396498    286.0   \n3  00002deb-cf79-43ed-8aff-3281938809fe    293.0   \n4  0000754b-898e-43dc-9b55-35d1a6fe6633    293.0   \n\n                          endpoint_uuid      received  \n0  340e58fa-c5f5-46af-a7f6-81b8c36661de  1.681417e+18  \n1  340e58fa-c5f5-46af-a7f6-81b8c36661de  1.679386e+18  \n2  cbc1f8d4-71b2-4a41-8ed4-9c75421eb89f  1.683246e+18  \n3  340e58fa-c5f5-46af-a7f6-81b8c36661de  1.677897e+18  \n4  340e58fa-c5f5-46af-a7f6-81b8c36661de  1.679277e+18  ",
      "text/html": "<div>\n<style scoped>\n    .dataframe tbody tr th:only-of-type {\n        vertical-align: middle;\n    }\n\n    .dataframe tbody tr th {\n        vertical-align: top;\n    }\n\n    .dataframe thead th {\n        text-align: right;\n    }\n</style>\n<table border=\"1\" class=\"dataframe\">\n  <thead>\n    <tr style=\"text-align: right;\">\n      <th></th>\n      <th>task_uuid</th>\n      <th>user_id</th>\n      <th>endpoint_uuid</th>\n      <th>received</th>\n    </tr>\n  </thead>\n  <tbody>\n    <tr>\n      <th>0</th>\n      <td>000001d5-b3f0-4c17-8074-04f013f7bf52</td>\n      <td>293.0</td>\n      <td>340e58fa-c5f5-46af-a7f6-81b8c36661de</td>\n      <td>1.681417e+18</td>\n    </tr>\n    <tr>\n      <th>1</th>\n      <td>00002521-04ba-4fb6-9c38-92ba23dc00d7</td>\n      <td>293.0</td>\n      <td>340e58fa-c5f5-46af-a7f6-81b8c36661de</td>\n      <td>1.679386e+18</td>\n    </tr>\n    <tr>\n      <th>2</th>\n      <td>00002642-f850-42b4-9e1e-2698c3396498</td>\n      <td>286.0</td>\n      <td>cbc1f8d4-71b2-4a41-8ed4-9c75421eb89f</td>\n      <td>1.683246e+18</td>\n    </tr>\n    <tr>\n      <th>3</th>\n      <td>00002deb-cf79-43ed-8aff-3281938809fe</td>\n      <td>293.0</td>\n      <td>340e58fa-c5f5-46af-a7f6-81b8c36661de</td>\n      <td>1.677897e+18</td>\n    </tr>\n    <tr>\n      <th>4</th>\n      <td>0000754b-898e-43dc-9b55-35d1a6fe6633</td>\n      <td>293.0</td>\n      <td>340e58fa-c5f5-46af-a7f6-81b8c36661de</td>\n      <td>1.679277e+18</td>\n    </tr>\n  </tbody>\n</table>\n</div>"
     },
     "execution_count": 325,
     "metadata": {},
     "output_type": "execute_result"
    }
   ],
   "source": [
    "task.head()"
   ],
   "metadata": {
    "collapsed": false,
    "ExecuteTime": {
     "end_time": "2024-04-06T03:08:33.258452Z",
     "start_time": "2024-04-06T03:08:33.252693Z"
    }
   },
   "id": "97f3b2d5c05fe98e"
  },
  {
   "cell_type": "markdown",
   "source": [
    "Here are information about the endpoints\n",
    "For merging:\n",
    "```python\n",
    "pd.merge(task,endpoints, on='endpoint_uuid')\n",
    "```"
   ],
   "metadata": {
    "collapsed": false
   },
   "id": "fc43beb653edaa8e"
  },
  {
   "cell_type": "code",
   "execution_count": 326,
   "outputs": [],
   "source": [
    "endpoints = pd.read_csv(\"funcx/endpoints.csv\")"
   ],
   "metadata": {
    "collapsed": false,
    "ExecuteTime": {
     "end_time": "2024-04-06T03:08:35.309136Z",
     "start_time": "2024-04-06T03:08:35.306266Z"
    }
   },
   "id": "498689f1fefc6a3d"
  },
  {
   "cell_type": "code",
   "execution_count": 327,
   "outputs": [
    {
     "data": {
      "text/plain": "                          endpoint_uuid         X_type               ip  \\\n0  00000000-0000-4000-8000-000011110000  LocalProvider    216.80.70.252   \n1  001fecc2-1393-4bd9-950e-5645e15e3a53  SlurmProvider  141.142.140.194   \n2  006f558d-df82-45c2-b2d5-94274ef41a69  SlurmProvider  141.142.140.194   \n3  00824163-569c-4f0d-953d-097cd3b7179d            NaN    159.226.43.47   \n4  01a3324e-7ad9-4563-b598-0c2499068a39  LocalProvider    128.135.204.6   \n\n   cluster  \n0        6  \n1       10  \n2       10  \n3       10  \n4        8  ",
      "text/html": "<div>\n<style scoped>\n    .dataframe tbody tr th:only-of-type {\n        vertical-align: middle;\n    }\n\n    .dataframe tbody tr th {\n        vertical-align: top;\n    }\n\n    .dataframe thead th {\n        text-align: right;\n    }\n</style>\n<table border=\"1\" class=\"dataframe\">\n  <thead>\n    <tr style=\"text-align: right;\">\n      <th></th>\n      <th>endpoint_uuid</th>\n      <th>X_type</th>\n      <th>ip</th>\n      <th>cluster</th>\n    </tr>\n  </thead>\n  <tbody>\n    <tr>\n      <th>0</th>\n      <td>00000000-0000-4000-8000-000011110000</td>\n      <td>LocalProvider</td>\n      <td>216.80.70.252</td>\n      <td>6</td>\n    </tr>\n    <tr>\n      <th>1</th>\n      <td>001fecc2-1393-4bd9-950e-5645e15e3a53</td>\n      <td>SlurmProvider</td>\n      <td>141.142.140.194</td>\n      <td>10</td>\n    </tr>\n    <tr>\n      <th>2</th>\n      <td>006f558d-df82-45c2-b2d5-94274ef41a69</td>\n      <td>SlurmProvider</td>\n      <td>141.142.140.194</td>\n      <td>10</td>\n    </tr>\n    <tr>\n      <th>3</th>\n      <td>00824163-569c-4f0d-953d-097cd3b7179d</td>\n      <td>NaN</td>\n      <td>159.226.43.47</td>\n      <td>10</td>\n    </tr>\n    <tr>\n      <th>4</th>\n      <td>01a3324e-7ad9-4563-b598-0c2499068a39</td>\n      <td>LocalProvider</td>\n      <td>128.135.204.6</td>\n      <td>8</td>\n    </tr>\n  </tbody>\n</table>\n</div>"
     },
     "execution_count": 327,
     "metadata": {},
     "output_type": "execute_result"
    }
   ],
   "source": [
    "endpoints.head()"
   ],
   "metadata": {
    "collapsed": false,
    "ExecuteTime": {
     "end_time": "2024-04-06T03:08:37.026566Z",
     "start_time": "2024-04-06T03:08:37.016453Z"
    }
   },
   "id": "6f5d59ea84205f9d"
  },
  {
   "cell_type": "markdown",
   "source": [
    "Example merging in the end:\n",
    "```python\n",
    "o = pd.merge(func_mapping,data, on='imports')\n",
    "p = pd.merge(task_mapping,o, on='func4.name')\n",
    "r = pd.merge(task, p, on='task_uuid')\n",
    "```"
   ],
   "metadata": {
    "collapsed": false
   },
   "id": "7ed31d7a5e47d9b"
  },
  {
   "cell_type": "code",
   "execution_count": null,
   "outputs": [],
   "source": [],
   "metadata": {
    "collapsed": false
   },
   "id": "a44f104c45432cb9"
  }
 ],
 "metadata": {
  "kernelspec": {
   "display_name": "Python 3",
   "language": "python",
   "name": "python3"
  },
  "language_info": {
   "codemirror_mode": {
    "name": "ipython",
    "version": 2
   },
   "file_extension": ".py",
   "mimetype": "text/x-python",
   "name": "python",
   "nbconvert_exporter": "python",
   "pygments_lexer": "ipython2",
   "version": "2.7.6"
  }
 },
 "nbformat": 4,
 "nbformat_minor": 5
}
